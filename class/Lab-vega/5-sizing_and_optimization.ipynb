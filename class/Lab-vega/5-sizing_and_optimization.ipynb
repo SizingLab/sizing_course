{
 "cells": [
  {
   "cell_type": "markdown",
   "id": "762f383d-bd95-4dd4-bd2e-fa28cf37b782",
   "metadata": {
    "user_expressions": []
   },
   "source": [
    "<img src=\"../../images/logo.png\" style=\"float:right; max-width: 120px; display: inline\" alt=\"SizingLab\" />"
   ]
  },
  {
   "cell_type": "markdown",
   "id": "f54c6367-665f-4925-be1a-3ff7b8287b6f",
   "metadata": {
    "user_expressions": []
   },
   "source": [
    "\n",
    "\n",
    "# Sizing procedure and optimization\n",
    "\n",
    "*Written by Marc Budinger (INSA Toulouse) and Scott Delbecq (ISAE-SUPAERO), Toulouse, France*"
   ]
  },
  {
   "cell_type": "code",
   "execution_count": 26,
   "id": "12d98614-915f-4a60-ac75-68ea43e9408a",
   "metadata": {},
   "outputs": [],
   "source": [
    "import scipy\n",
    "import scipy.optimize\n",
    "from scipy import log10\n",
    "from math import pi"
   ]
  },
  {
   "cell_type": "markdown",
   "id": "44f5b506-98b5-4ef9-a96a-79ba7379db28",
   "metadata": {
    "slideshow": {
     "slide_type": "slide"
    },
    "user_expressions": []
   },
   "source": [
    "## Objectives and specifications\n",
    "\n",
    "The objective is to select the reduction ratio of a gear reducer in order to minimize the mass of the motor.\n",
    "\n",
    "The application have to ensure :\n",
    "- a max force $F_{load}$ of $48 kN$ and a max acceleration of $a_{max}=11.68 m/s²$  \n",
    "- a max speed $v_{max}$ of 0.22 m/s\n",
    "\n",
    "We will give here an example based on a linear actuator with a preselected roller screw (pitch of 10 mm/rev).\n",
    "We assume here, for simplification, the efficiency equal to 70%.\n",
    "\n",
    "*EMA components:*\n",
    "![EMA](./assets/images/EMA_VEGA.png)\n"
   ]
  },
  {
   "cell_type": "code",
   "execution_count": 27,
   "id": "7d14440c-22ac-4f09-b325-4a98c2965e12",
   "metadata": {
    "slideshow": {
     "slide_type": "slide"
    }
   },
   "outputs": [],
   "source": [
    "# Specifications\n",
    "angular_magnitude_max = 5.7 * pi / 180  # [rad]\n",
    "max_dyn_torque = 48e3  # [N.m]\n",
    "max_speed_rot = 9.24 * pi / 180  # [rad/s]\n",
    "max_acc_rot = 811 * pi / 180  # [rad/s²]\n",
    "\n",
    "# Assumptions\n",
    "pitch = 10e-3 / 2 / pi  # [m/rad]\n",
    "\n",
    "# Security coef for mechanical components\n",
    "k_sec = 2"
   ]
  },
  {
   "cell_type": "markdown",
   "id": "13311e2a-6e19-44da-8755-d1f0fcd585ac",
   "metadata": {
    "slideshow": {
     "slide_type": "slide"
    },
    "user_expressions": []
   },
   "source": [
    "## Sizing code"
   ]
  },
  {
   "cell_type": "markdown",
   "id": "1924e30d-eeeb-4b75-bd4b-b1c65d95d8a9",
   "metadata": {
    "slideshow": {
     "slide_type": "slide"
    },
    "user_expressions": []
   },
   "source": [
    "The sizing code is defined here in a function which can give an evaluation of the objective and of the constraints function of design variables.\n",
    "\n",
    "The **variables** of this sizing code are :\n",
    "- the reduction ratio of the reducer\n",
    "- an oversizing coefficient for the selection of the motor used to tacke an algebraic loop\n",
    "- the positions ($d_1$ and $d_2$) of the actuator anchorages\n",
    "    \n",
    "*New design variables*\n",
    "![Mechanical Loads](./assets/images/design_variables_vega.png)\n",
    "    \n",
    "The **Objective** is the global mass of the actuator.\n",
    "\n",
    "The **constraints** which should be positives are here: \n",
    "- the speed margin, ie. the motor doesn't exceed its maximum speed\n",
    "- the torque margin, ie. the motor doesn't exceed its maximum torque\n",
    "- the length margin, ie. the global length of the actuator doesn't exceed the distance between anchorage points\n"
   ]
  },
  {
   "cell_type": "code",
   "execution_count": 28,
   "id": "66eeb619-12b8-4e1c-93b1-c35642488106",
   "metadata": {
    "slideshow": {
     "slide_type": "slide"
    }
   },
   "outputs": [],
   "source": [
    "def SizingCode(param, arg):\n",
    "    #  Variables\n",
    "    reduction_ratio = param[0]  # Reduction ratio of the reducer\n",
    "    k_oversizing = param[1]  # Oversizing of the motor (algebraic loop)\n",
    "    d1 = param[2] / 100  # position of the anchorage (cm --> meter)\n",
    "    d2 = param[3] / 100  # position of the anchorage (cm --> meter)\n",
    "\n",
    "    # --------------------------------------\n",
    "    # Force, torque and speed calculations\n",
    "\n",
    "    # Lever arm\n",
    "    lever_arm = (\n",
    "        (\n",
    "            -(-0.9744 * d1 - 1.372)\n",
    "            * (0.2248 * d1 - 0.3757)\n",
    "            * ((0.2248 * d1 - 0.3757) ** 2 + (-0.9744 * d1 + d2 - 1.172) ** 2) ** (-0.5)\n",
    "            + (0.2248 * d1 + 0.9823)\n",
    "            * ((0.2248 * d1 - 0.3757) ** 2 + (-0.9744 * d1 + d2 - 1.172) ** 2) ** (-0.5)\n",
    "            * (-0.9744 * d1 + d2 - 1.172)\n",
    "        )\n",
    "        ** 2\n",
    "    ) ** 0.5\n",
    "    # Length of actuator\n",
    "    actuator_length = ((0.2248 * d1 - 0.3757) ** 2 + (-0.9744 * d1 + d2 - 1.172) ** 2) ** 0.5\n",
    "\n",
    "    # Stroke of actuator\n",
    "    stroke = angular_magnitude_max * 2 * lever_arm\n",
    "\n",
    "    # Load, speed\n",
    "    max_speed = max_speed_rot * lever_arm  # [m/s]\n",
    "    max_load = max_dyn_torque / lever_arm  # [N]\n",
    "\n",
    "    # Torque motor estimation with 70% efficicency assumption\n",
    "    T_mot_guess = k_oversizing * max_load * pitch / reduction_ratio / 0.7\n",
    "\n",
    "    # Max static force (stall force) with 100% efficiency assumption\n",
    "    max_stall_force = T_mot_guess / pitch * reduction_ratio\n",
    "    max_mech_force = k_sec * max_stall_force\n",
    "\n",
    "    # -------------------------------------------------\n",
    "    # Parameter estimation with scaling laws\n",
    "\n",
    "    # Motor\n",
    "    T_mot_guess_max_ref = 13.4  # [N.m]\n",
    "    W_mot_max_ref = 754  # [rad/s]\n",
    "    J_mot_ref = 2.9e-4 / 2  # [kg.m²]\n",
    "    M_mot_ref = 3.8  # [kg]\n",
    "\n",
    "    M_mot = M_mot_ref * (T_mot_guess / T_mot_guess_max_ref) ** (3 / 3.5)\n",
    "    J_mot = J_mot_ref * (T_mot_guess / T_mot_guess_max_ref) ** (5 / 3.5)\n",
    "    W_mot = W_mot_max_ref * (T_mot_guess / T_mot_guess_max_ref) ** (-1 / 3.5)\n",
    "\n",
    "    # Rod end\n",
    "    F_rod_max_ref = 183e3  # [N]\n",
    "    M_rod_ref = 1.55  # [kg]\n",
    "    L_rod_ref = 0.061  # [m]\n",
    "\n",
    "    M_rod = M_rod_ref * (max_mech_force / F_rod_max_ref) ** (3 / 2)\n",
    "    L_rod = L_rod_ref * (max_mech_force / F_rod_max_ref) ** (1 / 2)\n",
    "\n",
    "    # Screw\n",
    "    M_nut_ref = 2.1  # [kg]\n",
    "    Ml_screw_ref = 9.4  # [kg/m]\n",
    "    D_nut_ref = 0.08  # [m]\n",
    "    L_nut_ref = 0.12 * 0.08 / 0.09  # [m]\n",
    "    F_screw_max_ref = 135e3  # [N]\n",
    "\n",
    "    M_nut = M_nut_ref * (max_mech_force / F_screw_max_ref) ** (3 / 2)\n",
    "    M_screw = Ml_screw_ref * (max_mech_force / F_screw_max_ref) ** (2 / 2) * actuator_length / 2\n",
    "    D_nut = D_nut_ref * (max_mech_force / F_screw_max_ref) ** (1 / 2)\n",
    "    L_nut = L_nut_ref * (max_mech_force / F_screw_max_ref) ** (1 / 2)\n",
    "\n",
    "    # Bearing\n",
    "    M_bearing_ref = 5.05  # [kg]\n",
    "    L_bearing_ref = 0.072  # [m]\n",
    "    F_bearing_max_ref = 475e3  # [N]\n",
    "    M_bearing = M_bearing_ref * (max_mech_force / F_bearing_max_ref) ** (3 / 2)\n",
    "    L_bearing = L_bearing_ref * (max_mech_force / F_bearing_max_ref) ** (1 / 2)\n",
    "\n",
    "    #  ------------------------------------------------\n",
    "    # Exact torque calculation with motor inertia\n",
    "    T_mot_real = (\n",
    "        max_load * pitch / reduction_ratio / 0.7\n",
    "        + J_mot * max_acc_rot * lever_arm * reduction_ratio / pitch\n",
    "    )\n",
    "\n",
    "    # -----------------------------------------------------------\n",
    "    # Objectives and constrants calculations\n",
    "\n",
    "    # Objective = total mass\n",
    "    objective = M_mot + M_bearing + 2 * M_rod + M_screw + M_nut\n",
    "    # Constraints (should be >=0)\n",
    "    C1 = W_mot - reduction_ratio * max_speed / pitch  # speed margin\n",
    "    C2 = T_mot_guess - T_mot_real  # Torque margin\n",
    "    C3 = actuator_length - stroke - L_nut - L_bearing - 2 * L_rod  # Length margin\n",
    "\n",
    "    #  ------------------------------------------------\n",
    "    # Objective and constaraints\n",
    "    if arg == \"objective\":\n",
    "        return objective / 100\n",
    "    if arg == \"objectiveP\":\n",
    "        if (C1 < 0.0) | (C2 < 0.0) | (C3 < 0.0):\n",
    "            return 1e5\n",
    "        else:\n",
    "            return objective / 100\n",
    "    elif arg == \"Prt\":\n",
    "        print(\"objectiveective:\")\n",
    "        print(\"     Total mass = %.2f kg\" % (M_mot + M_bearing + 2 * M_rod + M_screw + M_nut))\n",
    "        print(\"Optimisation variables:\")\n",
    "        print(\"     reduction_ratio =  %.2f\" % reduction_ratio)\n",
    "        print(\"     k_oversizing =  %.2f\" % k_oversizing)\n",
    "        print(\"     d_1 =  %.2f m\" % d1)\n",
    "        print(\"     d_2 =  %.2f m\" % d2)\n",
    "        print(\"Performances:\")\n",
    "        print(\"     Stroke = %.2f m\" % stroke)\n",
    "        print(\"     Max load = %.0f N\" % max_load)\n",
    "        print(\"     Stall load = %.0f N\" % max_stall_force)\n",
    "        print(\"Components characteristics:\")\n",
    "        print(\"     Lever arm = %.2f m\" % lever_arm)\n",
    "        print(\"     Actuator length = %.2f m\" % actuator_length)\n",
    "        print(\"     Motor mass = %.2f kg\" % M_mot)\n",
    "        print(\"     Max Tem = %.2f N.m\" % T_mot_real)\n",
    "        print(\"     Rod-end mass = %.2f kg\" % (2 * M_rod))\n",
    "        print(\"     Rod-end length = %.2f m\" % L_rod)\n",
    "        print(\"     Screw mass = %.2f kg\" % M_screw)\n",
    "        print(\"     Nut mass = %.2f kg\" % (2 * M_nut))\n",
    "        print(\"     Nut length = %.2f m\" % L_nut)\n",
    "        print(\"     Bearing length = %.2f m\" % L_bearing)\n",
    "        print(\"Constraints (should be >= 0):\")\n",
    "        print(\"     Speed margin: W_mot-reduction_ratio*max_speed/pitch= %.3f\" % C1)\n",
    "        print(\"     Torque margin: T_mot_guess-T_mot_real= %.3f \" % C2)\n",
    "        print(\"     Length margin: actuator_length-stroke-L_nut-L_bearing-2*L_rod =  %.3f\" % C3)\n",
    "    else:\n",
    "        return [C1, C2, C3]"
   ]
  },
  {
   "cell_type": "markdown",
   "id": "07e596a0-c2f3-4c68-a058-aaced1f80d97",
   "metadata": {
    "slideshow": {
     "slide_type": "slide"
    },
    "user_expressions": []
   },
   "source": [
    "## Optimization with SLSQP algorithm\n"
   ]
  },
  {
   "cell_type": "markdown",
   "id": "83f56526-e939-469e-b486-884745001fd3",
   "metadata": {
    "user_expressions": []
   },
   "source": [
    "We will now use the [opmization algorithms](https://docs.scipy.org/doc/scipy/reference/optimize.html) of the Scipy package to solve and optimize the configuration. We will first use the [SLSQP](https://docs.scipy.org/doc/scipy/reference/optimize.minimize-slsqp.html) algorithm without explicit expression of the gradient (Jacobian). "
   ]
  },
  {
   "cell_type": "markdown",
   "id": "42755f5c-9860-4fdb-ab80-73db8571de48",
   "metadata": {
    "user_expressions": []
   },
   "source": [
    "The first step is to give an initial value of optimisation variables:"
   ]
  },
  {
   "cell_type": "code",
   "execution_count": 29,
   "id": "6cb06c67-d052-4834-8add-1700e5a06dec",
   "metadata": {},
   "outputs": [
    {
     "name": "stderr",
     "output_type": "stream",
     "text": [
      "/var/folders/8f/0st0j4vx0k5fzpjhfpf2fn3n1r3782/T/ipykernel_70634/3262952463.py:8: DeprecationWarning: scipy.array is deprecated and will be removed in SciPy 2.0.0, use numpy.array instead\n",
      "  parameters = scipy.array((reduction_ratio, k_oversizing, d1, d2))\n"
     ]
    }
   ],
   "source": [
    "# Optimization variables\n",
    "reduction_ratio = 1  # [-]\n",
    "k_oversizing = 1  # [-]\n",
    "d1 = 0  # [cm]\n",
    "d2 = 0  # [cm]\n",
    "\n",
    "# Vector of parameters\n",
    "parameters = scipy.array((reduction_ratio, k_oversizing, d1, d2))"
   ]
  },
  {
   "cell_type": "markdown",
   "id": "95c15d34-679f-4559-bcb9-14c7017409ea",
   "metadata": {
    "slideshow": {
     "slide_type": "slide"
    },
    "user_expressions": []
   },
   "source": [
    "We can print of the characterisitcs of the problem before optimization with the intitial vector of optimization variables:"
   ]
  },
  {
   "cell_type": "code",
   "execution_count": 30,
   "id": "febb9f1c-2023-4c4c-bbbc-21990025bbbc",
   "metadata": {},
   "outputs": [
    {
     "name": "stdout",
     "output_type": "stream",
     "text": [
      "-----------------------------------------------\n",
      "Initial characteristics before optimization :\n",
      "objectiveective:\n",
      "     Total mass = 25.16 kg\n",
      "Optimisation variables:\n",
      "     reduction_ratio =  1.00\n",
      "     k_oversizing =  1.00\n",
      "     d_1 =  0.00 m\n",
      "     d_2 =  0.00 m\n",
      "Performances:\n",
      "     Stroke = 0.27 m\n",
      "     Max load = 35444 N\n",
      "     Stall load = 50635 N\n",
      "Components characteristics:\n",
      "     Lever arm = 1.35 m\n",
      "     Actuator length = 1.23 m\n",
      "     Motor mass = 17.69 kg\n",
      "     Max Tem = 103.25 N.m\n",
      "     Rod-end mass = 1.28 kg\n",
      "     Rod-end length = 0.05 m\n",
      "     Screw mass = 4.34 kg\n",
      "     Nut mass = 2.73 kg\n",
      "     Nut length = 0.09 m\n",
      "     Bearing length = 0.03 m\n",
      "Constraints (should be >= 0):\n",
      "     Speed margin: W_mot-reduction_ratio*max_speed/pitch= 314.377\n",
      "     Torque margin: T_mot_guess-T_mot_real= -22.659 \n",
      "     Length margin: actuator_length-stroke-L_nut-L_bearing-2*L_rod =  0.745\n",
      "-----------------------------------------------\n"
     ]
    }
   ],
   "source": [
    "# Initial characteristics before optimization\n",
    "print(\"-----------------------------------------------\")\n",
    "print(\"Initial characteristics before optimization :\")\n",
    "\n",
    "SizingCode(parameters, \"Prt\")\n",
    "print(\"-----------------------------------------------\")"
   ]
  },
  {
   "cell_type": "markdown",
   "id": "928cd1bc-b417-48f4-a57c-69d8198c9558",
   "metadata": {
    "slideshow": {
     "slide_type": "slide"
    },
    "user_expressions": []
   },
   "source": [
    "Then we can solve the problem and print of the optimized solution:"
   ]
  },
  {
   "cell_type": "code",
   "execution_count": 31,
   "id": "218dae1e-31ff-421a-a8ca-388af4ae89d5",
   "metadata": {},
   "outputs": [
    {
     "name": "stdout",
     "output_type": "stream",
     "text": [
      "Optimization terminated successfully    (Exit mode 0)\n",
      "            Current function value: 0.33913506032286483\n",
      "            Iterations: 36\n",
      "            Function evaluations: 183\n",
      "            Gradient evaluations: 36\n",
      "-----------------------------------------------\n",
      "Final characteristics after optimization :\n",
      "objectiveective:\n",
      "     Total mass = 33.91 kg\n",
      "Optimisation variables:\n",
      "     reduction_ratio =  1.29\n",
      "     k_oversizing =  1.69\n",
      "     d_1 =  -0.30 m\n",
      "     d_2 =  0.20 m\n",
      "Performances:\n",
      "     Stroke = 0.27 m\n",
      "     Max load = 35436 N\n",
      "     Stall load = 85445 N\n",
      "Components characteristics:\n",
      "     Lever arm = 1.35 m\n",
      "     Actuator length = 0.81 m\n",
      "     Motor mass = 22.22 kg\n",
      "     Max Tem = 105.20 N.m\n",
      "     Rod-end mass = 2.80 kg\n",
      "     Rod-end length = 0.06 m\n",
      "     Screw mass = 4.81 kg\n",
      "     Nut mass = 5.98 kg\n",
      "     Nut length = 0.12 m\n",
      "     Bearing length = 0.04 m\n",
      "Constraints (should be >= 0):\n",
      "     Speed margin: W_mot-reduction_ratio*max_speed/pitch= 241.061\n",
      "     Torque margin: T_mot_guess-T_mot_real= 0.000 \n",
      "     Length margin: actuator_length-stroke-L_nut-L_bearing-2*L_rod =  0.258\n",
      "-----------------------------------------------\n",
      "Calculation time:\n",
      " 0.02605581283569336 s\n"
     ]
    }
   ],
   "source": [
    "import time\n",
    "\n",
    "# Resolution of the problem\n",
    "\n",
    "contrainte = lambda x: SizingCode(x, \"Const\")\n",
    "objectif = lambda x: SizingCode(x, \"objective\")\n",
    "\n",
    "start = time.time()\n",
    "result = scipy.optimize.fmin_slsqp(\n",
    "    func=objectif,\n",
    "    x0=parameters,\n",
    "    bounds=[(0.1, 10), (1, 10), (-80, 80), (-20, 20)],\n",
    "    f_ieqcons=contrainte,\n",
    "    iter=100,\n",
    "    acc=1e-8,\n",
    ")\n",
    "end = time.time()\n",
    "\n",
    "# Final characteristics after optimization\n",
    "print(\"-----------------------------------------------\")\n",
    "print(\"Final characteristics after optimization :\")\n",
    "\n",
    "SizingCode(result, \"Prt\")\n",
    "print(\"-----------------------------------------------\")\n",
    "print(\"Calculation time:\\n\", end - start, \"s\")"
   ]
  },
  {
   "cell_type": "markdown",
   "id": "6c629278-de70-40e0-ab05-f6058560faa2",
   "metadata": {
    "user_expressions": []
   },
   "source": [
    "## Optimization with differential evolution algorithm\n"
   ]
  },
  {
   "cell_type": "markdown",
   "id": "a524b10d-4a56-48ce-bc52-7262de09a0fc",
   "metadata": {
    "user_expressions": []
   },
   "source": [
    "We will now use a [differential evolution](https://docs.scipy.org/doc/scipy-0.17.0/reference/generated/scipy.optimize.differential_evolution.html) algorithm. Differential Evolution is stochastic in nature (does not use gradient methods) to find the minimium, and can search large areas of candidate space, but often requires larger numbers of function evaluations than conventional gradient based techniques. Differential evolution algorithms don't manage directly constraints functions. A penalty method replaces the previous objective function.  "
   ]
  },
  {
   "cell_type": "code",
   "execution_count": 32,
   "id": "06fe9fb8-30a7-4a6d-b3e5-4b69f30bc0b4",
   "metadata": {},
   "outputs": [
    {
     "name": "stdout",
     "output_type": "stream",
     "text": [
      "-----------------------------------------------\n",
      "Final characteristics after optimization :\n",
      "objectiveective:\n",
      "     Total mass = 33.91 kg\n",
      "Optimisation variables:\n",
      "     reduction_ratio =  1.29\n",
      "     k_oversizing =  1.69\n",
      "     d_1 =  -0.30 m\n",
      "     d_2 =  0.20 m\n",
      "Performances:\n",
      "     Stroke = 0.27 m\n",
      "     Max load = 35433 N\n",
      "     Stall load = 85431 N\n",
      "Components characteristics:\n",
      "     Lever arm = 1.35 m\n",
      "     Actuator length = 0.81 m\n",
      "     Motor mass = 22.23 kg\n",
      "     Max Tem = 105.20 N.m\n",
      "     Rod-end mass = 2.80 kg\n",
      "     Rod-end length = 0.06 m\n",
      "     Screw mass = 4.81 kg\n",
      "     Nut mass = 5.98 kg\n",
      "     Nut length = 0.12 m\n",
      "     Bearing length = 0.04 m\n",
      "Constraints (should be >= 0):\n",
      "     Speed margin: W_mot-reduction_ratio*max_speed/pitch= 241.080\n",
      "     Torque margin: T_mot_guess-T_mot_real= 0.000 \n",
      "     Length margin: actuator_length-stroke-L_nut-L_bearing-2*L_rod =  0.258\n",
      "-----------------------------------------------\n",
      "Calculation time:\n",
      " 0.3635549545288086 s\n"
     ]
    }
   ],
   "source": [
    "# Resolution of the problem\n",
    "\n",
    "objectif = lambda x: SizingCode(x, \"objectiveP\")\n",
    "\n",
    "start = time.time()\n",
    "result = scipy.optimize.differential_evolution(\n",
    "    func=objectif,\n",
    "    bounds=[(0.1, 10), (1, 10), (-80, 80), (-20, 20), (0.5, 4.5), (0.5, 4.5)],\n",
    "    tol=1e-5,\n",
    ")\n",
    "end = time.time()\n",
    "\n",
    "# Final characteristics after optimization\n",
    "print(\"-----------------------------------------------\")\n",
    "print(\"Final characteristics after optimization :\")\n",
    "\n",
    "SizingCode(result.x, \"Prt\")\n",
    "print(\"-----------------------------------------------\")\n",
    "print(\"Calculation time:\\n\", end - start, \"s\")"
   ]
  },
  {
   "cell_type": "code",
   "execution_count": null,
   "id": "e8e27696-aa8a-439b-acd4-2131ea1c9cc8",
   "metadata": {
    "collapsed": true,
    "jupyter": {
     "outputs_hidden": true
    }
   },
   "outputs": [],
   "source": []
  },
  {
   "cell_type": "code",
   "execution_count": null,
   "id": "430a2a32-5672-456e-b771-8f656dd6b5dd",
   "metadata": {},
   "outputs": [],
   "source": []
  }
 ],
 "metadata": {
  "kernelspec": {
   "display_name": "Python 3 (ipykernel)",
   "language": "python",
   "name": "python3"
  },
  "language_info": {
   "codemirror_mode": {
    "name": "ipython",
    "version": 3
   },
   "file_extension": ".py",
   "mimetype": "text/x-python",
   "name": "python",
   "nbconvert_exporter": "python",
   "pygments_lexer": "ipython3",
   "version": "3.8.13"
  }
 },
 "nbformat": 4,
 "nbformat_minor": 5
}