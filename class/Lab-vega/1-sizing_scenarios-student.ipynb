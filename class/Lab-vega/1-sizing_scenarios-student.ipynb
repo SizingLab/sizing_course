{
 "cells": [
  {
   "cell_type": "markdown",
   "metadata": {},
   "source": [
    "<img src=\"../../images/logo.png\" style=\"float:right; max-width: 120px; display: inline\" alt=\"SizingLab\" />"
   ]
  },
  {
   "cell_type": "markdown",
   "metadata": {
    "slideshow": {
     "slide_type": "slide"
    }
   },
   "source": [
    "# Modeling of the mechanical load (student version)\n",
    "\n",
    "*Written by Marc Budinger (INSA Toulouse) and Scott Delbecq (ISAE-SUPAERO), Toulouse, France*\n",
    "\n",
    "The actuation system of the 1st stage of the launcher consists of a set of Lithium-ion batteries, a control unit (2 inverters and control/command electronics) and two electromechanical actuators (EMA). This set makes it possible to control the nozzle according to 2 axes of rotation. We will be interested here only in one axis axis of rotation and we will neglect the couplings between these 2 axes.\n"
   ]
  },
  {
   "cell_type": "markdown",
   "metadata": {
    "slideshow": {
     "slide_type": "slide"
    }
   },
   "source": [
    "*Vega Launcher 1st stage (P80) :*  \n",
    "![Vega 1st stage](./assets/images/P80_stage1.png)"
   ]
  },
  {
   "cell_type": "markdown",
   "metadata": {
    "slideshow": {
     "slide_type": "slide"
    }
   },
   "source": [
    "*Thrust Vector Control (TVC) actuation system :*  \n",
    "![TVC Actuation system](./assets/images/P80_vega_TVC_system.png)\n"
   ]
  },
  {
   "cell_type": "markdown",
   "metadata": {
    "slideshow": {
     "slide_type": "slide"
    }
   },
   "source": [
    "## Nozzle modeling\n",
    "   "
   ]
  },
  {
   "cell_type": "code",
   "execution_count": null,
   "metadata": {},
   "outputs": [],
   "source": [
    "from IPython.display import Markdown as md  # enable Markdown printing\n",
    "\n",
    "# Definition of nozzle equivalent parameters with engineering units\n",
    "Jnozzle = 1.40e03  # [kg.m2] Inertia\n",
    "Knozzle = 1.52e04  # [Nm/deg] Stiffness\n",
    "Fnozzle = 1.74e02  # [Nms/deg] Viscous damping\n",
    "\n",
    "#\n",
    "md(\n",
    "    \"\"\"\n",
    "The nozzle is composed of :\n",
    "- a flexible bearing or flexseal which links the nozzle to the launcher and enables rotational movement. The equivalent characteristics and parameters for this flexible bearing are:\n",
    "    - a **stiffness** of {:.0f} Nm/deg.\n",
    "    - a **viscous damping** of {:.0f}\tNms/deg\n",
    "- a rigid cone modeled here as: \n",
    "    - an **inertia** of {:.0f} kg.m^2\n",
    "    \"\"\".format(\n",
    "        Knozzle, Fnozzle, Jnozzle\n",
    "    )\n",
    ")"
   ]
  },
  {
   "cell_type": "markdown",
   "metadata": {
    "slideshow": {
     "slide_type": "slide"
    }
   },
   "source": [
    "*P80 Nozzle (from [ESA presentation]*\n",
    "\n",
    "(http://www.ingaero.uniroma1.it/attachments/1609_VEGA%20%20sapienza%20small.pdf)):\n",
    "![P80](./assets/images/nozzle.png)"
   ]
  },
  {
   "cell_type": "code",
   "execution_count": null,
   "metadata": {
    "slideshow": {
     "slide_type": "slide"
    }
   },
   "outputs": [],
   "source": [
    "# import math package whic contains usefull mathematical functions and variables\n",
    "import math\n",
    "import numpy as np\n",
    "\n",
    "# Calculate SI unit values of Knozzle and Fnozzle\n",
    "# pi value is math.pi\n",
    "\n",
    "# student part -------------\n",
    "Knozzle =\n",
    "Fnozzle =\n",
    "# --------------------------\n",
    "\n",
    "# Print the corresponding values with print(\"xxx %f xxx %f \"%(value1,value2)\n",
    "md(\n",
    "    \"\"\"\n",
    ">Remark: SI unit conversion of these parameters *K<sub>nozzle</sub>* = {:.2e} Nm/rad and *F<sub>nozzle</sub>* = {:.2e} Nms/rad\n",
    "\"\"\".format(\n",
    "        Knozzle, Fnozzle\n",
    "    )\n",
    ")"
   ]
  },
  {
   "cell_type": "markdown",
   "metadata": {
    "slideshow": {
     "slide_type": "slide"
    }
   },
   "source": [
    "### Lever arm calculation\n",
    "\n",
    "The EMA (Electro Mechanical Actuator) is between M and N points of the following drawing. The given values correspond to a nominal case. But during the sizng we want to evaluate and optimize the position of N and M points. d1 and d2 are thus design variables. \n",
    "\n",
    "*P80 Nozzle section :*\n",
    "\n",
    "<img src=\"./assets/images/LeverArmNozzle.png\" style=\"float:center; max-width: 400px; display: center\" alt=\"P80\" /></a> \n",
    "\n"
   ]
  },
  {
   "cell_type": "markdown",
   "metadata": {
    "slideshow": {
     "slide_type": "slide"
    }
   },
   "source": [
    "For the following steps, we need to calculate the equivalent lever arm between the linear displacement of the actuator and the rotational displacement of the nozzle. Thanks to the *Sympy* package, a symbolic calculation of this lever arm, function of d1 and d2, is possible. \n",
    "\n",
    "Remember that the link between the torque T on the nozzle and the force F of the actuator can be calculated with the following cross product:  \n",
    "$\\vec{T}=\\vec{OM} \\times \\vec{F}=\\vec{OM} \\times \\frac{\\vec{NM}}{\\left|\\vec{NM}\\right|} F $  \n",
    "thus the equivalent lever arm can be calculated with:  \n",
    "$L_{arm}=\\left| \\vec{OM} \\times \\frac{\\vec{NM}}{\\left|\\vec{NM}\\right|} \\right|$  \n",
    "and the torque can be calculated with the simple equation:  \n",
    "$T=L_{arm}.F$\n",
    "\n",
    "Remark: the variation of lever arm with position order is assumed to be negligeable here due to the small nozzle deflection (+/- 5.7° max)"
   ]
  },
  {
   "cell_type": "code",
   "execution_count": null,
   "metadata": {
    "slideshow": {
     "slide_type": "slide"
    }
   },
   "outputs": [],
   "source": [
    "# import vector manipulation and symbols definition of Sympy\n",
    "from sympy.physics.mechanics import ReferenceFrame, Vector\n",
    "from sympy import symbols, lambdify\n",
    "import sympy\n",
    "\n",
    "alpha = 13 * 3.14 / 180  # [rad] cone angle\n",
    "\n",
    "# definition of d1 and d2 variable for symbolic calculation\n",
    "d1, d2 = symbols(\"d1 d2\")\n",
    "\n",
    "# definition of a reference frame for vectors definiions\n",
    "N = ReferenceFrame(\"N\")\n",
    "\n",
    "# definition of OM and ON vectors thanks N.x and N.y reference (unit) vectors\n",
    "OM = (0.5 + (2.145 + d1) * np.sin(alpha)) * N.x + (0.718 - (2.145 + d1) * np.cos(alpha)) * N.y\n",
    "\n",
    "ON = 1.358 * N.x - (0.2 + d2) * N.y\n",
    "\n",
    "# Actuator length\n",
    "NM = OM - ON\n",
    "\n",
    "# The lever arm\n",
    "Larm = (OM ^ NM.normalize()).magnitude()"
   ]
  },
  {
   "cell_type": "markdown",
   "metadata": {},
   "source": [
    "The expression of the actuator length is : "
   ]
  },
  {
   "cell_type": "code",
   "execution_count": null,
   "metadata": {},
   "outputs": [],
   "source": [
    "Larm.evalf(4)"
   ]
  },
  {
   "cell_type": "markdown",
   "metadata": {},
   "source": [
    "The expression of the equivalent lever arm  is : "
   ]
  },
  {
   "cell_type": "code",
   "execution_count": null,
   "metadata": {},
   "outputs": [],
   "source": [
    "Larm.evalf(4)"
   ]
  },
  {
   "cell_type": "markdown",
   "metadata": {
    "slideshow": {
     "slide_type": "slide"
    }
   },
   "source": [
    "This expression can be evaluated:\n",
    "- at the nominal anchorage point (d1=0 and d2=0)\n",
    "- for different anchorage points "
   ]
  },
  {
   "cell_type": "code",
   "execution_count": null,
   "metadata": {},
   "outputs": [],
   "source": [
    "# Transform the expression into a numerical function\n",
    "Evaluate_Larm = lambdify((d1, d2), Larm)\n",
    "\n",
    "md(\"The lever arm for the nominal dimensions is %4.2f m\" % Evaluate_Larm(0, 0))"
   ]
  },
  {
   "cell_type": "code",
   "execution_count": null,
   "metadata": {
    "scrolled": true,
    "slideshow": {
     "slide_type": "subslide"
    }
   },
   "outputs": [],
   "source": [
    "# Import plot3d function  from sympy package\n",
    "from sympy.plotting import plot3d\n",
    "\n",
    "%matplotlib inline\n",
    "\n",
    "# plot the Lever arm in function of d1 and d2 variables\n",
    "plot3d(Larm, (d1, -0.1, +0.1), (d2, -0.1, +0.1), xlabel=\"d1\", ylabel=\"d2\", title=\"Lever arm\")\n",
    "\n",
    "# plot the Actuator Length in function of d1 and d2 variables\n",
    "plot3d(\n",
    "    NM.magnitude(),\n",
    "    (d1, -0.1, +0.1),\n",
    "    (d2, -0.1, +0.1),\n",
    "    xlabel=\"d1\",\n",
    "    ylabel=\"d2\",\n",
    "    title=\"Actuator length\",\n",
    ")"
   ]
  },
  {
   "cell_type": "code",
   "execution_count": null,
   "metadata": {},
   "outputs": [],
   "source": []
  },
  {
   "cell_type": "markdown",
   "metadata": {
    "slideshow": {
     "slide_type": "slide"
    }
   },
   "source": [
    "## Sizing scenarios modeling\n",
    "\n",
    "2 use cases must be checked during the design:\n",
    "- a static deflection of 5.7 °\n",
    "- a dynamic mission profile which must ensure a response time of 72 ms for a position step from 5.2 to 5.7°.\n",
    "   \n",
    "    "
   ]
  },
  {
   "cell_type": "markdown",
   "metadata": {},
   "source": [
    "### Static sizing scenario\n",
    "\n"
   ]
  },
  {
   "cell_type": "markdown",
   "metadata": {},
   "source": [
    "The maximal angular displacement is 5.7°. The corresping force can be calculated thanks the flexible bearing stiffness."
   ]
  },
  {
   "cell_type": "code",
   "execution_count": null,
   "metadata": {},
   "outputs": [],
   "source": [
    "teta_max = 5.7 * math.pi / 180\n",
    "\n",
    "Fstat_max = Knozzle * teta_max / Evaluate_Larm(0, 0)\n",
    "\n",
    "md(\"The maximum static force is %4.2e N.\" % Fstat_max)"
   ]
  },
  {
   "cell_type": "markdown",
   "metadata": {
    "slideshow": {
     "slide_type": "slide"
    }
   },
   "source": [
    "### Dynamic sizing scenario\n",
    "\n",
    "For this scenario, we will assume that the position close loop system will response as a second order filter between real position and order:  \n",
    "$H(p)=\\frac{1}{1+\\frac{2\\xi p}{\\omega_0}+\\frac{p^2}{\\omega_0^2}}$  \n",
    "with $\\xi=0.7$ and thus $t_{r5}=\\frac{2.9}{\\omega_0}$  \n",
    "\n",
    "We calculate here position, speed and acceleration of the nozzle for a step request (5.2 to 5.7° in 72 ms).\n",
    "\n"
   ]
  },
  {
   "cell_type": "code",
   "execution_count": null,
   "metadata": {
    "scrolled": true,
    "slideshow": {
     "slide_type": "slide"
    }
   },
   "outputs": [],
   "source": [
    "# Import from scipy of the step response\n",
    "from scipy.signal import step\n",
    "\n",
    "# Definition of time response, damping coef, and angular frequency of the filter\n",
    "tr = 72e-3\n",
    "w0 = 2.9 / tr\n",
    "eps = 0.7\n",
    "\n",
    "# position calculation with a second order step response\n",
    "num = [1.0]\n",
    "den = [1 / w0**2, 2 * eps / w0, 1]\n",
    "t, y = step(system=(num, den))\n",
    "y = 5.2 + 0.5 * y\n",
    "\n",
    "# speed, we change here only the numerator of the transfer function\n",
    "nump = [1.0, 0.0]\n",
    "t, yp = step(system=(nump, den))\n",
    "yp = 0.5 * yp\n",
    "\n",
    "# acceleration\n",
    "nump = [1.0, 0.0, 0.0]\n",
    "t, ypp = step(system=(nump, den))\n",
    "ypp = 0.5 * ypp\n",
    "\n",
    "# plot of the different dynamic answers\n",
    "import matplotlib.pyplot as plt\n",
    "\n",
    "f, (ax1, ax2, ax3) = plt.subplots(3, 1, sharex=True)\n",
    "ax1.plot(t, y)\n",
    "ax1.set_ylabel(\"Position (°)\")\n",
    "ax2.plot(t, yp)\n",
    "ax2.set_ylabel(\"Speed (°/s)\")\n",
    "ax3.plot(t, ypp)\n",
    "ax3.set_ylabel(\"Acceleration (°/s²)\")\n",
    "ax3.set_xlabel(\"Time (s)\")\n",
    "plt.show()"
   ]
  },
  {
   "cell_type": "markdown",
   "metadata": {
    "slideshow": {
     "slide_type": "slide"
    }
   },
   "source": [
    "It's now possible to calculate the force of the actuator which is requested to respect this mission profile."
   ]
  },
  {
   "cell_type": "code",
   "execution_count": null,
   "metadata": {},
   "outputs": [],
   "source": [
    "# degree to rad\n",
    "teta, tetap, tetapp = math.pi / 180 * y, math.pi / 180 * yp, math.pi / 180 * ypp\n",
    "\n",
    "# Force calculation\n",
    "# calculate Fdyn of the EMA\n",
    "# remark : Evaluate_Larm(0,0) give the Lever arm for d1=0 and d2=0\n",
    "Fdyn =\n",
    "\n",
    "g, gx1 = plt.subplots(1, 1, sharex=True)\n",
    "gx1.plot(t, Fdyn)\n",
    "gx1.set_ylabel(\"Force (N)\")\n",
    "gx1.set_xlabel(\"Time (s)\")\n",
    "gx1.grid()\n",
    "plt.show()"
   ]
  },
  {
   "cell_type": "markdown",
   "metadata": {
    "slideshow": {
     "slide_type": "slide"
    }
   },
   "source": [
    "# Force speed diagram \n",
    "\n",
    "This sizing scenarios can be represented on a force-speed diagram usefull for compenent selection.\n"
   ]
  },
  {
   "cell_type": "code",
   "execution_count": null,
   "metadata": {},
   "outputs": [],
   "source": [
    "# we create here a force-speed diagram\n",
    "h, hx1 = plt.subplots(1, 1, sharex=True)\n",
    "hx1.plot(yp, Fdyn, \"b\", 0, Fstat_max, \".k\")\n",
    "hx1.set_ylabel(\"Force (N)\")\n",
    "hx1.set_xlabel(\"Speed (°/s)\")\n",
    "hx1.grid()\n",
    "plt.show()"
   ]
  },
  {
   "cell_type": "markdown",
   "metadata": {
    "slideshow": {
     "slide_type": "slide"
    }
   },
   "source": [
    "## Summary\n",
    "\n",
    "For the next sizing steps, we will use \n",
    "- the nozzle max speed (step response)\n",
    "- the max static torque (max deflexion)\n",
    "- for max dynamic point (step response) : Max force with acceleration\n",
    "    \n",
    "In the nozzle frame (rotational movement):"
   ]
  },
  {
   "cell_type": "code",
   "execution_count": null,
   "metadata": {},
   "outputs": [],
   "source": [
    "import pandas as pd\n",
    "\n",
    "df_rot = pd.DataFrame(\n",
    "    {\n",
    "        \"Value\": [max(yp), Knozzle * teta_max, max(Fdyn), max(ypp)],\n",
    "        \"Unit\": [\"°/s\", \"N.m\", \"N.m\", \"°/s²\"],\n",
    "    },\n",
    "    index=[\n",
    "        \"Max nozzle rotational speed\",\n",
    "        \"Max static torque\",\n",
    "        \"Max dynamic torque\",\n",
    "        \"Max acceleration\",\n",
    "    ],\n",
    ")\n",
    "\n",
    "pd.options.display.float_format = \"{:,.2e}\".format\n",
    "\n",
    "md(df_rot.to_markdown())"
   ]
  },
  {
   "cell_type": "markdown",
   "metadata": {},
   "source": [
    "For the linear actuator (translational movement) with $d_1=0$ and $d_2=0$:"
   ]
  },
  {
   "cell_type": "code",
   "execution_count": null,
   "metadata": {},
   "outputs": [],
   "source": [
    "df_lin = pd.DataFrame(\n",
    "    {\n",
    "        \"Value\": [\n",
    "            Evaluate_Larm(0, 0),\n",
    "            max(yp) * np.pi / 180 * Evaluate_Larm(0, 0),\n",
    "            Knozzle * teta_max / Evaluate_Larm(0, 0),\n",
    "            max(Fdyn),\n",
    "            max(ypp) * Evaluate_Larm(0, 0) * np.pi / 180,\n",
    "        ],\n",
    "        \"Unit\": [\"m\", \"m/s\", \"N\", \"N\", \"m/s²\"],\n",
    "    },\n",
    "    index=[\n",
    "        \"Lever arm\",\n",
    "        \"Max linear speed\",\n",
    "        \"Max static force\",\n",
    "        \"Max dynamic force\",\n",
    "        \"Max acceleration\",\n",
    "    ],\n",
    ")\n",
    "\n",
    "md(df_lin.to_markdown())"
   ]
  }
 ],
 "metadata": {
  "celltoolbar": "Slideshow",
  "kernelspec": {
   "display_name": "Python 3 (ipykernel)",
   "language": "python",
   "name": "python3"
  },
  "language_info": {
   "codemirror_mode": {
    "name": "ipython",
    "version": 3
   },
   "file_extension": ".py",
   "mimetype": "text/x-python",
   "name": "python",
   "nbconvert_exporter": "python",
   "pygments_lexer": "ipython3",
   "version": "3.8.13"
  }
 },
 "nbformat": 4,
 "nbformat_minor": 4
}