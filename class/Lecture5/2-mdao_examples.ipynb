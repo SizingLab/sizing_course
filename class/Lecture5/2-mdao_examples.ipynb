{
 "cells": [
  {
   "cell_type": "markdown",
   "metadata": {
    "slideshow": {
     "slide_type": "slide"
    }
   },
   "source": [
    "# MDAO examples"
   ]
  },
  {
   "cell_type": "markdown",
   "metadata": {
    "slideshow": {
     "slide_type": "-"
    },
    "pycharm": {
     "name": "#%% md\n"
    }
   },
   "source": [
    "```{warning}\n",
    "This course is underconstruction...\n",
    "```"
   ]
  }
 ],
 "metadata": {
  "celltoolbar": "Slideshow",
  "jupytext": {
   "formats": "ipynb"
  },
  "kernelspec": {
   "display_name": "Python 3 (ipykernel)",
   "language": "python",
   "name": "python3"
  },
  "language_info": {
   "codemirror_mode": {
    "name": "ipython",
    "version": 3
   },
   "file_extension": ".py",
   "mimetype": "text/x-python",
   "name": "python",
   "nbconvert_exporter": "python",
   "pygments_lexer": "ipython3",
   "version": "3.8.13"
  },
  "rise": {
   "autolaunch": true,
   "overlay": "<div class='myheader'><h2>Sizing and optimization of technological systems</h2></div><div class='myfooter'><h2>24/10/2022</h2></div><div class='logo'><img src='../../images/logo.png' width=200px height= auto></div>"
  }
 },
 "nbformat": 4,
 "nbformat_minor": 4
}