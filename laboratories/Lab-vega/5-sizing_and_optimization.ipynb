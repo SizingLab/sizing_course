{
 "cells": [
  {
   "cell_type": "markdown",
   "id": "f54c6367-665f-4925-be1a-3ff7b8287b6f",
   "metadata": {
    "user_expressions": []
   },
   "source": [
    "# Sizing procedure and optimization\n",
    "\n",
    "*Written by Marc Budinger (INSA Toulouse) and Scott Delbecq (ISAE-SUPAERO), Toulouse, France*\n",
    "\n",
    "The objective of this notebook is to learn how to implement a sizing code and use a simple numerical optimization to find the optimal design of the system. The system studied is the TVC EMA of the VEGA launcher."
   ]
  },
  {
   "cell_type": "code",
   "execution_count": 1,
   "id": "12d98614-915f-4a60-ac75-68ea43e9408a",
   "metadata": {},
   "outputs": [],
   "source": [
    "import numpy as np\n",
    "import scipy.optimize\n",
    "from scipy import log10\n",
    "from math import pi"
   ]
  },
  {
   "cell_type": "markdown",
   "id": "44f5b506-98b5-4ef9-a96a-79ba7379db28",
   "metadata": {
    "slideshow": {
     "slide_type": "slide"
    },
    "user_expressions": []
   },
   "source": [
    "## Objectives and specifications\n",
    "\n",
    "The objective is to select the reduction ratio of a gear reducer in order to minimize the mass of the motor.\n",
    "\n",
    "The application have to ensure at nozzle level :\n",
    "- a max torque $T_{load}$ of $48 kNm$ and a max acceleration of $\\dot{\\omega}_{max}=811 °/s²$  \n",
    "- a max speed $\\omega_{max}$ of 9.24 °/s\n",
    "- a max magnitude $\\alpha_{max}$ of 5.7 °\n",
    "\n",
    "We will give here an example based on a linear actuator with a preselected roller screw (pitch of 10 mm/rev).\n",
    "We assume here, for simplification, the efficiency equal to 70%.\n",
    "\n",
    "*EMA components:*\n",
    "\n",
    "![EMA](./assets/images/EMA_VEGA.png)\n"
   ]
  },
  {
   "cell_type": "markdown",
   "id": "614c9171-6c53-4040-9d43-bc10ed7da370",
   "metadata": {
    "user_expressions": []
   },
   "source": [
    "We first define the specifications and assumptions for the sizing:"
   ]
  },
  {
   "cell_type": "code",
   "execution_count": 2,
   "id": "7d14440c-22ac-4f09-b325-4a98c2965e12",
   "metadata": {
    "slideshow": {
     "slide_type": "slide"
    }
   },
   "outputs": [],
   "source": [
    "# Specifications\n",
    "angular_magnitude_max = 5.7 * pi / 180  # [rad]\n",
    "max_dyn_torque = 48e3  # [N.m]\n",
    "max_speed_rot = 9.24 * pi / 180  # [rad/s]\n",
    "max_acc_rot = 811 * pi / 180  # [rad/s²]\n",
    "\n",
    "# Assumptions\n",
    "pitch = 10e-3 / 2 / pi  # [m/rad]\n",
    "nu_screw = 0.7  # [-]\n",
    "\n",
    "# Security coefficient for mechanical components\n",
    "k_sec = 2"
   ]
  },
  {
   "cell_type": "markdown",
   "id": "cfdc9b3a-474a-4661-b555-0d3c7e66b52e",
   "metadata": {
    "user_expressions": []
   },
   "source": [
    "We then define the main characteristics for the components for the scaling laws:"
   ]
  },
  {
   "cell_type": "code",
   "execution_count": 3,
   "id": "944dd9e3-afac-4b23-ae25-c4c584d9b28f",
   "metadata": {},
   "outputs": [],
   "source": [
    "# Motor\n",
    "T_mot_guess_max_ref = 13.4  # [N.m]\n",
    "W_mot_max_ref = 754  # [rad/s]\n",
    "J_mot_ref = 2.9e-4 / 2  # [kg.m²]\n",
    "M_mot_ref = 3.8  # [kg]\n",
    "\n",
    "# Rod end\n",
    "F_rod_max_ref = 183e3  # [N]\n",
    "M_rod_ref = 1.55  # [kg]\n",
    "L_rod_ref = 0.061  # [m]\n",
    "\n",
    "# Screw\n",
    "M_nut_ref = 2.1  # [kg]\n",
    "Ml_screw_ref = 9.4  # [kg/m]\n",
    "D_nut_ref = 0.08  # [m]\n",
    "L_nut_ref = 0.12 * 0.08 / 0.09  # [m]\n",
    "F_screw_max_ref = 135e3  # [N]\n",
    "\n",
    "# Bearing\n",
    "M_bearing_ref = 5.05  # [kg]\n",
    "L_bearing_ref = 0.072  # [m]\n",
    "F_bearing_max_ref = 475e3  # [N]"
   ]
  },
  {
   "cell_type": "markdown",
   "id": "13311e2a-6e19-44da-8755-d1f0fcd585ac",
   "metadata": {
    "slideshow": {
     "slide_type": "slide"
    },
    "user_expressions": []
   },
   "source": [
    "## Sizing code"
   ]
  },
  {
   "cell_type": "markdown",
   "id": "1924e30d-eeeb-4b75-bd4b-b1c65d95d8a9",
   "metadata": {
    "slideshow": {
     "slide_type": "slide"
    },
    "user_expressions": []
   },
   "source": [
    "The sizing code is defined here in a function which can give an evaluation of the objective and of the constraints function of design variables.\n",
    "\n",
    "The **design variables** of this sizing code are :\n",
    "- the reduction ratio of the reducer\n",
    "- an oversizing coefficient for the selection of the motor used to tacke an algebraic loop\n",
    "- the positions ($d_1$ and $d_2$) of the actuator anchorages\n",
    "    \n",
    "*New design variables*\n",
    "![Mechanical Loads](./assets/images/design_variables_vega.png)\n",
    "    \n",
    "The **objective** is the global mass of the actuator.\n",
    "\n",
    "The **constraints** which should be positives are here: \n",
    "- the speed margin, ie. the motor doesn't exceed its maximum speed\n",
    "- the torque margin, ie. the motor doesn't exceed its maximum torque\n",
    "- the length margin, ie. the global length of the actuator doesn't exceed the distance between anchorage points\n"
   ]
  },
  {
   "cell_type": "code",
   "execution_count": 4,
   "id": "66eeb619-12b8-4e1c-93b1-c35642488106",
   "metadata": {
    "slideshow": {
     "slide_type": "slide"
    }
   },
   "outputs": [],
   "source": [
    "def sizing_code(param, arg=\"print\"):\n",
    "    #  Design variables\n",
    "    reduction_ratio = param[0]  # Reduction ratio of the reducer\n",
    "    k_oversizing = param[1]  # Oversizing of the motor (algebraic loop)\n",
    "    d1 = param[2] / 100  # position of the anchorage (cm --> meter)\n",
    "    d2 = param[3] / 100  # position of the anchorage (cm --> meter)\n",
    "\n",
    "    # --------------------------------------\n",
    "    # Force, torque and speed calculations\n",
    "\n",
    "    # Lever arm\n",
    "    lever_arm = (\n",
    "        (\n",
    "            -(-0.9744 * d1 - 1.372)\n",
    "            * (0.2248 * d1 - 0.3757)\n",
    "            * ((0.2248 * d1 - 0.3757) ** 2 + (-0.9744 * d1 + d2 - 1.172) ** 2) ** (-0.5)\n",
    "            + (0.2248 * d1 + 0.9823)\n",
    "            * ((0.2248 * d1 - 0.3757) ** 2 + (-0.9744 * d1 + d2 - 1.172) ** 2) ** (-0.5)\n",
    "            * (-0.9744 * d1 + d2 - 1.172)\n",
    "        )\n",
    "        ** 2\n",
    "    ) ** 0.5\n",
    "\n",
    "    # Length of actuator\n",
    "    actuator_length = ((0.2248 * d1 - 0.3757) ** 2 + (-0.9744 * d1 + d2 - 1.172) ** 2) ** 0.5\n",
    "\n",
    "    # Stroke of actuator\n",
    "    stroke = angular_magnitude_max * 2 * lever_arm\n",
    "\n",
    "    # Load, speed\n",
    "    max_speed = max_speed_rot * lever_arm  # [m/s]\n",
    "    max_load = max_dyn_torque / lever_arm  # [N]\n",
    "\n",
    "    # Torque motor estimation\n",
    "    T_mot_guess = k_oversizing * max_load * pitch / reduction_ratio / nu_screw\n",
    "\n",
    "    # Max static force (stall force) with 100% efficiency assumption\n",
    "    max_stall_force = T_mot_guess / pitch * reduction_ratio\n",
    "    max_mech_force = k_sec * max_stall_force\n",
    "\n",
    "    # --------------------------------------\n",
    "    # Parameter estimation with scaling laws\n",
    "\n",
    "    # Motor\n",
    "    M_mot = M_mot_ref * (T_mot_guess / T_mot_guess_max_ref) ** (3 / 3.5)\n",
    "    J_mot = J_mot_ref * (T_mot_guess / T_mot_guess_max_ref) ** (5 / 3.5)\n",
    "    W_mot = W_mot_max_ref * (T_mot_guess / T_mot_guess_max_ref) ** (-1 / 3.5)\n",
    "\n",
    "    # Rod end\n",
    "    M_rod = M_rod_ref * (max_mech_force / F_rod_max_ref) ** (3 / 2)\n",
    "    L_rod = L_rod_ref * (max_mech_force / F_rod_max_ref) ** (1 / 2)\n",
    "\n",
    "    # Nut\n",
    "    M_nut = M_nut_ref * (max_mech_force / F_screw_max_ref) ** (3 / 2)\n",
    "    M_screw = Ml_screw_ref * (max_mech_force / F_screw_max_ref) ** (2 / 2) * actuator_length / 2\n",
    "    D_nut = D_nut_ref * (max_mech_force / F_screw_max_ref) ** (1 / 2)\n",
    "    L_nut = L_nut_ref * (max_mech_force / F_screw_max_ref) ** (1 / 2)\n",
    "\n",
    "    # Bearing\n",
    "    M_bearing = M_bearing_ref * (max_mech_force / F_bearing_max_ref) ** (3 / 2)\n",
    "    L_bearing = L_bearing_ref * (max_mech_force / F_bearing_max_ref) ** (1 / 2)\n",
    "\n",
    "    # --------------------------------------\n",
    "    # Exact torque calculation with motor inertia\n",
    "    T_mot_real = (\n",
    "        max_load * pitch / reduction_ratio / nu_screw\n",
    "        + J_mot * max_acc_rot * lever_arm * reduction_ratio / pitch\n",
    "    )\n",
    "\n",
    "    # --------------------------------------\n",
    "    # Objectives and constrants calculations\n",
    "\n",
    "    # Objective = total mass\n",
    "    objective = M_mot + M_bearing + 2 * M_rod + M_screw + M_nut\n",
    "\n",
    "    # Constraints (should be >=0)\n",
    "    C1 = W_mot - reduction_ratio * max_speed / pitch  # speed margin\n",
    "    C2 = T_mot_guess - T_mot_real  # Torque margin\n",
    "    C3 = actuator_length - stroke - L_nut - L_bearing - 2 * L_rod  # Length margin\n",
    "\n",
    "    # --------------------------------------\n",
    "    # Objective and constraints\n",
    "    if arg == \"objective\":\n",
    "        return objective / 100\n",
    "    if arg == \"objectiveP\":\n",
    "        if (C1 < 0.0) | (C2 < 0.0) | (C3 < 0.0):\n",
    "            # If constraints are not respected we penalize\n",
    "            # the objective for contraint less algorithms\n",
    "            return objective * 1e5\n",
    "        else:\n",
    "            return objective / 100\n",
    "    elif arg == \"print\":\n",
    "        print(\"Objective:\")\n",
    "        print(\"     Total mass = %.2f kg\" % (M_mot + M_bearing + 2 * M_rod + M_screw + M_nut))\n",
    "        print(\"Design variables:\")\n",
    "        print(\"     reduction_ratio =  %.2f\" % reduction_ratio)\n",
    "        print(\"     k_oversizing =  %.2f\" % k_oversizing)\n",
    "        print(\"     d_1 =  %.2f m\" % d1)\n",
    "        print(\"     d_2 =  %.2f m\" % d2)\n",
    "        print(\"Performances:\")\n",
    "        print(\"     Stroke = %.2f m\" % stroke)\n",
    "        print(\"     Max load = %.0f N\" % max_load)\n",
    "        print(\"     Stall load = %.0f N\" % max_stall_force)\n",
    "        print(\"Components characteristics:\")\n",
    "        print(\"     Lever arm = %.2f m\" % lever_arm)\n",
    "        print(\"     Actuator length = %.2f m\" % actuator_length)\n",
    "        print(\"     Motor mass = %.2f kg\" % M_mot)\n",
    "        print(\"     Max Tem = %.2f N.m\" % T_mot_real)\n",
    "        print(\"     Rod-end mass = %.2f kg\" % (2 * M_rod))\n",
    "        print(\"     Rod-end length = %.2f m\" % L_rod)\n",
    "        print(\"     Screw mass = %.2f kg\" % M_screw)\n",
    "        print(\"     Nut mass = %.2f kg\" % (2 * M_nut))\n",
    "        print(\"     Nut length = %.2f m\" % L_nut)\n",
    "        print(\"     Bearing length = %.2f m\" % L_bearing)\n",
    "        print(\"Constraints (should be >= 0):\")\n",
    "        print(\"     Speed margin: W_mot-reduction_ratio*max_speed/pitch= %.3f\" % C1)\n",
    "        print(\"     Torque margin: T_mot_guess-T_mot_real= %.3f \" % C2)\n",
    "        print(\"     Length margin: actuator_length-stroke-L_nut-L_bearing-2*L_rod =  %.3f\" % C3)\n",
    "    elif arg == \"constraints\":\n",
    "        return [C1, C2, C3]\n",
    "    else:\n",
    "        raise TypeError(\n",
    "            \"Unknown argument for sizing_code: use 'print', 'objective', 'objectiveP' or 'contraints'\"\n",
    "        )"
   ]
  },
  {
   "cell_type": "markdown",
   "id": "07e596a0-c2f3-4c68-a058-aaced1f80d97",
   "metadata": {
    "slideshow": {
     "slide_type": "slide"
    },
    "user_expressions": []
   },
   "source": [
    "## Optimization with SLSQP algorithm\n"
   ]
  },
  {
   "cell_type": "markdown",
   "id": "83f56526-e939-469e-b486-884745001fd3",
   "metadata": {
    "user_expressions": []
   },
   "source": [
    "We will now use the [opmization algorithms](https://docs.scipy.org/doc/scipy/reference/optimize.html) of the Scipy package to solve and optimize the configuration. We will first use the [SLSQP](https://docs.scipy.org/doc/scipy/reference/optimize.minimize-slsqp.html) algorithm without explicit expression of the gradient (Jacobian). "
   ]
  },
  {
   "cell_type": "markdown",
   "id": "42755f5c-9860-4fdb-ab80-73db8571de48",
   "metadata": {
    "user_expressions": []
   },
   "source": [
    "The first step is to give an initial value of optimisation variables:"
   ]
  },
  {
   "cell_type": "code",
   "execution_count": 5,
   "id": "6cb06c67-d052-4834-8add-1700e5a06dec",
   "metadata": {},
   "outputs": [],
   "source": [
    "# Optimization variables\n",
    "# Reduction ratio\n",
    "reduction_ratio_init = 1  # [-]\n",
    "reduction_ratio_min = 0.1  # [-]\n",
    "reduction_ratio_max = 10  # [-]\n",
    "\n",
    "# Oversizing coefficient for multidisciplinary coupling\n",
    "k_oversizing_init = 1  # [-]\n",
    "k_oversizing_min = 0.2  # [-]\n",
    "k_oversizing_max = 5  # [-]\n",
    "\n",
    "# Anchorage positions\n",
    "d1_init = 0  # [cm]\n",
    "d1_min = -80  # [cm]\n",
    "d1_max = 80  # [cm]\n",
    "\n",
    "d2_init = 0  # [cm]\n",
    "d2_min = -20  # [cm]\n",
    "d2_max = 20  # [cm]\n",
    "\n",
    "# Initial values vector for design variables\n",
    "parameters = np.array((reduction_ratio_init, k_oversizing_init, d1_init, d2_init))"
   ]
  },
  {
   "cell_type": "markdown",
   "id": "95c15d34-679f-4559-bcb9-14c7017409ea",
   "metadata": {
    "slideshow": {
     "slide_type": "slide"
    },
    "user_expressions": []
   },
   "source": [
    "We can print of the characterisitcs of the problem before optimization with the intitial vector of optimization variables:"
   ]
  },
  {
   "cell_type": "code",
   "execution_count": 6,
   "id": "febb9f1c-2023-4c4c-bbbc-21990025bbbc",
   "metadata": {},
   "outputs": [
    {
     "name": "stdout",
     "output_type": "stream",
     "text": [
      "-----------------------------------------------\n",
      "Initial characteristics before optimization :\n",
      "Objective:\n",
      "     Total mass = 25.16 kg\n",
      "Design variables:\n",
      "     reduction_ratio =  1.00\n",
      "     k_oversizing =  1.00\n",
      "     d_1 =  0.00 m\n",
      "     d_2 =  0.00 m\n",
      "Performances:\n",
      "     Stroke = 0.27 m\n",
      "     Max load = 35444 N\n",
      "     Stall load = 50635 N\n",
      "Components characteristics:\n",
      "     Lever arm = 1.35 m\n",
      "     Actuator length = 1.23 m\n",
      "     Motor mass = 17.69 kg\n",
      "     Max Tem = 103.25 N.m\n",
      "     Rod-end mass = 1.28 kg\n",
      "     Rod-end length = 0.05 m\n",
      "     Screw mass = 4.34 kg\n",
      "     Nut mass = 2.73 kg\n",
      "     Nut length = 0.09 m\n",
      "     Bearing length = 0.03 m\n",
      "Constraints (should be >= 0):\n",
      "     Speed margin: W_mot-reduction_ratio*max_speed/pitch= 314.377\n",
      "     Torque margin: T_mot_guess-T_mot_real= -22.659 \n",
      "     Length margin: actuator_length-stroke-L_nut-L_bearing-2*L_rod =  0.745\n",
      "-----------------------------------------------\n"
     ]
    }
   ],
   "source": [
    "# Initial characteristics before optimization\n",
    "print(\"-----------------------------------------------\")\n",
    "print(\"Initial characteristics before optimization :\")\n",
    "\n",
    "sizing_code(parameters, \"print\")\n",
    "print(\"-----------------------------------------------\")"
   ]
  },
  {
   "cell_type": "markdown",
   "id": "a297a1f9-ccba-40f2-8f4f-0d851db1cad2",
   "metadata": {
    "user_expressions": []
   },
   "source": [
    "We can see that the consistency constraint that is used to solve the coupling of the motor torque/inertia is not respected."
   ]
  },
  {
   "cell_type": "markdown",
   "id": "928cd1bc-b417-48f4-a57c-69d8198c9558",
   "metadata": {
    "slideshow": {
     "slide_type": "slide"
    },
    "user_expressions": []
   },
   "source": [
    "Then we can solve the problem and print of the optimized solution:"
   ]
  },
  {
   "cell_type": "code",
   "execution_count": 7,
   "id": "218dae1e-31ff-421a-a8ca-388af4ae89d5",
   "metadata": {},
   "outputs": [
    {
     "name": "stdout",
     "output_type": "stream",
     "text": [
      "Optimization terminated successfully    (Exit mode 0)\n",
      "            Current function value: 0.33913506032286483\n",
      "            Iterations: 36\n",
      "            Function evaluations: 183\n",
      "            Gradient evaluations: 36\n",
      "-----------------------------------------------\n",
      "Final characteristics after optimization :\n",
      "Objective:\n",
      "     Total mass = 33.91 kg\n",
      "Design variables:\n",
      "     reduction_ratio =  1.29\n",
      "     k_oversizing =  1.69\n",
      "     d_1 =  -0.30 m\n",
      "     d_2 =  0.20 m\n",
      "Performances:\n",
      "     Stroke = 0.27 m\n",
      "     Max load = 35436 N\n",
      "     Stall load = 85445 N\n",
      "Components characteristics:\n",
      "     Lever arm = 1.35 m\n",
      "     Actuator length = 0.81 m\n",
      "     Motor mass = 22.22 kg\n",
      "     Max Tem = 105.20 N.m\n",
      "     Rod-end mass = 2.80 kg\n",
      "     Rod-end length = 0.06 m\n",
      "     Screw mass = 4.81 kg\n",
      "     Nut mass = 5.98 kg\n",
      "     Nut length = 0.12 m\n",
      "     Bearing length = 0.04 m\n",
      "Constraints (should be >= 0):\n",
      "     Speed margin: W_mot-reduction_ratio*max_speed/pitch= 241.061\n",
      "     Torque margin: T_mot_guess-T_mot_real= 0.000 \n",
      "     Length margin: actuator_length-stroke-L_nut-L_bearing-2*L_rod =  0.258\n",
      "-----------------------------------------------\n",
      "Calculation time:\n",
      " 0.01181793212890625 s\n"
     ]
    }
   ],
   "source": [
    "import time\n",
    "\n",
    "# Resolution of the problem\n",
    "\n",
    "contrainte = lambda x: sizing_code(x, \"constraints\")\n",
    "objectif = lambda x: sizing_code(x, \"objective\")\n",
    "\n",
    "start = time.time()\n",
    "result = scipy.optimize.fmin_slsqp(\n",
    "    func=objectif,\n",
    "    x0=parameters,\n",
    "    bounds=[\n",
    "        (reduction_ratio_min, reduction_ratio_max),\n",
    "        (k_oversizing_min, k_oversizing_max),\n",
    "        (d1_min, d1_max),\n",
    "        (d2_min, d2_max),\n",
    "    ],\n",
    "    f_ieqcons=contrainte,\n",
    "    iter=100,\n",
    "    acc=1e-8,\n",
    ")\n",
    "end = time.time()\n",
    "\n",
    "# Final characteristics after optimization\n",
    "print(\"-----------------------------------------------\")\n",
    "print(\"Final characteristics after optimization :\")\n",
    "\n",
    "sizing_code(result, \"print\")\n",
    "print(\"-----------------------------------------------\")\n",
    "print(\"Calculation time:\\n\", end - start, \"s\")"
   ]
  },
  {
   "cell_type": "markdown",
   "id": "6c629278-de70-40e0-ab05-f6058560faa2",
   "metadata": {
    "user_expressions": []
   },
   "source": [
    "## Optimization with differential evolution algorithm\n"
   ]
  },
  {
   "cell_type": "markdown",
   "id": "a524b10d-4a56-48ce-bc52-7262de09a0fc",
   "metadata": {
    "user_expressions": []
   },
   "source": [
    "We will now use a [differential evolution](https://docs.scipy.org/doc/scipy-0.17.0/reference/generated/scipy.optimize.differential_evolution.html) algorithm. Differential Evolution is stochastic in nature (does not use gradient methods) to find the minimium, and can search large areas of candidate space, but often requires larger numbers of function evaluations than conventional gradient based techniques. Differential evolution algorithms don't manage directly constraints functions. A penalty method replaces the previous objective function.  "
   ]
  },
  {
   "cell_type": "code",
   "execution_count": 8,
   "id": "06fe9fb8-30a7-4a6d-b3e5-4b69f30bc0b4",
   "metadata": {
    "pycharm": {
     "name": "#%%\n"
    }
   },
   "outputs": [
    {
     "name": "stdout",
     "output_type": "stream",
     "text": [
      "-----------------------------------------------\n",
      "Final characteristics after optimization :\n",
      "Objective:\n",
      "     Total mass = 33.91 kg\n",
      "Design variables:\n",
      "     reduction_ratio =  1.29\n",
      "     k_oversizing =  1.69\n",
      "     d_1 =  -0.30 m\n",
      "     d_2 =  0.20 m\n",
      "Performances:\n",
      "     Stroke = 0.27 m\n",
      "     Max load = 35438 N\n",
      "     Stall load = 85423 N\n",
      "Components characteristics:\n",
      "     Lever arm = 1.35 m\n",
      "     Actuator length = 0.81 m\n",
      "     Motor mass = 22.23 kg\n",
      "     Max Tem = 105.22 N.m\n",
      "     Rod-end mass = 2.80 kg\n",
      "     Rod-end length = 0.06 m\n",
      "     Screw mass = 4.81 kg\n",
      "     Nut mass = 5.98 kg\n",
      "     Nut length = 0.12 m\n",
      "     Bearing length = 0.04 m\n",
      "Constraints (should be >= 0):\n",
      "     Speed margin: W_mot-reduction_ratio*max_speed/pitch= 241.131\n",
      "     Torque margin: T_mot_guess-T_mot_real= 0.000 \n",
      "     Length margin: actuator_length-stroke-L_nut-L_bearing-2*L_rod =  0.258\n",
      "-----------------------------------------------\n",
      "Calculation time:\n",
      " 0.19716691970825195 s\n"
     ]
    }
   ],
   "source": [
    "# Resolution of the problem\n",
    "\n",
    "objective = lambda x: sizing_code(x, \"objectiveP\")\n",
    "\n",
    "start = time.time()\n",
    "result = scipy.optimize.differential_evolution(\n",
    "    func=objective,\n",
    "    bounds=[\n",
    "        (reduction_ratio_min, reduction_ratio_max),\n",
    "        (k_oversizing_min, k_oversizing_max),\n",
    "        (d1_min, d1_max),\n",
    "        (d2_min, d2_max),\n",
    "    ],\n",
    "    tol=1e-5,\n",
    ")\n",
    "end = time.time()\n",
    "\n",
    "# Final characteristics after optimization\n",
    "print(\"-----------------------------------------------\")\n",
    "print(\"Final characteristics after optimization :\")\n",
    "\n",
    "sizing_code(result.x, \"print\")\n",
    "print(\"-----------------------------------------------\")\n",
    "print(\"Calculation time:\\n\", end - start, \"s\")"
   ]
  },
  {
   "cell_type": "code",
   "execution_count": null,
   "id": "66aedf93-ff6a-4374-9c70-86a48d7fabdb",
   "metadata": {},
   "outputs": [],
   "source": []
  }
 ],
 "metadata": {
  "kernelspec": {
   "display_name": "Python 3 (ipykernel)",
   "language": "python",
   "name": "python3"
  },
  "language_info": {
   "codemirror_mode": {
    "name": "ipython",
    "version": 3
   },
   "file_extension": ".py",
   "mimetype": "text/x-python",
   "name": "python",
   "nbconvert_exporter": "python",
   "pygments_lexer": "ipython3",
   "version": "3.9.13"
  }
 },
 "nbformat": 4,
 "nbformat_minor": 5
}
