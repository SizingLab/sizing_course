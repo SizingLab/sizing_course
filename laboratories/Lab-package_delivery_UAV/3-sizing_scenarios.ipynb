{
 "cells": [
  {
   "cell_type": "markdown",
   "metadata": {},
   "source": [
    "# Sizing scenarios and design drivers\n",
    "\n",
    "*Written by Marc Budinger (INSA Toulouse), Scott Delbecq (ISAE-SUPAERO) and Félix Pollet (ISAE-SUPAERO), Toulouse, France.*\n",
    "\n",
    "The preliminary sizing of UAVs aims at defining the main drone characteristics and selecting the components based on a few **sizing scenarios**. The sizing scenarios are part of the specification process and may include both transient and endurance criteria, such as maximum rate of climb and hover flight endurance. The final overall design has to consider simultaneously the various sizing scenarios that may impact the components selection through **design drivers**."
   ]
  },
  {
   "cell_type": "markdown",
   "metadata": {},
   "source": [
    "### Design drivers\n",
    "\n",
    "Design drivers are physical factors that influence the design process of a component. For example, the propeller design is driven, among others, by the maximum thrust it can provide.\n",
    "\n",
    "Table 1 summarizes the main system components. "
   ]
  },
  {
   "cell_type": "markdown",
   "metadata": {},
   "source": [
    "### Sizing scenarios\n",
    "\n",
    "Endurance scenarios, like hover flight need to be taken into account for the selection of the battery endurance and the evaluation of the motor temperature rise. Extreme performance criteria, such as maximum transitory acceleration or maximum rate of climb are fundamental to determine the maximum rotational speed, maximum propeller torque, Electronic Speed Controller (ESC) corner power, battery voltage and power, and mechanical stress. "
   ]
  },
  {
   "cell_type": "markdown",
   "metadata": {},
   "source": [
    "**<center>Table 1: Design drivers and sizing scenarios</center>**\n",
    "\n",
    "| Components                  | Design drivers   | Parameters involved         | Sizing scenarios |\n",
    "|-----------------------------|------------------|-----------------------------|------------------|\n",
    "| Propeller                   \t| Max thrust       \t| Diameter, tip speed         \t| Takeoff          \t|\n",
    "|                             \t|                  \t|                             \t| Climb            \t|\n",
    "|                             \t| Efficiency       \t| Pitch                       \t| Hover            \t|\n",
    "|                             \t|                  \t|                             \t| Cruise           \t|\n",
    "| Motor                       \t| Temperature rise \t| Nominal torque, Resistance  \t| Hover            \t|\n",
    "|                             \t|                  \t|                             \t| Cruise           \t|\n",
    "|                             \t| Max. voltage     \t| Torque constant, Resistance \t| Takeoff          \t|\n",
    "|                             \t|                  \t|                             \t| Climb            \t|\n",
    "| Electronic Speed Controller \t| Temperature rise \t| Max power, Max current      \t| Takeoff          \t|\n",
    "|                             \t|                  \t|                             \t| Climb            \t|\n",
    "| Battery                     \t| Energy           \t| Voltage, Capacity           \t| Hover (autonomy) \t|\n",
    "|                             \t|                  \t|                             \t| Cruise (range)   \t|\n",
    "|                             \t| Power            \t| Voltage, Max discharge rate \t| Takeoff          \t|\n",
    "|                             \t|                  \t|                             \t| Climb            \t|\n",
    "| Frame                       \t| Stress           \t| Mechanical strength         \t| Takeoff          \t|\n",
    "|                             \t|                  \t|                             \t| Landing          \t|\n",
    "|                             \t|                  \t|                             \t| Crash            \t|\n"
   ]
  },
  {
   "cell_type": "markdown",
   "metadata": {},
   "source": [
    "# Equations of sizing scenarios\n",
    "\n",
    "The purpose of this notebook is to illustrate on an existing drone example the main equations to be taken into account during the sizing. The selected drone is the [MK-Quadro](http://wiki.mikrokopter.de/MK-Quadro) drone of Mikrokopter. The technical informations about the MK-quadro drone can be found on the website of [MikroKopter](http://wiki.mikrokopter.de/en/FlightTime) company.\n",
    "\n",
    "\n",
    "```{figure} https://raw.githubusercontent.com/SizingLab/sizing_course/main/laboratories/Lab-package_delivery_UAV/assets/images/MikroQuadro.JPG\n",
    ":name: apc_mr_prop\n",
    ":align: center\n",
    ":width: 25%\n",
    "\n",
    "APC MR (Multi-Rotor) propellers\n",
    "```\n"
   ]
  },
  {
   "cell_type": "markdown",
   "metadata": {},
   "source": [
    "### Propellers fundamental equations\n",
    "\n",
    "Propellers can be described in an ideal manner by the disk momentum theory. The [dimensional analysis]([https://web.mit.edu/16.unified/www/FALL/thermodynamics/notes/node86.html#SECTION06374000000000000000]) theory enables to describe with more details the propeller performances thanks to  aerodynamic coefficients:\n",
    "- The thrust: $T = C_{T,h} \\rho \\Omega^2 A R^2=C_{T,p} \\rho n^2 D^4$  which gives $ = k_{TD} \\Omega^2$ for a given propeller and a given diameter\n",
    "- The power: $P = C_{P,h} \\rho \\Omega^3 A R^3=C_{P,p} \\rho n^3 D^5 $ which gives the power $P=k_{PD}\\Omega^3$ or the torque $M = k_{PD} \\Omega^2$ for a given propeller and a given diameter\n",
    "\n",
    "```{note}\n",
    "Be carefull, litterature shows 2 notations :\n",
    "* the propeller notation with n the propeller speed in [rev/s], D the diameter in [m], $\\rho$  the air density in [$kg/m^3$]\n",
    "* the helicopter notation with $\\Omega$ the propeller speed in [rad/s], R the radius in [m], $A$ the disk area in [$m^2$], $\\rho$  the air density in [$kg/m^3$]\n",
    "\n",
    "```\n",
    "\n",
    "```{exercise}\n",
    ":label: sizing_scenarios_equations\n",
    "\n",
    "Compare the caracteristics of the following [APC propellers](https://www.apcprop.com/files/PER3_10x45MR.dat) to those of the MikroKopter MK-Quadro ([GWS](https://gwsus.com/english/dealer/dealer_gwsusa.htm))\n",
    "```\n",
    "\n",
    "Characteristics  | APC Propeller | GWS Propeller\n",
    "-- | -- | --\n",
    "Diameter [inch] | 10 | 10 \n",
    "Pitch [inch] | 4.5 | 4.5 \n",
    "Thrust coef $C_t$ [-] | 0.1125 | \n",
    "Power coef $C_p$ [-]  | 0.0441 | \n",
    "Thrust coef $k_{TD}$ [$\\frac{N}{(rad/s)^2}$] | | $1.799.10^{-5}$\n",
    "Torque coefficient $k_{PD}$ [$\\frac{N}{(rad/s)^2}$] | | $3.054.10^{-7}$\n",
    "\n",
    "with: $1$ $inch = 0.0254$ $m$, $\\rho=1.18$ $kg/m^3$ \n"
   ]
  },
  {
   "cell_type": "code",
   "execution_count": 35,
   "metadata": {},
   "outputs": [
    {
     "name": "stdout",
     "output_type": "stream",
     "text": [
      "GWS Ct: 0.14460190894243805\n",
      "GWS Cp: 0.06072367502534727\n",
      "APC factor: 2.5510204081632653\n",
      "GWS factor: 2.3813102366099934\n"
     ]
    }
   ],
   "source": [
    "D = 10 * 0.0254  # [m] Propeller diameter\n",
    "rho = 1.18  # [kg/m^3] Air mass volumic (25°C)\n",
    "\n",
    "# APC coefficients\n",
    "# Ct=T/(rho * n**2 * D**4) (thrust coef.)\n",
    "Ct = 0.1125  # [-] Thrust coefficient, propeller notation\n",
    "# Cp=P/(rho * n**3 * D**5) (power coef.)\n",
    "Cp = 0.0441  # [-] Power coefficient, propeller notation\n",
    "\n",
    "# GWS coefficients\n",
    "from math import pi\n",
    "\n",
    "Ct_gws = 1.799e-5 * (2 * pi)**2 / (rho * D**4)\n",
    "Cp_gws = 3.054e-7 * (2 * pi)**3 / (rho * D**5)\n",
    "\n",
    "factor_apc = Ct/Cp\n",
    "factor_gws = Ct_gws/Cp_gws\n",
    "\n",
    "print(f\"GWS Ct: {Ct_gws}\")\n",
    "print(f\"GWS Cp: {Cp_gws}\")\n",
    "\n",
    "print(f\"APC factor: {factor_apc}\")\n",
    "print(f\"GWS factor: {factor_gws}\")"
   ]
  },
  {
   "cell_type": "markdown",
   "metadata": {},
   "source": [
    "### Hover flight scenario\n",
    "\n",
    "The flight conditions in static hover are no forward speed, no vertical speed. This scenario influences in a very important way the autonomy of the vehicle. The thrust generated by propellers have to compensate the global weight of the drone and the load.\n",
    "\n",
    "```{figure} https://upload.wikimedia.org/wikipedia/commons/thumb/5/56/Actuator_disk.svg/1024px-Actuator_disk.svg.png\n",
    ":alt: Disk Momentum Theory.\n",
    ":name: fig-disk_momentum\n",
    ":width: 30%\n",
    "\n",
    "An actuator disk accelerating a fluid flow from right to left (Source: [Wikipedia](https://en.wikipedia.org/wiki/Momentum_theory)).\n",
    "```\n",
    "\n",
    "\n",
    "```{exercise}\n",
    ":label: sizing_scenarios_propeller_thrust\n",
    "\n",
    "With the given technical informations, calculate the requested thrust for each propeller for a no load hover flight.\n",
    "```\n",
    "\n",
    "\n",
    "Characteristics  | MK-MikroKopter drone\n",
    "-- | -- \n",
    "Total mass ready to take off |  1350 g\n",
    "Number of propellers | 4"
   ]
  },
  {
   "cell_type": "code",
   "execution_count": 15,
   "metadata": {},
   "outputs": [
    {
     "name": "stdout",
     "output_type": "stream",
     "text": [
      "Thrust in hovering of one propeller [N]: 3.309744375\n"
     ]
    }
   ],
   "source": [
    "# Hover scenario\n",
    "# ------------\n",
    "M_total = 1.35  # [kg] mass of the drone\n",
    "\n",
    "N_pro = 4  # [-] propeller number\n",
    "D_pro = 2.54e-2 * 10  # [m] propeller diameter\n",
    "\n",
    "# to be completed\n",
    "from scipy.constants import g\n",
    "F_pro_hov = M_total * g / N_pro\n",
    "print(f\"Thrust in hovering of one propeller [N]: {F_pro_hov}\")"
   ]
  },
  {
   "cell_type": "markdown",
   "metadata": {},
   "source": [
    "```{exercise}\n",
    ":label: sizing_scenarios_propeller_power\n",
    "\n",
    "With the given technical informations of GWS propellers calculate the propeller torque, speed and the mechanical power.\n",
    "```"
   ]
  },
  {
   "cell_type": "code",
   "execution_count": 26,
   "metadata": {},
   "outputs": [
    {
     "name": "stdout",
     "output_type": "stream",
     "text": [
      "----------------\n",
      "Propeller speed: 428.93 rad/s or 4098 RPM\n",
      "Propeller torque: 0.06 N.m \n",
      "Propeller power: 24.10 W \n"
     ]
    }
   ],
   "source": [
    "# Propeller characteristics\n",
    "# -----------------------------\n",
    "\n",
    "K_TD = 1.799e-5  # [N/(rad/s)^2] thrust coef\n",
    "K_PD = 3.054e-7  # [N.m/(rad/s)^3] torque coef\n",
    "\n",
    "# to be compared to the ones calculated with regression\n",
    "# GWS 10*4.5\n",
    "\n",
    "# Torque and RPM of motors\n",
    "# -----------------------\n",
    "\n",
    "# to be completed\n",
    "W = (F_pro_hov / K_TD)**(1/2)\n",
    "P = (F_pro_hov / K_PD)**(1/3)\n",
    "M = K_PD * W**2\n",
    "\n",
    "print(\"----------------\")\n",
    "print(\"Propeller speed: %.2f rad/s or %.0f RPM\" % (W, W / 2 / 3.14 * 60))\n",
    "print(\"Propeller torque: %.2f N.m \" % (M))\n",
    "print(\"Propeller power: %.2f W \" % (M * W))"
   ]
  },
  {
   "cell_type": "markdown",
   "metadata": {},
   "source": [
    "> Questions: \n",
    "\n",
    "```{exercise}\n",
    ":label: sizing_scenarios_autonomy\n",
    "\n",
    "With the following technical informations calculate the motor voltage and current, the autonomy of the drone if we assume an efficiency of 95% for electronic speed controllers (ESC) and a depth of discharge of 80% for the battery.\n",
    "```\n",
    "\n",
    "Component |Characteristic | Value\n",
    "--- | --- | --- \n",
    "Motor | Poles pair number| 7  \n",
    "| Load current | 6‐9A (DC)  \n",
    "| Max current | 10A (DC)  \n",
    "| Speed constant Kv | 760 tr/min/V  \n",
    "| Mechanical power | 110 W  \n",
    "| Dimensions | 28.8 x 29 mm  \n",
    "| Max efficiency | 76 %  \n",
    "| mass | 65 g  \n",
    "| Resistance | R = 0.26 ohm  \n",
    "| Inertia | J= 2.5e-5 kg.m²  \n",
    "Battery| Voltage | LIPO 4S (4*3.7V)\n",
    "| Capacity | 3300mAh\n",
    "| mass | 329g\n"
   ]
  },
  {
   "cell_type": "code",
   "execution_count": 27,
   "metadata": {},
   "outputs": [
    {
     "name": "stdout",
     "output_type": "stream",
     "text": [
      "----------------\n",
      "Motor current: 4.47 A \n",
      "Motor voltage: 6.55 V \n",
      "----------------\n",
      "Battery current: 8.33 A \n",
      "Battery voltage: 14.80 V \n",
      "Autonomy of the battery : 19.0 min\n"
     ]
    }
   ],
   "source": [
    "# Voltage / current calculation\n",
    "# -----------------------------\n",
    "\n",
    "K_T_mot = (1 / 760) * 60 / 2 / 3.14  # [V/(rad/s)] Motor torque coef\n",
    "R_mot = 0.26  # [Ohm] Motor resistance\n",
    "\n",
    "# Voltage / current calculation\n",
    "\n",
    "# to be completed\n",
    "I = M / K_T_mot\n",
    "U = W * K_T_mot + R_mot * I\n",
    "\n",
    "print(\"----------------\")\n",
    "print(\"Motor current: %.2f A \" % I)\n",
    "print(\"Motor voltage: %.2f V \" % U)\n",
    "\n",
    "# Autonomy of the battery\n",
    "\n",
    "# to be completed\n",
    "V_bat = 4 * 3.7\n",
    "I_bat = (U * I * N_pro) / 0.95 / V_bat\n",
    "Aut_bat = 3.3 * 0.8 * 60 / I_bat \n",
    "\n",
    "print(\"----------------\")\n",
    "print(\"Battery current: %.2f A \" % I_bat)\n",
    "print(\"Battery voltage: %.2f V \" % V_bat)\n",
    "print(\"Autonomy of the battery : %.1f min\" % Aut_bat)"
   ]
  },
  {
   "cell_type": "code",
   "execution_count": null,
   "metadata": {},
   "outputs": [],
   "source": []
  }
 ],
 "metadata": {
  "kernelspec": {
   "display_name": "Python 3 (ipykernel)",
   "language": "python",
   "name": "python3"
  },
  "language_info": {
   "codemirror_mode": {
    "name": "ipython",
    "version": 3
   },
   "file_extension": ".py",
   "mimetype": "text/x-python",
   "name": "python",
   "nbconvert_exporter": "python",
   "pygments_lexer": "ipython3",
   "version": "3.9.18"
  }
 },
 "nbformat": 4,
 "nbformat_minor": 4
}
