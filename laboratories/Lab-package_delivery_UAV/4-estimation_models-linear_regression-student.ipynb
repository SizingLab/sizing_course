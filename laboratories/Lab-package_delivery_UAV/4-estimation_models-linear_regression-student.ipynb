{
 "cells": [
  {
   "cell_type": "markdown",
   "metadata": {
    "slideshow": {
     "slide_type": "fragment"
    }
   },
   "source": [
    "# Estimation models with dimensional analysis and linear regressions  (student version)\n",
    "\n",
    "*Written by Marc Budinger (INSA Toulouse), Scott Delbecq (ISAE-SUPAERO) and Félix Pollet (ISAE-SUPAERO), Toulouse, France.*\n",
    "\n",
    "## Propellers\n",
    "The application chosen for this notebook are UAV propellers.\n",
    "Propellers characteristics can be expressed by $C_T$ and $C_P$ coefficients. These coefficients are function of dimensions and conditions of use of propellers.  Dimensional analysis and linear regression of suppliers data can be used for the generation of $C_T$ and $C_P$ prediction models. \n",
    "\n",
    "```{figure} https://raw.githubusercontent.com/SizingLab/sizing_course/main/laboratories/Lab-multirotor/assets/images/apc-mr-props.jpg\n",
    ":name: apc_mr_prop\n",
    ":align: center\n",
    ":width: 25%\n",
    "\n",
    "APC MR (Multi-Rotor) propellers\n",
    "```\n"
   ]
  },
  {
   "cell_type": "markdown",
   "metadata": {},
   "source": [
    "## Dimensional analysis and $\\pi$ numbers\n",
    "\n",
    "The propeller performances can be expressed with 2 aerodynamic coefficients:\n",
    "- The thrust: $F = C_{T} \\rho_{air} n^2 D^4$  \n",
    "- The power: $P = C_{P} \\rho_{air} n^3 D^5 $\n",
    "\n",
    "The [dimensional analysis](https://web.mit.edu/16.unified/www/FALL/thermodynamics/notes/node86.html#SECTION06374000000000000000) and especially the [Buckingham $\\pi$ theorem](https://en.wikipedia.org/wiki/Buckingham_%CF%80_theorem) enable to find this results.\n"
   ]
  },
  {
   "cell_type": "markdown",
   "metadata": {
    "tags": []
   },
   "source": [
    "#### Dimensional analysis of the propeller thrust  \n",
    "\n",
    "The thrust $F$ of a propeller depends of multiple parameters (geometrical dimensions, air properties, operational points):  \n",
    "$F=f(\\rho_{air},n,D,p,V,\\beta_{air})$   \n",
    "with the parameters express in the following table.\n",
    "\n",
    "Parameter|M|L|T|\n",
    "--|--|--|--\n",
    "Thrust $T$ [N] | 1|1|-2\n",
    "Mass volumic (Air) $\\rho_{air}$ [kg/m$^3$]| 1 | -3 | 0|\n",
    "Rotational speed $n$ [Hz] | 0 | 0 | -1|\n",
    "Diameter $D$ [m] | 0| 1 | 0|\n",
    "Pitch $p$ [m] | 0 | 1 | 0|\n",
    "Drone speed $V$ [m/s] | 0 | 1 | -1|\n",
    "Bulk modulus (Air) $\\beta_{air}$ [Pa] | 1 | -1 | -2|\n",
    "$=\\pi_0$|  |  |  |\n",
    "$=\\pi_1$|  |  |  |\n",
    "$=\\pi_2$|  |  |  |\n",
    "$=\\pi_3$|  |  |  |\n",
    "\n",
    "\n",
    "**Remark**: The dimension of a parameter $x$ is function of dimensions L, M and T : $[x]=M^aL^bT^c$.  The previous table gives the value of $a$, $b$ and $c$ for each parameter of the problem. \n",
    "\n",
    "```{exercise}\n",
    ":label: exercice_pi\n",
    "\n",
    "Complete the table with 4 dimensionless $\\pi$ numbers possible for the given problem. Explain the number of dimensionless number.\n",
    "```"
   ]
  },
  {
   "cell_type": "markdown",
   "metadata": {},
   "source": [
    "Parameter|M|L|T|\n",
    "--|--|--|--\n",
    "Thrust $T$ [N] | 1|1|-2\n",
    "Mass volumic (Air) $\\rho_{air}$ [kg/m$^3$]| 1 | -3 | 0|\n",
    "Rotational speed $n$ [Hz] | 0 | 0 | -1|\n",
    "Diameter $D$ [m] | 0| 1 | 0|\n",
    "Pitch $p$ [m] | 0 | 1 | 0|\n",
    "Drone speed $V$ [m/s] | 0 | 1 | -1|\n",
    "Bulk modulus (Air) $\\beta_{air}$ [Pa] | 1 | -1 | -2|\n",
    "$=\\pi_0$|  |  |  |\n",
    "$=\\pi_1$|  |  |  |\n",
    "$=\\pi_2$|  |  |  |\n",
    "$=\\pi_3$|  |  |  |"
   ]
  },
  {
   "cell_type": "markdown",
   "metadata": {},
   "source": [
    "#### Effect of the rotational speed  \n",
    "\n",
    "APC suppliers give complete [propeller data](https://www.apcprop.com/technical-information/) for all their propellers. From the file *APC_STATIC-data-all-props.csv*, we find all static data provided by APC:"
   ]
  },
  {
   "cell_type": "code",
   "execution_count": null,
   "metadata": {},
   "outputs": [],
   "source": [
    "import pandas as pd\n",
    "\n",
    "# Read the .csv file with bearing data\n",
    "path = \"https://raw.githubusercontent.com/SizingLab/sizing_course/main/laboratories/Lab-multirotor/assets/data/\"\n",
    "df = pd.read_csv(path + \"APC_STATIC-data-all-props.csv\", sep=\";\")\n",
    "# Print the head (first lines of the file)\n",
    "df.head()"
   ]
  },
  {
   "cell_type": "markdown",
   "metadata": {},
   "source": [
    "For next steps, we keep only the Multi-Rotor type propellers (MR). "
   ]
  },
  {
   "cell_type": "code",
   "execution_count": null,
   "metadata": {},
   "outputs": [],
   "source": [
    "# Data Filtering\n",
    "dfMR = df[df[\"TYPE\"] == \"MR\"]\n",
    "dfMR.head()"
   ]
  },
  {
   "cell_type": "markdown",
   "metadata": {},
   "source": [
    "We plot the $C_p$ and $C_t$ for the a 10x4.5 propeller (COMP n° 8 in the previous table). We can notice that these coefficients are constant up to a certain value of speed of rotation. The manufacturer recommends using these propellers for a product speed of rotation x diameter less than a limit (depending on the type of propeller technology) and given [here](https://www.apcprop.com/technical-information/rpm-limits/):  \n",
    "Maximum speed(RPM) x prop diameter (inches) = 105,000  \n",
    "for MR type which gives a blade tip speed of 135 m/s.\n",
    "\n",
    "> **Question:** Explain the origin of this operating limit comes from and the $\\pi$ number that can express it.\n"
   ]
  },
  {
   "cell_type": "code",
   "execution_count": null,
   "metadata": {},
   "outputs": [],
   "source": [
    "# Keep only the component n°8\n",
    "df8 = dfMR[dfMR[\"COMP\"] == 8]\n",
    "\n",
    "# Extract forbidden ND product\n",
    "df8ND = df8[df8[\"N.D\"] > 105000]\n",
    "\n",
    "import numpy as np\n",
    "import matplotlib.pyplot as plt\n",
    "\n",
    "# plot the data\n",
    "plt.plot(\n",
    "    df8[\"RPM\"],\n",
    "    df8[\"Cp\"],\n",
    "    \"bo\",\n",
    "    df8[\"RPM\"],\n",
    "    df8[\"Ct\"],\n",
    "    \"ro\",\n",
    ")\n",
    "plt.plot(\n",
    "    df8ND[\"RPM\"],\n",
    "    df8ND[\"Cp\"],\n",
    "    \"ko\",\n",
    "    df8ND[\"RPM\"],\n",
    "    df8ND[\"Ct\"],\n",
    "    \"ko\",\n",
    ")\n",
    "plt.xlabel(\"Rotational Speed [RPM]\")\n",
    "plt.ylabel(\"Cp (blue) and Ct (red)\")\n",
    "plt.grid()\n",
    "plt.show()"
   ]
  },
  {
   "cell_type": "markdown",
   "metadata": {},
   "source": [
    "## Linear regression\n",
    "\n",
    "For next calculations, we keep only data with following criteria:\n",
    "-  Type 'MR' (Multi-Rotor)    \n",
    "-  Maximum RPM < 105,000/prop diameter (inches)"
   ]
  },
  {
   "cell_type": "code",
   "execution_count": null,
   "metadata": {},
   "outputs": [],
   "source": [
    "# Keep only operating points with ND<105000\n",
    "dfMRND = dfMR[dfMR[\"N.D\"] < 105000]"
   ]
  },
  {
   "cell_type": "markdown",
   "metadata": {},
   "source": [
    "The APC static data correspond to the hover operational point where the speed V=0. The aerodynamic coefficients are thus only a function of $p/D$ (called 'ANGLE' in the .csv file) dimensionless number.\n",
    "\n",
    "$C_t=\\frac{F}{\\rho_{air} n^2 D^4}=f(\\frac{p}{D})$  \n",
    "$C_p=\\frac{P}{\\rho_{air} n^3 D^5}=g(\\frac{p}{D})$  \n",
    "\n",
    "The following code uses the [Scikit-learn](https://scikit-learn.org/stable/) package in order to set up a $C_t$ estimator for the static case ($V=0$ or $J=0$)."
   ]
  },
  {
   "cell_type": "code",
   "execution_count": null,
   "metadata": {},
   "outputs": [],
   "source": [
    "# Import packages\n",
    "from sklearn import linear_model\n",
    "from sklearn.metrics import r2_score\n",
    "import matplotlib.pyplot as plt\n",
    "\n",
    "\n",
    "# Data\n",
    "x = df_MR_ND[\"ANGLE\"].values\n",
    "y_Ct = df_MR_ND[\"Ct\"].values\n",
    "\n",
    "# Matrix X and Y\n",
    "X = x.reshape(-1, 1)\n",
    "\n",
    "Y_Ct = y_Ct.reshape(-1, 1)\n",
    "\n",
    "# Create a new object for the linear regression\n",
    "reg_Ct = linear_model.LinearRegression()\n",
    "\n",
    "reg_Ct.fit(X, Y_Ct)\n",
    "\n",
    "\n",
    "# Y vector prediction\n",
    "Ct_est = reg_Ct.predict(X)\n",
    "\n",
    "# Ct Parameters\n",
    "# ----\n",
    "coef = float(reg_Ct.coef_)\n",
    "intercept = float(reg_Ct.intercept_)\n",
    "r2 = r2_score(Y_Ct, Ct_est)\n",
    "\n",
    "\n",
    "# Plot the data\n",
    "plt.plot(x, Y_Ct, \"o\", label=\"Reference data\")\n",
    "plt.plot(x, Ct_est, \"-g\", label=\"Data prediction\")\n",
    "plt.xlabel(\"Pitch/Diameter  ratio\")\n",
    "plt.ylabel(\"Ct\")\n",
    "plt.title(\"Comparison of reference data and regression\")\n",
    "plt.legend()\n",
    "plt.grid()\n",
    "plt.show()\n",
    "\n",
    "print(f\"Ct estimation model : Ct = {intercept:.2f} + {coef:.2f} * p/D with R2={r2:.3f}\")"
   ]
  },
  {
   "cell_type": "markdown",
   "metadata": {},
   "source": [
    "```{exercise}\n",
    ":label: exercice_cp\n",
    "\n",
    "Perform a linear regression of $C_p$ data.\n",
    "```"
   ]
  },
  {
   "cell_type": "code",
   "execution_count": null,
   "metadata": {
    "tags": []
   },
   "outputs": [],
   "source": [
    "y_Cp =\n",
    "\n",
    "reg_Cp = \n",
    "\n",
    "\n",
    "\n",
    "# Cp Parameters \n",
    "# -----\n",
    "coef = float(reg_Ct.coef_)\n",
    "intercept = float(reg_Ct.intercept_)\n",
    "r2 = r2_score(Y_Ct, Ct_est)\n",
    "\n",
    "\n",
    "# Plot the data \n",
    "plt.plot(x, Y_Cp, 'o', label='Reference data')\n",
    "plt.plot(x, Cp_est, '-g', label='Data prediction')\n",
    "plt.xlabel('Pitch/Diameter  ratio')\n",
    "plt.ylabel('Cp')\n",
    "plt.title('Comparison of reference data and regression')\n",
    "plt.legend()\n",
    "plt.grid()\n",
    "plt.show()\n",
    "\n",
    "print(f\"Cp estimation model : Cp = {intercept:.2f} + {coef:.2f} * p/D with R2={r2:.3f}\")"
   ]
  },
  {
   "cell_type": "code",
   "execution_count": null,
   "metadata": {},
   "outputs": [],
   "source": []
  }
 ],
 "metadata": {
  "kernelspec": {
   "display_name": "Python 3 (ipykernel)",
   "language": "python",
   "name": "python3"
  },
  "language_info": {
   "codemirror_mode": {
    "name": "ipython",
    "version": 3
   },
   "file_extension": ".py",
   "mimetype": "text/x-python",
   "name": "python",
   "nbconvert_exporter": "python",
   "pygments_lexer": "ipython3",
   "version": "3.9.18"
  }
 },
 "nbformat": 4,
 "nbformat_minor": 4
}
