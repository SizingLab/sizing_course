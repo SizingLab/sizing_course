{
 "cells": [
  {
   "cell_type": "markdown",
   "metadata": {},
   "source": [
    "# Sizing scenarios and design drivers (student version)\n",
    "\n",
    "*Written by Marc Budinger (INSA Toulouse), Scott Delbecq (ISAE-SUPAERO) and Félix Pollet (ISAE-SUPAERO), Toulouse, France.*\n",
    "\n",
    "The preliminary sizing of UAVs aims at defining the main drone characteristics and selecting the components based on a few **sizing scenarios**. The sizing scenarios are part of the specification process and may include both transient and endurance criteria, such as maximum rate of climb and hover flight endurance. The final overall design has to consider simultaneously the various sizing scenarios that may impact the components selection through **design drivers**."
   ]
  },
  {
   "cell_type": "markdown",
   "metadata": {},
   "source": [
    "### Design drivers\n",
    "\n",
    "Design drivers are physical factors that influence the design process of a component. For example, the propeller design is driven, among others, by the maximum thrust it can provide.\n",
    "\n",
    "Table 1 summarizes the main system components. \n"
   ]
  },
  {
   "cell_type": "markdown",
   "metadata": {},
   "source": [
    "```{exercise}\n",
    ":label: design_drivers\n",
    "\n",
    "For each component, list the main design drivers to be taken into account for the design process. Complete Table 1.\n",
    "```"
   ]
  },
  {
   "cell_type": "markdown",
   "metadata": {},
   "source": [
    "### Sizing scenarios\n",
    "\n",
    "Endurance scenarios, like hover flight need to be taken into account for the selection of the battery endurance and the evaluation of the motor temperature rise. Extreme performance criteria, such as maximum transitory acceleration or maximum rate of climb are fundamental to determine the maximum rotational speed, maximum propeller torque, Electronic Speed Controller (ESC) corner power, battery voltage and power, and mechanical stress. "
   ]
  },
  {
   "cell_type": "markdown",
   "metadata": {},
   "source": [
    "```{exercise}\n",
    ":label: sizing_scenarios\n",
    "\n",
    "For each design driver, list the critical scenarios that need to be taken into account for the component selection. Complete Table 1.\n",
    "```"
   ]
  },
  {
   "cell_type": "markdown",
   "metadata": {},
   "source": [
    "**<center>Table 1: Design drivers and sizing scenarios</center>**\n",
    "\n",
    "\n",
    "| Components                  | Design drivers | Sizing scenarios |\n",
    "|-----------------------------|----------------|------------------|\n",
    "| Propeller                   | Max thrust     | Takeoff          |\n",
    "|                             |                | Climb            |\n",
    "|                             |                |                  |\n",
    "| Motor                       |                |                  |\n",
    "|                             |                |                  |\n",
    "| Electronic Speed Controller |                |                  |\n",
    "|                             |                |                  |\n",
    "| Battery                     |                |                  |\n",
    "|                             |                |                  |\n",
    "| Frame                       |                |                  |\n",
    "|                             |                |                  |\n"
   ]
  },
  {
   "cell_type": "markdown",
   "metadata": {},
   "source": [
    "# Equations of sizing scenarios\n",
    "\n",
    "The purpose of this notebook is to illustrate on an existing drone example the main equations to be taken into account during the sizing. The selected drone is the [MK-Quadro](http://wiki.mikrokopter.de/MK-Quadro) drone of Mikrokopter. The technical informations about the MK-quadro drone can be found on the website of [MikroKopter](http://wiki.mikrokopter.de/en/FlightTime) company.\n",
    "\n",
    "\n",
    "```{figure} https://raw.githubusercontent.com/SizingLab/sizing_course/main/laboratories/Lab-package_delivery_UAV/assets/images/MikroQuadro.JPG\n",
    ":name: apc_mr_prop\n",
    ":align: center\n",
    ":width: 25%\n",
    "\n",
    "APC MR (Multi-Rotor) propellers\n",
    "```\n"
   ]
  },
  {
   "cell_type": "markdown",
   "metadata": {},
   "source": [
    "### Propellers fundamental equations\n",
    "\n",
    "Propellers can be described in an ideal manner by the disk momentum theory. The [dimensional analysis]([https://web.mit.edu/16.unified/www/FALL/thermodynamics/notes/node86.html#SECTION06374000000000000000]) theory enables to describe with more details the propeller performances thanks to  aerodynamic coefficients:\n",
    "- The thrust: $T = C_{T,h} \\rho \\Omega^2 A R^2=C_{T,p} \\rho n^2 D^4$  which gives $ = k_{TD} \\Omega^2$ for a given propeller and a given diameter\n",
    "- The power: $P = C_{P,h} \\rho \\Omega^3 A R^3=C_{P,p} \\rho n^3 D^5 $ which gives the power $P=k_{PD}\\Omega^3$ or the torque $M = k_{PD} \\Omega^2$ for a given propeller and a given diameter\n",
    "\n",
    "```{note}\n",
    "Be carefull, litterature shows 2 notations :\n",
    "* the propeller notation with n the propeller speed in [rev/s], D the diameter in [m], $\\rho$  the air density in [$kg/m^3$]\n",
    "* the helicopter notation with $\\Omega$ the propeller speed in [rad/s], R the radius in [m], $A$ the disk area in [$m^2$], $\\rho$  the air density in [$kg/m^3$]\n",
    "\n",
    "```\n",
    "\n",
    "```{exercise}\n",
    ":label: sizing_scenarios_equations\n",
    "\n",
    "Compare the caracteristics of the following [APC propellers](https://www.apcprop.com/files/PER3_10x45MR.dat) to those of the MikroKopter MK-Quadro ([GWS](https://gwsus.com/english/dealer/dealer_gwsusa.htm))\n",
    "```\n",
    "\n",
    "Characteristics  | APC Propeller | GWS Propeller\n",
    "-- | -- | --\n",
    "Diameter [inch] | 10 | 10 \n",
    "Pitch [inch] | 4.5 | 4.5 \n",
    "Thrust coef $C_t$ [-] | 0.1125 | \n",
    "Power coef $C_p$ [-]  | 0.0441 | \n",
    "Thrust coef $k_{TD}$ [$\\frac{N}{(rad/s)^2}$] | | $1.799.10^{-5}$\n",
    "Torque coefficient $k_{PD}$ [$\\frac{N}{(rad/s)^2}$] | | $3.054.10^{-7}$\n",
    "\n",
    "with: $1$ $inch = 0.0254$ $m$, $\\rho=1.18$ $kg/m^3$ \n"
   ]
  },
  {
   "cell_type": "code",
   "execution_count": 1,
   "metadata": {},
   "outputs": [],
   "source": [
    "D = 10 * 0.0254  # [m] Propeller diameter\n",
    "rho = 1.18  # [kg/m^3] Air mass volumic (25°C)\n",
    "\n",
    "# APC coefficients\n",
    "# Ct=T/(rho * n**2 * D**4) (thrust coef.)\n",
    "Ct = 0.1125  # [-] Thrust coefficient, propeller notation\n",
    "# Cp=P/(rho * n**3 * D**5) (power coef.)\n",
    "Cp = 0.0441  # [-] Power coefficient, propeller notation"
   ]
  },
  {
   "cell_type": "markdown",
   "metadata": {},
   "source": [
    "### Hover flight scenario\n",
    "\n",
    "The flight conditions in static hover are no forward speed, no vertical speed. This scenario influences in a very important way the autonomy of the vehicle. The thrust generated by propellers have to compensate the global weight of the drone and the load.\n",
    "\n",
    "```{figure} https://upload.wikimedia.org/wikipedia/commons/thumb/5/56/Actuator_disk.svg/1024px-Actuator_disk.svg.png\n",
    ":alt: Disk Momentum Theory.\n",
    ":name: fig-disk_momentum\n",
    ":width: 30%\n",
    "\n",
    "An actuator disk accelerating a fluid flow from right to left (Source: [Wikipedia](https://en.wikipedia.org/wiki/Momentum_theory)).\n",
    "```\n",
    "\n",
    "\n",
    "```{exercise}\n",
    ":label: sizing_scenarios_propeller_thrust\n",
    "\n",
    "With the given technical informations, calculate the requested thrust for each propeller for a no load hover flight.\n",
    "```\n",
    "\n",
    "\n",
    "Characteristics  | MK-MikroKopter drone\n",
    "-- | -- \n",
    "Total mass ready to take off |  1350 g\n",
    "Number of propellers | 4"
   ]
  },
  {
   "cell_type": "code",
   "execution_count": 2,
   "metadata": {},
   "outputs": [],
   "source": [
    "# Hover scenario\n",
    "# ------------\n",
    "M_total = 1.35  # [kg] mass of the drone\n",
    "\n",
    "N_pro = 4  # [-] propeller number\n",
    "D_pro = 2.54e-2 * 10  # [m] propeller diameter\n",
    "\n",
    "# to be completed"
   ]
  },
  {
   "cell_type": "markdown",
   "metadata": {},
   "source": [
    "```{exercise}\n",
    ":label: sizing_scenarios_propeller_power\n",
    "\n",
    "With the given technical informations of GWS propellers calculate the propeller torque, speed and the mechanical power.\n",
    "```"
   ]
  },
  {
   "cell_type": "code",
   "execution_count": 4,
   "metadata": {},
   "outputs": [
    {
     "name": "stdout",
     "output_type": "stream",
     "text": [
      "----------------\n"
     ]
    },
    {
     "ename": "NameError",
     "evalue": "name 'W' is not defined",
     "output_type": "error",
     "traceback": [
      "\u001b[1;31m---------------------------------------------------------------------------\u001b[0m",
      "\u001b[1;31mNameError\u001b[0m                                 Traceback (most recent call last)",
      "\u001b[1;32m~\\AppData\\Local\\Temp\\ipykernel_31412\\752425700.py\u001b[0m in \u001b[0;36m<module>\u001b[1;34m\u001b[0m\n\u001b[0;32m     17\u001b[0m \u001b[1;33m\u001b[0m\u001b[0m\n\u001b[0;32m     18\u001b[0m \u001b[0mprint\u001b[0m\u001b[1;33m(\u001b[0m\u001b[1;34m\"----------------\"\u001b[0m\u001b[1;33m)\u001b[0m\u001b[1;33m\u001b[0m\u001b[1;33m\u001b[0m\u001b[0m\n\u001b[1;32m---> 19\u001b[1;33m \u001b[0mprint\u001b[0m\u001b[1;33m(\u001b[0m\u001b[1;34m\"Propeller speed: %.2f rad/s or %.0f RPM\"\u001b[0m\u001b[1;33m%\u001b[0m\u001b[1;33m(\u001b[0m\u001b[0mW\u001b[0m\u001b[1;33m,\u001b[0m\u001b[0mW\u001b[0m\u001b[1;33m/\u001b[0m\u001b[1;36m2\u001b[0m\u001b[1;33m/\u001b[0m\u001b[1;36m3.14\u001b[0m\u001b[1;33m*\u001b[0m\u001b[1;36m60\u001b[0m\u001b[1;33m)\u001b[0m\u001b[1;33m)\u001b[0m\u001b[1;33m\u001b[0m\u001b[1;33m\u001b[0m\u001b[0m\n\u001b[0m\u001b[0;32m     20\u001b[0m \u001b[0mprint\u001b[0m\u001b[1;33m(\u001b[0m\u001b[1;34m\"Propeller torque: %.2f N.m \"\u001b[0m\u001b[1;33m%\u001b[0m\u001b[1;33m(\u001b[0m\u001b[0mM\u001b[0m\u001b[1;33m)\u001b[0m\u001b[1;33m)\u001b[0m\u001b[1;33m\u001b[0m\u001b[1;33m\u001b[0m\u001b[0m\n\u001b[0;32m     21\u001b[0m \u001b[0mprint\u001b[0m\u001b[1;33m(\u001b[0m\u001b[1;34m\"Propeller power: %.2f W \"\u001b[0m\u001b[1;33m%\u001b[0m\u001b[1;33m(\u001b[0m\u001b[0mM\u001b[0m\u001b[1;33m*\u001b[0m\u001b[0mW\u001b[0m\u001b[1;33m)\u001b[0m\u001b[1;33m)\u001b[0m\u001b[1;33m\u001b[0m\u001b[1;33m\u001b[0m\u001b[0m\n",
      "\u001b[1;31mNameError\u001b[0m: name 'W' is not defined"
     ]
    }
   ],
   "source": [
    "# Propeller characteristics\n",
    "# -----------------------------\n",
    "\n",
    "K_TD = 1.799e-5  # [N/(rad/s)^2] thrust coef\n",
    "K_PD = 3.054e-7  # [N.m/(rad/s)^3] torque coef\n",
    "\n",
    "# to be compared to the ones calculated with regression\n",
    "# GWS 10*4.5\n",
    "\n",
    "D_pro = 10 * 0.0254  # [m] diameter\n",
    "\n",
    "# Torque and RPM of motors\n",
    "# -----------------------\n",
    "\n",
    "# to be completed\n",
    "#\n",
    "\n",
    "print(\"----------------\")\n",
    "print(\"Propeller speed: %.2f rad/s or %.0f RPM\" % (W, W / 2 / 3.14 * 60))\n",
    "print(\"Propeller torque: %.2f N.m \" % (M))\n",
    "print(\"Propeller power: %.2f W \" % (M * W))"
   ]
  },
  {
   "cell_type": "markdown",
   "metadata": {},
   "source": [
    "> Questions: \n",
    "\n",
    "```{exercise}\n",
    ":label: sizing_scenarios_autonomy\n",
    "\n",
    "With the following technical informations calculate the motor voltage and current, the autonomy of the drone if we assume an efficiency of 95% for electronic speed controllers (ESC) and a depth of discharge of 80% for the battery.\n",
    "```\n",
    "\n",
    "Component |Characteristic | Value\n",
    "--- | --- | --- \n",
    "Motor | Poles pair number| 7  \n",
    "| Load current | 6‐9A (DC)  \n",
    "| Max current | 10A (DC)  \n",
    "| Speed constant Kv | 760 tr/min/V  \n",
    "| Mechanical power | 110 W  \n",
    "| Dimensions | 28.8 x 29 mm  \n",
    "| Max efficiency | 76 %  \n",
    "| mass | 65 g  \n",
    "| Resistance | R = 0.26 ohm  \n",
    "| Inertia | J= 2.5e-5 kg.m²  \n",
    "Battery| Voltage | LIPO 4S (4*3.7V)\n",
    "| Capacity | 3300mAh\n",
    "| mass | 329g\n"
   ]
  },
  {
   "cell_type": "code",
   "execution_count": null,
   "metadata": {},
   "outputs": [],
   "source": [
    "# Voltage / current calculation\n",
    "# -----------------------------\n",
    "\n",
    "K_T_mot = (1 / 760) * 60 / 2 / 3.14  # [V/(rad/s)] Motor torque coef\n",
    "R_mot = 0.26  # [Ohm] Motor resistance\n",
    "\n",
    "# Voltage / current calculation\n",
    "\n",
    "# to be completed\n",
    "\n",
    "print(\"----------------\")\n",
    "print(\"Motor current: %.2f A \" % I)\n",
    "print(\"Motor voltage: %.2f V \" % U)\n",
    "\n",
    "# Autonomy of the battery\n",
    "\n",
    "# to be completed\n",
    "\n",
    "print(\"----------------\")\n",
    "print(\"Battery current: %.2f A \" % I_bat)\n",
    "print(\"Battery voltage: %.2f V \" % V_bat)\n",
    "print(\"Autonomy of the battery : %.1f min\" % Aut_bat)"
   ]
  }
 ],
 "metadata": {
  "kernelspec": {
   "display_name": "Python 3 (ipykernel)",
   "language": "python",
   "name": "python3"
  },
  "language_info": {
   "codemirror_mode": {
    "name": "ipython",
    "version": 3
   },
   "file_extension": ".py",
   "mimetype": "text/x-python",
   "name": "python",
   "nbconvert_exporter": "python",
   "pygments_lexer": "ipython3",
   "version": "3.9.18"
  }
 },
 "nbformat": 4,
 "nbformat_minor": 4
}
