{
 "cells": [
  {
   "cell_type": "markdown",
   "id": "e7866f53",
   "metadata": {},
   "source": [
    "flowchart TD\n",
    "    A[Functional Unit] ---|N x t x 0.055/3600\n",
    "    kWh| B[Energy losses]\n",
    "    B ---|N x t x 0.055/3600\n",
    "    kWh| C[Energy mix production]\n",
    "    A ---|1 unit| D[Inductor]\n",
    "    D ---|2.88 kg| E[Core mass]\n",
    "    D ---|0.72 kg| F[Coil mass]\n",
    "    E ---|2.88 kg| G[Ferrite pots]\n",
    "    F ---|0.72 kg| H[Copper]\n",
    "    style C fill:lightgrey\n",
    "    style G fill:lightgrey\n",
    "    style H fill:lightgrey"
   ]
  }
 ],
 "metadata": {
  "kernelspec": {
   "display_name": "Python 3 (ipykernel)",
   "language": "python",
   "name": "python3"
  },
  "language_info": {
   "codemirror_mode": {
    "name": "ipython",
    "version": 3
   },
   "file_extension": ".py",
   "mimetype": "text/x-python",
   "name": "python",
   "nbconvert_exporter": "python",
   "pygments_lexer": "ipython3",
   "version": "3.10.13"
  }
 },
 "nbformat": 4,
 "nbformat_minor": 5
}
