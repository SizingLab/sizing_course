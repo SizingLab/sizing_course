{
 "cells": [
  {
   "cell_type": "markdown",
   "metadata": {},
   "source": [
    "# Case study presentation\n",
    "\n",
    "*Written by Marc Budinger, INSA Toulouse, France*\n",
    "\n",
    "Before sizing a system, it is important to define all the constraints that could have an influence on the design. It is therefore advisable to list meticulously:\n",
    "- the power components to size in the architecture \n",
    "- criteria and parameters useful for the selection of components \n",
    "- system usage scenarios that can a effect the selection of components\n",
    "This is the target of this notebook."
   ]
  },
  {
   "cell_type": "markdown",
   "metadata": {},
   "source": [
    "### The \"Watt System\"\n",
    "\n",
    "The [WATT system](http://www.pvi.fr/wattsystem-watt-system,172.html) includes:\n",
    "- In the bus : a battery pack and a ultra capcitors pack associated with an electric power train, a connection system, an automatic arm installed on the roof of the vehicle\n",
    "\n",
    "- On the sidewalk: a charging station or \"totem\" with the connection, as well as a pack of super capacitors, all integrated in the urban landscape.\n",
    "\n",
    "Each totem (or charging station) is connected to the household electricity distribution network and allows charging between the passage of each bus. There is no need for specific equipment (substation, transformer).\n",
    "In operation the bus is powered by supercapacitors, it travels the necessary distance to the next stop, thanks to the energy stored.\n",
    "At each stop, the arm deploys and realizes in 10 seconds the transfer of energy between the super capacitors of the totem and the super capacitors onboard the bus.\n",
    "An adapted Lithium-ion battery pack is installed in the bus for cases of impossibility of connection and trips without passengers.\n",
    "\n",
    "*System Watt*\n",
    "![WattSystem](./assets/images/SystemWatt.png)\n"
   ]
  },
  {
   "cell_type": "markdown",
   "metadata": {},
   "source": [
    "\n",
    "### Ultracapacitors modules \n",
    "\n",
    "The major innovation of WATT System is the boost charge of the vehicle which consists in carrying out a transfer of energy from the stopping post (Totem) to the vehicle during the time of exchange of passengers. WATT System makes it possible to overcome the limits imposed by battery electric vehicles in terms of autonomy and passenger capacity, while minimizing urban infrastructure and energy needs.\n",
    "\n",
    "*Boost charge with Ultra-Capacitors*  \n",
    "![BoosteCharge](https://raw.githubusercontent.com/SizingLab/sizing_course/main/class/Lab-watt_project/assets/images/BoostCharge.png)\n",
    "\n",
    "*Totem*  \n",
    "![Totem](https://raw.githubusercontent.com/SizingLab/sizing_course/main/class/Lab-watt_project/assets/images/Totem.png)\n",
    "\n"
   ]
  },
  {
   "cell_type": "markdown",
   "metadata": {},
   "source": [
    "### DC/DC converters\n",
    "\n",
    "The following two diagrams describe an example of possible converters and control loops for the system Watt. \n",
    "\n",
    "*Possible power converters for the Watt system*  \n",
    "![ConvertersBusTotem](https://raw.githubusercontent.com/SizingLab/sizing_course/main/class/Lab-watt_project/assets/images/ConvertersBusTotem.png)\n",
    "\n",
    "*Possible control loops for ultracapacitors*\n",
    "![Control](https://raw.githubusercontent.com/SizingLab/sizing_course/main/class/Lab-watt_project/assets/images/ControlCurrentVoltage.png)\n"
   ]
  },
  {
   "cell_type": "markdown",
   "metadata": {},
   "source": [
    "### Questions\n",
    "\n",
    "Using the following [FAQ about ultracapacitors](http://www.maxwell.com/images/documents/2014_maxwell_faqs.pdf) and your knowledge on power electronics converters, answer the following questions:\n",
    "1. What is the interest of the Watt system compared to battery energy storage ?  \n",
    "2. What is the main constraint of the Watt system compared to battery storage ?  \n",
    "3. What are the converters in the totem and what are their functions ?  \n",
    "4. What is the nature of the converter (B) ?  \n",
    "5. What is the nature of the converter (D) ?  \n",
    "6. What are the inductors function used for converters (B) and (C) ?  \n",
    "7. Explain the operation of the control loops during starting and braking of the bus.  \n",
    "\n",
    "\n",
    "\n",
    "\n"
   ]
  }
 ],
 "metadata": {
  "kernelspec": {
   "display_name": "Python 3 (ipykernel)",
   "language": "python",
   "name": "python3"
  },
  "language_info": {
   "codemirror_mode": {
    "name": "ipython",
    "version": 3
   },
   "file_extension": ".py",
   "mimetype": "text/x-python",
   "name": "python",
   "nbconvert_exporter": "python",
   "pygments_lexer": "ipython3",
   "version": "3.8.13"
  }
 },
 "nbformat": 4,
 "nbformat_minor": 4
}
