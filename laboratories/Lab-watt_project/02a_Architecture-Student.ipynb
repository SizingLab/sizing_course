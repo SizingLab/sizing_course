{
 "cells": [
  {
   "cell_type": "markdown",
   "metadata": {},
   "source": [
    "# Architecture of the converter and sizing scenarios [Student version]\n",
    "\n",
    "*Written by Marc Budinger, INSA Toulouse, France*\n",
    "\n",
    "Before sizing a system, it is important to define all the constraints that could have an influence on the design. \n",
    "\n",
    "It is therefore advisable to list meticulously:\n",
    "- the power components to size in the architecture;\n",
    "- criteria and parameters useful for the selection of components;\n",
    "- system use case scenarios that can \"activate\" these sizing criteria."
   ]
  },
  {
   "cell_type": "markdown",
   "metadata": {},
   "source": [
    "## Watt System\n",
    "\n",
    "The [WATT system](http://www.pvi.fr/wattsystem-watt-system,172.html) includes:\n",
    "- In the bus: a battery pack and an ultra capacitors pack integrated to the electric power train, a connection system with an automatic arm installed on the roof of the vehicle;\n",
    "- On the sidewalk: a charging station or \"totem\" with the connection, as well as a pack of super capacitors, all integrated in the urban landscape.\n",
    "\n",
    "Each totem (or charging station) is connected to the household electricity distribution network and allows charging between the stop of each bus. \n",
    "\n",
    "In operation the bus is powered by supercapacitors, it travels the necessary distance to the next stop, thanks to the energy stored.\n",
    "At each stop, the arm deploys and realizes in 10 seconds the transfer of energy between the super capacitors of the totem and the onboard super capacitors.\n",
    "An adapted Lithium-ion battery pack is installed in the bus in case of a connection or recharge problem and trips without passengers to return to the central station (maintenance).\n",
    "\n",
    "*Ultracapacitor Pack and Totem*\n",
    "![PositionPacks](https://raw.githubusercontent.com/SizingLab/sizing_course/main/laboratories/Lab-watt_project/assets/images/PositionPacks.png)\n"
   ]
  },
  {
   "cell_type": "markdown",
   "metadata": {},
   "source": [
    "## Ultracapacitors modules selection\n",
    "\n",
    "In order to estimate the dimensions of the ultracapacities pack, we will be interested in the energy to be supplied to the motorization of the bus on a typical path:\n",
    "- top speed $v_{max}$ = 30 km/h\n",
    "- distance between 2 totems $d$ = 800 m\n",
    "- maximum height difference $h$ = 3 m\n",
    "\n",
    "The bus has the following characteristics:\n",
    "- mass with passengers $m$ = 20 t\n",
    "- [Rolling coefficient](http://en.wikipedia.org/wiki/Rolling_resistance) tires $C_{rr}$= 0.01\n",
    "\n",
    "Aerodynamic effect are assume here to be negligeable due to low speed.\n",
    "\n",
    " > Exercice 1: Complete this notebook with the general equation enabling to calculate the maximum energy to supply (to be stored). Use for that markdown ([here](https://www.markdowntutorial.com/) a markdown tutorial and [here](https://guides.github.com/features/mastering-markdown/) a quick introduction) and Latex notation (between \"$\")."
   ]
  },
  {
   "cell_type": "markdown",
   "metadata": {},
   "source": []
  },
  {
   "cell_type": "markdown",
   "metadata": {},
   "source": [
    "> Exercice 2: Apply previous equation with considered simplification (aerodynamics neglected) for defined use case scenario."
   ]
  },
  {
   "cell_type": "code",
   "execution_count": 1,
   "metadata": {},
   "outputs": [],
   "source": [
    "# Parameters\n",
    "v_max=30*1000/3600 # [m/s] max speed\n",
    "m=20e3 # [kg] bus mass\n",
    "d=800. # [m] distance\n",
    "h=3. # [m] rise height\n",
    "C_rr= 0.01 # [-] tyre rolling coef\n",
    "g=9.81 # [m/s²] gravity acceleration\n",
    "\n",
    "# Energies & works calculations\n",
    "# TO BE COMPLETED\n"
   ]
  },
  {
   "cell_type": "markdown",
   "metadata": {},
   "source": [
    "We will take as ultra-capacitor reference  the following [module](http://www.maxwell.com/products/ultracapacitors/125v-tran-modules) from [Maxwell Technologies](http://www.maxwell.com). \n",
    "\n",
    "*Maxwell module characteristics*\n",
    "![MaxwellModule](https://raw.githubusercontent.com/SizingLab/sizing_course/main/laboratories/Lab-watt_project/assets/images/MaxwellModule.png)\n",
    "\n",
    "> Exercice 3: We will assume that maximum discharge is reached when capacitor voltage reaches half its naximum voltage. Explain and calculate the minimum number of modules."
   ]
  },
  {
   "cell_type": "code",
   "execution_count": null,
   "metadata": {},
   "outputs": [],
   "source": [
    "import math\n",
    "\n",
    "# Maxwell module characteristics\n",
    "V_max=125. # [V] Max voltage\n",
    "C=63. # [F] Module capacitance\n",
    "\n",
    "# Modules number calculation\n",
    "V_min=V_max/2\n"
   ]
  },
  {
   "cell_type": "markdown",
   "metadata": {},
   "source": [
    "## DC/DC converter architecture\n",
    "\n",
    "We assume that each ultracapacity module will be connected to the main DC grid of the bus by a dedicated DC/DC converter. This converter will manage the charge and discharge of the module and adapt voltage between ultracapacitor and DC grid. \n",
    "\n",
    "Once the energy source (ultracapacitor here) is choosen, the remaining work concerns the sizing of the DC/DC converter. It will be the common thread for the final part of our study including ACV since sizing will be conducted on environmental objectives.\n",
    "Therefore let us present first the Product Breakdown Structure of the Watt system DC/DC converter. \n",
    "\n",
    "Remark: following diagrams have been developed with the [Mermaid live editor](https://mermaid.live).\n",
    "\n",
    "![WBS](https://raw.githubusercontent.com/SizingLab/sizing_course/main/laboratories/Lab-watt_project/assets/images/Mermaid_WBS.svg)"
   ]
  },
  {
   "cell_type": "markdown",
   "metadata": {},
   "source": [
    "The following figure illustrates the main components of this converter:\n",
    "![DCDCconverter_components](https://raw.githubusercontent.com/SizingLab/sizing_course/main/laboratories/Lab-watt_project/assets/images/DCDCconverter_components.png)\n",
    "\n",
    "The following figure illustrates the equivalent electric diagram:\n",
    "![DCDCconverter_diagram](https://raw.githubusercontent.com/SizingLab/sizing_course/main/laboratories/Lab-watt_project/assets/images/DCDCconverter_diagram.png)\n",
    "\n",
    "The inductor enables to limit the current ripple in the load (here the ultracapcitor). The capacitor enables to limite the ripple voltage on the DC grid. "
   ]
  },
  {
   "cell_type": "markdown",
   "metadata": {},
   "source": [
    "## Design drivers\n",
    "\n",
    "We are going to determine here the possible reasons of the degradation in system’s components. These degration can be:\n",
    "- Fast and come from transient power demands (such as permanent deformation, rupture for mechanical components);\n",
    "- Gradual and come from continuous power demands which often reduce the component’s/system’s lifetime (such as mechanical fatigue/wear for mechanical components).\n",
    "\n",
    "The component can also have imperfections which can increase the mechanical stresses on itself or other components.\n",
    "For example, the inertia of an electrical motor increases the torque this same motor has to deliver or can destroy mechanical component when a sudden jam in the transmission line occurs.\n",
    "\n",
    "We will list in following graph the possible sources of degradation of the DC/DC converter components.\n",
    "\n",
    "![DesignDrivers](https://raw.githubusercontent.com/SizingLab/sizing_course/main/laboratories/Lab-watt_project/assets/images/Mermaid_DesignDrivers.svg)\n",
    "\n",
    "> Exercice 4: Imagine and propose some sizing scenarios (use cases) that may lead to those degradation phenomena."
   ]
  }
 ],
 "metadata": {
  "kernelspec": {
   "display_name": "Python 3 (ipykernel)",
   "language": "python",
   "name": "python3"
  },
  "language_info": {
   "codemirror_mode": {
    "name": "ipython",
    "version": 3
   },
   "file_extension": ".py",
   "mimetype": "text/x-python",
   "name": "python",
   "nbconvert_exporter": "python",
   "pygments_lexer": "ipython3",
   "version": "3.12.7"
  }
 },
 "nbformat": 4,
 "nbformat_minor": 4
}
