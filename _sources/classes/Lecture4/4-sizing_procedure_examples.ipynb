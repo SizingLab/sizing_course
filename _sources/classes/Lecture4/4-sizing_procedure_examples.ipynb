{
 "cells": [
  {
   "cell_type": "markdown",
   "id": "f54c6367-665f-4925-be1a-3ff7b8287b6f",
   "metadata": {
    "user_expressions": []
   },
   "source": [
    "# Design graph and optimization with python\n",
    "\n",
    "*Written by Marc Budinger (INSA Toulouse), Toulouse, France*\n",
    "\n",
    "This notebook continues the example started [earlier](./2-optimization_examples.ipynb). It aims to show how a design graph can be used to structure the optimisation problem.\n",
    "\n",
    "For interested readers, more information can be found in :\n",
    "> Delbecq, S., Budinger, M., Ochotorena, A., Reysset, A., & Defaÿ, F. (2020). Efficient sizing and optimization of multirotor drones based on scaling laws and similarity models. Aerospace Science and Technology, 102, 105873."
   ]
  },
  {
   "cell_type": "markdown",
   "id": "b1ea395a",
   "metadata": {},
   "source": [
    "### Objectives and specifications\n",
    "\n",
    "We want to optimize the selection of a TVC motor/reducer set: dynamics are high and motor inertia effect is not negligeable. \n",
    "\n",
    "![EMA](./assets/images/TVC_EMA.png)\n",
    "\n",
    "The sizing scenario is a sinusoïdal displacement with a constant force and an inertia effect: \n",
    "\n",
    "| Specification |  |\n",
    "|---|---|\n",
    "| static force | 40 kN |  \n",
    "| Inertia | 800 kgg |\n",
    "|Displacement magnitude | 10 mm |\n",
    "| Frequency | 5 Hz |\n",
    "\n"
   ]
  },
  {
   "cell_type": "markdown",
   "id": "614c9171-6c53-4040-9d43-bc10ed7da370",
   "metadata": {
    "user_expressions": []
   },
   "source": [
    "We first define the specifications and assumptions for the sizing:"
   ]
  },
  {
   "cell_type": "code",
   "execution_count": 4,
   "id": "7d14440c-22ac-4f09-b325-4a98c2965e12",
   "metadata": {
    "slideshow": {
     "slide_type": "slide"
    }
   },
   "outputs": [],
   "source": [
    "from math import pi\n",
    "\n",
    "# Specifications\n",
    "Xmax = 10e-3  # [m]\n",
    "f = 5  # [Hz]\n",
    "w = 2*pi*5 # [rad/s] angular frequency\n",
    "\n",
    "Xpmax = w*Xmax  # [m/s] max linear speed\n",
    "Xppmax = w**2*Xmax  # [m/s²] max linear acceleration\n",
    "\n",
    "M = 800 # [kg] Equivalent mass inertia of the nozzle\n",
    "Fstat = 40e3 # [N] static force"
   ]
  },
  {
   "cell_type": "markdown",
   "id": "84bec038",
   "metadata": {},
   "source": [
    "A reference example of motor is:\n",
    "\n",
    "| Characteristics |  |\n",
    "|---|---|\n",
    "| Nom. torque | 3.14 N.m| \n",
    "| Max. torque | 13.4\tN.m\t |  \n",
    "| Max. speed | 7200\trpm |\n",
    "| Inertia  | 2.90E-04\tkg.m² |\n",
    "| Mass | 3.8 \tkg |\n",
    "\n",
    "We assume here that :\n",
    "- the pitch $p$ of the roller screw is 10 mm/rev.\n",
    "- The efficiency of mechanical power transmission is 100%.\n",
    "\n",
    "The objective is to select the reduction ratio of the gear reducer in order to minimize the mass of the motor."
   ]
  },
  {
   "cell_type": "markdown",
   "id": "cfdc9b3a-474a-4661-b555-0d3c7e66b52e",
   "metadata": {
    "user_expressions": []
   },
   "source": [
    "We then define the main characteristics of components and the reference parameters for the scaling laws:"
   ]
  },
  {
   "cell_type": "code",
   "execution_count": 5,
   "id": "944dd9e3-afac-4b23-ae25-c4c584d9b28f",
   "metadata": {},
   "outputs": [],
   "source": [
    "# Assumptions\n",
    "pitch = 10e-3 / 2 / 3.14  # [m/rad]\n",
    "nu_screw = 1  # [-]\n",
    "\n",
    "# Reference motor\n",
    "T_mot_nom_ref = 3.14 # [N.m] Max torque\n",
    "T_mot_max_ref = 13.4  # [N.m] Rated torque\n",
    "W_mot_max_ref = 754  # [rad/s] max speed\n",
    "J_mot_ref = 2.9e-4 / 2  # [kg.m²] Inertie \n",
    "M_mot_ref = 3.8  # [kg] Mass\n"
   ]
  },
  {
   "cell_type": "markdown",
   "id": "44f5b506-98b5-4ef9-a96a-79ba7379db28",
   "metadata": {
    "slideshow": {
     "slide_type": "slide"
    },
    "user_expressions": []
   },
   "source": [
    "## Design graph\n",
    "\n",
    "The objective is to select the motor and the reduction ratio of a gear reducer in order to minimize the mass of the motor. \n"
   ]
  },
  {
   "cell_type": "markdown",
   "id": "7a519e12",
   "metadata": {},
   "source": [
    "```{exercise}\n",
    ":label: DesignGraph\n",
    "\n",
    "- Draw the design graph and highlight the main problems.\n",
    "- Propose a solution which reduce the complexity of the optimization problem compared to [previous solution](./2-optimization_examples.ipynb). \n",
    "- Define optimization variables and the set of constraints\n",
    "```"
   ]
  },
  {
   "cell_type": "markdown",
   "id": "238120f3",
   "metadata": {},
   "source": [
    "```{solution} DesignGraph\n",
    ":label: DesignGraphSolution\n",
    ":class: dropdown\n",
    "       \n",
    "The design graph of this sizing problem is:\n",
    "![Algebraic Loop](./assets/images/AlgebraicLoop.png)\n",
    "with  \n",
    "- equation `1` the sizing scenario linking force and acceleration of the load to the maximal electromagnetic torque of the motor.\n",
    "- equations `2` and `3` scaling laws which enable to estimate inertia and mass of the motor.  \n",
    "\n",
    "The main problem is the existance of an algebraic loop. Here the choice of a motor, based on its max torque depends on its own inertia, which means we have to know what motor to chose before choosing it.  \n",
    "This  algebraic loop can be broken by admitting that the inertia torque is meaningless to evaluate the max torque, which allows us to choose a motor.  \n",
    "The global torque with inertia can subsequently be evaluated and compared to the torque of the motor we selected. To respect this last constraint, we add an oversizing constraint to the first sizing process, the solver  will chose by itself the value of this coefficient, which is at least 1 (in  the case of negligible inertia effects).         \n",
    "        \n",
    "```"
   ]
  },
  {
   "cell_type": "markdown",
   "id": "13311e2a-6e19-44da-8755-d1f0fcd585ac",
   "metadata": {
    "slideshow": {
     "slide_type": "slide"
    },
    "user_expressions": []
   },
   "source": [
    "## Sizing code"
   ]
  },
  {
   "cell_type": "markdown",
   "id": "1924e30d-eeeb-4b75-bd4b-b1c65d95d8a9",
   "metadata": {
    "slideshow": {
     "slide_type": "slide"
    },
    "user_expressions": []
   },
   "source": [
    "The sizing code is defined here in a function which can give an evaluation of the objective and of the constraints function of design variables."
   ]
  },
  {
   "cell_type": "code",
   "execution_count": 23,
   "id": "66eeb619-12b8-4e1c-93b1-c35642488106",
   "metadata": {
    "slideshow": {
     "slide_type": "slide"
    }
   },
   "outputs": [],
   "source": [
    "def sizing_code(param, arg=\"print\"):\n",
    "    #  Design variables\n",
    "    N = param[0]  # Reduction ratio of the reducer\n",
    "    k_mot = param[1]  # oversizing coefficient\n",
    "\n",
    "    # --------------------------------------\n",
    "    # Load force\n",
    "    max_load = Fstat + M*Xppmax   # [N]\n",
    "    \n",
    "    # Torque approximation\n",
    "    # --------------------------------------\n",
    "    T_mot_max = k_mot * max_load / N * pitch # [N.m] \n",
    "    \n",
    "    # --------------------------------------\n",
    "    # Parameter estimation with scaling laws\n",
    "    \n",
    "    T_mot = T_mot_max/T_mot_max_ref*T_mot_max_ref\n",
    "    \n",
    "    # Motor\n",
    "    M_mot = M_mot_ref * (T_mot / T_mot_nom_ref) ** (3 / 3.5)\n",
    "    J_mot = J_mot_ref * (T_mot / T_mot_nom_ref) ** (5 / 3.5)\n",
    "    W_mot = W_mot_max_ref * (T_mot / T_mot_nom_ref) ** (-1 / 3.5)\n",
    "\n",
    "    \n",
    "    \n",
    "    # --------------------------------------\n",
    "    # Motor torque calculation with motor inertia\n",
    "    T_mot_scenario = (\n",
    "        max_load * pitch / N / nu_screw\n",
    "        + J_mot * Xppmax *  N / pitch    ) # [N.m] max electromagnetic torque\n",
    "    \n",
    "    # --------------------------------------\n",
    "    # Objectives and constrants calculations\n",
    "\n",
    "    # Objective = motor mass\n",
    "    objective = M_mot\n",
    "\n",
    "    # Constraints (should be >=0)\n",
    "    C1 = W_mot - N * Xpmax / pitch  # speed margin\n",
    "    C2 = T_mot_max - T_mot_scenario  # Torque margin \n",
    "    \n",
    "    # --------------------------------------\n",
    "    # Objective and constraints\n",
    "    if arg == \"objective\":\n",
    "        return objective / 100\n",
    "    if arg == \"objectiveP\":\n",
    "        if ((C1 < 0.0) | (C2 < 0.0)):\n",
    "            # If constraints are not respected we penalize\n",
    "            # the objective for contraint less algorithms\n",
    "            return objective * 1e5\n",
    "        else:\n",
    "            return objective / 100\n",
    "    elif arg == \"print\":\n",
    "        print(\"Objective:\")\n",
    "        print(\"     Motor mass = %.2f kg\" % M_mot)\n",
    "        print(\"Design variables:\")\n",
    "        print(\"     reduction_ratio =  %.2f\" % N)\n",
    "        print(\"     Rated Motor torque  =  %.2f N.m\" % T_mot)\n",
    "        print(\"Performances:\")\n",
    "        print(\"     Max load = %.0f N\" % max_load)\n",
    "        print(\"Components characteristics:\")\n",
    "        print(\"     Motor mass = %.2f kg\" % M_mot)\n",
    "        print(\"     Motor max torque = %.2f N.m\" % T_mot_max)\n",
    "        print(\"Constraints (should be >= 0):\")\n",
    "        print(\"     Speed margin: W_mot-reduction_ratio*max_speed/pitch= %.3f\" % C1)\n",
    "        print(\"     Torque margin:  T_mot_max - T_mot_scenario= %.3f \" % C2)\n",
    "        \n",
    "    elif arg == \"constraints\":\n",
    "        return [C1, C2]\n",
    "    else:\n",
    "        raise TypeError(\n",
    "            \"Unknown argument for sizing_code: use 'print', 'objective', 'objectiveP' or 'contraints'\"\n",
    "        )"
   ]
  },
  {
   "cell_type": "markdown",
   "id": "07e596a0-c2f3-4c68-a058-aaced1f80d97",
   "metadata": {
    "slideshow": {
     "slide_type": "slide"
    },
    "user_expressions": []
   },
   "source": [
    "## Optimization with SLSQP algorithm\n"
   ]
  },
  {
   "cell_type": "markdown",
   "id": "83f56526-e939-469e-b486-884745001fd3",
   "metadata": {
    "user_expressions": []
   },
   "source": [
    "We will now use the [opmization algorithms](https://docs.scipy.org/doc/scipy/reference/optimize.html) of the Scipy package to solve and optimize the configuration. We will first use the [SLSQP](https://docs.scipy.org/doc/scipy/reference/optimize.minimize-slsqp.html) algorithm without explicit expression of the gradient (Jacobian). "
   ]
  },
  {
   "cell_type": "markdown",
   "id": "42755f5c-9860-4fdb-ab80-73db8571de48",
   "metadata": {
    "user_expressions": []
   },
   "source": [
    "The first step is to give an initial value of optimisation variables:"
   ]
  },
  {
   "cell_type": "code",
   "execution_count": 24,
   "id": "6cb06c67-d052-4834-8add-1700e5a06dec",
   "metadata": {},
   "outputs": [],
   "source": [
    "import numpy as np\n",
    "\n",
    "# Optimization variables\n",
    "# Reduction ratio\n",
    "reduction_ratio_init = 5  # [-]\n",
    "reduction_ratio_min = 0.1  # [-]\n",
    "reduction_ratio_max = 10  # [-]\n",
    "\n",
    "# Oversizing coefficient for multidisciplinary coupling\n",
    "Tmot_nom = 2  # [-]\n",
    "Tmot_nom_min = 0.33  # [-] min catalog NK Parvex motor\n",
    "Tmot_nom_max = 32.8  # [-] max catalog\n",
    "\n",
    "# Initial values vector for design variables\n",
    "parameters = np.array((reduction_ratio_init, Tmot_nom))"
   ]
  },
  {
   "cell_type": "markdown",
   "id": "95c15d34-679f-4559-bcb9-14c7017409ea",
   "metadata": {
    "slideshow": {
     "slide_type": "slide"
    },
    "user_expressions": []
   },
   "source": [
    "We can print of the characterisitcs of the problem before optimization with the intitial vector of optimization variables:"
   ]
  },
  {
   "cell_type": "code",
   "execution_count": 25,
   "id": "febb9f1c-2023-4c4c-bbbc-21990025bbbc",
   "metadata": {},
   "outputs": [
    {
     "name": "stdout",
     "output_type": "stream",
     "text": [
      "-----------------------------------------------\n",
      "Initial characteristics before optimization :\n",
      "Objective:\n",
      "     Motor mass = 26.68 kg\n",
      "Design variables:\n",
      "     reduction_ratio =  5.00\n",
      "     Rated Motor torque  =  30.51 N.m\n",
      "Performances:\n",
      "     Max load = 47896 N\n",
      "Components characteristics:\n",
      "     Motor mass = 26.68 kg\n",
      "     Motor max torque = 30.51 N.m\n",
      "Constraints (should be >= 0):\n",
      "     Speed margin: W_mot-reduction_ratio*max_speed/pitch= -592.694\n",
      "     Torque margin:  T_mot_max - T_mot_scenario= -100.428 \n",
      "-----------------------------------------------\n"
     ]
    }
   ],
   "source": [
    "# Initial characteristics before optimization\n",
    "print(\"-----------------------------------------------\")\n",
    "print(\"Initial characteristics before optimization :\")\n",
    "\n",
    "sizing_code(parameters, \"print\")\n",
    "print(\"-----------------------------------------------\")"
   ]
  },
  {
   "cell_type": "markdown",
   "id": "a297a1f9-ccba-40f2-8f4f-0d851db1cad2",
   "metadata": {
    "user_expressions": []
   },
   "source": [
    "We can see that constraints are not respected."
   ]
  },
  {
   "cell_type": "markdown",
   "id": "928cd1bc-b417-48f4-a57c-69d8198c9558",
   "metadata": {
    "slideshow": {
     "slide_type": "slide"
    },
    "user_expressions": []
   },
   "source": [
    "Then we can solve the problem and print of the optimized solution:"
   ]
  },
  {
   "cell_type": "code",
   "execution_count": 26,
   "id": "218dae1e-31ff-421a-a8ca-388af4ae89d5",
   "metadata": {},
   "outputs": [
    {
     "name": "stdout",
     "output_type": "stream",
     "text": [
      "Positive directional derivative for linesearch    (Exit mode 8)\n",
      "            Current function value: 0.09198229837941853\n",
      "            Iterations: 13\n",
      "            Function evaluations: 59\n",
      "            Gradient evaluations: 9\n",
      "-----------------------------------------------\n",
      "Final characteristics after optimization :\n",
      "Objective:\n",
      "     Motor mass = 9.20 kg\n",
      "Design variables:\n",
      "     reduction_ratio =  2.86\n",
      "     Rated Motor torque  =  8.81 N.m\n",
      "Performances:\n",
      "     Max load = 47896 N\n",
      "Components characteristics:\n",
      "     Motor mass = 9.20 kg\n",
      "     Motor max torque = 8.81 N.m\n",
      "Constraints (should be >= 0):\n",
      "     Speed margin: W_mot-reduction_ratio*max_speed/pitch= -2.235\n",
      "     Torque margin:  T_mot_max - T_mot_scenario= -29.089 \n",
      "-----------------------------------------------\n",
      "Calculation time:\n",
      " 0.008977651596069336 s\n"
     ]
    }
   ],
   "source": [
    "import scipy\n",
    "import time\n",
    "\n",
    "# Resolution of the problem\n",
    "\n",
    "contrainte = lambda x: sizing_code(x, \"constraints\")\n",
    "objectif = lambda x: sizing_code(x, \"objective\")\n",
    "\n",
    "start = time.time()\n",
    "result = scipy.optimize.fmin_slsqp(\n",
    "    func=objectif,\n",
    "    x0=parameters,\n",
    "    bounds=[\n",
    "        (reduction_ratio_min, reduction_ratio_max),\n",
    "        (Tmot_nom_min, Tmot_nom_max),\n",
    "    ],\n",
    "    f_ieqcons=contrainte,\n",
    "    iter=1000,\n",
    "    acc=1e-5,\n",
    ")\n",
    "end = time.time()\n",
    "\n",
    "# Final characteristics after optimization\n",
    "print(\"-----------------------------------------------\")\n",
    "print(\"Final characteristics after optimization :\")\n",
    "\n",
    "sizing_code(result, \"print\")\n",
    "print(\"-----------------------------------------------\")\n",
    "print(\"Calculation time:\\n\", end - start, \"s\")"
   ]
  },
  {
   "cell_type": "markdown",
   "id": "8bf1ea56",
   "metadata": {},
   "source": [
    "```{exercise}\n",
    ":label: Resolution speed\n",
    " \n",
    "- Compare the speed of execution of this optimization with the [previous solution](./2-optimization_examples.ipynb). This speed can be evaluated with the number of calls to the function (the sizing code).\n",
    "- Explain the observed discrepancy.\n",
    "```"
   ]
  }
 ],
 "metadata": {
  "kernelspec": {
   "display_name": "Python 3 (ipykernel)",
   "language": "python",
   "name": "python3"
  },
  "language_info": {
   "codemirror_mode": {
    "name": "ipython",
    "version": 3
   },
   "file_extension": ".py",
   "mimetype": "text/x-python",
   "name": "python",
   "nbconvert_exporter": "python",
   "pygments_lexer": "ipython3",
   "version": "3.9.13"
  }
 },
 "nbformat": 4,
 "nbformat_minor": 5
}
