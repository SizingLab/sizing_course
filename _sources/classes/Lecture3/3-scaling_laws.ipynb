{
 "cells": [
  {
   "cell_type": "markdown",
   "metadata": {
    "slideshow": {
     "slide_type": "slide"
    }
   },
   "source": [
    "# Scaling laws"
   ]
  },
  {
   "cell_type": "markdown",
   "metadata": {
    "pycharm": {
     "name": "#%% md\n"
    },
    "slideshow": {
     "slide_type": "-"
    }
   },
   "source": [
    "For a preliminary design, obtaining component’s characteristics can be nessary for simulation or the comparison of different possible solutions. \n",
    "This informations can be obtained:\n",
    "- In catalogues if the component can be chosen from an industrial range and if the catalogues gives the desire characteristic.  \n",
    "- By computing them using complex design models.  \n",
    "- By asking experts or subcontractors. The answer can take a while to be found.  \n",
    "- By using light models which extrapolate a component’s charateristics from a known referenced component.  \n",
    "\n",
    "This last solution is the one we will develop using scaling laws. \n",
    "\n",
    "For interested readers, more information can be found in the following document (Chapter 1 – Estimation models with scaling laws):  \n",
    "> Budinger, M. (2014). Preliminary design and sizing of actuation systems (HDR dissertation, UPS Toulouse). [Link](https://hal.science/tel-01112448v1/document)"
   ]
  },
  {
   "cell_type": "markdown",
   "metadata": {},
   "source": [
    "### Design model vs estimation model of mechatronic components\n",
    "\n",
    "The system-level design steps require models directly linking primary characteristics, which define the component functionally, to secondary characteristics, which can be seen as the features of imperfections. \n",
    "\n",
    "![Estimation model need](./assets/images/EstimationNeed.png)\n",
    "\n"
   ]
  },
  {
   "cell_type": "markdown",
   "metadata": {},
   "source": [
    ":::{dropdown} Description \n",
    ":open: \n",
    "Generally, at component level, the models (Figure 1b) link the physical dimensions and characteristics of materials used to the primary and secondary characteristics. Design at component level is an inverse problem that requires the primary characteristics as inputs. This inversion may be done through design codes from design mechanical standards, by algebraic solvers or by optimization algorithms. However at system level, the approach requires very significant expertise and time for each component. \n",
    "\n",
    "**Scaling laws** reduce the complexity of the inverse problem by using two modelling hypothesis on the input parameters:\n",
    "- Every materials’ properties are supposed to be identical to the ones of the reference component.\n",
    "- Some geometrical dimensions vary in an homothetic way and can be expressed as scaling laws equal to the variation of one dimension (here l*).\n",
    "Because the number of input parameters has been reduced, it is easier to give the relations that link the useful parameters for our design phase to a small number of key parameters called definition parameters.  \n",
    "\n",
    "The main advantages of scaling laws for model based design are:\n",
    "- Limited number of design parameters. \n",
    "- Homogeneous, i.e. same level of details & based on the same modeling approach.\n",
    "- Reflect the state of the art of technology. \n",
    "\n",
    ":::\n",
    "\n"
   ]
  },
  {
   "cell_type": "markdown",
   "metadata": {},
   "source": [
    "### Geometric similarity\n",
    "\n",
    "The concept of geometric similarity is really important for scaling laws. We are going to use the cylinder volume to illustrate it.  \n",
    "\n",
    "![Scaling cylinder](./assets/images/ScalingCylinder.png)\n",
    "\n"
   ]
  },
  {
   "cell_type": "markdown",
   "metadata": {},
   "source": [
    ":::{dropdown} Description \n",
    ":open: \n",
    "Scaling law can be written with the [Jufer notation](#References) of scaling ratios:  \n",
    "$x^*=\\frac{x}{x_{ref}}$  \n",
    "with $x$ any characteristic of the desired component and $x_{ref}$ the corresponding characteristic of a reference component. \n",
    "\n",
    "Geometric similarity means that all the object’s geometric dimensions change with a same factor.\n",
    "Therefore $r^*=l^*$ and the volume is proportional to the length variation to the power 3:  \n",
    "$V^*=r^{*2}l^*=l^{*3}$  \n",
    ":::\n"
   ]
  },
  {
   "cell_type": "markdown",
   "metadata": {},
   "source": [
    "```{exercise}\n",
    ":label: MassIneritaScalingCylinder\n",
    "\n",
    "Give scaling laws of mass and rotational inertia of this cyclinder. \n",
    "```"
   ]
  },
  {
   "cell_type": "markdown",
   "metadata": {},
   "source": [
    "```{solution} MassIneritaScalingCylinder\n",
    ":label: SolutionMassIneritaScalingCylinder\n",
    ":class: dropdown\n",
    "\n",
    "The same way of volume the mass is proportional to length to the power 3 and inertia to length to the power 5:\n",
    "\n",
    "$M=\\int \\rho dv \\Longrightarrow M^3=l^{*3}$  \n",
    "$J=\\int \\rho r^2 dv \\Longrightarrow J^3=l^{*5}$  \n",
    "```"
   ]
  },
  {
   "cell_type": "markdown",
   "metadata": {},
   "source": [
    "### A frist example of scaling laws\n",
    "\n",
    "In this example, we want to evaluate the winding resistance of a bigger motor than the reference motor : the size variation is $L^*$, the resistance variation is $R^*$.\n",
    "\n",
    "![Scaling motor](./assets/images/ScalingMotor.png)\n"
   ]
  },
  {
   "cell_type": "markdown",
   "metadata": {},
   "source": [
    ":::{dropdown} Description \n",
    ":open: \n",
    "The winding resistance is $R=\\frac{\\rho.L}{S}$  with $L$ the length of wire, $S$ the section of wire.  \n",
    "This wire is wound in slots whose dimensions are proportional to the dimensions of the motor, assuming complete geometric similarity. The wire diameter and length will also depend on the number of turns N made. We therefore end up with:\n",
    "\n",
    " $R=\\frac{\\rho.NL_{turn}}{S_{slot}/N} \\Longrightarrow  R^*=\\frac{N^{*2}}{L^*} $  \n",
    "\n",
    "\n",
    ":::"
   ]
  },
  {
   "cell_type": "markdown",
   "metadata": {},
   "source": [
    "### Different ways of obtaining scaling laws\n",
    "\n",
    "There are two mais ways to obtain scaling laws. We will demonstrate how to do it, by calculating the thermal constant of an electrical motor. It is assumed here that the motor temperature rise is uniform and is mainly due to convection between the stator and the air.\n",
    "\n",
    "#### Direct approach\n",
    "\n",
    "The first approach is the direct one, using known equations. The thermal time constant $\\tau_{th}$ is function of  the thermal resistance times and  the thermal capacity:  \n",
    "$\\tau_{th}=R_{th}C_{th}$  \n",
    "where:\n",
    "- The thermal resistance is inversely proportionnal to the surface of heat exchanges: $R_{th}^*=\\frac{1}{S^*}=L^{*-2}$  \n",
    "- The thermal capacity is proportional to the mass of the system : $C_{th}^*=L^{*3}$  \n",
    "\n",
    "By multiplying these results together, we can determine that the thermal constant is proportional to the length to the power 1: \n",
    "$\\tau_{th}^*=R_{th}^*C_{th}^*=L^{*-2}L^{*3}=L^{*1}$  \n",
    "\n",
    "\n",
    "\n",
    "#### Buckingham  theorem \n",
    "In the second approach, we will use the Buckingham theorem to find the same result. The time constant of the system is linked to the dimensions and to the physical characteristics of the component:\n",
    "\n",
    "\n",
    "The number of parameters by finding dimensionless numbers as a combination of these characteristics.\u000b",
    "As the final parameter we found is a constant, we can establish that the Time constant is proportional to the length to the power 1. \n"
   ]
  },
  {
   "cell_type": "markdown",
   "metadata": {},
   "source": [
    "```{note}\n",
    ":label: Buckingham theroem\n",
    "\n",
    "The [Buckhigham theorem](https://en.wikipedia.org/wiki/Buckingham_%CF%80_theorem) states that if there is a physically meaningful equation involving a certain number $n$ of physical variables, then the original equation can be rewritten in terms of a set of $p = n − k$ dimensionless parameters $π_1$, $π_2$, ..., $π_p$ constructed from the original variables, where $k$ is the number of physical dimensions involved.\n",
    "\n",
    "The dimensions of the multiple involved parameters (geometrical dimensions, physical properties, ...) can be express in the following table.  \n",
    "\n",
    "Parameter|M|L|T|\n",
    "--|--|--|--\n",
    "Physical variable 1 | ||\n",
    "Physical variable 2 | ||\n",
    "... | | | |\n",
    "$=\\pi_0$|  |  |  |\n",
    "$=\\pi_1$|  |  |  |\n",
    "...|  |  |  |\n",
    "\n",
    "```"
   ]
  },
  {
   "cell_type": "markdown",
   "metadata": {},
   "source": [
    "### Scaling law adaptation\n",
    "\n",
    "When a scaling change occurs, some non geometric quantities can evolve and could lead to malfunctions at component level.\n",
    "For example:\n",
    "- for an electric motor, the torque that can be generated must not lead to excessive winding temperature. The entire motor range is therefore designed for the same maximum temperature, which can be noted:\n",
    "$\\theta_{max}^*=1$\n",
    "\n",
    "- for a gearbox, the torque handled must not induce excessive stress in the mechanical structure. The entire gearbox range is therefore designed for the same maximum stress, which can be noted as follows:\n",
    "$\\tau_{max}^*=1$\n",
    "\n",
    "\n",
    "The torque the electrical motor \n",
    "Which are the quantities that limit the transmittable torque. \n",
    "and the gear reducer:\n",
    "In a general way, we must determine the sizing constraints that means parameters that limit the studied device’s performances or leading to its destruction. \n",
    "\n",
    "\n",
    "\n"
   ]
  },
  {
   "cell_type": "markdown",
   "metadata": {},
   "source": [
    "### Scaling with constant stress\n",
    "\n",
    "The next two exercises will attempt to determine scaling laws with constant maximum stress: one for a biological problem, the second for a range of cyclodrive gearboxes.\n"
   ]
  },
  {
   "cell_type": "markdown",
   "metadata": {},
   "source": [
    "```{exercise}\n",
    ":label: BoneExercice\n",
    "\n",
    "Predict the diameter of the leg of an elephant from a mouse. This exercice assumes that the mechanical strength that characterize the bones does not depend on the animal.\n",
    "```"
   ]
  },
  {
   "cell_type": "markdown",
   "metadata": {},
   "source": [
    "```{solution} BoneExercice\n",
    ":label: BoneSolution\n",
    ":class: dropdown\n",
    "\n",
    "$\\sigma_{max}^*=1=\\frac{F^*}{S^{*}}$  \n",
    "with :\n",
    "- $\\sigma_{max}$ the max stress in the bone \n",
    "- $F$ the applied force, i.e. the weight of the animal\n",
    "- $S$ the section of the bone, function of the diameter $d$ of the leg\n",
    "\n",
    "$\\sigma_{max}^*=1=\\frac{M^*}{d^{*2}}$  and thus  $d^*=\\sqrt{M^*}$    \n",
    "\n",
    "![Bone](./assets/images/ScalingBone.png)\n",
    "```"
   ]
  },
  {
   "cell_type": "markdown",
   "metadata": {},
   "source": [
    "```{exercise}\n",
    ":label: CycloExercice\n",
    "\n",
    "**Question 1:** Demonstrate the relation between torque and dimensions for a reducer.\n",
    "\n",
    "**Question 2 :** Can we increase the diameter of a rotating device without changing its rotating speed ? Express the relation linking the rotation speed, volumic mass, diameter and a max stress. Demonstrate the relation between max speed and dimensions.\n",
    "```"
   ]
  },
  {
   "cell_type": "markdown",
   "metadata": {},
   "source": [
    "```{solution} CycloExercice\n",
    ":label: CycloSolution\n",
    ":class: dropdown\n",
    "\n",
    "![Bone](./assets/images/CycloSolution.png)\n",
    "\n",
    "```"
   ]
  },
  {
   "cell_type": "markdown",
   "metadata": {},
   "source": [
    "### References \n",
    "Jufer, M. (1995). Electromécanique (Vol. 9). PPUR presses polytechniques.\n"
   ]
  }
 ],
 "metadata": {
  "celltoolbar": "Slideshow",
  "jupytext": {
   "formats": "ipynb"
  },
  "kernelspec": {
   "display_name": "Python 3 (ipykernel)",
   "language": "python",
   "name": "python3"
  },
  "language_info": {
   "codemirror_mode": {
    "name": "ipython",
    "version": 3
   },
   "file_extension": ".py",
   "mimetype": "text/x-python",
   "name": "python",
   "nbconvert_exporter": "python",
   "pygments_lexer": "ipython3",
   "version": "3.9.13"
  },
  "rise": {
   "autolaunch": true,
   "overlay": "<div class='myheader'><h2>Sizing and optimization of mechatronic systems</h2></div><div class='myfooter'><h2>24/10/2022</h2></div><div class='logo'><img src='../../images/logo.png' width=200px height= auto></div>"
  }
 },
 "nbformat": 4,
 "nbformat_minor": 4
}
