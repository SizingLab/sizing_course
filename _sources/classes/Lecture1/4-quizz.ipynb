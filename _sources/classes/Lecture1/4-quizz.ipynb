{
 "cells": [
  {
   "cell_type": "markdown",
   "metadata": {
    "slideshow": {
     "slide_type": "slide"
    },
    "tags": []
   },
   "source": [
    "# Quiz"
   ]
  },
  {
   "cell_type": "markdown",
   "metadata": {
    "pycharm": {
     "name": "#%% md\n"
    },
    "slideshow": {
     "slide_type": "-"
    }
   },
   "source": [
    "Test yourself with this quiz."
   ]
  },
  {
   "cell_type": "code",
   "execution_count": null,
   "metadata": {
    "tags": [
     "remove-input"
    ]
   },
   "outputs": [],
   "source": [
    "from jupyterquiz import display_quiz"
   ]
  },
  {
   "cell_type": "markdown",
   "metadata": {
    "user_expressions": []
   },
   "source": [
    "# Design drivers and sizing scenarios\n",
    "\n",
    "### Keywords on design drivers and sizing scenarios\n",
    "\n",
    "Design drivers:\n",
    "- Operational limits  \n",
    "Transient: rapid degradations   \n",
    "Continuous: gradual degration  \n",
    "- Imperfections (Energy storage, Losses)\n",
    "\n",
    "Sizing scenarios:\n",
    "- Functions of the system\n",
    "- Design drivers of components\n",
    "\n",
    "\n",
    "### Ballscrew\n",
    "Rapid and gradual degradations of Ball and roller screws are defined by specific parameters.  \n",
    "\n",
    "![BallScrew](./assets/images/DesignDriver_Ballscrew.png)\n",
    "\n",
    "The first one is defined by: \"Load acting on the axis of the screw resulting in a nominal life of one million revolutions\""
   ]
  },
  {
   "cell_type": "code",
   "execution_count": null,
   "metadata": {
    "tags": [
     "remove-input"
    ]
   },
   "outputs": [],
   "source": [
    "display_quiz(\"./assets/quiz/quiz_ballscrew.json\")"
   ]
  },
  {
   "cell_type": "markdown",
   "metadata": {
    "user_expressions": []
   },
   "source": [
    "### Electric motor\n",
    "The operational limits of a brushless motors is defined by the following diagram.\n",
    "\n",
    "![SOA Brushless motors](./assets/images/DesignDriver_BrushlessMotor.png)\n",
    "\n",
    "Match the ABC boundaries of the torque/speed characteristic with the physical limitations of a brushless motor-drive combination. Also indicate whether the operational limit is transient or continuous."
   ]
  },
  {
   "cell_type": "code",
   "execution_count": null,
   "metadata": {
    "tags": [
     "remove-input"
    ]
   },
   "outputs": [],
   "source": [
    "display_quiz(\"./assets/quiz/quiz_motor.json\")"
   ]
  },
  {
   "cell_type": "markdown",
   "metadata": {
    "user_expressions": []
   },
   "source": [
    "### Imperfections Power transmission\n",
    "Power transmission components have imperfections such as inertia. A ball screw SDS 14x4 of 0.5 m is associated with a reducer of reduction ratio 3 and a NX205 brushless motor. Using informations given in the following datasheet, calculate the  inertia of the components.\n",
    "\n",
    "![Inertia](./assets/images/DesignDriver_Inertia.png)\n"
   ]
  },
  {
   "cell_type": "code",
   "execution_count": null,
   "metadata": {
    "tags": [
     "remove-input"
    ]
   },
   "outputs": [],
   "source": [
    "display_quiz(\"./assets/quiz/quiz_inertia.json\")"
   ]
  },
  {
   "cell_type": "code",
   "execution_count": null,
   "metadata": {},
   "outputs": [],
   "source": []
  }
 ],
 "metadata": {
  "celltoolbar": "Slideshow",
  "jupytext": {
   "formats": "ipynb"
  },
  "kernelspec": {
   "display_name": "Python 3 (ipykernel)",
   "language": "python",
   "name": "python3"
  },
  "language_info": {
   "codemirror_mode": {
    "name": "ipython",
    "version": 3
   },
   "file_extension": ".py",
   "mimetype": "text/x-python",
   "name": "python",
   "nbconvert_exporter": "python",
   "pygments_lexer": "ipython3",
   "version": "3.9.13"
  },
  "rise": {
   "autolaunch": true,
   "overlay": "<div class='myheader'><h2>Sizing and optimization of mechatronic systems</h2></div><div class='myfooter'><h2>24/10/2022</h2></div><div class='logo'><img src='../../images/logo.png' width=200px height= auto></div>"
  }
 },
 "nbformat": 4,
 "nbformat_minor": 4
}
