{
 "cells": [
  {
   "cell_type": "markdown",
   "metadata": {
    "slideshow": {
     "slide_type": "slide"
    }
   },
   "source": [
    "# Simulation models\n",
    "\n",
    "The objective of simulation models is to establish the relationships between the different components of a system and to access the variables influencing the selection of these components. The sizing scenarios at system-level can often be represented by lumped parameter models simulated with static, transient or harmonic solvers. \n",
    "![Simulation Models](./assets/images/SimulationModelPosition.png)\n",
    "\n",
    "The level of modeling should be as simple as possible to minimize the number of parameters to be provided, and as fast as possible to allow optimization while giving access precisely to the design variables. Such models can be obtained by deduction or reduction methods. \n",
    "\n",
    "For interested readers, more information can be found in the following document (Chapter 2 - Simulation models for preliminary design):  \n",
    "> Budinger, M. (2014). Preliminary design and sizing of actuation systems (HDR dissertation, UPS Toulouse). [Link](https://hal.science/tel-01112448v1/document)"
   ]
  },
  {
   "cell_type": "markdown",
   "metadata": {
    "pycharm": {
     "name": "#%% md\n"
    },
    "slideshow": {
     "slide_type": "-"
    }
   },
   "source": [
    "### Differents types of scenarios and simulations \n",
    "\n",
    "![Example of scenarios](./assets/images/ExampleOfScenarios.png)"
   ]
  },
  {
   "cell_type": "markdown",
   "metadata": {},
   "source": [
    ":::{dropdown} Description\n",
    ":open:\n",
    "In the example of Lecture 1, the design of a spoiler actuation system requires the representation of different configurations of use called sizing scenarios. These scenarios may take the form of:   \n",
    "- **operating points** with power, speed or force constants for applications with steady states.  \n",
    "- a **transient mission profile**, such as a temporal mechanical profile giving access to the maximum speed, forces and fatigue of mechanical components or a transient thermal profile providing access to the thermal stress of a brushless motor;  \n",
    "- **critical events**, such as jamming of the control surface, which can create violent internal efforts by the sudden deceleration of the motor inertia, or a violent gust of wind requiring a rapid decline of the control surface.\n",
    "\n",
    "To represent the main design variables and the interaction between components, the modelling of mechatronic systems mainly uses lumped parameter models. A lumped element model simplifies the description of the behaviour of spatially distributed physical systems into a topology consisting of discrete entities.  \n",
    "The balance between the needs of the application and the simulation model will depend on the response times and the bandwidths to be represented:  \n",
    "- for phenomena that vary relatively slowly, **steady state or quasistatic analyses** can be used. The resolution is done through a set of algebraic equations manipulating constants or harmonic amplitudes.  \n",
    "- when the **mission profiles** show faster changes it may be necessary to take into account one dynamic effect, as the inertia of the rotor. This type of simulation can be represented with one state.  \n",
    "- with **rapid transients**, resonance modes can be excited and add significant oscillations. This type of simulation requires several states to represent inertial and capacitive effects.  \n",
    "\n",
    ":::"
   ]
  },
  {
   "cell_type": "markdown",
   "metadata": {},
   "source": [
    "### Typical missions profiles\n",
    "\n",
    "![Example of scenarios](./assets/images/TypicalProfilMission.png)\n"
   ]
  },
  {
   "cell_type": "markdown",
   "metadata": {},
   "source": [
    ":::{dropdown} Description\n",
    ":open:\n",
    "The design scenarios can take different forms:\n",
    "- An operational situation where power variables remains constant. This profile can be represented by an **operational point** in a power plot (speed,torque). These operationnal point can be used to size a device which has a constant functionning (cooling fan) or a device where interia negligeable (an hydraulics jack for instance).\n",
    "- **sinusoidal profile** they can be used to size under lifetime objectives or size an energy source.\n",
    "- **pre-calculated transient profile**.\n",
    "- **transient response** to a command reference    \n",
    "\n",
    "Operational points and mission profiles express the power demand of the load. This power requirement is often represented in a **force/speed plane** (or torque/speed) in order to superimpose the capacities of the actuator and the requirements of the load in the same plane. \n",
    ":::"
   ]
  },
  {
   "cell_type": "markdown",
   "metadata": {},
   "source": [
    "### Point To Point motion laws   \n",
    "\n",
    "![S curves](./assets/images/TypicalProfilMission.png)\n"
   ]
  },
  {
   "cell_type": "markdown",
   "metadata": {},
   "source": [
    ":::{dropdown} Description\n",
    ":open:  \n",
    "Several applications can have a profile that describes a displacement that remains at the same value once and for all : for example the landing gear lowering, an elevator displacement,…\n",
    "Some shape parameters can be used to optimize the actuator on the criterion of velocity, acceleration or maximum power. Above are a few examples that concern preprogrammed displacements profils called displacement S-curves (with corresponing speed, acceleration and Jerk = acceleration derivative profiles).\n",
    ":::"
   ]
  },
  {
   "cell_type": "code",
   "execution_count": null,
   "metadata": {},
   "outputs": [],
   "source": []
  }
 ],
 "metadata": {
  "celltoolbar": "Slideshow",
  "jupytext": {
   "formats": "ipynb"
  },
  "kernelspec": {
   "display_name": "Python 3 (ipykernel)",
   "language": "python",
   "name": "python3"
  },
  "language_info": {
   "codemirror_mode": {
    "name": "ipython",
    "version": 3
   },
   "file_extension": ".py",
   "mimetype": "text/x-python",
   "name": "python",
   "nbconvert_exporter": "python",
   "pygments_lexer": "ipython3",
   "version": "3.9.13"
  },
  "rise": {
   "autolaunch": true,
   "overlay": "<div class='myheader'><h2>Sizing and optimization of mechatronic systems</h2></div><div class='myfooter'><h2>24/10/2022</h2></div><div class='logo'><img src='../../images/logo.png' width=200px height= auto></div>"
  }
 },
 "nbformat": 4,
 "nbformat_minor": 4
}
