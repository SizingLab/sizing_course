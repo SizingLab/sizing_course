{
 "cells": [
  {
   "cell_type": "markdown",
   "id": "f54c6367-665f-4925-be1a-3ff7b8287b6f",
   "metadata": {
    "user_expressions": []
   },
   "source": [
    "# Optimization with python\n",
    "\n",
    "*Written by Marc Budinger (INSA Toulouse), Toulouse, France*\n",
    "\n",
    "The objective of this notebook is to learn how to implement a sizing code and use a simple numerical optimization into a python notebook. The system studied a Electromechanical Actuator (EMA) used for Thrust Vector Control (TVC) of a launcher. \n",
    "\n",
    "For interested readers, more information can be found in :\n",
    "- the [dedicated laboratories](../../laboratories/Lab-vega/summary.md) of this Jupyter book\n",
    "- in the following document \n",
    "> Delbecq, S., Budinger, M., & Reysset, A. (2020). Benchmarking of monolithic MDO formulations and derivative computation techniques using OpenMDAO. Structural and Multidisciplinary Optimization, 62(2), 645-666. [Link](https://oatao.univ-toulouse.fr/26689/1/Delbecq_26689.pdf)"
   ]
  },
  {
   "cell_type": "markdown",
   "id": "438bebdd",
   "metadata": {},
   "source": [
    "### Objectives and specifications\n",
    "\n",
    "We want to optimize the selection of a TVC motor/reducer set: dynamics are high and motor inertia effect is not negligeable. \n",
    "\n",
    "![EMA](./assets/images/TVC_EMA.png)\n",
    "\n",
    "The sizing scenario is a sinusoïdal displacement with a constant force and an inertia effect: \n",
    "\n",
    "| Specification |  |\n",
    "|---|---|\n",
    "| static force | 40 kN |  \n",
    "| Inertia | 800 kgg |\n",
    "|Displacement magnitude | 10 mm |\n",
    "| Frequency | 5 Hz |\n",
    "\n"
   ]
  },
  {
   "cell_type": "markdown",
   "id": "614c9171-6c53-4040-9d43-bc10ed7da370",
   "metadata": {
    "user_expressions": []
   },
   "source": [
    "We first define the specifications and assumptions for the sizing:"
   ]
  },
  {
   "cell_type": "code",
   "execution_count": 12,
   "id": "7d14440c-22ac-4f09-b325-4a98c2965e12",
   "metadata": {
    "slideshow": {
     "slide_type": "slide"
    }
   },
   "outputs": [],
   "source": [
    "from math import pi\n",
    "\n",
    "# Specifications\n",
    "Xmax = 10e-3  # [m]\n",
    "f = 5  # [Hz]\n",
    "w = 2*pi*5 # [rad/s] angular frequency\n",
    "\n",
    "Xpmax = w*Xmax  # [m/s] max linear speed\n",
    "Xppmax = w**2*Xmax  # [m/s²] max linear acceleration\n",
    "\n",
    "M = 800 # [kg] Equivalent mass inertia of the nozzle\n",
    "Fstat = 40e3 # [N] static force"
   ]
  },
  {
   "cell_type": "markdown",
   "id": "bde00ec9",
   "metadata": {},
   "source": [
    "A reference example of motor is:\n",
    "\n",
    "| Characteristics |  |\n",
    "|---|---|\n",
    "| Nom. torque | 3.14 N.m| \n",
    "| Max. torque | 13.4\tN.m\t |  \n",
    "| Max. speed | 7200\trpm |\n",
    "| Inertia  | 2.90E-04\tkg.m² |\n",
    "| Mass | 3.8 \tkg |\n",
    "\n",
    "We assume here that :\n",
    "- the pitch $p$ of the roller screw is 10 mm/rev.\n",
    "- The efficiency of mechanical power transmission is 100%.\n",
    "\n",
    "The objective is to select the reduction ratio of the gear reducer in order to minimize the mass of the motor."
   ]
  },
  {
   "cell_type": "markdown",
   "id": "cfdc9b3a-474a-4661-b555-0d3c7e66b52e",
   "metadata": {
    "user_expressions": []
   },
   "source": [
    "We then define the main characteristics of components and the reference parameters for the scaling laws:"
   ]
  },
  {
   "cell_type": "code",
   "execution_count": 9,
   "id": "944dd9e3-afac-4b23-ae25-c4c584d9b28f",
   "metadata": {},
   "outputs": [],
   "source": [
    "# Assumptions\n",
    "pitch = 10e-3 / 2 / 3.14  # [m/rad]\n",
    "nu_screw = 1  # [-]\n",
    "\n",
    "# Reference motor\n",
    "T_mot_nom_ref = 3.14 # [N.m] Max torque\n",
    "T_mot_max_ref = 13.4  # [N.m] Rated torque\n",
    "W_mot_max_ref = 754  # [rad/s] max speed\n",
    "J_mot_ref = 2.9e-4 / 2  # [kg.m²] Inertie \n",
    "M_mot_ref = 3.8  # [kg] Mass\n"
   ]
  },
  {
   "cell_type": "markdown",
   "id": "44f5b506-98b5-4ef9-a96a-79ba7379db28",
   "metadata": {
    "slideshow": {
     "slide_type": "slide"
    },
    "user_expressions": []
   },
   "source": [
    "## Objective and constraints\n",
    "\n",
    "The objective is to select the motor and the reduction ratio of a gear reducer in order to minimize the mass of the motor. \n",
    "\n",
    "The **design variables** are :\n",
    "- the reduction ratio of the reducer\n",
    "- the selection torque of the motor\n",
    "  \n",
    "The **objective** is the motor mass.\n",
    "\n",
    "The **constraints** which should be positives are here: \n",
    "- the speed margin, ie. the motor doesn't exceed its maximum speed\n",
    "- the torque margin, ie. the motor doesn't exceed its maximum torque\n"
   ]
  },
  {
   "cell_type": "markdown",
   "id": "13311e2a-6e19-44da-8755-d1f0fcd585ac",
   "metadata": {
    "slideshow": {
     "slide_type": "slide"
    },
    "user_expressions": []
   },
   "source": [
    "## Sizing code"
   ]
  },
  {
   "cell_type": "markdown",
   "id": "1924e30d-eeeb-4b75-bd4b-b1c65d95d8a9",
   "metadata": {
    "slideshow": {
     "slide_type": "slide"
    },
    "user_expressions": []
   },
   "source": [
    "The sizing code is defined here in a function which can give an evaluation of the objective and of the constraints function of design variables."
   ]
  },
  {
   "cell_type": "markdown",
   "id": "31891d18",
   "metadata": {},
   "source": [
    "```{exercise}\n",
    ":label: Equations\n",
    "\n",
    "1. Give equations which link forces and speeds at nozzle and motor levels.\n",
    "2. Give scaling laws usefull for the problem.\n",
    "3. Express contraints of the design problem\n",
    "```"
   ]
  },
  {
   "cell_type": "markdown",
   "id": "20b46adf",
   "metadata": {},
   "source": [
    "```{solution} Equations\n",
    ":label: EquationsSolution\n",
    ":class: dropdown\n",
    "\n",
    "1. For the sizing scenario :\n",
    "- The maximum load force (nozzle) is : $F_{max} = F_{stat} + M a_{max}$ with $a_{max}  = max(\\ddot{x})$   \n",
    "- The maximum torque at motor level is : $T_{mot, max} = F_{max} \\frac{p}{N}   + J_{mot} a_{max} \\frac{N}{p}$\n",
    "\n",
    "2. The scaling laws are:\n",
    "- Motor mass : $M_{mot} = M_{mot,ref} \\bigl (\\frac{T_{mot}}{T_{mot,nom,ref}} \\bigr) ^\\frac{3}{3.5}$  \n",
    "- Motor inertia : $J_{mot} = J_{mot,ref} \\bigl (\\frac{T_{mot}}{T_{mot,nom,ref}} \\bigr) ^\\frac{5}{3.5}$  \n",
    "- Max motor speed : $\\omega_{mot,max} = \\omega_{mot,max,ref} \\bigl (\\frac{T_{mot}}{T_{mot,nom,ref}} \\bigr) ^\\frac{-1}{3.5}$  \n",
    "- Max motor torque : $T_{mot,max} = T_{mot,max,ref} \\bigl (\\frac{T_{mot}}{T_{mot,nom,ref}} \\bigr) ^1$   \n",
    "\n",
    "3. We have to check that:  \n",
    "- Max speed possible of the motor (coming from scaling laws) > Max speed of the sizing scenario  \n",
    "$\\omega_{mot,max} >  max(\\dot{x})\\frac{N}{p}$  \n",
    "- Max torque possible of the motor (coming from scaling laws) > Max torque of the sizing scenario  \n",
    "$T_{mot,max,scaling} >  T_{mot,max,scenario}$    \n",
    "                \n",
    "```"
   ]
  },
  {
   "cell_type": "code",
   "execution_count": 45,
   "id": "66eeb619-12b8-4e1c-93b1-c35642488106",
   "metadata": {
    "slideshow": {
     "slide_type": "slide"
    }
   },
   "outputs": [],
   "source": [
    "def sizing_code(param, arg=\"print\"):\n",
    "    #  Design variables\n",
    "    N = param[0]  # Reduction ratio of the reducer\n",
    "    T_mot = param[1]  # Motor nominal torque\n",
    "\n",
    "    # --------------------------------------\n",
    "    # Parameter estimation with scaling laws\n",
    "\n",
    "    # Motor\n",
    "    M_mot = M_mot_ref * (T_mot / T_mot_nom_ref) ** (3 / 3.5)\n",
    "    J_mot = J_mot_ref * (T_mot / T_mot_nom_ref) ** (5 / 3.5)\n",
    "    W_mot = W_mot_max_ref * (T_mot / T_mot_nom_ref) ** (-1 / 3.5)\n",
    "    T_mot_max = T_mot_max_ref * (T_mot / T_mot_nom_ref) ** (1)\n",
    "\n",
    "    # --------------------------------------\n",
    "    # Load force\n",
    "    max_load = Fstat + M*Xppmax   # [N]\n",
    "    \n",
    "    # --------------------------------------\n",
    "    # Motor torque calculation with motor inertia\n",
    "    T_mot_scenario = (\n",
    "        max_load * pitch / N / nu_screw\n",
    "        + J_mot * Xppmax *  N / pitch    ) # [N.m] max electromagnetic torque\n",
    "    \n",
    "    # --------------------------------------\n",
    "    # Objectives and constrants calculations\n",
    "\n",
    "    # Objective = motor mass\n",
    "    objective = M_mot\n",
    "\n",
    "    # Constraints (should be >=0)\n",
    "    C1 = W_mot - N * Xpmax / pitch  # speed margin\n",
    "    C2 = T_mot_max - T_mot_scenario  # Torque margin\n",
    "    \n",
    "    # --------------------------------------\n",
    "    # Objective and constraints\n",
    "    if arg == \"objective\":\n",
    "        return objective / 100\n",
    "    if arg == \"objectiveP\":\n",
    "        if ((C1 < 0.0) | (C2 < 0.0)):\n",
    "            # If constraints are not respected we penalize\n",
    "            # the objective for contraint less algorithms\n",
    "            return objective * 1e5\n",
    "        else:\n",
    "            return objective / 100\n",
    "    elif arg == \"print\":\n",
    "        print(\"Objective:\")\n",
    "        print(\"     Motor mass = %.2f kg\" % M_mot)\n",
    "        print(\"Design variables:\")\n",
    "        print(\"     reduction_ratio =  %.2f\" % N)\n",
    "        print(\"     Rated Motor torque  =  %.2f N.m\" % T_mot)\n",
    "        print(\"Performances:\")\n",
    "        print(\"     Max load = %.0f N\" % max_load)\n",
    "        print(\"Components characteristics:\")\n",
    "        print(\"     Motor mass = %.2f kg\" % M_mot)\n",
    "        print(\"     Motor max torque = %.2f N.m\" % T_mot_max)\n",
    "        print(\"Constraints (should be >= 0):\")\n",
    "        print(\"     Speed margin: W_mot-reduction_ratio*max_speed/pitch= %.3f\" % C1)\n",
    "        print(\"     Torque margin:  T_mot_max - T_mot_scenario= %.3f \" % C2)\n",
    "        \n",
    "    elif arg == \"constraints\":\n",
    "        return [C1, C2]\n",
    "    else:\n",
    "        raise TypeError(\n",
    "            \"Unknown argument for sizing_code: use 'print', 'objective', 'objectiveP' or 'contraints'\"\n",
    "        )"
   ]
  },
  {
   "cell_type": "markdown",
   "id": "07e596a0-c2f3-4c68-a058-aaced1f80d97",
   "metadata": {
    "slideshow": {
     "slide_type": "slide"
    },
    "user_expressions": []
   },
   "source": [
    "## Optimization with SLSQP algorithm\n"
   ]
  },
  {
   "cell_type": "markdown",
   "id": "83f56526-e939-469e-b486-884745001fd3",
   "metadata": {
    "user_expressions": []
   },
   "source": [
    "We will now use the [opmization algorithms](https://docs.scipy.org/doc/scipy/reference/optimize.html) of the Scipy package to solve and optimize the configuration. We will first use the [SLSQP](https://docs.scipy.org/doc/scipy/reference/optimize.minimize-slsqp.html) algorithm without explicit expression of the gradient (Jacobian). "
   ]
  },
  {
   "cell_type": "markdown",
   "id": "42755f5c-9860-4fdb-ab80-73db8571de48",
   "metadata": {
    "user_expressions": []
   },
   "source": [
    "The first step is to give an initial value of optimisation variables:"
   ]
  },
  {
   "cell_type": "code",
   "execution_count": 46,
   "id": "6cb06c67-d052-4834-8add-1700e5a06dec",
   "metadata": {},
   "outputs": [],
   "source": [
    "import numpy as np\n",
    "\n",
    "# Optimization variables\n",
    "# Reduction ratio\n",
    "reduction_ratio_init = 5  # [-]\n",
    "reduction_ratio_min = 0.1  # [-]\n",
    "reduction_ratio_max = 10  # [-]\n",
    "\n",
    "# Oversizing coefficient for multidisciplinary coupling\n",
    "Tmot_nom = 2  # [-]\n",
    "Tmot_nom_min = 0.33  # [-] min catalog NK Parvex motor\n",
    "Tmot_nom_max = 32.8  # [-] max catalog\n",
    "\n",
    "# Initial values vector for design variables\n",
    "parameters = np.array((reduction_ratio_init, Tmot_nom))"
   ]
  },
  {
   "cell_type": "markdown",
   "id": "95c15d34-679f-4559-bcb9-14c7017409ea",
   "metadata": {
    "slideshow": {
     "slide_type": "slide"
    },
    "user_expressions": []
   },
   "source": [
    "We can print of the characterisitcs of the problem before optimization with the intitial vector of optimization variables:"
   ]
  },
  {
   "cell_type": "code",
   "execution_count": 47,
   "id": "febb9f1c-2023-4c4c-bbbc-21990025bbbc",
   "metadata": {},
   "outputs": [
    {
     "name": "stdout",
     "output_type": "stream",
     "text": [
      "-----------------------------------------------\n",
      "Initial characteristics before optimization :\n",
      "Objective:\n",
      "     Motor mass = 2.58 kg\n",
      "Design variables:\n",
      "     reduction_ratio =  5.00\n",
      "     Rated Motor torque  =  2.00 N.m\n",
      "Performances:\n",
      "     Max load = 47896 N\n",
      "Components characteristics:\n",
      "     Motor mass = 2.58 kg\n",
      "     Motor max torque = 8.54 N.m\n",
      "Constraints (should be >= 0):\n",
      "     Speed margin: W_mot-reduction_ratio*max_speed/pitch= -128.746\n",
      "     Torque margin:  T_mot_max - T_mot_scenario= -9.077 \n",
      "-----------------------------------------------\n"
     ]
    }
   ],
   "source": [
    "# Initial characteristics before optimization\n",
    "print(\"-----------------------------------------------\")\n",
    "print(\"Initial characteristics before optimization :\")\n",
    "\n",
    "sizing_code(parameters, \"print\")\n",
    "print(\"-----------------------------------------------\")"
   ]
  },
  {
   "cell_type": "markdown",
   "id": "a297a1f9-ccba-40f2-8f4f-0d851db1cad2",
   "metadata": {
    "user_expressions": []
   },
   "source": [
    "We can see that constraints are not respected."
   ]
  },
  {
   "cell_type": "markdown",
   "id": "928cd1bc-b417-48f4-a57c-69d8198c9558",
   "metadata": {
    "slideshow": {
     "slide_type": "slide"
    },
    "user_expressions": []
   },
   "source": [
    "Then we can solve the problem and print of the optimized solution:"
   ]
  },
  {
   "cell_type": "code",
   "execution_count": 48,
   "id": "218dae1e-31ff-421a-a8ca-388af4ae89d5",
   "metadata": {},
   "outputs": [
    {
     "name": "stdout",
     "output_type": "stream",
     "text": [
      "Optimization terminated successfully    (Exit mode 0)\n",
      "            Current function value: 0.0936881391621254\n",
      "            Iterations: 17\n",
      "            Function evaluations: 70\n",
      "            Gradient evaluations: 17\n",
      "-----------------------------------------------\n",
      "Final characteristics after optimization :\n",
      "Objective:\n",
      "     Motor mass = 9.37 kg\n",
      "Design variables:\n",
      "     reduction_ratio =  2.83\n",
      "     Rated Motor torque  =  9.00 N.m\n",
      "Performances:\n",
      "     Max load = 47896 N\n",
      "Components characteristics:\n",
      "     Motor mass = 9.37 kg\n",
      "     Motor max torque = 38.40 N.m\n",
      "Constraints (should be >= 0):\n",
      "     Speed margin: W_mot-reduction_ratio*max_speed/pitch= 0.000\n",
      "     Torque margin:  T_mot_max - T_mot_scenario= -0.000 \n",
      "-----------------------------------------------\n",
      "Calculation time:\n",
      " 0.019028902053833008 s\n"
     ]
    },
    {
     "name": "stderr",
     "output_type": "stream",
     "text": [
      "C:\\Users\\mbudinge\\Anaconda3\\lib\\site-packages\\scipy\\optimize\\_optimize.py:284: RuntimeWarning: Values in x were outside bounds during a minimize step, clipping to bounds\n",
      "  warnings.warn(\"Values in x were outside bounds during a \"\n"
     ]
    }
   ],
   "source": [
    "import scipy\n",
    "import time\n",
    "\n",
    "# Resolution of the problem\n",
    "\n",
    "contrainte = lambda x: sizing_code(x, \"constraints\")\n",
    "objectif = lambda x: sizing_code(x, \"objective\")\n",
    "\n",
    "start = time.time()\n",
    "result = scipy.optimize.fmin_slsqp(\n",
    "    func=objectif,\n",
    "    x0=parameters,\n",
    "    bounds=[\n",
    "        (reduction_ratio_min, reduction_ratio_max),\n",
    "        (Tmot_nom_min, Tmot_nom_max),\n",
    "    ],\n",
    "    f_ieqcons=contrainte,\n",
    "    iter=1000,\n",
    "    acc=1e-5,\n",
    ")\n",
    "end = time.time()\n",
    "\n",
    "# Final characteristics after optimization\n",
    "print(\"-----------------------------------------------\")\n",
    "print(\"Final characteristics after optimization :\")\n",
    "\n",
    "sizing_code(result, \"print\")\n",
    "print(\"-----------------------------------------------\")\n",
    "print(\"Calculation time:\\n\", end - start, \"s\")"
   ]
  },
  {
   "cell_type": "markdown",
   "id": "6c629278-de70-40e0-ab05-f6058560faa2",
   "metadata": {
    "user_expressions": []
   },
   "source": [
    "## Optimization with differential evolution algorithm\n"
   ]
  },
  {
   "cell_type": "markdown",
   "id": "a524b10d-4a56-48ce-bc52-7262de09a0fc",
   "metadata": {
    "user_expressions": []
   },
   "source": [
    "We will now use a [differential evolution](https://docs.scipy.org/doc/scipy-0.17.0/reference/generated/scipy.optimize.differential_evolution.html) algorithm. Differential Evolution is stochastic in nature (does not use gradient methods) to find the minimium, and can search large areas of candidate space, but often requires larger numbers of function evaluations than conventional gradient based techniques. Differential evolution algorithms don't manage directly constraints functions. A penalty method replaces the previous objective function.  "
   ]
  },
  {
   "cell_type": "code",
   "execution_count": 49,
   "id": "06fe9fb8-30a7-4a6d-b3e5-4b69f30bc0b4",
   "metadata": {
    "pycharm": {
     "name": "#%%\n"
    }
   },
   "outputs": [
    {
     "name": "stdout",
     "output_type": "stream",
     "text": [
      "-----------------------------------------------\n",
      "Final characteristics after optimization :\n",
      "Objective:\n",
      "     Motor mass = 9.37 kg\n",
      "Design variables:\n",
      "     reduction_ratio =  2.83\n",
      "     Rated Motor torque  =  9.00 N.m\n",
      "Performances:\n",
      "     Max load = 47896 N\n",
      "Components characteristics:\n",
      "     Motor mass = 9.37 kg\n",
      "     Motor max torque = 38.40 N.m\n",
      "Constraints (should be >= 0):\n",
      "     Speed margin: W_mot-reduction_ratio*max_speed/pitch= 0.000\n",
      "     Torque margin:  T_mot_max - T_mot_scenario= 0.000 \n",
      "-----------------------------------------------\n",
      "Calculation time:\n",
      " 0.12460970878601074 s\n"
     ]
    }
   ],
   "source": [
    "# Resolution of the problem\n",
    "\n",
    "objective = lambda x: sizing_code(x, \"objectiveP\")\n",
    "\n",
    "start = time.time()\n",
    "result = scipy.optimize.differential_evolution(\n",
    "    func=objective,\n",
    "    bounds=[\n",
    "        (reduction_ratio_min, reduction_ratio_max),\n",
    "        (Tmot_nom_min, Tmot_nom_max),\n",
    "    ],\n",
    "    tol=1e-5,\n",
    ")\n",
    "end = time.time()\n",
    "\n",
    "# Final characteristics after optimization\n",
    "print(\"-----------------------------------------------\")\n",
    "print(\"Final characteristics after optimization :\")\n",
    "\n",
    "sizing_code(result.x, \"print\")\n",
    "print(\"-----------------------------------------------\")\n",
    "print(\"Calculation time:\\n\", end - start, \"s\")"
   ]
  },
  {
   "cell_type": "code",
   "execution_count": null,
   "id": "66aedf93-ff6a-4374-9c70-86a48d7fabdb",
   "metadata": {},
   "outputs": [],
   "source": []
  }
 ],
 "metadata": {
  "kernelspec": {
   "display_name": "Python 3 (ipykernel)",
   "language": "python",
   "name": "python3"
  },
  "language_info": {
   "codemirror_mode": {
    "name": "ipython",
    "version": 3
   },
   "file_extension": ".py",
   "mimetype": "text/x-python",
   "name": "python",
   "nbconvert_exporter": "python",
   "pygments_lexer": "ipython3",
   "version": "3.9.13"
  }
 },
 "nbformat": 4,
 "nbformat_minor": 5
}
