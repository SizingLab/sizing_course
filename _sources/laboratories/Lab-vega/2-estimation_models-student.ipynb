{
 "cells": [
  {
   "cell_type": "markdown",
   "metadata": {},
   "source": [
    "\n",
    "\n",
    "# Estimation models with scaling laws and linear regression (student version)\n",
    "\n",
    "*Written by Marc Budinger (INSA Toulouse) and Scott Delbecq (ISAE-SUPAERO), Toulouse, France*\n",
    "\n",
    "The estimation models calculate the component characteristics requested for their selection without requiring a detailed design. Scaling laws are particularly suitable for this purpose. This notebook illustrates the approach with  roller bearings used as thrust bearing in the linear Electro-mechanical Actuator. \n",
    "\n",
    "*Roller bearing in face to face configuration (SKF) :*\n",
    "\n",
    "<img src=\"./assets/images/RollerBearingFaceToFace.png\" width=\"20%\">\n",
    "\n",
    "Validation of the obtained scaling laws is realized thanks linear regression on catalog data.  \n",
    "\n",
    "The [following article](https://hal.archives-ouvertes.fr/hal-00712986/document) give more details and other models for electromechanical actuators:  \n",
    ">*Budinger, M., Liscouët, J., Hospital, F., & Maré, J. C. (2012). Estimation models for the preliminary design of electromechanical actuators. Proceedings of the Institution of Mechanical Engineers, Part G: Journal of Aerospace Engineering, 226(3), 243-259.*  \n"
   ]
  },
  {
   "cell_type": "markdown",
   "metadata": {},
   "source": [
    "## Scaling laws\n",
    "\n",
    "#### Assumptions and notation\n",
    "The scaling laws use two key modelling assumptions:\n",
    "1. All material properties are assumed to be identical to those of the component used for reference: $E^* = \\rho^* = ... = 1$\n",
    "2. The ratio of all the lengths of the considered component to all the lengths of the reference component is constant (geometric similarity): $D^* = T^*= ... = d^*$\n",
    "\n",
    "For mechanical components, the mechanical stresses in the materials must be kept below elastic, fatigue, or contact pressure (Hertz) limits. Taking the same stress limit for a full product range yields: $ F^* = d^{*2}$\n",
    "\n",
    "*Notation*: The x* scaling ratio of a given parameter is calculated as $x^*=\\frac{x}{x_{ref}}$ where $x_{ref}$ is the parameter taken as the reference and $x$ the parameter under study.\n"
   ]
  },
  {
   "cell_type": "markdown",
   "metadata": {},
   "source": [
    "#### Exercice: Axial maximal force estimation\n",
    "Propose a scaling law which links the maximal axial force and diameter. Estimate and print the maximal force for a bearing of 90 mm external diameter knowing the following reference component:   \n",
    "$D_{ref} = 140 mm$  \n",
    "$F_{axial,ref} = 475 kN$  \n",
    "\n",
    "Example of `print()` function use: `print(\"%s=%.2f\" % (\"pi\", 3.14159))` gives `pi=3.14`"
   ]
  },
  {
   "cell_type": "code",
   "execution_count": null,
   "metadata": {},
   "outputs": [],
   "source": [
    "D_ref = 140  # [mm] Reference diameter\n",
    "F_axial_ref = 475  # [kN] Reference max axial force\n",
    "\n",
    "print(\"The estimated axial force is: %.2f kN\" % (F_axial_ref * ))\n",
    "print(\"The estimation model is: F_axial_max = %.2e.D^2\" % (F_axial_ref * ))"
   ]
  },
  {
   "cell_type": "markdown",
   "metadata": {},
   "source": [
    "## Validation with linear regression\n",
    "\n",
    "We will validate the scaling laws obtained with regressions on catalog data. \n",
    "\n",
    "#### Cleaning data\n",
    "\n",
    "The first step is to import catalog data stored in a .csv file. We use for that functions from [Panda](https://pandas.pydata.org/index.html) package (with here an [introduction to panda](https://jakevdp.github.io/PythonDataScienceHandbook/03.00-introduction-to-pandas.html)). "
   ]
  },
  {
   "cell_type": "code",
   "execution_count": null,
   "metadata": {},
   "outputs": [],
   "source": [
    "# Panda package Importation\n",
    "import os.path as pth\n",
    "import pandas as pd\n",
    "\n",
    "# Read the .csv file with bearing data\n",
    "file_path = \"https://raw.githubusercontent.com/SizingLab/sizing_course/main/laboratories/Lab-vega/assets/data/bearings.csv\"\n",
    "df = pd.read_csv(file_path, sep=\";\")\n",
    "# Print the head (first lines of the file)\n",
    "df.head()"
   ]
  },
  {
   "cell_type": "markdown",
   "metadata": {},
   "source": [
    "If we display these data in a scatter plot, we see that some components are not optimized in terms of axial effort."
   ]
  },
  {
   "cell_type": "code",
   "execution_count": null,
   "metadata": {},
   "outputs": [],
   "source": [
    "# import plot functions from the mtplotlib package\n",
    "import matplotlib.pyplot as plt\n",
    "\n",
    "# plot\n",
    "g, ax = plt.subplots(1, 1, sharex=True)\n",
    "ax.plot(df[\"D\"], df[\"Fa axial static\"], \".b\")\n",
    "ax.set_ylabel(\"Axial maximal static force (kN)\")\n",
    "ax.set_xlabel(\"External diameter (mm)\")\n",
    "ax.grid()"
   ]
  },
  {
   "cell_type": "markdown",
   "metadata": {},
   "source": [
    "It is interesting to clean this data in order to keep only the components representative of the problem considered. For this purpose, Pareto filtering is used where only dominant components are kept. A componant dominate another if the first is not inferior to the second in all selected objectives. Here the objective is small diameter and high maximum static force.\n"
   ]
  },
  {
   "cell_type": "code",
   "execution_count": null,
   "metadata": {},
   "outputs": [],
   "source": [
    "# This function tests if a component is dominated\n",
    "# return 0 if non dominated, the number of domination other else\n",
    "# inputs :\n",
    "# x_,y_ : the  component's characteristics to test\n",
    "# X_,Y_ : the  data set characteristics\n",
    "def dominated(x_, y_, X_, Y_):\n",
    "    compteur = 0\n",
    "    for x, y in zip(X_, Y_):\n",
    "        # x>x_ for small diameter and  y>y_ for high force\n",
    "        if (x < x_) and (y > y_):\n",
    "            compteur += 1\n",
    "    return compteur\n",
    "\n",
    "\n",
    "# We create here a new row which will give the information of component dominated or not\n",
    "df[\"Dominated\"] = False\n",
    "for i in range(len(df[\"D\"])):\n",
    "    if (\n",
    "        dominated(\n",
    "            df.loc[i, \"D\"],\n",
    "            df.loc[i, \"Fa axial static\"],\n",
    "            df[\"D\"].values,\n",
    "            df[\"Fa axial static\"].values,\n",
    "        )\n",
    "        > 0\n",
    "    ):\n",
    "        df.loc[i, \"Dominated\"] = True\n",
    "# Print the new table\n",
    "df"
   ]
  },
  {
   "cell_type": "markdown",
   "metadata": {},
   "source": [
    "The Pareto front component are now ploted in red. "
   ]
  },
  {
   "cell_type": "code",
   "execution_count": null,
   "metadata": {},
   "outputs": [],
   "source": [
    "# We keep only the non dominated component (Pareto front)\n",
    "df_filter =\n",
    "# Diameter of filtered bearings\n",
    "df_filter_D =\n",
    "# Axial force of filtered bearings\n",
    "df_filter_F =\n",
    "\n",
    "# plot of the data set with the Pareto front\n",
    "g, ax = plt.subplots(1, 1, sharex=True)\n",
    "ax.plot(df[\"D\"], df[\"Fa axial static\"], \".b\", df_filter_D, df_filter_F, \".r\")\n",
    "ax.set_ylabel(\"Axial maximal static force (kN)\")\n",
    "ax.set_xlabel(\"External diameter (mm)\")\n",
    "ax.grid()"
   ]
  },
  {
   "cell_type": "markdown",
   "metadata": {},
   "source": [
    "#### Linear regression\n",
    "\n",
    "The filtered data will be approximeted here by a linear regression of the form: $Y=aX+b$  \n",
    "\n",
    "We use here :\n",
    "- the functions of the [scikit-learn](http://scikit-learn.org) package ([linear_model.LinearRegression](http://scikit-learn.org/stable/modules/generated/sklearn.linear_model.LinearRegression.html))\n",
    "- a log transformation in order to linearize the power law expression $Y=k.X^a$  into $log(Y) = log(k) + a.log(X)$\n",
    "\n",
    "A usefull introduction to machine learning can be found here [Python Data Science Handbook](https://jakevdp.github.io/PythonDataScienceHandbook/):\n",
    "> VanderPlas, J. (2016). Python data science handbook: Essential tools for working with data. \" O'Reilly Media, Inc.\"\n",
    "\n",
    "with examples of [linear regressions](https://jakevdp.github.io/PythonDataScienceHandbook/05.06-linear-regression.html)."
   ]
  },
  {
   "cell_type": "code",
   "execution_count": null,
   "metadata": {},
   "outputs": [],
   "source": [
    "# Import packages\n",
    "from sklearn import linear_model\n",
    "import numpy as np\n",
    "import matplotlib.pyplot as plt\n",
    "\n",
    "# Create a new object for the linear regression\n",
    "reg = linear_model.LinearRegression()\n",
    "\n",
    "# Get the data :\n",
    "# - X inputs and Y outputs\n",
    "# - apply a log transformation in order\n",
    "\n",
    "X = np.log10(df_filter[\"D\"].values)\n",
    "\n",
    "Y = np.log10(df_filter[\"Fa axial static\"].values)\n",
    "\n",
    "# Gives a new shape to an array without changing its data : transform data into array\n",
    "X = X.reshape(-1, 1)\n",
    "Y = Y.reshape(-1, 1)\n",
    "\n",
    "# Realize the data fitting\n",
    "reg.fit(X, Y)"
   ]
  },
  {
   "cell_type": "markdown",
   "metadata": {},
   "source": [
    "We can now compare the coefficients of linear regression with scaling laws:"
   ]
  },
  {
   "cell_type": "markdown",
   "metadata": {},
   "source": [
    "##### Exercice\n",
    "Print the expression of $F_{axial}$ get with the regression.\n",
    "\n",
    "Example of `print()` function use: `print(\"%s=%.2f\" % (\"pi\", 3.14159))` gives `pi=3.14`"
   ]
  },
  {
   "cell_type": "code",
   "execution_count": null,
   "metadata": {},
   "outputs": [],
   "source": [
    "print(\"The coefficient are:\", )\n",
    "print(\"The intercept is:\", )\n",
    "print(\"The estimation model is: F_axial_max = %.2e.D^%.1f\" % )"
   ]
  },
  {
   "cell_type": "markdown",
   "metadata": {},
   "source": [
    "Remark : unit of $D$ is $mm$ and F$_{axial,max}$ is $kN$\n",
    "\n",
    "We can also directly compare on a graphic the both expressions:"
   ]
  },
  {
   "cell_type": "code",
   "execution_count": null,
   "metadata": {},
   "outputs": [],
   "source": [
    "# Add 1 mm diameter point\n",
    "Xa = np.insert(X, 0, np.log10([1, 10, 20])).reshape(-1, 1)\n",
    "# The predict function calculate the output with the regression\n",
    "Yest = reg.predict(Xa)\n",
    "\n",
    "# Scaling law\n",
    "Yscal =\n",
    "\n",
    "# plot\n",
    "h, ax = plt.subplots(1, 1, sharex=True)\n",
    "ax.plot(10**Xa, 10**Yest, \"--b\", 10**X, 10**Y, \".r\", 10**Xa, Yscal, \"g\")\n",
    "ax.set_ylabel(\"Axial maximal static force (kN)\")\n",
    "ax.set_xlabel(\"External diameter (mm)\")\n",
    "ax.grid()"
   ]
  },
  {
   "cell_type": "code",
   "execution_count": null,
   "metadata": {},
   "outputs": [],
   "source": [
    "10 ** reg.predict([[np.log10(90)]])"
   ]
  },
  {
   "cell_type": "code",
   "execution_count": null,
   "metadata": {},
   "outputs": [],
   "source": []
  },
  {
   "cell_type": "code",
   "execution_count": null,
   "metadata": {},
   "outputs": [],
   "source": []
  }
 ],
 "metadata": {
  "kernelspec": {
   "display_name": "Python 3 (ipykernel)",
   "language": "python",
   "name": "python3"
  },
  "language_info": {
   "codemirror_mode": {
    "name": "ipython",
    "version": 3
   },
   "file_extension": ".py",
   "mimetype": "text/x-python",
   "name": "python",
   "nbconvert_exporter": "python",
   "pygments_lexer": "ipython3",
   "version": "3.9.13"
  }
 },
 "nbformat": 4,
 "nbformat_minor": 4
}
