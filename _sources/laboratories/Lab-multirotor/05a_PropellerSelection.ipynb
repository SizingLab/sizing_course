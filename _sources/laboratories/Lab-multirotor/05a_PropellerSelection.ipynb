{
 "cells": [
  {
   "cell_type": "markdown",
   "metadata": {
    "slideshow": {
     "slide_type": "slide"
    }
   },
   "source": [
    "<img src=\"./pictures/logo_sizinglab.png\" style=\"float:right; max-width: 60px; display: inline\" alt=\"SizingLab\" /></a>"
   ]
  },
  {
   "cell_type": "markdown",
   "metadata": {
    "slideshow": {
     "slide_type": "slide"
    }
   },
   "source": [
    "# Propeller selection\n",
    "*Written by Marc Budinger (INSA Toulouse), Scott Delbecq (ISAE-SUPAERO) and Félix Pollet (ISAE-SUPAERO), Toulouse, France.*"
   ]
  },
  {
   "cell_type": "markdown",
   "metadata": {
    "slideshow": {
     "slide_type": "slide"
    }
   },
   "source": [
    "## Design graph \n",
    "\n",
    "The following diagram represents the design graph of the propeller’s selection. The max thrust is assumed to be known here.\n",
    "\n",
    "\n",
    "```{figure} ./assets/design_graphs/DesignGraphs_propeller.svg\n",
    ":name: design_graph_propeller\n",
    ":align: center\n",
    ":width: 50%\n",
    "\n",
    "Propeller design graph\n",
    "```\n",
    "\n",
    "The design graphs for the overall drone system can be found in [here](./assets/design_graphs/DesignGraphs_Overall_Solution.pdf).\n"
   ]
  },
  {
   "cell_type": "markdown",
   "metadata": {},
   "source": [
    "### Sizing code and optimization\n"
   ]
  },
  {
   "cell_type": "code",
   "execution_count": null,
   "metadata": {},
   "outputs": [],
   "source": [
    "from math import pi\n",
    "\n",
    "# Specifications\n",
    "rho_air=1.18# [kg/m^3] Air density\n",
    "ND_max=105000./60.*.0254 #[Hz.m] Max speed limit (N.D max) for APC MR propellers\n",
    "\n",
    "# Reference parameters for scaling laws\n",
    "D_pro_ref=11.*.0254# [m] Reference propeller diameter\n",
    "M_pro_ref=0.53*0.0283# [kg] Reference propeller mass\n",
    "\n",
    "# Assumption\n",
    "\n",
    "F_pro_to=15.0 #[N] Thrust for 1 propeller during Take Off\n",
    "F_pro_hov=5.0 #[N] Thrust for 1 propeller during hover"
   ]
  },
  {
   "cell_type": "code",
   "execution_count": null,
   "metadata": {},
   "outputs": [],
   "source": [
    "# Design variables\n",
    "\n",
    "#% PROPELLER\n",
    "# --- \n",
    "# Estimation models for propeller aerodynamics\n",
    "C_t = 4.27e-02 + 1.44e-01 * beta_pro  # Thrust coef with T=C_T.rho.n^2.D^4\n",
    "C_p = -1.48e-03 + 9.72e-02 * beta_pro  # Power coef with P=C_p.rho.n^3.D^5\n",
    "\n",
    "# Propeller selection with take-off scenario\n",
    "D_pro = (F_pro_to / (C_t*rho_air*(ND_max/k_ND)**2.))**0.5  # [m] Propeller diameter\n",
    "n_pro_to = ND_max / k_ND / D_pro  # [Hz] Propeller speed \n",
    "Omega_pro_to = n_pro_to * 2*np.pi  # [rad/s] Propeller speed\n",
    "\n",
    "# Estimation model for mass\n",
    "M_pro = M_pro_ref * (D_pro/D_pro_ref)**2. # [kg] Propeller mass\n",
    "\n",
    "# Performance in various operating conditions\n",
    "# Take-off\n",
    "P_pro_to = C_p * rho_air * n_pro_to**3. * D_pro**5. # [W] Power per propeller\n",
    "T_pro_to = P_pro_to / Omega_pro_to # [N*m] Propeller torque\n",
    "# Hover\n",
    "n_pro_hov = np.sqrt(F_pro_hov/(C_t * rho_air *D_pro**4.)) # [Hz] hover speed\n",
    "Omega_pro_hov = n_pro_hov * 2.*np.pi # [rad/s] Propeller speed\n",
    "P_pro_hov = C_p * rho_air * n_pro_hov**3. * D_pro**5. # [W] Power per propeller\n",
    "T_pro_hov = P_pro_hov / Omega_pro_hov # [N*m] Propeller torque   "
   ]
  }
 ],
 "metadata": {
  "kernelspec": {
   "display_name": "Python 3 (ipykernel)",
   "language": "python",
   "name": "python3"
  },
  "language_info": {
   "codemirror_mode": {
    "name": "ipython",
    "version": 3
   },
   "file_extension": ".py",
   "mimetype": "text/x-python",
   "name": "python",
   "nbconvert_exporter": "python",
   "pygments_lexer": "ipython3",
   "version": "3.9.18"
  }
 },
 "nbformat": 4,
 "nbformat_minor": 4
}
