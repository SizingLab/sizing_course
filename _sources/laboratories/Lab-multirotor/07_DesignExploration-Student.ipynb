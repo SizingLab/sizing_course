{
 "cells": [
  {
   "cell_type": "markdown",
   "metadata": {
    "slideshow": {
     "slide_type": "slide"
    }
   },
   "source": [
    "<img src=\"./pictures/logo_sizinglab.png\" style=\"float:right; max-width: 60px; display: inline\" alt=\"SizingLab\" /></a>"
   ]
  },
  {
   "cell_type": "markdown",
   "metadata": {
    "slideshow": {
     "slide_type": "slide"
    }
   },
   "source": [
    "# Design optimization and exploration of a multirotor drone\n",
    "\n",
    "*Written by Marc Budinger (INSA Toulouse), Scott Delbecq (ISAE-SUPAERO) and Félix Pollet (ISAE-SUPAERO), Toulouse, France.*"
   ]
  },
  {
   "cell_type": "markdown",
   "metadata": {},
   "source": [
    "The objective of this notebook is to use and modify the sizing code of the UAV to explore the design space."
   ]
  },
  {
   "cell_type": "markdown",
   "metadata": {
    "tags": []
   },
   "source": [
    "## Modular sizing code\n",
    "\n",
    "Here we use the sizing code but decomposed into several `ExplicitComponent` of [OpenMDAO](https://openmdao.org/newdocs/versions/latest/main.html). You might notice an improvement in computational cost and robustness compared to the previous sizing code that used a single `ExplicitComponent` to wrap all the sizing code.\n",
    "The models are separated by components and located in different Python files `/models/openmdao`."
   ]
  },
  {
   "cell_type": "code",
   "execution_count": 1,
   "metadata": {
    "tags": []
   },
   "outputs": [],
   "source": [
    "# Import libraries\n",
    "import numpy as np\n",
    "import openmdao.api as om\n",
    "\n",
    "from models.openmdao.scenarios import Scenarios\n",
    "from models.openmdao.propeller import Propeller\n",
    "from models.openmdao.motor import Motor\n",
    "from models.openmdao.battery import Battery\n",
    "from models.openmdao.esc import ESC\n",
    "from models.openmdao.frame import Frame\n",
    "from models.openmdao.objectives import Objectives\n",
    "from models.openmdao.constraints import Constraints"
   ]
  },
  {
   "cell_type": "markdown",
   "metadata": {},
   "source": [
    "The inputs of the whole sizing code are stored in `dict`s that we be passed to the problem before the run. Here are the default values seperated by:\n",
    "- specifications\n",
    "- design assumtpions \n",
    "- design variable initialization\n",
    "\n",
    "However, one of the objective of the notebook is to modify these input values."
   ]
  },
  {
   "cell_type": "code",
   "execution_count": 2,
   "metadata": {
    "tags": []
   },
   "outputs": [],
   "source": [
    "# Specifications\n",
    "specifications_default = {\n",
    "    \"M_pay\": 50.0,  # [kg] load mass\n",
    "    \"a_to\": 0.25 * 9.81,  # [m/s**2] acceleration\n",
    "    \"t_hov_spec\": 25.0,  # [min] time of hover flight\n",
    "    \"MTOW\": 360.0,  # [kg] maximal mass allowed\n",
    "}\n",
    "\n",
    "# Design assumptions\n",
    "design_assumptions_default = {\n",
    "    \"N_arm\" : 4,  # [-] number of arms\n",
    "    \"N_pro_arm\" : 1,  # [-] number of propeller per arm (1 or 2)\n",
    "    \"M_bat_ref\" : 0.329,  # [kg] mass\n",
    "    \"E_bat_ref\" : 220.0 * 3600.0 * 0.329,  # [J]\n",
    "    \"C_bat_ref\" : 5,  # [Ah] Capacity\n",
    "    \"I_bat_max_ref\" : 50 * 5,  # [A] max discharge current\n",
    "    \"P_esc_ref\" : 3108.0,  # [W] Power\n",
    "    \"M_esc_ref\" : 0.115,  # [kg] Mass\n",
    "    \"T_nom_mot_ref\" : 2.32,  # [N*m] rated torque\n",
    "    \"T_max_mot_ref\" : 85.0 / 70.0 * 2.32,  # [N*m] max torque\n",
    "    \"R_mot_ref\" : 0.03,  # [ohm] resistance\n",
    "    \"M_mot_ref\" : 0.575,  # [kg] mass\n",
    "    \"K_T_ref\" : 0.03,  # [N*m/A] torque coefficient\n",
    "    \"T_mot_fr_ref\" : 0.03,  # [N*m] friction torque (zero load, nominal speed)\n",
    "    \"sigma_max\" : (\n",
    "        280e6 / 4.0\n",
    "    ),  # [Pa] Composite max stress (2 reduction for dynamic, 2 reduction for stress concentration)\n",
    "    \"rho_s\" : 1700.0,  # [kg/m**3] Volumic mass of aluminum\n",
    "    \"rho_air\" : 1.18,  # [kg/m**3] Air density\n",
    "    \"ND_max\" : 105000.0 / 60.0 * 0.0254,  # [Hz.m] Max speed limit (N.D max) for APC MR propellers\n",
    "    \"D_pro_ref\" : 11.0 * 0.0254,  # [m] Reference propeller diameter\n",
    "    \"M_pro_ref\" : 0.53 * 0.0283,  # [kg] Reference propeller mass\n",
    "}\n",
    "\n",
    "# Design variables initial values \n",
    "\n",
    "design_variables_default = {\n",
    "    \"beta_pro\": 0.33,  # pitch/diameter ratio of the propeller\n",
    "    \"k_os\": 3.2,  # over sizing coefficient on the load mass\n",
    "    \"k_ND\": 1.2,  # slow down propeller coef : ND = NDmax / k_ND\n",
    "    \"k_mot\": 1.0,  # over sizing coefficient on the motor torque\n",
    "    \"k_speed_mot\": 1.2,  # adaption winding coef on the motor speed\n",
    "    \"k_mb\": 1.0,  # ratio battery/load mass\n",
    "    \"k_vb\": 1.0,  # oversizing coefficient for voltage evaluation\n",
    "    \"k_D\": 0.5,  # aspect ratio D_in/D_out for the beam of the frame\n",
    "}"
   ]
  },
  {
   "cell_type": "markdown",
   "metadata": {},
   "source": [
    "Similar to the previous notebook, we define the models to include in the problem as well as the optimization formulation."
   ]
  },
  {
   "cell_type": "code",
   "execution_count": 3,
   "metadata": {
    "tags": []
   },
   "outputs": [
    {
     "data": {
      "text/plain": [
       "<openmdao.core.problem.Problem at 0x12fab13d0>"
      ]
     },
     "execution_count": 3,
     "metadata": {},
     "output_type": "execute_result"
    }
   ],
   "source": [
    "prob = om.Problem()\n",
    "\n",
    "group = om.Group()\n",
    "group.add_subsystem(\"scenarios\", Scenarios(), promotes=[\"*\"])\n",
    "group.add_subsystem(\"propeller\", Propeller(), promotes=[\"*\"])\n",
    "group.add_subsystem(\"motor\", Motor(), promotes=[\"*\"])\n",
    "group.add_subsystem(\"battery\", Battery(), promotes=[\"*\"])\n",
    "group.add_subsystem(\"esc\", ESC(), promotes=[\"*\"])\n",
    "group.add_subsystem(\"frame\", Frame(), promotes=[\"*\"])\n",
    "group.add_subsystem(\"objectives\", Objectives(), promotes=[\"*\"])\n",
    "group.add_subsystem(\"constraints\", Constraints(), promotes=[\"*\"])\n",
    "\n",
    "\n",
    "prob.model = group\n",
    "\n",
    "prob.driver = om.ScipyOptimizeDriver()\n",
    "prob.driver.options[\"optimizer\"] = \"SLSQP\"\n",
    "prob.driver.options[\"maxiter\"] = 100\n",
    "prob.driver.options[\"tol\"] = 1e-8\n",
    "\n",
    "prob.model.add_design_var(\"beta_pro\", lower=0.3, upper=0.6)\n",
    "prob.model.add_design_var(\"k_os\", lower=1.0, upper=10.0)\n",
    "prob.model.add_design_var(\"k_ND\", lower=1.0, upper=10.0)\n",
    "prob.model.add_design_var(\"k_mot\", lower=1.0, upper=10.0)\n",
    "prob.model.add_design_var(\"k_speed_mot\", lower=1.0, upper=10.0)\n",
    "prob.model.add_design_var(\"k_mb\", lower=0.1, upper=10.0)\n",
    "prob.model.add_design_var(\"k_vb\", lower=1.0, upper=10.0)\n",
    "prob.model.add_design_var(\"k_D\", lower=0.01, upper=0.99)\n",
    "\n",
    "prob.model.add_constraint(\"cons_1\", lower=0.)\n",
    "prob.model.add_constraint(\"cons_2\", lower=0.)\n",
    "prob.model.add_constraint(\"cons_3\", lower=0.)\n",
    "prob.model.add_constraint(\"cons_4\", lower=0.)\n",
    "prob.model.add_constraint(\"cons_5\", lower=0.)\n",
    "prob.model.add_constraint(\"cons_6\", lower=0.)\n",
    "prob.model.add_constraint('cons_7', lower=0.)\n",
    "\n",
    "prob.model.add_objective('t_hov', scaler=-0.1)\n",
    "# prob.model.add_objective(\"M_total_real\", scaler=0.1)\n",
    "\n",
    "prob.setup()"
   ]
  },
  {
   "cell_type": "markdown",
   "metadata": {},
   "source": [
    "Now we set the inputs based on the values provided by the dictionnaries."
   ]
  },
  {
   "cell_type": "code",
   "execution_count": 4,
   "metadata": {
    "tags": []
   },
   "outputs": [
    {
     "name": "stdout",
     "output_type": "stream",
     "text": [
      "Optimization terminated successfully    (Exit mode 0)\n",
      "            Current function value: -4.716966271508349\n",
      "            Iterations: 14\n",
      "            Function evaluations: 13\n",
      "            Gradient evaluations: 13\n",
      "Optimization Complete\n",
      "-----------------------------------\n"
     ]
    }
   ],
   "source": [
    "# Setup initial values\n",
    "for name, value in {**specifications_default, **design_assumptions_default, **design_variables_default}.items():\n",
    "    prob.set_val(name, value)\n",
    "\n",
    "optimization_unsuccessful = prob.run_driver()"
   ]
  },
  {
   "cell_type": "markdown",
   "metadata": {},
   "source": [
    "Please note that if the optimization is unsuccessful `optimization_unsuccessful = True`. This could be useful."
   ]
  },
  {
   "cell_type": "markdown",
   "metadata": {},
   "source": [
    "We can check the details of the optimization results:"
   ]
  },
  {
   "cell_type": "code",
   "execution_count": 5,
   "metadata": {
    "tags": []
   },
   "outputs": [
    {
     "name": "stdout",
     "output_type": "stream",
     "text": [
      "----------------\n",
      "Design Variables\n",
      "----------------\n",
      "name         val           size  lower  upper  min         max         \n",
      "-----------  ------------  ----  -----  -----  ----------  ---------- \n",
      "beta_pro     [0.3]         1     0.3    0.6    0.3         0.3         \n",
      "k_os         [7.2]         1     1.0    10.0   7.2         7.2         \n",
      "k_ND         [1.40117977]  1     1.0    10.0   1.40117977  1.40117977  \n",
      "k_mot        [1.02941176]  1     1.0    10.0   1.02941176  1.02941176  \n",
      "k_speed_mot  [1.25865202]  1     1.0    10.0   1.25865202  1.25865202  \n",
      "k_mb         [3.76735358]  1     0.1    10.0   3.76735358  3.76735358  \n",
      "k_vb         [1.00746919]  1     1.0    10.0   1.00746919  1.00746919  \n",
      "k_D          [0.99]        1     0.01   0.99   0.99        0.99        \n",
      "\n",
      "-----------\n",
      "Constraints\n",
      "-----------\n",
      "name    val                size  lower  upper  equals  min                max                \n",
      "------  -----------------  ----  -----  -----  ------  -----------------  ----------------- \n",
      "cons_1  [1.59161573e-12]   1     0.0    1e+30  None    0.0                0.0                \n",
      "cons_2  [-1.73372428e-12]  1     0.0    1e+30  None    -0.0               -0.0               \n",
      "cons_3  [1.08713039e-12]   1     0.0    1e+30  None    0.0                0.0                \n",
      "cons_4  [5.96742793e+09]   1     0.0    1e+30  None    5967427932.310348  5967427932.310348  \n",
      "cons_5  [4.29527965]       1     0.0    1e+30  None    4.29527965         4.29527965         \n",
      "cons_6  [22.16966272]      1     0.0    1e+30  None    22.16966272        22.16966272        \n",
      "cons_7  [1.30739863e-12]   1     0.0    1e+30  None    0.0                0.0                \n",
      "\n",
      "----------\n",
      "Objectives\n",
      "----------\n",
      "name   val            size  scaler  \n",
      "-----  -------------  ----  ------ \n",
      "t_hov  [-4.71696627]  1     -0.1    \n",
      "\n"
     ]
    }
   ],
   "source": [
    "results = prob.list_problem_vars(print_arrays=True,\n",
    "                       desvar_opts=['lower', 'upper','min', 'max'],\n",
    "                       cons_opts=['lower', 'upper', 'equals', 'min', 'max'],\n",
    "                       objs_opts=['scaler'])"
   ]
  },
  {
   "cell_type": "markdown",
   "metadata": {},
   "source": [
    "And check the details of the final inputs:"
   ]
  },
  {
   "cell_type": "code",
   "execution_count": 6,
   "metadata": {
    "tags": []
   },
   "outputs": [
    {
     "name": "stdout",
     "output_type": "stream",
     "text": [
      "70 Input(s) in 'model'\n",
      "\n",
      "varname          val                 prom_name    \n",
      "---------------  ------------------  -------------\n",
      "scenarios\n",
      "  k_os           [7.2]               k_os         \n",
      "  M_pay          [50.]               M_pay        \n",
      "  N_pro_arm      [1.]                N_pro_arm    \n",
      "  N_arm          [4.]                N_arm        \n",
      "  a_to           [2.4525]            a_to         \n",
      "propeller\n",
      "  beta_pro       [0.3]               beta_pro     \n",
      "  F_pro_to       [1103.625]          F_pro_to     \n",
      "  rho_air        [1.18]              rho_air      \n",
      "  ND_max         [44.45]             ND_max       \n",
      "  k_ND           [1.40117977]        k_ND         \n",
      "  M_pro_ref      [0.014999]          M_pro_ref    \n",
      "  D_pro_ref      [0.2794]            D_pro_ref    \n",
      "  F_pro_hov      [882.9]             F_pro_hov    \n",
      "motor\n",
      "  k_mot          [1.02941176]        k_mot        \n",
      "  T_pro_hov      [148.9360544]       T_pro_hov    \n",
      "  k_vb           [1.00746919]        k_vb         \n",
      "  P_pro_to       [11281.64311736]    P_pro_to     \n",
      "  k_speed_mot    [1.25865202]        k_speed_mot  \n",
      "  Omega_pro_to   [60.59858729]       Omega_pro_to \n",
      "  M_mot_ref      [0.575]             M_mot_ref    \n",
      "  T_nom_mot_ref  [2.32]              T_nom_mot_ref\n",
      "  R_mot_ref      [0.03]              R_mot_ref    \n",
      "  K_T_ref        [0.03]              K_T_ref      \n",
      "  T_mot_fr_ref   [0.03]              T_mot_fr_ref \n",
      "  T_max_mot_ref  [2.81714286]        T_max_mot_ref\n",
      "  Omega_pro_hov  [54.20102421]       Omega_pro_hov\n",
      "  T_pro_to       [186.170068]        T_pro_to     \n",
      "battery\n",
      "  k_mb           [3.76735358]        k_mb         \n",
      "  M_pay          [50.]               M_pay        \n",
      "  E_bat_ref      [260568.]           E_bat_ref    \n",
      "  M_bat_ref      [0.329]             M_bat_ref    \n",
      "  U_bat          [53.32165814]       U_bat        \n",
      "  I_bat_max_ref  [250.]              I_bat_max_ref\n",
      "  C_bat_ref      [5.]                C_bat_ref    \n",
      "  P_el_mot_hov   [10015.46569768]    P_el_mot_hov \n",
      "  N_pro          [4.]                N_pro        \n",
      "esc\n",
      "  P_el_mot_to    [14282.75816535]    P_el_mot_to  \n",
      "  U_bat          [53.32165814]       U_bat        \n",
      "  U_mot_to       [53.32165814]       U_mot_to     \n",
      "  M_esc_ref      [0.115]             M_esc_ref    \n",
      "  P_esc_ref      [3108.]             P_esc_ref    \n",
      "frame\n",
      "  N_arm          [4.]                N_arm        \n",
      "  D_pro          [3.28923781]        D_pro        \n",
      "  F_pro_to       [1103.625]          F_pro_to     \n",
      "  N_pro_arm      [1.]                N_pro_arm    \n",
      "  sigma_max      [70000000.]         sigma_max    \n",
      "  k_D            [0.99]              k_D          \n",
      "  rho_s          [1700.]             rho_s        \n",
      "objectives\n",
      "  C_bat          [2238298.01169876]  C_bat        \n",
      "  I_bat_hov      [790.86778905]      I_bat_hov    \n",
      "  M_esc          [0.52848043]        M_esc        \n",
      "  M_pro          [2.07873941]        M_pro        \n",
      "  M_mot          [20.8811496]        M_mot        \n",
      "  N_pro          [4.]                N_pro        \n",
      "  M_pay          [50.]               M_pay        \n",
      "  M_bat          [188.36767898]      M_bat        \n",
      "  M_frame        [27.67884325]       M_frame      \n",
      "constraints\n",
      "  M_total        [360.]              M_total      \n",
      "  M_total_real   [360.]              M_total_real \n",
      "  T_max_mot      [186.170068]        T_max_mot    \n",
      "  T_pro_to       [186.170068]        T_pro_to     \n",
      "  U_bat          [53.32165814]       U_bat        \n",
      "  U_mot_to       [53.32165814]       U_mot_to     \n",
      "  P_bat_max      [5.96748807e+09]    P_bat_max    \n",
      "  P_el_mot_to    [14282.75816535]    P_el_mot_to  \n",
      "  N_pro          [4.]                N_pro        \n",
      "  U_esc          [57.61693779]       U_esc        \n",
      "  t_hov          [47.16966272]       t_hov        \n",
      "  t_hov_spec     [25.]               t_hov_spec   \n",
      "  MTOW           [360.]              MTOW         \n",
      "\n",
      "\n"
     ]
    }
   ],
   "source": [
    "inputs = prob.model.list_inputs(prom_name=True)"
   ]
  },
  {
   "cell_type": "markdown",
   "metadata": {},
   "source": [
    "And check the details of the final outputs:"
   ]
  },
  {
   "cell_type": "code",
   "execution_count": 7,
   "metadata": {
    "tags": []
   },
   "outputs": [
    {
     "name": "stdout",
     "output_type": "stream",
     "text": [
      "54 Explicit Output(s) in 'model'\n",
      "\n",
      "varname          val                 prom_name    \n",
      "---------------  ------------------  -------------\n",
      "scenarios\n",
      "  M_total        [360.]              M_total      \n",
      "  N_pro          [4.]                N_pro        \n",
      "  F_pro_hov      [882.9]             F_pro_hov    \n",
      "  F_pro_to       [1103.625]          F_pro_to     \n",
      "propeller\n",
      "  C_t            [0.0859]            C_t          \n",
      "  C_p            [0.02768]           C_p          \n",
      "  D_pro          [3.28923781]        D_pro        \n",
      "  n_pro_to       [9.64456471]        n_pro_to     \n",
      "  Omega_pro_to   [60.59858729]       Omega_pro_to \n",
      "  M_pro          [2.07873941]        M_pro        \n",
      "  P_pro_to       [11281.64311736]    P_pro_to     \n",
      "  T_pro_to       [186.170068]        T_pro_to     \n",
      "  n_pro_hov      [8.62636092]        n_pro_hov    \n",
      "  Omega_pro_hov  [54.20102421]       Omega_pro_hov\n",
      "  P_pro_hov      [8072.48669066]     P_pro_hov    \n",
      "  T_pro_hov      [148.9360544]       T_pro_hov    \n",
      "motor\n",
      "  T_nom_mot      [153.31652659]      T_nom_mot    \n",
      "  U_bat          [53.32165814]       U_bat        \n",
      "  K_T            [0.69909383]        K_T          \n",
      "  M_mot          [20.8811496]        M_mot        \n",
      "  R_mot          [0.04090773]        R_mot        \n",
      "  T_mot_fr       [1.08945128]        T_mot_fr     \n",
      "  T_max_mot      [186.170068]        T_max_mot    \n",
      "  I_mot_hov      [214.59995755]      I_mot_hov    \n",
      "  U_mot_hov      [46.67039925]       U_mot_hov    \n",
      "  P_el_mot_hov   [10015.46569768]    P_el_mot_hov \n",
      "  I_mot_to       [267.86035286]      I_mot_to     \n",
      "  U_mot_to       [53.32165814]       U_mot_to     \n",
      "  P_el_mot_to    [14282.75816535]    P_el_mot_to  \n",
      "battery\n",
      "  M_bat          [188.36767898]      M_bat        \n",
      "  E_bat          [1.19349761e+08]    E_bat        \n",
      "  C_bat          [2238298.01169876]  C_bat        \n",
      "  I_bat_max      [1.11914901e+08]    I_bat_max    \n",
      "  P_bat_max      [5.96748807e+09]    P_bat_max    \n",
      "  I_bat_hov      [790.86778905]      I_bat_hov    \n",
      "esc\n",
      "  P_esc          [14282.75816535]    P_esc        \n",
      "  U_esc          [57.61693779]       U_esc        \n",
      "  M_esc          [0.52848043]        M_esc        \n",
      "frame\n",
      "  alpha_sep      [1.57079633]        alpha_sep    \n",
      "  L_arm          [2.32584236]        L_arm        \n",
      "  D_out_arm      [0.21163519]        D_out_arm    \n",
      "  D_in_arm       [0.20951884]        D_in_arm     \n",
      "  M_arms         [11.0715373]        M_arms       \n",
      "  M_body         [16.60730595]       M_body       \n",
      "  M_frame        [27.67884325]       M_frame      \n",
      "objectives\n",
      "  t_hov          [47.16966272]       t_hov        \n",
      "  M_total_real   [360.]              M_total_real \n",
      "constraints\n",
      "  cons_1         [1.59161573e-12]    cons_1       \n",
      "  cons_2         [-1.73372428e-12]   cons_2       \n",
      "  cons_3         [1.08713039e-12]    cons_3       \n",
      "  cons_4         [5.96742793e+09]    cons_4       \n",
      "  cons_5         [4.29527965]        cons_5       \n",
      "  cons_6         [22.16966272]       cons_6       \n",
      "  cons_7         [1.30739863e-12]    cons_7       \n",
      "\n",
      "\n",
      "0 Implicit Output(s) in 'model'\n",
      "\n",
      "\n"
     ]
    }
   ],
   "source": [
    "outputs = prob.model.list_outputs()"
   ]
  },
  {
   "cell_type": "markdown",
   "metadata": {},
   "source": [
    "Now feel free to copy/duplicate and modify peaces of the previosu code to answer the different exercices."
   ]
  },
  {
   "cell_type": "markdown",
   "metadata": {},
   "source": [
    "```{note}\n",
    "Please highlight during the exercice the design space where no physical solutions are found (if relevant).\n",
    "```"
   ]
  },
  {
   "cell_type": "markdown",
   "metadata": {},
   "source": [
    "## Determining the physical limits of the design space"
   ]
  },
  {
   "cell_type": "markdown",
   "metadata": {
    "slideshow": {
     "slide_type": "slide"
    },
    "tags": []
   },
   "source": [
    "### Payload\n",
    "```{exercise}\n",
    ":label: exercise_max_payload\n",
    "\n",
    "Determine with the default requirements what is the payload value where the UAV design optimization does not find a solution?\n",
    "```\n"
   ]
  },
  {
   "cell_type": "code",
   "execution_count": 8,
   "metadata": {},
   "outputs": [],
   "source": [
    "# To be completed "
   ]
  },
  {
   "cell_type": "markdown",
   "metadata": {},
   "source": [
    "Please comment..."
   ]
  },
  {
   "cell_type": "markdown",
   "metadata": {
    "tags": []
   },
   "source": [
    "### Take-off acceleration\n",
    "```{exercise}\n",
    ":label: exercise_max_acceleration\n",
    "\n",
    "Determine with the default requirements what is the take-off acceleration value where the UAV design optimization does not find a solution?\n",
    "```"
   ]
  },
  {
   "cell_type": "code",
   "execution_count": 9,
   "metadata": {},
   "outputs": [],
   "source": [
    "# To be completed "
   ]
  },
  {
   "cell_type": "markdown",
   "metadata": {},
   "source": [
    "Please comment..."
   ]
  },
  {
   "cell_type": "markdown",
   "metadata": {},
   "source": [
    "### Autonomy\n",
    "```{exercise}\n",
    ":label: exercise_max_acceleration\n",
    "\n",
    "Determine with the default requirements what is the autonomy value where the UAV design optimization does not find a solution?\n",
    "```"
   ]
  },
  {
   "cell_type": "code",
   "execution_count": 10,
   "metadata": {},
   "outputs": [],
   "source": [
    "# To be completed "
   ]
  },
  {
   "cell_type": "markdown",
   "metadata": {},
   "source": [
    "Please comment..."
   ]
  },
  {
   "cell_type": "markdown",
   "metadata": {},
   "source": [
    "## MTOW\n",
    "```{warning}\n",
    "From now on, deactivate the constraint on the MTOW.\n",
    "```\n"
   ]
  },
  {
   "cell_type": "markdown",
   "metadata": {},
   "source": [
    "### MTOW vs Autonomy\n",
    "```{exercise}\n",
    ":label: exercise_max_acceleration\n",
    "\n",
    "\n",
    "With the default requirements, plot the MTOW for autonomy requirements in the range of [10 mins to 50 mins]\n",
    "```"
   ]
  },
  {
   "cell_type": "code",
   "execution_count": 11,
   "metadata": {},
   "outputs": [],
   "source": [
    "# To be completed "
   ]
  },
  {
   "cell_type": "markdown",
   "metadata": {},
   "source": [
    "Please comment..."
   ]
  },
  {
   "cell_type": "markdown",
   "metadata": {
    "tags": []
   },
   "source": [
    "### MTOW vs Payload\n",
    "```{exercise}\n",
    ":label: exercise_max_acceleration\n",
    "\n",
    "\n",
    "With the default requirements, plot the MTOW for payload requirements in the range of [1 kg to 150 kg].\n",
    "```"
   ]
  },
  {
   "cell_type": "code",
   "execution_count": 12,
   "metadata": {},
   "outputs": [],
   "source": [
    "# To be completed "
   ]
  },
  {
   "cell_type": "markdown",
   "metadata": {},
   "source": [
    "Please comment..."
   ]
  },
  {
   "cell_type": "markdown",
   "metadata": {
    "tags": []
   },
   "source": [
    "### Autonomy vs Payload\n",
    "```{exercise}\n",
    ":label: exercise_max_acceleration\n",
    "\n",
    "\n",
    "With the default requirements, plot the possible automony (if any) for payload requirements in the range of [1 kg to 150 kg]\n",
    "```"
   ]
  },
  {
   "cell_type": "code",
   "execution_count": 13,
   "metadata": {},
   "outputs": [],
   "source": [
    "# To be completed "
   ]
  },
  {
   "cell_type": "markdown",
   "metadata": {},
   "source": [
    "Please comment..."
   ]
  },
  {
   "cell_type": "markdown",
   "metadata": {},
   "source": [
    "## Model modifications"
   ]
  },
  {
   "cell_type": "markdown",
   "metadata": {
    "tags": []
   },
   "source": [
    "### Motor reference component\n",
    "```{exercise}\n",
    ":label: exercise_max_acceleration\n",
    "\n",
    "\n",
    "Replace the reference motor with the following motor [EMRAX 188 High Voltage ambient\n",
    "air cooled](https://emrax.com/wp-content/uploads/2022/11/EMRAX_188_datasheet_A00.pdf) and provide the new autonomy of the UAV. Create a new `ExplicitComponent` `MotorEMRAX` if necessary.\n",
    "```"
   ]
  },
  {
   "cell_type": "code",
   "execution_count": 14,
   "metadata": {},
   "outputs": [],
   "source": [
    "# To be completed "
   ]
  },
  {
   "cell_type": "markdown",
   "metadata": {},
   "source": [
    "Please comment..."
   ]
  },
  {
   "cell_type": "markdown",
   "metadata": {
    "tags": []
   },
   "source": [
    "### Battery reference component\n",
    "```{exercise}\n",
    ":label: exercise_max_acceleration\n",
    "\n",
    "\n",
    "We have not choice but to use the reference battery pack. What is the new value of the payload to maintain the other default requirements?\n",
    "```"
   ]
  },
  {
   "cell_type": "code",
   "execution_count": 15,
   "metadata": {},
   "outputs": [],
   "source": [
    "# To be completed "
   ]
  },
  {
   "cell_type": "markdown",
   "metadata": {},
   "source": [
    "Please comment..."
   ]
  },
  {
   "cell_type": "markdown",
   "metadata": {},
   "source": [
    "## Your turn (Bonus)\n",
    "\n",
    "\n",
    "```{exercise}\n",
    ":label: exercise_max_acceleration\n",
    "\n",
    "\n",
    "Propose your own analysis using the UAV sizing code.\n",
    "```"
   ]
  },
  {
   "cell_type": "code",
   "execution_count": 16,
   "metadata": {},
   "outputs": [],
   "source": [
    "# To be completed "
   ]
  },
  {
   "cell_type": "markdown",
   "metadata": {},
   "source": [
    "Please comment..."
   ]
  },
  {
   "cell_type": "code",
   "execution_count": null,
   "metadata": {},
   "outputs": [],
   "source": []
  }
 ],
 "metadata": {
  "kernelspec": {
   "display_name": "Python 3 (ipykernel)",
   "language": "python",
   "name": "python3"
  },
  "language_info": {
   "codemirror_mode": {
    "name": "ipython",
    "version": 3
   },
   "file_extension": ".py",
   "mimetype": "text/x-python",
   "name": "python",
   "nbconvert_exporter": "python",
   "pygments_lexer": "ipython3",
   "version": "3.9.18"
  }
 },
 "nbformat": 4,
 "nbformat_minor": 4
}
