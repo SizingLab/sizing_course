{
 "cells": [
  {
   "cell_type": "markdown",
   "metadata": {
    "slideshow": {
     "slide_type": "slide"
    }
   },
   "source": [
    "<img src=\"./assets/logo_sizinglab.png\" style=\"float:right; max-width: 60px; display: inline\" alt=\"SizingLab\" /></a>"
   ]
  },
  {
   "cell_type": "markdown",
   "metadata": {
    "slideshow": {
     "slide_type": "slide"
    }
   },
   "source": [
    "# Motor selection\n",
    "*Written by Marc Budinger (INSA Toulouse), Scott Delbecq (ISAE-SUPAERO) and Félix Pollet (ISAE-SUPAERO), Toulouse, France.*"
   ]
  },
  {
   "cell_type": "markdown",
   "metadata": {
    "slideshow": {
     "slide_type": "slide"
    }
   },
   "source": [
    "## Design graph \n",
    "\n",
    "The following diagram represents the design graph of the motor’s selection. The mean speed/thrust (Ωmoy & Tmoy), the max speed/thrust (Ωmax & Tmax) and the battery voltage are assumed to be known here.\n",
    "\n",
    "\n",
    "\n",
    "```{figure} ./assets/design_graphs/DesignGraphs_motor.svg\n",
    ":name: design_graph_motor\n",
    ":align: center\n",
    ":width: 50%\n",
    "\n",
    "Motor design graph\n",
    "```\n",
    "\n",
    "The design graphs for the overall drone system can be found in [here](./assets/design_graphs/DesignGraphs_Overall_Solution.pdf).\n"
   ]
  },
  {
   "cell_type": "markdown",
   "metadata": {},
   "source": [
    "### Sizing code and optimization\n"
   ]
  },
  {
   "cell_type": "code",
   "execution_count": null,
   "metadata": {},
   "outputs": [],
   "source": [
    "# Specifications\n",
    "\n",
    "# Reference parameters for scaling laws\n",
    "# Motor reference\n",
    "# Ref : AXI 5325/16 GOLD LINE\n",
    "T_nom_mot_ref = 2.32  # [N.m] rated torque\n",
    "T_max_mot_ref = 85./70.*T_nom_mot_ref # [N.m] max torque\n",
    "R_mot_ref = 0.03  # [Ohm] resistance\n",
    "M_mot_ref = 0.575 # [kg] mass\n",
    "K_T_ref = 0.03 # [N.m/A] torque coefficient\n",
    "T_mot_fr_ref = 0.03 # [N.m] friction torque (zero load, nominal speed)\n",
    "\n",
    "# Assumption\n",
    "T_pro_to=0.5#[N.m] Propeller Torque during takeoff\n",
    "Omega_pro_to=400.0#[rad/s] Propeller speed during takeoff\n",
    "T_pro_hov=1.0#[N.m] Propeller Torque during hover\n",
    "Omega_pro_hov=0.22#[rad/s] Propeller speed during hover\n",
    "U_bat_est= 14.0#[V] Battery voltage value (estimation)\n"
   ]
  },
  {
   "cell_type": "code",
   "execution_count": null,
   "metadata": {},
   "outputs": [],
   "source": [
    "#Design variables\n",
    "\n",
    "#% MOTOR\n",
    "# --- \n",
    "# Nominal torque selection with hover scenario\n",
    "T_nom_mot = k_mot * T_pro_hov  # [N*m] Motor nominal torque per propeller\n",
    "\n",
    "# Torque constant selection with take-off scenario\n",
    "U_bat = k_vb*1.84*P_pro_to**(0.36)  # [V] battery voltage estimation\n",
    "K_T = U_bat / (k_speed_mot*Omega_pro_to)  # [N*m/A] or [V/(rad/s)] Kt motor\n",
    "\n",
    "# Estimation models\n",
    "M_mot = M_mot_ref * (T_nom_mot/T_nom_mot_ref)**(3./3.5)  # [kg] Motor mass\n",
    "R_mot = R_mot_ref * (T_nom_mot/T_nom_mot_ref)**(-5./3.5)*(K_T/K_T_ref)**2.  # [ohm] motor resistance\n",
    "T_mot_fr = T_mot_fr_ref * (T_nom_mot/T_nom_mot_ref)**(3./3.5)  # [N*m] Friction torque\n",
    "T_max_mot = T_max_mot_ref * (T_nom_mot/T_nom_mot_ref)  # [N*m] Max. torque\n",
    "\n",
    "# Performance in various operating conditions\n",
    "# Hover current and voltage\n",
    "I_mot_hov = (T_pro_hov+T_mot_fr) / K_T  # [A] Current of the motor per propeller\n",
    "U_mot_hov = R_mot*I_mot_hov + Omega_pro_hov*K_T  # [V] Voltage of the motor per propeller\n",
    "P_el_mot_hov = U_mot_hov*I_mot_hov  # [W] Hover : electrical power\n",
    "# Takeoff current and voltage\n",
    "I_mot_to = (T_pro_to+T_mot_fr) / K_T  # [A] Current of the motor per propeller\n",
    "U_mot_to = R_mot*I_mot_to + Omega_pro_to*K_T  # [V] Voltage of the motor per propeller\n",
    "P_el_mot_to = U_mot_to*I_mot_to  # [W] Takeoff : electrical power"
   ]
  }
 ],
 "metadata": {
  "kernelspec": {
   "display_name": "Python 3 (ipykernel)",
   "language": "python",
   "name": "python3"
  },
  "language_info": {
   "codemirror_mode": {
    "name": "ipython",
    "version": 3
   },
   "file_extension": ".py",
   "mimetype": "text/x-python",
   "name": "python",
   "nbconvert_exporter": "python",
   "pygments_lexer": "ipython3",
   "version": "3.9.18"
  }
 },
 "nbformat": 4,
 "nbformat_minor": 4
}
