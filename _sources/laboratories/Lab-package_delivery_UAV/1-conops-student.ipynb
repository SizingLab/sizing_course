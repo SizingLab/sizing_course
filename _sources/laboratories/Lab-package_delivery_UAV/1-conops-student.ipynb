{
 "cells": [
  {
   "cell_type": "markdown",
   "id": "10954a91-2c23-4f32-9a37-5f12003e3d20",
   "metadata": {
    "editable": true,
    "slideshow": {
     "slide_type": ""
    },
    "tags": []
   },
   "source": [
    "# Package Delivery UAV Concept of Operations (Student version)\n",
    "\n",
    "In this example, we'll develop a detailed ConOps for a **Package Delivery Unmanned Aerial Vehicle (UAV)** system operating in Europe. This system aims to revolutionize the delivery industry by providing rapid, autonomous delivery services using UAVs, while complying with European regulations and standards.\n",
    "\n",
    "```{figure} https://assets.aboutamazon.com/56/56/88d5c2764703a4b4ac56b856310c/inline002-amazon-dronedelivery-sequence01-ezgif-com-speed.gif\n",
    "---\n",
    "width: 600px\n",
    "name: amazon-drone-delivery\n",
    "---\n",
    "\n",
    "Illustration of Amazon's drone delivery sequence. Source: [Amazon](https://www.aboutamazon.com/news/transportation/amazon-drone-prime-air-expanded-delivery-faa-approval).\n",
    "```\n"
   ]
  },
  {
   "cell_type": "markdown",
   "id": "38dd68c8-381e-4bf4-a295-9d975c2051d7",
   "metadata": {
    "editable": true,
    "jp-MarkdownHeadingCollapsed": true,
    "slideshow": {
     "slide_type": "slide"
    },
    "tags": []
   },
   "source": [
    "\n",
    "## 1. System Overview\n",
    "\n",
    "### Mission Statement\n",
    "\n",
    "To provide fast, efficient, and reliable delivery of packages using autonomous UAVs across European urban and rural areas, enhancing customer satisfaction and reducing delivery times while minimizing environmental impact.\n",
    "\n",
    "### System Description\n",
    "\n",
    "The package delivery UAV system comprises autonomous drones, a centralized control center, ground support infrastructure, and customer interfacing applications. The drones are equipped with navigation systems, obstacle avoidance sensors, and secure payload compartments.\n"
   ]
  }
 ],
 "metadata": {
  "kernelspec": {
   "display_name": "Python 3 (ipykernel)",
   "language": "python",
   "name": "python3"
  },
  "language_info": {
   "codemirror_mode": {
    "name": "ipython",
    "version": 3
   },
   "file_extension": ".py",
   "mimetype": "text/x-python",
   "name": "python",
   "nbconvert_exporter": "python",
   "pygments_lexer": "ipython3",
   "version": "3.9.18"
  }
 },
 "nbformat": 4,
 "nbformat_minor": 5
}
