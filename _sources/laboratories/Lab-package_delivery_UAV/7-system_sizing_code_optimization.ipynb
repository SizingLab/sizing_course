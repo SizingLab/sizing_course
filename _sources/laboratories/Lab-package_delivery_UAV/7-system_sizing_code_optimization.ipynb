{
 "cells": [
  {
   "cell_type": "markdown",
   "metadata": {
    "slideshow": {
     "slide_type": "slide"
    }
   },
   "source": [
    "<img src=\"./pictures/logo_sizinglab.png\" style=\"float:right; max-width: 60px; display: inline\" alt=\"SizingLab\" /></a>"
   ]
  },
  {
   "cell_type": "markdown",
   "metadata": {
    "slideshow": {
     "slide_type": "slide"
    }
   },
   "source": [
    "# Sizing of a multirotor drone\n",
    "\n",
    "*Written by Marc Budinger (INSA Toulouse), Scott Delbecq (ISAE-SUPAERO) and Félix Pollet (ISAE-SUPAERO), Toulouse, France.*"
   ]
  },
  {
   "cell_type": "markdown",
   "metadata": {},
   "source": [
    "The objective of this notebook is to select the best compromise of components (propeller, motor, ESC, battery) of a multi-rotor drone for given specifiations."
   ]
  },
  {
   "cell_type": "code",
   "execution_count": 1,
   "metadata": {
    "tags": []
   },
   "outputs": [],
   "source": [
    "# Import libraries\n",
    "import numpy as np\n",
    "import openmdao.api as om"
   ]
  },
  {
   "cell_type": "markdown",
   "metadata": {
    "slideshow": {
     "slide_type": "slide"
    }
   },
   "source": [
    "## Introduction"
   ]
  },
  {
   "cell_type": "markdown",
   "metadata": {
    "slideshow": {
     "slide_type": "slide"
    }
   },
   "source": [
    "We have seen that even at the component level the set of equations of a sizing code can generate typical issues such : \n",
    "- Underconstrained set of equations: the lacking equations can come from additional scenarios, estimation models or additional sizing variable \n",
    "- Overconstrained equations often due to the selection of a component on multiple critera: the adding of over-sizing coefficients and constraints in the optimization problem can generally fix this issue   \n",
    "- Algebraic loops often due to selection criteria requiring informations generally available after the selection\n",
    "\n",
    "The presence of singularities is emphasized when assembling component sizing codes to build a sizing code for the whole system.\n",
    "\n",
    "Concerning overconstraints components, we have here:\n",
    "- Brushless motors with multiple torque and voltage constraints (hover and transient vertical displacement) \n",
    "\n",
    "Multiple algebraic loops appears in the sizing problem:\n",
    "- The thrust depends of the total mass which depend of components required for generating this thrust\n",
    "\n",
    "More details in the setting up of sizing code can be found in the  [following paper](https://www.researchgate.net/profile/Marc_Budinger/publication/277933677_Computer-aided_definition_of_sizing_procedures_and_optimization_problems_of_mechatronic_systems/links/55969de508ae793d137c7ea5/Computer-aided-definition-of-sizing-procedures-and-optimization-problems-of-mechatronic-systems.pdf):  \n",
    "\n",
    "> Reysset, A., Budinger, M., & Maré, J. C. (2015). Computer-aided definition of sizing procedures and optimization problems of mechatronic systems. Concurrent Engineering, 23(4), 320-332."
   ]
  },
  {
   "cell_type": "markdown",
   "metadata": {},
   "source": [
    "## Design variables"
   ]
  },
  {
   "cell_type": "markdown",
   "metadata": {
    "slideshow": {
     "slide_type": "slide"
    },
    "tags": []
   },
   "source": [
    "```{exercise}\n",
    ":label: exercise_design_variables\n",
    "\n",
    "Summarize the design variables that have been identified previously.\n",
    "```\n",
    "\n",
    "```{solution} exercise_design_variables\n",
    ":label: solution_design_variables\n",
    ":class: dropdown\n",
    "\n",
    "| Name            | Unit | Description                                                                                                   |\n",
    "| :---:           |:---: | :---                                                                                                          |\n",
    "| $\\beta_{pro}$   | [-]  | $\\beta_{pro}=pitch/diameter$ ratio to define the propeller                                                    |\n",
    "| $k_{os}$        | [-]  | over sizing coefficient on the load mass to estimate the final total mass                                     |\n",
    "| $k_{mot}$       | [-]  | over sizing coeffcient on the motor torque to estimate the max torque with the hover flight conditions        |\n",
    "| $k_{speed,mot}$ | [-]  | over sizing coeffcient on the motor speed to take into account voltage limits during hover or take-off flight |\n",
    "| $k_{ND}$        | [-]  | slow down propeller coef : $ND = ND_{max} / k_{ND}$                                                           |\n",
    "| $k_{D}$         | [-]  | over sizing coeffcient on the motor speed to take into account voltage limits during hover or take-off flight |\n",
    "| $k_{mb}$        | [-]  | ratio battery mass / payload mass                                                                             |\n",
    "| $k_{vb}$        | [-]  | over sizing coefficient for the battery voltage                                                               |\n",
    "\n",
    "``` \n",
    "\n",
    "\n"
   ]
  },
  {
   "cell_type": "markdown",
   "metadata": {},
   "source": [
    "| Name            | Unit | Description                                                                                                   |\n",
    "| :---:           |:---: | :---                                                                                                          |\n",
    "| $\\beta_{pro}$   | [-]  | $\\beta_{pro}=pitch/diameter$ ratio to define the propeller                                                    |\n",
    "| $k_{os}$        | [-]  | over sizing coefficient on the load mass to estimate the final total mass                                     |\n",
    "| $k_{mot}$       | [-]  | over sizing coeffcient on the motor torque to estimate the max torque with the hover flight conditions        |\n",
    "| $k_{speed,mot}$ | [-]  | over sizing coeffcient on the motor speed to take into account voltage limits during hover or take-off flight |\n",
    "| $k_{ND}$        | [-]  | slow down propeller coef : $ND = ND_{max} / k_{ND}$                                                           |\n",
    "| $k_{D}$         | [-]  | over sizing coeffcient on the motor speed to take into account voltage limits during hover or take-off flight |\n",
    "| $k_{mb}$        | [-]  | ratio battery mass / payload mass                                                                             |\n",
    "| $k_{vb}$        | [-]  | over sizing coefficient for the battery voltage                                                               |"
   ]
  },
  {
   "cell_type": "markdown",
   "metadata": {},
   "source": [
    "## Constraints"
   ]
  },
  {
   "cell_type": "markdown",
   "metadata": {
    "slideshow": {
     "slide_type": "slide"
    },
    "tags": []
   },
   "source": [
    "```{exercise}\n",
    ":label: exercise_constraints\n",
    "\n",
    "Summarize the constraints that have been identified previously (satisfied constraint are positive).\n",
    "```\n",
    "\n",
    "\n",
    "\n",
    "\n",
    "```{solution} exercise_constraints\n",
    ":label: solution_constraints\n",
    ":class: dropdown\n",
    "\n",
    "| Name   | Unit | Description                                                     |\n",
    "| :---:  |:---: | :---                                                            |\n",
    "| cons_1 | [-]  | $cons_1 = M_{total}-M_{total,real}$                             |\n",
    "| cons_2 | [-]  | $cons_2 = T_{max,mot}-T_{pro,to}$                               |\n",
    "| cons_3 | [-]  | $cons_3 = U_{bat}-U_{mot,to}$                                   |\n",
    "| cons_4 | [-]  | $cons_4 = P_{bat,max}-(P_{el,mot,to} \\cdot N_{pro})/\\eta_{esc}$ |\n",
    "| cons_5 | [-]  | $cons_5 = U_{esc}-U_{bat}$                                      |\n",
    "| cons_6 | [-]  | $cons_6 = t_{hov}-t_{hov,spec}$                                 |\n",
    "| cons_7 | [-]  | $cons_7 = MTOW-M_{total,real}$                                  |\n",
    "\n",
    "``` \n",
    "\n",
    "\n"
   ]
  },
  {
   "cell_type": "markdown",
   "metadata": {},
   "source": [
    "| Name   | Unit | Description                                                     |\n",
    "| :---:  |:---: | :---                                                            |\n",
    "| cons_1 | [-]  | $cons_1 = M_{total}-M_{total,real}$                             |\n",
    "| cons_2 | [-]  | $cons_2 = T_{max,mot}-T_{pro,to}$                               |\n",
    "| cons_3 | [-]  | $cons_3 = U_{bat}-U_{mot,to}$                                   |\n",
    "| cons_4 | [-]  | $cons_4 = P_{bat,max}-(P_{el,mot,to} \\cdot N_{pro})/\\eta_{esc}$ |\n",
    "| cons_5 | [-]  | $cons_5 = U_{esc}-U_{bat}$                                      |\n",
    "| cons_6 | [-]  | $cons_6 = t_{hov}-t_{hov,spec}$                                 |\n",
    "| cons_7 | [-]  | $cons_7 = MTOW-M_{total,real}$                                  |\n"
   ]
  },
  {
   "cell_type": "markdown",
   "metadata": {},
   "source": [
    "## Objectives"
   ]
  },
  {
   "cell_type": "markdown",
   "metadata": {},
   "source": [
    "## Workflow"
   ]
  },
  {
   "cell_type": "markdown",
   "metadata": {
    "slideshow": {
     "slide_type": "slide"
    },
    "tags": []
   },
   "source": [
    "```{exercise}\n",
    ":label: exercise_workflow\n",
    "\n",
    "Propose a workflow using an N2 or XDSM diagram that represents the ordering and interconnections of the disciplines of the sizing code.\n",
    "```\n",
    "\n",
    "\n",
    "\n",
    "\n",
    "```{solution} exercise_workflow\n",
    ":label: solution_workflow\n",
    ":class: dropdown\n",
    "\n",
    "Here is a non-exhaustive XDSM diagram of the multirotor sizing code:\n",
    "\n",
    "\n",
    "\n",
    "```{figure} ./assets/images/xdsm_multirotor_mdo.png\n",
    ":name: multirotor_xdsm_mdo\n",
    ":align: center\n",
    ":width: 75%\n",
    "\n",
    "Multirotor sizing MDO XDSM diagram\n",
    "```\n",
    "\n",
    "``` \n",
    "\n",
    "\n"
   ]
  },
  {
   "cell_type": "markdown",
   "metadata": {},
   "source": [
    "## Sizing code\n",
    "Lets now implement the code to size the multirotor. For this purpose we use the MDAO framework [OpenMDAO](https://openmdao.org).\n",
    "To stay simple first, we will embed the sizing in a simple OpenMDAO `ExplicitComponent` which is not the most efficient way of solving the problem.\n",
    "The best practice would be to decompose the problem into several `ExplicitComponent` to make the code more modular and the problem solving more efficient.\n",
    "For this purpose you can refer to the [following paper](https://www.researchgate.net/publication/339870953_Benchmarking_of_monolithic_MDO_formulations_and_derivative_computation_techniques_using_OpenMDAO):  \n",
    "\n",
    "> Delbecq, S., Budinger, M., & Reysset, A. (2020). Benchmarking of monolithic MDO formulations and derivative computation techniques using OpenMDAO. Structural and Multidisciplinary Optimization, 62(2), 645-666.\n",
    "\n"
   ]
  },
  {
   "cell_type": "markdown",
   "metadata": {},
   "source": [
    "### Specifications\n",
    "The first step is to provide the specifications (top-level requirements) for the drone.\n",
    "\n",
    "Main specifications :\n",
    "- a load (video, control card) of mass $M_{load}$.  \n",
    "- an autonomy $t_{hf}$ for the hover flight.\n",
    "- an acceleration to take off $a_{to}$."
   ]
  },
  {
   "cell_type": "code",
   "execution_count": 2,
   "metadata": {
    "tags": []
   },
   "outputs": [],
   "source": [
    "# SPECIFICATIONS\n",
    "\n",
    "# Load\n",
    "M_pay = 50.0  # [kg] load mass\n",
    "\n",
    "# Acceleration during take off\n",
    "a_to = 0.25 * 9.81  # [m/s**2] acceleration\n",
    "\n",
    "# Autonomy\n",
    "t_hov_spec = 25.0  # [min] time of hover flight\n",
    "\n",
    "# MTOW\n",
    "MTOW = 360.0  # [kg] maximal mass allowed"
   ]
  },
  {
   "cell_type": "markdown",
   "metadata": {},
   "source": [
    "### Architecture definition and design assumptions\n",
    "\n",
    "Then, we must provide the architecture definition and design assumptions for the models."
   ]
  },
  {
   "cell_type": "code",
   "execution_count": 3,
   "metadata": {
    "tags": []
   },
   "outputs": [],
   "source": [
    "# ARCHITECTURE of the multi-rotor drone (4,6, 8 arms, ...)\n",
    "N_arm = 4  # [-] number of arms\n",
    "N_pro_arm = 1  # [-] number of propeller per arm (1 or 2)\n",
    "\n",
    "# BATTERY AND ESC : reference parameters for scaling laws\n",
    "# Ref : MK-quadro\n",
    "M_bat_ref = 0.329  # [kg] mass\n",
    "E_bat_ref = 220.0 * 3600.0 * 0.329  # [J]\n",
    "C_bat_ref = 5  # [Ah] Capacity\n",
    "I_bat_max_ref = 50 * C_bat_ref  # [A] max discharge current\n",
    "\n",
    "# Ref : Turnigy K_Force 70HV\n",
    "P_esc_ref = 3108.0  # [W] Power\n",
    "M_esc_ref = 0.115  # [kg] Mass\n",
    "\n",
    "# MOTOR : reference parameters for scaling laws\n",
    "# Ref : AXI 5325/16 GOLD LINE\n",
    "T_nom_mot_ref = 2.32  # [N*m] rated torque\n",
    "T_max_mot_ref = 85.0 / 70.0 * T_nom_mot_ref  # [N*m] max torque\n",
    "R_mot_ref = 0.03  # [ohm] resistance\n",
    "M_mot_ref = 0.575  # [kg] mass\n",
    "K_T_ref = 0.03  # [N*m/A] torque coefficient\n",
    "T_mot_fr_ref = 0.03  # [N*m] friction torque (zero load, nominal speed)\n",
    "\n",
    "# FRAME\n",
    "sigma_max = (\n",
    "    280e6 / 4.0\n",
    ")  # [Pa] Composite max stress (2 reduction for dynamic, 2 reduction for stress concentration)\n",
    "rho_s = 1700.0  # [kg/m**3] Volumic mass of aluminum\n",
    "\n",
    "# PROPELLER\n",
    "# Specifications\n",
    "rho_air = 1.18  # [kg/m**3] Air density\n",
    "ND_max = 105000.0 / 60.0 * 0.0254  # [Hz.m] Max speed limit (N.D max) for APC MR propellers\n",
    "\n",
    "# Reference parameters for scaling laws\n",
    "D_pro_ref = 11.0 * 0.0254  # [m] Reference propeller diameter\n",
    "M_pro_ref = 0.53 * 0.0283  # [kg] Reference propeller mass"
   ]
  },
  {
   "cell_type": "markdown",
   "metadata": {},
   "source": [
    "### Optimization variables\n",
    "\n",
    "The next step is to give an initial value for the optimisation variables:"
   ]
  },
  {
   "cell_type": "code",
   "execution_count": 4,
   "metadata": {
    "tags": []
   },
   "outputs": [],
   "source": [
    "# Optimisation variables : initial values\n",
    "beta_pro = 0.33  # pitch/diameter ratio of the propeller\n",
    "k_os = 3.2  # over sizing coefficient on the load mass\n",
    "k_ND = 1.2  # slow down propeller coef : ND = NDmax / k_ND\n",
    "k_mot = 1.0  # over sizing coefficient on the motor torque\n",
    "k_speed_mot = 1.2  # adaption winding coef on the motor speed\n",
    "k_mb = 1.0  # ratio battery/load mass\n",
    "k_vb = 1.0  # oversizing coefficient for voltage evaluation\n",
    "k_D = 0.99  # aspect ratio D_in/D_out for the beam of the frame"
   ]
  },
  {
   "cell_type": "markdown",
   "metadata": {},
   "source": [
    "### Sizing code\n",
    "\n",
    "Now, complete the following sizing code with the missing design variables (inputs), constraints/objective (outputs) and equations:"
   ]
  },
  {
   "cell_type": "code",
   "execution_count": 5,
   "metadata": {
    "tags": []
   },
   "outputs": [],
   "source": [
    "class SizingCode(om.ExplicitComponent):\n",
    "    \"\"\"\n",
    "    Sizing code of the multirotor UAV.\n",
    "    \"\"\"\n",
    "\n",
    "    def setup(self):\n",
    "        self.add_input(\"beta_pro\", val=0.0)\n",
    "        self.add_input(\"k_os\", val=0.0)\n",
    "        self.add_input(\"k_ND\", val=0.0)\n",
    "        self.add_input(\"k_mot\", val=0.0)\n",
    "        self.add_input(\"k_speed_mot\", val=0.0)\n",
    "        self.add_input(\"k_mb\", val=0.0)\n",
    "        self.add_input(\"k_vb\", val=0.0)\n",
    "        self.add_input(\"k_D\", val=0.0)\n",
    "\n",
    "        self.add_output(\"t_hov\", val=0.0)\n",
    "        self.add_output(\"M_total_real\", val=0.0)\n",
    "        self.add_output(\"cons_1\", val=0.0)\n",
    "        self.add_output(\"cons_2\", val=0.0)\n",
    "        self.add_output(\"cons_3\", val=0.0)\n",
    "        self.add_output(\"cons_4\", val=0.0)\n",
    "        self.add_output(\"cons_5\", val=0.0)\n",
    "        self.add_output(\"cons_6\", val=0.0)\n",
    "        self.add_output(\"cons_7\", val=0.0)\n",
    "\n",
    "    def setup_partials(self):\n",
    "        # Finite difference all partials.\n",
    "        self.declare_partials(\"*\", \"*\", method=\"cs\")\n",
    "\n",
    "    def compute(self, inputs, outputs):\n",
    "        beta_pro = inputs[\"beta_pro\"]\n",
    "        k_os = inputs[\"k_os\"]\n",
    "        k_ND = inputs[\"k_ND\"]\n",
    "        k_mot = inputs[\"k_mot\"]\n",
    "        k_speed_mot = inputs[\"k_speed_mot\"]\n",
    "        k_mb = inputs[\"k_mb\"]\n",
    "        k_vb = inputs[\"k_vb\"]\n",
    "        k_D = inputs[\"k_D\"]\n",
    "\n",
    "        #% SCENARIOS\n",
    "        # ---\n",
    "        M_total = (\n",
    "            k_os * M_pay\n",
    "        )  # [kg] Estimation of the total mass (or equivalent weight of dynamic scenario)\n",
    "        N_pro = N_pro_arm * N_arm  # Propellers number\n",
    "        F_pro_hov = M_total * (9.81) / N_pro  # [N] Thrust per propeller for hover\n",
    "        F_pro_to = M_total * (9.81 + a_to) / N_pro  # [N] Thrust per propeller for take-off\n",
    "\n",
    "        #% PROPELLER\n",
    "        # ---\n",
    "        # Estimation models for propeller aerodynamics\n",
    "        C_t = 4.27e-02 + 1.44e-01 * beta_pro  # Thrust coef with T=C_T.rho.n^2.D^4\n",
    "        C_p = -1.48e-03 + 9.72e-02 * beta_pro  # Power coef with P=C_p.rho.n^3.D^5\n",
    "\n",
    "        # Propeller selection with take-off scenario\n",
    "        D_pro = (\n",
    "            F_pro_to / (C_t * rho_air * (ND_max / k_ND) ** 2.0)\n",
    "        ) ** 0.5  # [m] Propeller diameter\n",
    "        n_pro_to = ND_max / k_ND / D_pro  # [Hz] Propeller speed\n",
    "        Omega_pro_to = n_pro_to * 2 * np.pi  # [rad/s] Propeller speed\n",
    "\n",
    "        # Estimation model for mass\n",
    "        M_pro = M_pro_ref * (D_pro / D_pro_ref) ** 2.0  # [kg] Propeller mass\n",
    "\n",
    "        # Performance in various operating conditions\n",
    "        # Take-off\n",
    "        P_pro_to = C_p * rho_air * n_pro_to**3.0 * D_pro**5.0  # [W] Power per propeller\n",
    "        T_pro_to = P_pro_to / Omega_pro_to  # [N*m] Propeller torque\n",
    "        # Hover\n",
    "        n_pro_hov = np.sqrt(F_pro_hov / (C_t * rho_air * D_pro**4.0))  # [Hz] hover speed\n",
    "        Omega_pro_hov = n_pro_hov * 2.0 * np.pi  # [rad/s] Propeller speed\n",
    "        P_pro_hov = C_p * rho_air * n_pro_hov**3.0 * D_pro**5.0  # [W] Power per propeller\n",
    "        T_pro_hov = P_pro_hov / Omega_pro_hov  # [N*m] Propeller torque\n",
    "\n",
    "        #% MOTOR\n",
    "        # ---\n",
    "        # Nominal torque selection with hover scenario\n",
    "        T_nom_mot = k_mot * T_pro_hov  # [N*m] Motor nominal torque per propeller\n",
    "\n",
    "        # Torque constant selection with take-off scenario\n",
    "        U_bat = k_vb * 1.84 * P_pro_to ** (0.36)  # [V] battery voltage estimation\n",
    "        K_T = U_bat / (k_speed_mot * Omega_pro_to)  # [N*m/A] or [V/(rad/s)] Kt motor\n",
    "\n",
    "        # Estimation models\n",
    "        M_mot = M_mot_ref * (T_nom_mot / T_nom_mot_ref) ** (3.0 / 3.5)  # [kg] Motor mass\n",
    "        R_mot = (\n",
    "            R_mot_ref * (T_nom_mot / T_nom_mot_ref) ** (-5.0 / 3.5) * (K_T / K_T_ref) ** 2.0\n",
    "        )  # [ohm] motor resistance\n",
    "        T_mot_fr = T_mot_fr_ref * (T_nom_mot / T_nom_mot_ref) ** (\n",
    "            3.0 / 3.5\n",
    "        )  # [N*m] Friction torque\n",
    "        T_max_mot = T_max_mot_ref * (T_nom_mot / T_nom_mot_ref)  # [N*m] Max. torque\n",
    "\n",
    "        # Performance in various operating conditions\n",
    "        # Hover current and voltage\n",
    "        I_mot_hov = (T_pro_hov + T_mot_fr) / K_T  # [A] Current of the motor per propeller\n",
    "        U_mot_hov = (\n",
    "            R_mot * I_mot_hov + Omega_pro_hov * K_T\n",
    "        )  # [V] Voltage of the motor per propeller\n",
    "        P_el_mot_hov = U_mot_hov * I_mot_hov  # [W] Hover : electrical power\n",
    "        # Takeoff current and voltage\n",
    "        I_mot_to = (T_pro_to + T_mot_fr) / K_T  # [A] Current of the motor per propeller\n",
    "        U_mot_to = R_mot * I_mot_to + Omega_pro_to * K_T  # [V] Voltage of the motor per propeller\n",
    "        P_el_mot_to = U_mot_to * I_mot_to  # [W] Takeoff : electrical power\n",
    "\n",
    "        #% BATTERY\n",
    "        # ---\n",
    "        # Voltage selection with takeoff scenario\n",
    "        # U_bat = k_vb*1.84*P_pro_to**(0.36)  # [V] battery voltage estimation\n",
    "\n",
    "        # Energy selection with payload mass\n",
    "        M_bat = k_mb * M_pay  # [kg] Battery mass\n",
    "        E_bat = (\n",
    "            E_bat_ref * M_bat / M_bat_ref * 0.8\n",
    "        )  # [J] Energy  of the battery (.8 coefficient because 80% use only of the total capacity)\n",
    "\n",
    "        # Estimation models\n",
    "        C_bat = E_bat / U_bat  # [A*s] Capacity  of the battery\n",
    "        I_bat_max = I_bat_max_ref * (C_bat / C_bat_ref)  # [A] Max discharge current\n",
    "        P_bat_max = U_bat * I_bat_max  # [W] Max power\n",
    "\n",
    "        # Performance in hover\n",
    "        I_bat_hov = (P_el_mot_hov * N_pro) / 0.95 / U_bat  # [A] Current of the battery\n",
    "\n",
    "        #% ESC\n",
    "        # ---\n",
    "        # Power selection with takeoff scenario\n",
    "        P_esc = (\n",
    "            P_el_mot_to * U_bat / U_mot_to\n",
    "        )  # [W] power electronic power (corner power or apparent power)\n",
    "\n",
    "        # Estimation models\n",
    "        U_esc = 1.84 * P_esc**0.36  # [V] ESC voltage\n",
    "        M_esc = M_esc_ref * (P_esc / P_esc_ref)  # [kg] Mass ESC\n",
    "\n",
    "        #% FRAME\n",
    "        # ---\n",
    "        # Arms selection with propellers size\n",
    "        alpha_sep = 2 * np.pi / N_arm  # [rad] interior angle separation between propellers\n",
    "        L_arm = D_pro / (2.0 * np.sin(alpha_sep / 2.0))  # [m] length of the arm\n",
    "\n",
    "        # Tube diameter & thickness selection with take-off scenario\n",
    "        D_out_arm = (F_pro_to * N_pro_arm * L_arm * 32 / (np.pi * sigma_max * (1 - k_D**4))) ** (\n",
    "            1 / 3\n",
    "        )  # [m] outer diameter of the arm (hollow cylinder)\n",
    "        D_in_arm = k_D * D_out_arm  # [m] inner diameter of the arm (hollow cylinder)\n",
    "\n",
    "        # Estimation models\n",
    "        M_arms = (\n",
    "            np.pi / 4 * (D_out_arm**2 - (k_D * D_out_arm) ** 2) * L_arm * rho_s * N_arm\n",
    "        )  # [kg] mass of the arms\n",
    "        M_body = 1.5 * M_arms  # [kg] mass of the body (40% of total mass is the arms)\n",
    "        M_frame = M_body + M_arms  # [kg] total mass of the frame\n",
    "\n",
    "        #% OBJECTIVES\n",
    "        # ---\n",
    "        t_hov = C_bat / I_bat_hov / 60.0  # [min] Hover time\n",
    "        M_total_real = (M_esc + M_pro + M_mot) * N_pro + M_pay + M_bat + M_frame  # [kg] Total mass\n",
    "\n",
    "        #% CONSTRAINTS\n",
    "        cons_1 = M_total - M_total_real\n",
    "        cons_2 = T_max_mot - T_pro_to\n",
    "        cons_3 = U_bat - U_mot_to\n",
    "        cons_4 = P_bat_max - (P_el_mot_to * N_pro) / 0.95\n",
    "        cons_5 = U_esc - U_bat\n",
    "        cons_6 = t_hov - t_hov_spec\n",
    "        cons_7 = MTOW - M_total_real\n",
    "\n",
    "        outputs[\"t_hov\"] = t_hov\n",
    "        outputs[\"M_total_real\"] = M_total_real\n",
    "        outputs[\"cons_1\"] = cons_1\n",
    "        outputs[\"cons_2\"] = cons_2\n",
    "        outputs[\"cons_3\"] = cons_3\n",
    "        outputs[\"cons_4\"] = cons_4\n",
    "        outputs[\"cons_5\"] = cons_5\n",
    "        outputs[\"cons_6\"] = cons_6\n",
    "        outputs[\"cons_7\"] = cons_7"
   ]
  },
  {
   "cell_type": "markdown",
   "metadata": {},
   "source": [
    "Now that the `ExplicitComponent` is defined we have to add it to a `Group`, itself added to a `Problem`."
   ]
  },
  {
   "cell_type": "code",
   "execution_count": 6,
   "metadata": {
    "tags": []
   },
   "outputs": [
    {
     "name": "stdout",
     "output_type": "stream",
     "text": [
      "Optimization terminated successfully    (Exit mode 0)\n",
      "            Current function value: 10.37730230877419\n",
      "            Iterations: 7\n",
      "            Function evaluations: 8\n",
      "            Gradient evaluations: 7\n",
      "Optimization Complete\n",
      "-----------------------------------\n",
      "Design variables\n",
      "beta_pro : [0.3]\n",
      "k_os : [2.07546046]\n",
      "k_ND : [1.25998251]\n",
      "k_mot : [1.02941176]\n",
      "k_speed_mot : [1.26195238]\n",
      "k_mb : [0.64317598]\n",
      "k_vb : [1.00024536]\n",
      "k_D : [0.99]\n",
      "Constraints\n",
      "cons_1 : [-3.64096309e-10]\n",
      "cons_2 : [1.31450406e-13]\n",
      "cons_3 : [-8.43058956e-11]\n",
      "cons_4 : [1.01877139e+09]\n",
      "cons_5 : [3.16780878]\n",
      "cons_6 : [-8.89524898e-10]\n",
      "cons_7 : [256.22697691]\n",
      "Objective\n",
      "t_hov:  [25.]\n",
      "M_total_real:  [103.77302309]\n"
     ]
    }
   ],
   "source": [
    "prob = om.Problem()\n",
    "\n",
    "group = om.Group()\n",
    "group.add_subsystem(\"sizing_code\", SizingCode(), promotes=[\"*\"])\n",
    "\n",
    "prob.model = group\n",
    "\n",
    "prob.driver = om.ScipyOptimizeDriver()\n",
    "prob.driver.options[\"optimizer\"] = \"SLSQP\"\n",
    "prob.driver.options[\"maxiter\"] = 100\n",
    "prob.driver.options[\"tol\"] = 1e-8\n",
    "\n",
    "prob.model.add_design_var(\"beta_pro\", lower=0.3, upper=0.6)\n",
    "prob.model.add_design_var(\"k_os\", lower=1.0, upper=10.0)\n",
    "prob.model.add_design_var(\"k_ND\", lower=1.0, upper=10.0)\n",
    "prob.model.add_design_var(\"k_mot\", lower=1.0, upper=10.0)\n",
    "prob.model.add_design_var(\"k_speed_mot\", lower=1.0, upper=10.0)\n",
    "prob.model.add_design_var(\"k_mb\", lower=0.1, upper=10.0)\n",
    "prob.model.add_design_var(\"k_vb\", lower=1.0, upper=10.0)\n",
    "prob.model.add_design_var(\"k_D\", lower=0.01, upper=0.99)\n",
    "\n",
    "prob.model.add_constraint(\"cons_1\", lower=0)\n",
    "prob.model.add_constraint(\"cons_2\", lower=0)\n",
    "prob.model.add_constraint(\"cons_3\", lower=0)\n",
    "prob.model.add_constraint(\"cons_4\", lower=0)\n",
    "prob.model.add_constraint(\"cons_5\", lower=0)\n",
    "prob.model.add_constraint(\"cons_6\", lower=0)\n",
    "# prob.model.add_constraint('cons_7', lower=0)\n",
    "\n",
    "# prob.model.add_objective('t_hov', scaler=-1)\n",
    "prob.model.add_objective(\"M_total_real\", scaler=0.1)\n",
    "\n",
    "# Ask OpenMDAO to finite-difference across the model to compute the gradients for the optimizer\n",
    "prob.model.approx_totals()\n",
    "\n",
    "prob.setup()\n",
    "\n",
    "# Setup initial values\n",
    "prob.set_val(\"beta_pro\", beta_pro)\n",
    "prob.set_val(\"k_os\", k_os)\n",
    "prob.set_val(\"k_ND\", k_ND)\n",
    "prob.set_val(\"k_mot\", k_mot)\n",
    "prob.set_val(\"k_speed_mot\", k_speed_mot)\n",
    "prob.set_val(\"k_mb\", k_mb)\n",
    "prob.set_val(\"k_vb\", k_vb)\n",
    "prob.set_val(\"k_D\", k_D)\n",
    "\n",
    "\n",
    "prob.run_driver()\n",
    "\n",
    "print(\"Design variables\")\n",
    "print(\"beta_pro :\", prob.get_val(\"beta_pro\"))\n",
    "print(\"k_os :\", prob.get_val(\"k_os\"))\n",
    "print(\"k_ND :\", prob.get_val(\"k_ND\"))\n",
    "print(\"k_mot :\", prob.get_val(\"k_mot\"))\n",
    "print(\"k_speed_mot :\", prob.get_val(\"k_speed_mot\"))\n",
    "print(\"k_mb :\", prob.get_val(\"k_mb\"))\n",
    "print(\"k_vb :\", prob.get_val(\"k_vb\"))\n",
    "print(\"k_D :\", prob.get_val(\"k_D\"))\n",
    "\n",
    "print(\"Constraints\")\n",
    "print(\"cons_1 :\", prob.get_val(\"cons_1\"))\n",
    "print(\"cons_2 :\", prob.get_val(\"cons_2\"))\n",
    "print(\"cons_3 :\", prob.get_val(\"cons_3\"))\n",
    "print(\"cons_4 :\", prob.get_val(\"cons_4\"))\n",
    "print(\"cons_5 :\", prob.get_val(\"cons_5\"))\n",
    "print(\"cons_6 :\", prob.get_val(\"cons_6\"))\n",
    "print(\"cons_7 :\", prob.get_val(\"cons_7\"))\n",
    "\n",
    "print(\"Objective\")\n",
    "print(\"t_hov: \", prob.get_val(\"t_hov\"))\n",
    "print(\"M_total_real: \", prob.get_val(\"M_total_real\"))"
   ]
  },
  {
   "cell_type": "code",
   "execution_count": null,
   "metadata": {},
   "outputs": [],
   "source": []
  },
  {
   "cell_type": "code",
   "execution_count": 7,
   "metadata": {
    "tags": []
   },
   "outputs": [
    {
     "name": "stdout",
     "output_type": "stream",
     "text": [
      "Variable        Type       Data/Info\n",
      "------------------------------------\n",
      "C_bat_ref       int        5\n",
      "D_pro_ref       float      0.2794\n",
      "E_bat_ref       float      260568.0\n",
      "I_bat_max_ref   int        250\n",
      "K_T_ref         float      0.03\n",
      "MTOW            float      360.0\n",
      "M_bat_ref       float      0.329\n",
      "M_esc_ref       float      0.115\n",
      "M_mot_ref       float      0.575\n",
      "M_pay           float      50.0\n",
      "M_pro_ref       float      0.014999\n",
      "ND_max          float      44.449999999999996\n",
      "N_arm           int        4\n",
      "N_pro_arm       int        1\n",
      "P_esc_ref       float      3108.0\n",
      "R_mot_ref       float      0.03\n",
      "SizingCode      type       <class '__main__.SizingCode'>\n",
      "T_max_mot_ref   float      2.8171428571428567\n",
      "T_mot_fr_ref    float      0.03\n",
      "T_nom_mot_ref   float      2.32\n",
      "a_to            float      2.4525\n",
      "beta_pro        float      0.33\n",
      "group           Group      <openmdao.core.group.Group object at 0x1087ce790>\n",
      "k_D             float      0.99\n",
      "k_ND            float      1.2\n",
      "k_mb            float      1.0\n",
      "k_mot           float      1.0\n",
      "k_os            float      3.2\n",
      "k_speed_mot     float      1.2\n",
      "k_vb            float      1.0\n",
      "np              module     <module 'numpy' from '/op<...>kages/numpy/__init__.py'>\n",
      "om              module     <module 'openmdao.api' fr<...>ackages/openmdao/api.py'>\n",
      "prob            Problem    <openmdao.core.problem.Pr<...>em object at 0x11fc5baf0>\n",
      "rho_air         float      1.18\n",
      "rho_s           float      1700.0\n",
      "sigma_max       float      70000000.0\n",
      "t_hov_spec      float      25.0\n"
     ]
    }
   ],
   "source": [
    "%whos"
   ]
  },
  {
   "cell_type": "code",
   "execution_count": null,
   "metadata": {},
   "outputs": [],
   "source": []
  }
 ],
 "metadata": {
  "kernelspec": {
   "display_name": "Python 3 (ipykernel)",
   "language": "python",
   "name": "python3"
  },
  "language_info": {
   "codemirror_mode": {
    "name": "ipython",
    "version": 3
   },
   "file_extension": ".py",
   "mimetype": "text/x-python",
   "name": "python",
   "nbconvert_exporter": "python",
   "pygments_lexer": "ipython3",
   "version": "3.9.13"
  }
 },
 "nbformat": 4,
 "nbformat_minor": 4
}
