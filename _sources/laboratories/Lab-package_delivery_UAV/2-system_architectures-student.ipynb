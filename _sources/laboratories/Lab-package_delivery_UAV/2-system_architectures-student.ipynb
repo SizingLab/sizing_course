{
 "cells": [
  {
   "cell_type": "markdown",
   "id": "601401b1-f0ce-43c1-b3ea-f9cd393d04c5",
   "metadata": {},
   "source": [
    "## Example: Physical Architecture of the Package Delivery UAV\n",
    "\n",
    "Applying the generic methodology, we will develop the physical architecture for the package delivery UAV system. We will show how the methodology leads us to eliminate fixed-wing concepts and focus on suitable architectures like multirotor and quadplane designs.\n",
    "\n",
    "### Define Physical Requirements\n"
   ]
  },
  {
   "cell_type": "code",
   "execution_count": null,
   "id": "6d10dd6a-7386-459a-9eca-556eb72b944d",
   "metadata": {},
   "outputs": [],
   "source": []
  }
 ],
 "metadata": {
  "kernelspec": {
   "display_name": "Python 3 (ipykernel)",
   "language": "python",
   "name": "python3"
  },
  "language_info": {
   "codemirror_mode": {
    "name": "ipython",
    "version": 3
   },
   "file_extension": ".py",
   "mimetype": "text/x-python",
   "name": "python",
   "nbconvert_exporter": "python",
   "pygments_lexer": "ipython3",
   "version": "3.9.18"
  }
 },
 "nbformat": 4,
 "nbformat_minor": 5
}
