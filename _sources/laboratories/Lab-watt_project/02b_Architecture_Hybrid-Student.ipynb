{
 "cells": [
  {
   "cell_type": "markdown",
   "metadata": {},
   "source": [
    "![Sizing Lab](https://raw.githubusercontent.com/SizingLab/sizing_course/main/laboratories/Lab-watt_project/assets/images/Baniere.png)"
   ]
  },
  {
   "cell_type": "markdown",
   "metadata": {},
   "source": [
    "# TD1/2 - Hydrid storage architecture & specification [Student version]\n",
    "\n",
    "*Written by Marc Budinger, INSA Toulouse, France*\n",
    "\n",
    "We will consider here an hybrid solution with super capacitors and traction batteries packs. This notebook is dedicated to :\n",
    "- understand main operating limits of super capacitors and batteries;\n",
    "- understand a control architecture enabling to split power between super capacitors and batteries;\n",
    "- specify energy storage requirements of the different energy sources.\n",
    "\n",
    "The storage element selection approach developed here is inspired by the following publication:\n",
    "> Jaafar, A., Sareni, B., Roboam, X., & Thiounn-Guermeur, M. (2010, September). Sizing of a hybrid locomotive based on accumulators and ultracapacitors. In 2010 IEEE Vehicle Power and Propulsion Conference (pp. 1-6). IEEE [[pdf](https://raw.githubusercontent.com/SizingLab/sizing_course/main/laboratories/Lab-watt_project/assets/papers/Sizing_of_a_hybrid_locomotive_based_on_accumulators_and_ultracapacitors.pdf)]."
   ]
  },
  {
   "cell_type": "markdown",
   "metadata": {},
   "source": [
    "## Main operating limits of energy storage components\n",
    "\n",
    "To select the energy storage means, it is necessary to understand their main operational limits which can be representative of:\n",
    "- **rapid/quick deterioration** that can develop over an short operating cycle (minutes/hours).  \n",
    "- **gradual degradation** linked to the lifespan of the component over multiple cycles (months/years), where the accumulation of degradation leads to an irreversible loss of performance.  \n",
    "\n",
    "> **Questions 1:** Examine the following Figures extracted from a datasheet of elementary [supercapacitors](https://1188159.fs1.hubspotusercontent-na1.net/hubfs/1188159/02-DS-220909-SKELCAP-CELLS-1F.pdf) cell or [battery (LiFeSO4)](https://5.imimg.com/data5/SELLER/Doc/2021/3/VO/ZR/QG/86781150/3-2-v-10-ah-lifepo4-prismatic-cell.pdf) cell. Propose selection criteria representative of the main operational limits. Explain how to take into account an high number of [discharge cycles](https://www.powertechsystems.eu/home/tech-corner/lithium-iron-phosphate-lifepo4/) within the sizing process of a battery.\n",
    "\n",
    "![Battery Cell](https://raw.githubusercontent.com/SizingLab/sizing_course/main/laboratories/Lab-watt_project/assets/images/BatteryCellEXample.png)\n",
    "\n",
    "![Ultracapacitor Cell](https://raw.githubusercontent.com/SizingLab/sizing_course/main/laboratories/Lab-watt_project/assets/images/SCCellExample.png)\n"
   ]
  },
  {
   "cell_type": "markdown",
   "metadata": {},
   "source": [
    "## Reflexion on the Watt System architecture (capacitors)\n",
    "\n",
    "The [WATT system](http://www.pvi.fr/wattsystem-watt-system,172.html) includes:\n",
    "- In the bus: a battery pack and an ultra capacitors pack integrated to the electric power train, a connection system with an automatic arm installed on the roof of the vehicle;\n",
    "- On the sidewalk: a charging station or \"totem\" with the connection, as well as a pack of super capacitors, all integrated in the urban landscape.\n",
    "\n",
    "Each totem (or charging station) is connected to the household electricity distribution network and allows charging between the stop of each bus. \n",
    "\n",
    "In operation the bus is powered by supercapacitors, it travels the necessary distance to the next stop, thanks to the energy stored.\n",
    "At each stop, the arm deploys and realizes in 10 seconds the transfer of energy between the super capacitors of the totem and the onboard super capacitors.\n",
    "An adapted Lithium-ion battery pack is installed in the bus in case of a connection or recharge problem and trips without passengers to return to the central station (maintenance).\n",
    "\n",
    "*Ultracapacitor Pack and Totem*\n",
    "![PositionPacks](https://raw.githubusercontent.com/SizingLab/sizing_course/main/laboratories/Lab-watt_project/assets/images/PositionPacks.png)\n",
    "\n",
    "\n",
    "In order to estimate the dimensions of the ultracapacities pack, we will be interested in the energy to be supplied to the motorization of the bus on a typical path:\n",
    "- Top speed $v_{max}$ = 30 km/h\n",
    "- Distance between 2 totems $d$ = 800 m\n",
    "- Maximum height difference $h$ = 3 m\n",
    "\n",
    "The bus has the following characteristics:\n",
    "- Mass with passengers $m$ = 20 t\n",
    "- [Rolling coefficient](http://en.wikipedia.org/wiki/Rolling_resistance) tires $C_{rr}$= 0.01\n",
    "\n",
    "Aerodynamic effect are assume here to be negligeable due to low speed.\n",
    "\n",
    " > Exercice 1: Write the general equation enabling to calculate the maximum energy to supply (to be stored). Apply it with considered simplification (aerodynamics neglected) for defined use case scenario."
   ]
  },
  {
   "cell_type": "code",
   "execution_count": null,
   "metadata": {},
   "outputs": [],
   "source": [
    "# Parameters\n",
    "v_max=30*1000/3600 # [m/s] max speed\n",
    "m=20e3 # [kg] bus mass\n",
    "d=800. # [m] distance\n",
    "h=3. # [m] rise height\n",
    "C_rr= 0.01 # [-] tyre rolling coef\n",
    "g=9.81 # [m/s²] gravity acceleration\n",
    "\n",
    "# Energies & works calculations\n",
    "# TO BE COMPLETED"
   ]
  },
  {
   "cell_type": "markdown",
   "metadata": {},
   "source": [
    "We will take as ultra-capacitor reference  the following [module](http://www.maxwell.com/products/ultracapacitors/125v-tran-modules) from [Maxwell Technologies](http://www.maxwell.com). \n",
    "\n",
    "*Maxwell module characteristics*\n",
    "![MaxwellModule](https://raw.githubusercontent.com/SizingLab/sizing_course/main/laboratories/Lab-watt_project/assets/images/MaxwellModule.png)\n",
    "\n",
    "> Exercice 2: We will assume that maximum discharge is reached when capacitor voltage reaches half its naximum voltage. Explain and calculate the minimum number of modules."
   ]
  },
  {
   "cell_type": "code",
   "execution_count": null,
   "metadata": {},
   "outputs": [],
   "source": [
    "import math\n",
    "\n",
    "# Maxwell module characteristics\n",
    "V_max=125. # [V] Max voltage\n",
    "C=63. # [F] Module capacitance\n",
    "\n",
    "# Modules number calculation\n",
    "V_min=V_max/2\n",
    "# TO BE COMPLETED"
   ]
  },
  {
   "cell_type": "markdown",
   "metadata": {},
   "source": [
    "## Simulation of a complete line\n",
    "\n",
    "The objective of this section is to propose an evolution of the previous python codes to be able to:\n",
    "- simulate the power profile necessary for a complete line comprising several sections.\n",
    "> - *We will define in particular the type of vehicle, the different lengths of sections between 2 stations (Distances vector), the average speed to be ensured (Speeds vector), the presence of charger in station (Chargers vector), the stopping duration at station (StopDuration vector), the ratio between the maximum braking power and the maximum acceleration power (RatioBrakeMax).*\n",
    "- provide the information necessary for sizing the battery/supercapacity packs that could be added.\n",
    "> - *We assume here an efficiency of the motorization chain of 100%.*\n",
    "> - *Each line section will be optimized in order to meet the requirements defined previously and minimize the energy consumed.*\n",
    "> -*The energy flow or the resulting power demand will be shared between battery and supercapacity with control based on frequency sharing of demands: the low frequency power will be provided by the batteries while the high frequency part will be provided by supercapacitors.*\n",
    "> - *Indicators useful for sizing will then be generated from these power profiles.*\n",
    "\n",
    "- take into account the energy that could come from charging stations or catenaries.\n",
    "> - *This version will only implement the consideration of charging stations.*\n",
    "> - *Each charging station will provide the power to compensate for the energy of the travel from the last station.*\n",
    "\n",
    "Let us first load the classes developed within TP1 notebook."
   ]
  },
  {
   "cell_type": "code",
   "execution_count": null,
   "metadata": {},
   "outputs": [],
   "source": [
    "%%capture\n",
    "%run ./01b_CaseStudy_Specification.ipynb"
   ]
  },
  {
   "cell_type": "markdown",
   "metadata": {},
   "source": [
    "Here we define a `line` class with all the functionalities described just before."
   ]
  },
  {
   "cell_type": "code",
   "execution_count": null,
   "metadata": {},
   "outputs": [],
   "source": [
    "from scipy import signal\n",
    "\n",
    "class line():\n",
    "    def __init__(self, Vehicle, Distances, Speeds, Chargers, StopDuration, RatioBrakeMax):\n",
    "        \n",
    "        # Save attributes\n",
    "        self.Chargers =  Chargers # Boolean vector (True = Charger, False = No Charger , at the end of the section)\n",
    "        self.StopDuration = StopDuration # [s] station stop duration (scalar)\n",
    "        self.RatioBrakeMax = RatioBrakeMax # [-] Ratio between max braking power / max acceleration power\n",
    "        \n",
    "        # Initialization of  transient evolution (vectors)\n",
    "        self.PowerStorage = [] # Transient evolution of requested power\n",
    "        self.GlobalTime = [] # Time vector for plot and energy integration\n",
    "        self.GlobalNRJStorage = [] # Transient evolution of energy\n",
    "        self.PowerLF = [] # Transient evolution of power  (Low Frequency)\n",
    "        self.PowerHF = [] # Transient evolution of power  (high Frequency)\n",
    "        self.LFNRJStorage = [] # Time vector for plot and energy integration (Low Frequency)\n",
    "        self.HFNRJStorage  =[] # Time vector for plot and energy integration (High Frequency)\n",
    "        self.TotalLineDistance = sum(Distances)\n",
    "        self.dt=0.25 # Time step for numerical integration\n",
    "        \n",
    "        # Print characteristics of each section\n",
    "        i=0\n",
    "        self.Section=[]\n",
    "        for d,s,c in zip(Distances, Speeds, Chargers):\n",
    "            print(\"Section %.i: %.i m at %.2f m/s %s charger\"%(i+1,d,s, \"whith\" if c else \"without\"))\n",
    "            self.Section=self.Section+[OptimSection(Vehicle,d,s,self.RatioBrakeMax,self.dt)]\n",
    "            i=i+1\n",
    "    \n",
    "    # Optimization loop of each section\n",
    "    def optimLine(self):\n",
    "        X=[0.1, 1.0, 0.9]\n",
    "        for i in range(len(self.Section)):\n",
    "            self.Section[i].optimizeConso_genetic(X)\n",
    "    \n",
    "    # Power vector concatenation \n",
    "    def CalculPowerStorage(self):\n",
    "        NRJ = 0\n",
    "        self.PowerStorage= []\n",
    "        self.GlobalTime= []\n",
    "        dt=self.dt # [s] pas de temps pour l'integration\n",
    "        \n",
    "        # Power vector build thanks concatenation \n",
    "        for i in range(len(self.Section)):\n",
    "            NRJ=NRJ+self.Section[i].NRJsection[-1] # we add here the energy consummed on the section\n",
    "            \n",
    "            self.PowerStorage = self.PowerStorage + self.Section[i].psection\n",
    "            \n",
    "            # Chargers effect\n",
    "            if (self.Chargers[i] == True and i<(len(self.Section)-1)):\n",
    "                tcharge=NRJ/self.Section[i].Vehicle.Pmax # Charging time caculation function of energy  \n",
    "            else:\n",
    "                tcharge=0\n",
    "            if (tcharge>=self.StopDuration):\n",
    "                self.PowerStorage = self.PowerStorage + [-self.Section[i].Vehicle.Pmax]*int(tcharge/dt)\n",
    "                NRJ=0\n",
    "            else:\n",
    "                if (i<(len(self.Section)-1)):\n",
    "                    self.PowerStorage = self.PowerStorage + [-self.Section[i].Vehicle.Pmax]*int(tcharge/dt)\n",
    "                    self.PowerStorage = self.PowerStorage + [0]*int((self.StopDuration-tcharge)/dt)\n",
    "                if (self.Chargers[i] == True) :\n",
    "                    NRJ=0  \n",
    "        \n",
    "        # Time vector\n",
    "        t=0\n",
    "        for i in range(len(self.PowerStorage)):\n",
    "            self.GlobalTime = self.GlobalTime + [t]\n",
    "            t = t + dt\n",
    "            \n",
    "    # Filtering of total power in order to generate LF (battery) and HF (capacitor) powers\n",
    "    def FilterPower(self, omega):\n",
    "        TF=signal.TransferFunction([1], [1/omega**2, 2*1/omega, 1])\n",
    "        time, self.PowerLF, state = signal.lsim(TF, self.PowerStorage , self.GlobalTime)\n",
    "        self.PowerHF = self.PowerStorage -  self.PowerLF\n",
    "        \n",
    "    # NRJ vector integration from power vectors\n",
    "    def IntegrateNRJ(self):\n",
    "        t=0\n",
    "        NRJtotal=0\n",
    "        NRJHF=0\n",
    "        NRJLF=0\n",
    "        #NRJTotalAging=0\n",
    "        #NRJLFAging=0\n",
    "        self.HFNRJStorage = []\n",
    "        self.GlobalNRJStorage = []\n",
    "        self.LFNRJStorage = []\n",
    "        dt=self.dt\n",
    "        \n",
    "        for i in range(len(self.PowerStorage)):\n",
    "            self.GlobalNRJStorage = self.GlobalNRJStorage + [NRJtotal]\n",
    "            self.HFNRJStorage = self.HFNRJStorage + [NRJHF]\n",
    "            self.LFNRJStorage = self.LFNRJStorage + [NRJLF]\n",
    "            #self.TotalNRJAging = self.TotalNRJAging + [NRJTotalAging]\n",
    "            #self.LFNRJAging = self.LFNRJAging + [NRJLFAging]\n",
    "        \n",
    "            t = t + dt\n",
    "            NRJtotal = NRJtotal+(self.PowerStorage[i])*dt\n",
    "            NRJHF = NRJHF+(self.PowerHF[i])*dt\n",
    "            NRJLF = NRJLF+(self.PowerLF[i])*dt\n",
    "        \n",
    "        PmaxHF = max(abs(min(self.PowerHF)),max(self.PowerHF))/1e3 # kW\n",
    "        PmaxLF = max(self.PowerLF)/1e3 # kW \n",
    "        PmaxBrakeLF = abs(min(self.PowerLF))/1e3 # kW, Max power braking\n",
    "        NRJHF = (max(self.HFNRJStorage) - min(self.HFNRJStorage))/3600/1e3 # NRJ en kWh\n",
    "        NRJLF = (max(self.LFNRJStorage) - min(self.LFNRJStorage))/3600/1e3 # NRJ en kWh\n",
    "        \n",
    "        return PmaxHF, PmaxLF, PmaxBrakeLF, NRJHF, NRJLF\n",
    "                      \n",
    "    # Plot the results for a local section\n",
    "    def plot_power_share(self):\n",
    "        fig, axs = plt.subplots(2,1)\n",
    "        try:\n",
    "            axs[0].plot(self.GlobalTime,self.PowerStorage,'b-',label='Total')\n",
    "            axs[0].plot(self.GlobalTime,self.PowerLF,'r-.',label='LF')\n",
    "            axs[0].plot(self.GlobalTime,self.PowerHF,'g-.',label='HF')\n",
    "        except:\n",
    "            pass\n",
    "        axs[0].set_ylabel(\"Power (W)\")\n",
    "        axs[0].legend(bbox_to_anchor=(1.05, 1.0), loc='upper left')\n",
    "        axs[0].grid()\n",
    "        try:\n",
    "            axs[1].plot(self.GlobalTime,self.GlobalNRJStorage,'b-',label='Total')\n",
    "            axs[1].plot(self.GlobalTime,self.LFNRJStorage,'r-.',label='LF')\n",
    "            axs[1].plot(self.GlobalTime,self.HFNRJStorage,'g-.',label='HF')\n",
    "            axs[1].set_ylabel(\"Energy (J)\")\n",
    "            axs[1].legend(bbox_to_anchor=(1.05, 1.0), loc='upper left')\n",
    "            axs[1].grid()   \n",
    "            axs[1].set_xlabel('Time (s)')\n",
    "        except:\n",
    "            fig.delaxes(axs[1])\n",
    "        fig.tight_layout() \n",
    "\n",
    "    # Plot the results for the complete line\n",
    "    def plot_sections(self):\n",
    "        for i in range(len(self.Section)):\n",
    "            self.Section[i].plot()  \n",
    "              \n",
    "            "
   ]
  },
  {
   "cell_type": "markdown",
   "metadata": {},
   "source": [
    "> Exercice 3: Read previous code and explain what it does method by method."
   ]
  },
  {
   "cell_type": "markdown",
   "metadata": {},
   "source": [
    "## Example of a line definition\n",
    "\n",
    "We can now use this new class to define a bus transport line with the following requirements:\n",
    "- distances: 700, 500, 400, 700, 300, 300, 300, 300, 300, 300 m/s\n",
    "- mean speed: 7, 7, 7, 5, 5, 5, 5, 5 m/s\n",
    "- one final charger\n",
    "\n",
    " > Exercice 4: Define the line and launch an optimization process. Then plot the results on all the profiles."
   ]
  },
  {
   "cell_type": "code",
   "execution_count": null,
   "metadata": {},
   "outputs": [],
   "source": []
  },
  {
   "cell_type": "markdown",
   "metadata": {},
   "source": [
    "Each speed profil section can be optimized."
   ]
  },
  {
   "cell_type": "code",
   "execution_count": null,
   "metadata": {},
   "outputs": [],
   "source": []
  },
  {
   "cell_type": "code",
   "execution_count": null,
   "metadata": {},
   "outputs": [],
   "source": []
  },
  {
   "cell_type": "markdown",
   "metadata": {},
   "source": [
    "A time vector of evolution of the power required at each section or supplied to each charger is constructed."
   ]
  },
  {
   "cell_type": "code",
   "execution_count": null,
   "metadata": {},
   "outputs": [],
   "source": [
    "ToulouseC.CalculPowerStorage()\n",
    "ToulouseC.plot_power_share()"
   ]
  },
  {
   "cell_type": "markdown",
   "metadata": {},
   "source": [
    "### Hybrid storage system sizing\n",
    "\n",
    "The energy flow or the resulting power demand will be shared between battery and supercapacity with control based on frequency sharing of demands. The Figure below show how the low frequency power will be provided by the batteries while the high frequency part will be provided by supercapacitors.\n",
    "\n",
    "![Sizing Stategy](https://raw.githubusercontent.com/SizingLab/sizing_course/main/laboratories/Lab-watt_project/assets/images/EnergyManagment.png)\n",
    "\n",
    "The cutoff frequency defines the power sharing and has a strong influence on the sizing of the storage elements. The following code analyzes this power sharing by varying this cutoff frequency."
   ]
  },
  {
   "cell_type": "markdown",
   "metadata": {},
   "source": [
    "> Exercice 5: Implement the different sizing criteria (power, energy, lifetime...) to evaluate the mass or CO2 impact of batteries and supercapacitors using emission densities (ratio between CO2 to produce components an their own embedded mass)."
   ]
  },
  {
   "cell_type": "code",
   "execution_count": null,
   "metadata": {},
   "outputs": [],
   "source": [
    "omegaV=np.logspace(-5,2,50)\n",
    "MassStorageV=[]\n",
    "MassLFPAgeing=[]\n",
    "MassLFPNRJ=[]\n",
    "MassLFPPow=[]\n",
    "MassSCNRJ=[]\n",
    "MassSCPow=[]\n",
    "CO2Total=[]\n",
    "\n",
    "# Lifetime of the vehicle\n",
    "Targetkm = 250e3 # [km]\n",
    "\n",
    "# Supercapacitors energy density\n",
    "# https://1188159.fs1.hubspotusercontent-na1.net/hubfs/1188159/02-DS-220909-SKELCAP-CELLS-1F.pdf\n",
    "# chez Skeleton\n",
    "WmassSC=6.8*0.75 # [Wh/kg] 75% of the fully-charge energy can be used (voltage variation from Vmax to Vmax/2)\n",
    "PmassSC=860/4.3*6.8*0.75 # [W/kg]\n",
    "\n",
    "# Batteries energy density (LFP technology)\n",
    "WmassLFP= 100 # [Wh/kg] Depth Of Discharge (DOD) of 100% does not decrease that much the lifetime\n",
    "PmassLFP=3*100 # [W/kg]  Power density (3C acceptable discharge)\n",
    "PBmassLFP=1*100 # [W/kg]  Power density (1C acceptable charge)\n",
    "Ncycle = 3000 # [-] cycles number at 100% DOD\n",
    "\n",
    "# Bilan carbone\n",
    "CO2SC = 39 # kgCO2eq/kg d'ecoInvent\n",
    "CO2LFP = 11 # kgCO2eq/kg d'ecoInvent\n",
    "\n",
    "# For each LF/HF repartition size batteries/supercapacitors\n",
    "for omega in omegaV:\n",
    "    \n",
    "    ToulouseC.FilterPower(omega)\n",
    "    PmaxHF, PmaxLF, PmaxBrakeLF, NRJHF, NRJLF = ToulouseC.IntegrateNRJ()\n",
    "\n",
    "    # Calculate batteries mass depending on criteria (Ageing, energy, power)\n",
    "    Nc=Targetkm*1000/ToulouseC.TotalLineDistance # Number of cycles for global lifetime \n",
    "    DoD=(Nc/3365)**(-1/2.26) # DoD calculation for Target Km\n",
    "    # TO BE COMPLETED\n",
    "    # MassLFPAgeing = \n",
    "    # MassLFPNRJ = \n",
    "    # MassLFPPow = \n",
    "\n",
    "    # Calculate capacitors mass depending on criteria (Energy, power)\n",
    "    # TO BE COMPLETED\n",
    "    # MassSCNRJ = MassSCNRJ + []\n",
    "    # MassSCPow = MassSCPow + []\n",
    "\n",
    "    # Calculate worst case total hybrid storage mass\n",
    "    MassStorageV = MassStorageV + [max(MassLFPAgeing[-1], MassLFPNRJ[-1], MassLFPPow[-1]) + max(MassSCNRJ[-1], MassSCPow[-1])]\n",
    "     \n",
    "    # Calculate CO2 emission for hybrid mix\n",
    "    CO2Total = CO2Total + [max(MassSCNRJ[-1], MassSCPow[-1])*CO2SC + max(MassLFPAgeing[-1], MassLFPNRJ[-1], MassLFPPow[-1])*CO2LFP]\n"
   ]
  },
  {
   "cell_type": "markdown",
   "metadata": {},
   "source": [
    "The following figures represent the overall mass of the solutions according to the choosen power share. A simple CO2 impact is also estimated."
   ]
  },
  {
   "cell_type": "code",
   "execution_count": null,
   "metadata": {},
   "outputs": [],
   "source": [
    "plt.plot(omegaV, MassStorageV, 'g^', label='Total')\n",
    "plt.plot(omegaV, MassSCNRJ, 'yo', label='SuperCap NRJ')\n",
    "plt.plot(omegaV, MassSCPow, 'yx', label='SuperCap Power')\n",
    "plt.plot(omegaV, MassLFPNRJ, 'bo', label='LFP NRJ')\n",
    "plt.plot(omegaV, MassLFPPow, 'bx', label='LFP Power (Brake)')\n",
    "plt.plot(omegaV, MassLFPAgeing, 'ro', label='LFP Aging')\n",
    "plt.xscale('log') \n",
    "plt.ylabel('Weight (kg)')\n",
    "plt.xlabel('Cut off angular frequency (rad/s)')\n",
    "plt.legend()\n",
    "plt.grid()\n",
    "plt.show()\n",
    "\n",
    "plt.plot(omegaV, CO2Total, 'g^', label='Total')\n",
    "plt.xscale('log') \n",
    "plt.ylabel('CO2  (kgCO2eq)')\n",
    "plt.xlabel('Cut off angular frequency (rad/s)')\n",
    "plt.legend()\n",
    "plt.grid()\n",
    "plt.show()"
   ]
  },
  {
   "cell_type": "markdown",
   "metadata": {},
   "source": [
    "A [Pareto front](https://en.wikipedia.org/wiki/Pareto_front) can help find a solution achieving a compromise between 2 objectives."
   ]
  },
  {
   "cell_type": "code",
   "execution_count": null,
   "metadata": {},
   "outputs": [],
   "source": [
    "# Pareto Front\n",
    "\n",
    "plt.scatter(MassStorageV, CO2Total, c=np.log10(omegaV))\n",
    "plt.xlabel('Weight (kg)')\n",
    "plt.ylabel('CO2  (kgCO2eq)')\n",
    "plt.colorbar()\n",
    "plt.title('Cut off angular frequency influence on Pareto Front')\n",
    "plt.show()"
   ]
  },
  {
   "cell_type": "code",
   "execution_count": null,
   "metadata": {},
   "outputs": [],
   "source": [
    "ToulouseC.FilterPower(0.4)\n",
    "PmaxHF, PmaxLF, PmaxBrakeLF, NRJHF, NRJLF=ToulouseC.IntegrateNRJ()\n",
    "\n",
    "Nc=Targetkm*1000/ToulouseC.TotalLineDistance # Number of cycles for global lifetime \n",
    "DoD=(Nc/3365)**(-1/2.26) # DoD calculation for Target Km\n",
    "\n",
    "print(\"Super Capacitor:\")\n",
    "print(\"Pmax: %.2f kW\"%PmaxHF)\n",
    "print(\"NRJ:  %.2f kWh\"%NRJHF)\n",
    "print(\"Mass: % .1f kg\"%(max(NRJHF/WmassSC*1e3, PmaxHF/PmassSC*1e3)))\n",
    "      \n",
    "print(\"---\")\n",
    "print(\"Traction battery:\")\n",
    "print(\"Pmax discharge: %.2f kW\"%PmaxLF)\n",
    "print(\"Pmax charge: %.2f kW\"%PmaxBrakeLF)\n",
    "print(\"NRJ: %.2f kWh\"%(NRJLF/DoD))\n",
    "print(\"NRJ one travel: %.2f kWh\"%(NRJLF))\n",
    "print(\"Mass: % .1f kg\"%(max(NRJLF/DoD/WmassLFP*1e3,\n",
    "                                       PmaxLF/PmassLFP*1e3, PmaxBrakeLF/PBmassLFP*1e3)))  \n",
    "print(\"Mass (brake criteria): % .1f kg\"%(PmaxLF/PmassLFP*1e3))  \n",
    "\n",
    "\n",
    "ToulouseC.plot()\n",
    "print(\"---\")"
   ]
  },
  {
   "cell_type": "markdown",
   "metadata": {},
   "source": [
    "### Labwork and homework\n",
    "\n",
    "Your objective is to specify the hybrid storage system of an electric bus for doubling line 78 between the IUT Rangueil and MFJA stations.\n",
    "The characteristics of the bus are [here](https://www.bluebus.fr/bluebus-6-metres)  \n",
    "![BlueBus](https://raw.githubusercontent.com/SizingLab/sizing_course/main/laboratories/Lab-watt_project/assets/images/bluebus.png)\n",
    "A example of time table of the line 78 is [here](https://www.tisseo.fr/sites/default/files/fh/ligne78.html)  \n",
    "![L78](https://raw.githubusercontent.com/SizingLab/sizing_course/main/laboratories/Lab-watt_project/assets/images/L78.PNG)\n",
    "We will assume a round trip in 20 min, charge at the ends of the lines included.  \n",
    "\n",
    "> Modify the present notebooks in order to set up a technical justification report : starting from the need (journey, vehicle size, frequency of journeys), setting up the effort/speed/power profiles, the power distribution in the hybrid storage system, the preliminary sizing and the specification of the main components.  \n",
    "\n",
    "> Adapt and complete the sizing process in order to take into account the global efficiency of the converters and storage elments (assumed to be equal to 80%).   \n",
    "\n",
    "![Sizing process](https://raw.githubusercontent.com/SizingLab/sizing_course/main/laboratories/Lab-watt_project/assets/images/SizingProcessNu.PNG)  \n",
    "\n",
    "> Propose compatible technological [storage packs](https://www.skeletontech.com/en/supercapacitor-modules) and specify the DC/DC converters (DC bus of 400 V). \n",
    "\n",
    "> Provide an electrical architecture diagram ([possible software](https://qelectrotech.org/)) summarizing your main choices:\n",
    ">- representing the different sources and load of the network.  \n",
    ">- making it possible to standardize the DC/DC converters used.  \n",
    ">- allowing reduced functionality to be maintained in the event of a fault on part of the storage elements  \n",
    "\n",
    "\n",
    "\n"
   ]
  }
 ],
 "metadata": {
  "kernelspec": {
   "display_name": "Python 3 (ipykernel)",
   "language": "python",
   "name": "python3"
  },
  "language_info": {
   "codemirror_mode": {
    "name": "ipython",
    "version": 3
   },
   "file_extension": ".py",
   "mimetype": "text/x-python",
   "name": "python",
   "nbconvert_exporter": "python",
   "pygments_lexer": "ipython3",
   "version": "3.12.7"
  }
 },
 "nbformat": 4,
 "nbformat_minor": 4
}
