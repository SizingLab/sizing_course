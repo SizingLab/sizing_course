{
 "cells": [
  {
   "cell_type": "markdown",
   "metadata": {},
   "source": [
    "![Sizing Lab](https://raw.githubusercontent.com/SizingLab/sizing_course/main/laboratories/Lab-watt_project/assets/images/Baniere.png)"
   ]
  },
  {
   "cell_type": "markdown",
   "metadata": {},
   "source": [
    "# TP1 - Case study specification [Student Version]\n",
    "\n",
    "*Written by Marc Budinger, INSA Toulouse, France*\n",
    "\n",
    "The objective of this notebook is to develop tools to:\n",
    "- generate typical point-ot-point mission profiles to analyse the energetic performance of different mobility;\n",
    "- optimize thoose given profiles shapes/strategy to minimize consumption;\n",
    "\n",
    "In order to have flexibility in the definition of the case studies, an object-oriented programming approach will be used and links will be given to understand the formalism.\n",
    "\n",
    "# Table of Contents\n",
    "1. [Vehicles definition](#Vehicles-definition)\n",
    "2. [Mission profile definition and consumption simulation](#Mission-profile-definition-and-consumption-simulation)\n",
    "3. [Automatically find speed profile decomposition (k1, k2, k3) with an optimization process](#Automatically-find-speed-profile-decomposition-(k1,-k2,-k3)-with-an-optimization-process)\n",
    "4. [Different vehicules energetic comparison](#Different-vehicules-energetic-comparison)\n",
    "5. [Homework](#Homework)"
   ]
  },
  {
   "cell_type": "markdown",
   "metadata": {},
   "source": [
    "## Vehicles definition\n",
    "\n",
    "Different types of urban electric vehicles exist (tram, trolley bus, [electric bus](https://blog.hcigroupe.com/de-6-%C3%A0-24-m%C3%A8tres-tour-dhorizon-des-diff%C3%A9rentes-longueurs-de-bus)), we can define a general vehicle [class](https://www.w3schools.com/python/python_classes.asp) which can represent the multiple possible supports."
   ]
  },
  {
   "cell_type": "code",
   "execution_count": null,
   "metadata": {},
   "outputs": [],
   "source": [
    "class vehicle:\n",
    "    def __init__(self, MaxSpeed, MaxAcc, NumberPass, Weight, Crr, Cd, FrontArea):\n",
    "        self.MaxSpeed = MaxSpeed # [m/s] maximal speed\n",
    "        self.NumberPass = NumberPass # [-] passenger capacity (pass/veh)\n",
    "        self.Weight = Weight # [kg] effective weight (with passenger: add 62kg/pass)\n",
    "        self.Crr = Crr # [-] rolling resistance coefficient\n",
    "        self.Cd = Cd # [-] drag coefficient\n",
    "        self.FrontArea = FrontArea # [m²] frontal area\n",
    "        self.update_acc(MaxAcc)\n",
    "        \n",
    "    def update_acc(self, MaxAcc):\n",
    "        self.MaxAcc = MaxAcc # [m/s²] maximal acceleration\n",
    "        self.Fmax = self.Weight*MaxAcc # [N] max traction force\n",
    "        self.Pmax = self.Fmax*self.MaxSpeed # [W] max corner power\n"
   ]
  },
  {
   "cell_type": "markdown",
   "metadata": {},
   "source": [
    "Here you will find some useful vehicle characteristics for the rest of the study.\n",
    "\n",
    "| Attribute  | Tram      | Trolleybus      | Bus | Car (Tesla 3) |\n",
    "|---    |:-:    |:-:    |:-:    |:-:    |\n",
    "| Maximum operational speed     |  60 km/h     |  60 km/h     | 50 km/h | 100 km/h (1st gear) |\n",
    "| Acceleration and braking      | 1.2 m/s²      |  1.2 m/s²     | 1.2 m/s² | 4.6 m/s² |\n",
    "| Passenger capacity      | 220      | 138      | 95 | 4 |\n",
    "| Vehicle effective weight @ 62 kg/p | 57049 kg | 27656 kg | 19500 kg |1800 kg  |\n",
    "| Rolling resistance coefficient | 0.006 | 0.015 | 0.015 | 0.015 |\n",
    "| Aerodynamic drag coefficient| 0.6 | 0.6 |0.6 | 0.23 | \n",
    "| Frontal area | 8.5 m² | 8.5 m² | 8.5 m²| 2.22 m² |\n",
    "\n"
   ]
  },
  {
   "cell_type": "markdown",
   "metadata": {},
   "source": [
    "> **Exercise 1:** Define the 4 instances corresponding to the vehicles described in the above table."
   ]
  },
  {
   "cell_type": "code",
   "execution_count": null,
   "metadata": {},
   "outputs": [],
   "source": [
    "Tram = vehicle(MaxSpeed=60*1e3/3600, MaxAcc=1.2, NumberPass=220, Weight=57049, Crr=0.006, Cd=0.6, FrontArea=8.5)"
   ]
  },
  {
   "cell_type": "markdown",
   "metadata": {},
   "source": [
    "## Mission profile definition and consumption simulation\n",
    "\n",
    "The objective now is to simulate the dynamic evolution of the main mechanical quantities (position, speed, acceleration, traction/braking force, traction/braking power and cumulated energy) on typical sections of urban routes (a point-to-point scenario).\n",
    "\n",
    "When a vehicle travels from point A (Starting point - v=0km/h) to point B (Stopping point - v=0km/h) it generally passes through four stages namely:\n",
    "- Acceleration portion (traction force is considered constant);\n",
    "- Maintained speed portion (or null acceleration);\n",
    "- Coasting/freewheel portion: traction/braking force is null;\n",
    "- Braking portion (braking force is considered constant).\n",
    "\n",
    "The control points for switching from one portion to the other one are defined in the following code by using 3 ratio parameters $k_1, k_2, k_3$ as shown in the figure below: \n",
    "\n",
    "<center><img src=\"https://raw.githubusercontent.com/SizingLab/sizing_course/main/laboratories/Lab-watt_project/assets/images/GeneralspeedProfile.PNG\" alt=\"General Speed Profile\" /></center>\n"
   ]
  },
  {
   "cell_type": "markdown",
   "metadata": {},
   "source": [
    "> **Exercise 2:** Try to find the shape of the acceleration=f(distance) and propulsive\\braking-force=f(distance) curves."
   ]
  },
  {
   "cell_type": "markdown",
   "metadata": {},
   "source": [
    "A code skeleton initial implementation is given to define a point-to-point dynamic simulation.\n",
    "The idea is to propose a simple [Euler inegration](https://fr.wikipedia.org/wiki/R%C3%A9solution_num%C3%A9rique_des_%C3%A9quations_diff%C3%A9rentielles) of vehicle longitudinal dynamics and calculate associated data (power, energy) across the entire profile.\n",
    "\n",
    "> **Exercise 3:** Based on available data, implement longitudinal dynamic differential equation (PFD) in CODE 2 section. What force/parameter evolution could be added to take into account variations in altitude?"
   ]
  },
  {
   "cell_type": "code",
   "execution_count": null,
   "metadata": {},
   "outputs": [],
   "source": [
    "import numpy as np\n",
    "import matplotlib.pyplot as plt\n",
    "\n",
    "class SimulSection:\n",
    "    \n",
    "    def __init__(self, Vehicle, Distance, MeanSpeed, BrakeRatioMax, dt):\n",
    "        \n",
    "        # Parameters definition\n",
    "        self.Vehicle = Vehicle # store vehicle class instance\n",
    "        self.Distance = Distance # [m] A-B distance to travel\n",
    "        self.MeanSpeed = MeanSpeed # [m/s] Mean Speed\n",
    "        self.TravelTime = self.Distance / self.MeanSpeed  # [s] Travel time\n",
    "        self.BrakeRatioMax = BrakeRatioMax # [-], <1 =F_braking/f_propulsion (to reproduce driver behavior)\n",
    "        self.dt = dt # Time step for numerical solver\n",
    "\n",
    "        # Constants\n",
    "        self.rho = 1.25 # [kg/m3] air density\n",
    "        self.g = 9.81 # [m/s²] gravity\n",
    "        \n",
    "        # Validate vehicle limits match specifications (print warning):\n",
    "        #    - max acceleration/braking vs. Vmean and distance (triangular acceleration profile)\n",
    "        #    - Vmean vs. max speed on trapezoidal profile\n",
    "        ###############################################\n",
    "        # CODE 1\n",
    "        ###############################################\n",
    "\n",
    "    def update_acc(self, MaxAcc):\n",
    "        self.Vehicle.update_acc(MaxAcc)\n",
    "        # Validate vehicle limits match specifications (print warning):\n",
    "        #    - max acceleration/braking vs. Vmean and distance (triangular acceleration profile)\n",
    "        #    - Vmean vs. max speed on trapezoidal profile\n",
    "        ###############################################\n",
    "        # CODE 1\n",
    "        ###############################################\n",
    "            \n",
    "    # local derivative of the vehicle state vector y (y=[x, dx/dt], x being the longitudinal position)\n",
    "    def derivative(self, y, F):\n",
    "        \n",
    "        # state\n",
    "        x, dxdt = y\n",
    "        \n",
    "        # Define derivative d²xdt²\n",
    "        ###############################################\n",
    "        # CODE 2\n",
    "        ###############################################\n",
    "        \n",
    "        dydt = [dxdt, dxdt2]\n",
    "        return dydt \n",
    "\n",
    "  \n",
    "    # https://perso.crans.org/besson/publis/notebooks/Runge-Kutta_methods_for_ODE_integration_in_Python.html\n",
    "    # solver numerique\n",
    "        \n",
    "    def solver(self, profile_ratios):\n",
    "        \n",
    "        # save profile ratios\n",
    "        k1, k2, k3 = profile_ratios\n",
    "        dt=self.dt # [s] integration time step\n",
    "\n",
    "        # initialise vectors (time, position, speed, acceleration, power @ wheel, force @ wheel, energy @ wheel)\n",
    "        self.tsection = [0]\n",
    "        self.xsection = [0]\n",
    "        self.vsection = [0]\n",
    "        self.asection = [0] \n",
    "        self.psection = [0]\n",
    "        self.Fsection = [0]\n",
    "        self.NRJsection = [0]\n",
    "        \n",
    "        # while vehicle speed remains positive point B is not reached\n",
    "        y= np.array([0, 0])\n",
    "        while (y[1]>=0):\n",
    "            \n",
    "            # Depending on profile section/portion, define wheel force\n",
    "            if (y[0]<k1*k2*k3*self.Distance):\n",
    "                F=self.Vehicle.Fmax\n",
    "            elif (y[0]<k3*k2*self.Distance):\n",
    "                F=(self.Vehicle.Crr*self.Vehicle.Weight*self.g+1/2*self.rho*self.Vehicle.FrontArea*self.Vehicle.Cd*y[1]**2)*np.sign(y[1])\n",
    "            elif (y[0]<k3*self.Distance):\n",
    "                F=0\n",
    "            else:\n",
    "                F=-self.BrakeRatioMax*self.Vehicle.Fmax\n",
    "\n",
    "            # Perform a simple Euler integration from t to t+dt\n",
    "            dydt = self.derivative(y, F)\n",
    "            y = y + dt*np.array(dydt)\n",
    "                \n",
    "            # Save vectors\n",
    "            self.tsection = self.tsection + [self.tsection[-1]+dt]\n",
    "            self.xsection = self.xsection + [y[0]]\n",
    "            self.vsection = self.vsection + [y[1]]\n",
    "            self.psection = self.psection + [y[1]*F]\n",
    "            self.asection = self.asection + [dydt[1]] \n",
    "            self.Fsection = self.Fsection + [F] \n",
    "            self.NRJsection = self.NRJsection + [self.NRJsection[-1]+y[1]*F*dt]\n",
    "            \n",
    "    # Plot all the results vs. specification in graphs\n",
    "    def plot(self):\n",
    "        fig, axs = plt.subplots(3,2)\n",
    "        \n",
    "        axs[0,0].plot(self.tsection,self.xsection,'b-',label='Simulation')\n",
    "        axs[0,0].plot(self.tsection,self.Distance*np.ones(len(self.tsection)),'g-',label='Specified distance')\n",
    "        axs[0,0].set_ylabel(\"Position (m)\")\n",
    "        axs[0,0].set_xlabel('Time (s)')\n",
    "        axs[0,0].legend()\n",
    "        axs[0,0].grid()\n",
    "        \n",
    "        axs[1,0].plot(self.tsection, self.vsection,'b-', label='Simulation')\n",
    "        axs[1,0].plot(self.tsection, self.MeanSpeed*np.ones(len(self.tsection)),'g-',label='Specified mean speed')\n",
    "        axs[1,0].plot(self.tsection, np.mean(self.vsection)*np.ones(len(self.tsection)),'r--',label='Profile mean speed')\n",
    "        axs[1,0].set_ylabel(\"Speed (m/s)\")\n",
    "        axs[1,0].set_xlabel('Time (s)')\n",
    "        axs[1,0].legend()\n",
    "        axs[1,0].grid()    \n",
    "        \n",
    "        axs[0,1].plot(self.tsection, self.Fsection,'b-')\n",
    "        axs[0,1].set_ylabel(\"Force (N)\")\n",
    "        axs[0,1].set_xlabel('Time (s)')\n",
    "        axs[0,1].grid()\n",
    "        \n",
    "        axs[2,0].plot(self.tsection, self.asection,'b-')\n",
    "        axs[2,0].set_ylabel(\"Acceleration (m/s²)\")\n",
    "        axs[2,0].set_xlabel('Time (s)')\n",
    "        axs[2,0].grid()\n",
    "        \n",
    "        axs[1,1].plot(self.tsection, np.array(self.psection)*1e-3,'b-')\n",
    "        axs[1,1].set_ylabel(\"Power (kW)\")\n",
    "        axs[1,1].set_xlabel('Time (s)')\n",
    "        axs[1,1].grid()\n",
    "        \n",
    "        axs[2,1].plot(self.tsection, np.array(self.NRJsection)*1e-3,'b-')\n",
    "        axs[2,1].set_ylabel(\"Energy (kJ)\")\n",
    "        axs[2,1].set_xlabel('Time (s)') \n",
    "        axs[2,1].grid()\n",
    "        \n",
    "        fig.tight_layout()\n",
    "\n",
    "    def ConsumptionPerPax(self,x):\n",
    "        self.solver(x)\n",
    "        print(\"Consumption per passenger: %.2f kJ/(Pax.km)\"%(self.NRJsection[-1]/self.Vehicle.NumberPass/self.Distance))\n",
    "        return (self.NRJsection[-1]/self.Vehicle.NumberPass/self.Distance)\n",
    "    \n",
    "    def MaxEnergyPoint(self,x):\n",
    "        self.solver(x)\n",
    "        print(\"Max energy discharge: %.0f kJ\"%(max(self.NRJsection)*1e-3))\n",
    "        return max(self.NRJsection)*1e-3\n",
    "\n",
    "    def MaxPowerPoints(self,x):\n",
    "        self.solver(x)\n",
    "        print(\"Max power discharge: %.0f kW\"%(max(self.psection)*1e-3))\n",
    "        print(\"Max power recharge: %.0f kW\"%(min(self.psection)*1e-3))\n",
    "        return max(self.psection)*1e-3, min(self.psection)*1e-3\n",
    "    \n"
   ]
  },
  {
   "cell_type": "markdown",
   "metadata": {},
   "source": [
    "To check that the developed code does not containt errors, let us apply following Tram example:"
   ]
  },
  {
   "cell_type": "code",
   "execution_count": null,
   "metadata": {},
   "outputs": [],
   "source": [
    "# Definition of the section under study\n",
    "Travel_Tram = SimulSection(Vehicle=Tram, Distance=670, MeanSpeed=26*1e3/3600, BrakeRatioMax=1.0, dt=1.0)\n",
    "print('Duration of traject for given mean speed: {:.2f}s'.format(670/(26*1e3/3600)))\n",
    "\n",
    "# Profile integration, plotting and consummption per passenger evaluation\n",
    "X=[0.036125972011676784, 1, 0.9638740279883232]\n",
    "Travel_Tram.solver(X)\n",
    "Travel_Tram.plot()\n",
    "Travel_Tram.ConsumptionPerPax(X)\n",
    "Travel_Tram.MaxEnergyPoint(X)\n",
    "Travel_Tram.MaxPowerPoints(X)"
   ]
  },
  {
   "cell_type": "markdown",
   "metadata": {},
   "source": [
    "When we look at the speed profile we can easily imagine two extrema cases :\n",
    " - a [triangular speed profile](https://fr.wikipedia.org/wiki/Loi_de_mouvement) (acceleration/deceleration, without constant speed & freewheel portion)\n",
    " - a [trapezoidal speed profile](https://fr.wikipedia.org/wiki/Loi_de_mouvement) (without freewheel portion)\n",
    "They kind of relate to maximum performances achievable given the vehicle parameters.\n",
    "The idea here is to compare the profile defined by user (average speed/distance, maximum brake decceleration) to extreme vehicle performances to see if it is feasible (i.e. a [k1, k2, k3] can be found).\n",
    "\n",
    "> **Exercise 4:** Give the relationship between acceleration, braking ratio, average speed and distance traveled for triangular speed profile (k1=k2=1) if we assume the acceleration and braking phases are perfectly linear (i.e. resistive force negligible)! Start first to link k3 to braking ratio\n",
    "\n",
    "> **Exercise 5:** Give the relationship between k1 and k3 (k2=1) if we assume the acceleration and braking phases are perfectly linear (the resistive force is neglected) and equal (braking ratio =1 to simplify). Find then the relationship between max speed, average speed, ditance and acceleration. Then highligh the link between k3, max speed, acceleration and distance. \n",
    "\n",
    "> **Exercise 6:** Complete CODE 1 section with checks and warnings based on exercice 4 calculations (compare also max speed to vehicle max speed). Check warning using following low acceleration tram instance."
   ]
  },
  {
   "cell_type": "code",
   "execution_count": null,
   "metadata": {},
   "outputs": [],
   "source": [
    "import copy\n",
    "\n",
    "# Test of lower acceleration\n",
    "Travel_Tram_low_acc = copy.deepcopy(Travel_Tram)\n",
    "Travel_Tram_low_acc.update_acc(0.3)\n",
    "print(\"\")\n",
    "\n",
    "# Test of lower max speed\n",
    "Travel_Tram_low_acc.Vehicle.MaxSpeed = 30*1e3/3600\n",
    "Travel_Tram_low_acc.update_acc(0.5)"
   ]
  },
  {
   "cell_type": "markdown",
   "metadata": {},
   "source": [
    "We whant to plot the curve linking the reached maximum speed and the maximum acceleration for a trapezoidal profile. Check that following formulation match your previous equation solution."
   ]
  },
  {
   "cell_type": "code",
   "execution_count": null,
   "metadata": {},
   "outputs": [],
   "source": [
    "# Evalutation of maximum speed and k1/k3 coefficients\n",
    "from scipy.optimize import root\n",
    "\n",
    "a=np.linspace(4*Travel_Tram.MeanSpeed**2/Travel_Tram.Distance, Tram.MaxAcc, 100)\n",
    "\n",
    "vmax = a/2*(Travel_Tram.Distance/Travel_Tram.MeanSpeed-((Travel_Tram.Distance/Travel_Tram.MeanSpeed)**2-4*Travel_Tram.Distance/a)**0.5)\n",
    "plt.plot(a,vmax,'b-')\n",
    "plt.xlabel('Acceleration (m/s²)')\n",
    "plt.ylabel('Max speed (m/s)')\n",
    "plt.grid()\n",
    "plt.show()\n",
    "\n",
    "k3 = 1-vmax**2/(2*a*Travel_Tram.Distance)\n",
    "k1 = (1-k3)/k3\n",
    "plt.plot(a,k1,'b-',label='k1')\n",
    "plt.plot(a,k3,'g--',label='k3')\n",
    "plt.xlabel('Acceleration (m/s²)')\n",
    "plt.ylabel('Max speed (m/s)')\n",
    "plt.grid()\n",
    "plt.legend()\n",
    "plt.ylim([0, 1])\n",
    "plt.show()\n"
   ]
  },
  {
   "cell_type": "markdown",
   "metadata": {},
   "source": [
    "> **Exercise 7:** Let us evaluate the Tram performance for different maximum accelerations a=[0.5, 0.8, 1.1] to see a trend on energy demand. As whe did not put any efficiency and by comparing the different resistive forces (Crr=0.006/10, so lowered to a factor 10) can this result be explained?"
   ]
  },
  {
   "cell_type": "code",
   "execution_count": null,
   "metadata": {},
   "outputs": [],
   "source": [
    "from numpy import interp\n",
    "\n",
    "Travel_Tram.BrakeRatioMax=1.0\n",
    "Travel_Tram.dt=0.1\n",
    "\n",
    "# Treat 0.5m/s² acceleration\n",
    "k1_value = interp(0.5, a, k1)\n",
    "k3_value = interp(0.5, a, k3)\n",
    "Travel_Tram.update_acc(0.5)\n",
    "X = [k1_value, 1, k3_value]\n",
    "Travel_Tram.solver(X)\n",
    "Travel_Tram.plot()\n",
    "Travel_Tram.MaxEnergyPoint(X)\n",
    "\n",
    "# Treat 0.8m/s² acceleration\n",
    "k1_value = interp(0.8, a, k1)\n",
    "k3_value = interp(0.8, a, k3)\n",
    "Travel_Tram.update_acc(0.8)\n",
    "X = [k1_value, 1, k3_value]\n",
    "Travel_Tram.solver(X)\n",
    "Travel_Tram.plot()\n",
    "Travel_Tram.MaxEnergyPoint(X)\n",
    "\n",
    "# Treat 1.1m/s² acceleration\n",
    "k1_value = interp(1.1, a, k1)\n",
    "k3_value = interp(1.1, a, k3)\n",
    "Travel_Tram.update_acc(1.1)\n",
    "X = [k1_value, 1, k3_value]\n",
    "Travel_Tram.solver(X)\n",
    "Travel_Tram.plot()\n",
    "Travel_Tram.MaxEnergyPoint(X)"
   ]
  },
  {
   "cell_type": "markdown",
   "metadata": {},
   "source": [
    "## Automatically find speed profile decomposition (k1, k2, k3) with an optimization process\n",
    "\n",
    "In a more general case and contrary to the previous hypothesis, the braking decceleration is not necessarily egual in magnitude to the acceleration, especially when doing regenerative braking (maximum power limited by energy storage). The following paper shows that it is possible to optimize the consumption of a tram by optimizing its profile:\n",
    "> Tian, Z., Zhao, N., Hillmansen, S., Roberts, C., Dowens, T., & Kerr, C. (2019). SmartDrive: Traction energy optimization and applications in rail systems. IEEE Transactions on Intelligent Transportation Systems, 20(7), 2764-2773.\n",
    "\n",
    "The previous class is extended to allow optimizing the parameters defining the profile shape $k_1, k_2, k_3$ with respect to different objectives: energy consumption (considering regenerative power) and max energy discharge. Only the first objective is given.\n",
    "\n",
    "> **Exercise 8:** Write the gradient optimization for max energy discharge objective (modify directely the code and use arguments of objectifConco method)."
   ]
  },
  {
   "cell_type": "code",
   "execution_count": null,
   "metadata": {},
   "outputs": [],
   "source": [
    "from scipy.optimize import fmin_slsqp, differential_evolution\n",
    "import numpy\n",
    "\n",
    "class OptimSection(SimulSection):\n",
    "    \n",
    "    # Define objective to optimize: here normalized (divided by rolling resistance equivalent work) total consummed energy (including regenerative power)\n",
    "    def objectifConso(self, x, *args):\n",
    "        self.solver(x)\n",
    "        NRJmin = self.xsection[-1]*self.Vehicle.Weight*self.g*self.Vehicle.Crr\n",
    "        if args[0]:\n",
    "            pen=numpy.sum(-1e2*numpy.array(self.contraintes(x)))\n",
    "            pen=pen*(pen>0)\n",
    "        else:\n",
    "            pen=0.0\n",
    "        return ((self.NRJsection[-1]*(args[2]==1)+max(self.NRJsection)*(args[2]==2))/NRJmin+pen)   \n",
    "        \n",
    "    # Define constraints to verify: traveled distance, traveled time (similar to average speed)\n",
    "    def contraintes(self, x, *args):\n",
    "        self.solver(x)\n",
    "        TimeTravel = self.Distance / self.MeanSpeed  \n",
    "        return [(self.xsection[-1]-self.Distance)/self.Distance, (TimeTravel-self.tsection[-1])/TimeTravel]    \n",
    "\n",
    "    # SLSQP gradient optimization with constraints\n",
    "    def optimizeConso_gradient(self, x0):\n",
    "        Xbound= [(0.0, 0.3), (0.1, 1), (0.5,.99)]\n",
    "        Xopt=fmin_slsqp(func=self.objectifConso, x0=x0, f_ieqcons = self.contraintes, bounds=Xbound, args=[False, 'gradient', 1], epsilon=1e-2)      \n",
    "        return Xopt\n",
    "    \n",
    "    # Differential evolution optimization    \n",
    "    def optimizeConso_genetic(self, x0):\n",
    "        Xbound= [(0.0, 0.3), (0.1, 1), (0.5,0.99)]\n",
    "        res=differential_evolution(func=self.objectifConso, x0=x0, args=[True, 'genetic', 1], bounds=Xbound)\n",
    "        print(res)\n",
    "        return res.x\n",
    "\n",
    "     # SLSQP gradient optimization with constraints [MAX ENERGY]\n",
    "    def optimizeConso2_gradient(self, x0):\n",
    "        Xbound= [(0.0, 0.3), (0.1, 1), (0.5,.99)]\n",
    "        Xopt=fmin_slsqp(func=self.objectifConso, x0=x0, f_ieqcons = self.contraintes, bounds=Xbound, args=[False, 'gradient', 2], epsilon=1e-2)      \n",
    "        return Xopt\n",
    "    "
   ]
  },
  {
   "cell_type": "markdown",
   "metadata": {},
   "source": [
    "The usage of the class is quite simular that the previous one, but it adds an `optimizeConso` method which enables us to find the $k_1, k_2, k_3$ set. Let us apply it to the tram travel. "
   ]
  },
  {
   "cell_type": "code",
   "execution_count": null,
   "metadata": {},
   "outputs": [],
   "source": [
    "# Definition of the section under study\n",
    "Travel_optim = OptimSection(Vehicle=Tram, Distance=670, MeanSpeed=26*1e3/3600, BrakeRatioMax=1.0, dt=1.0)\n",
    "\n",
    "# Initial variables vector\n",
    "X_init=[0.05, 0.6, 0.98]\n",
    "\n",
    "# Optimization of the consumption with gradient\n",
    "Xopt1=Travel_optim.optimizeConso_gradient(X_init)\n",
    "print(\"Optimal vector :\", Xopt1)\n",
    "print(\"Constraints vector :\", Travel_optim.contraintes(Xopt1))\n",
    "\n",
    "Travel_optim.solver(Xopt1)\n",
    "Travel_optim.plot()\n",
    "Travel_optim.ConsumptionPerPax(Xopt1)\n",
    "Travel_optim.MaxEnergyPoint(Xopt1)"
   ]
  },
  {
   "cell_type": "code",
   "execution_count": null,
   "metadata": {},
   "outputs": [],
   "source": [
    "# Optimization of the consumption with genetic algorithm\n",
    "X_init=[0.3, 1.0, 0.95]\n",
    "Xopt1=Travel_optim.optimizeConso_genetic(X_init)\n",
    "print(\"Optimal vector :\", Xopt1)\n",
    "print(\"Constraints vector :\", Travel_optim.contraintes(Xopt1))\n",
    "\n",
    "Travel_optim.solver(Xopt1)\n",
    "Travel_optim.plot()\n",
    "Travel_optim.ConsumptionPerPax(Xopt1)\n",
    "Travel_optim.MaxEnergyPoint(Xopt1)"
   ]
  },
  {
   "cell_type": "markdown",
   "metadata": {},
   "source": [
    "> **Exercise 9:** For Tram, compare this optimized profile to a profile with only 3 segments (maximum acceleration, constant speed, maximum deceleration): is the result really different. Now, evaluate it for the bus and analyse the impact of the variation of the braking ratio for exemple."
   ]
  },
  {
   "cell_type": "markdown",
   "metadata": {},
   "source": [
    "## Different vehicules energetic comparison\n",
    "\n",
    "> **Exercise 10:** For the same travel (distance, mean speed) compare the consumption of different vehicles (tramway, tram, bus, car). The function `ConsumptionPerPax` return and print the consumption per km and per passenger. Compare the results with this [publication](https://reporterre.net/Taxis-volants-aux-JO-un-avis-defavorable-sur-le-projet). "
   ]
  },
  {
   "cell_type": "code",
   "execution_count": null,
   "metadata": {},
   "outputs": [],
   "source": [
    "print(\"Calculation of energy consumption of different vehicles: \")\n",
    "\n",
    "print(\"----\")"
   ]
  },
  {
   "cell_type": "code",
   "execution_count": null,
   "metadata": {},
   "outputs": [],
   "source": [
    "print(\"Trolleybus :\")\n",
    "\n",
    "print(\"----\")"
   ]
  },
  {
   "cell_type": "code",
   "execution_count": null,
   "metadata": {},
   "outputs": [],
   "source": [
    "print(\"Bus :\")\n",
    "\n",
    "print(\"----\")"
   ]
  },
  {
   "cell_type": "code",
   "execution_count": null,
   "metadata": {},
   "outputs": [],
   "source": [
    "print(\"Car :\")\n",
    "\n",
    "print(\"----\")"
   ]
  },
  {
   "cell_type": "markdown",
   "metadata": {},
   "source": [
    "## Homework\n",
    "\n",
    "Read the following paper before next session to understand how hybridation analysis can be implemented at profile level:\n",
    "> Jaafar, A., Sareni, B., Roboam, X., & Thiounn-Guermeur, M. (2010, September). Sizing of a hybrid locomotive based on accumulators and ultracapacitors. In 2010 IEEE Vehicle Power and Propulsion Conference (pp. 1-6). IEEE. [[pdf](https://raw.githubusercontent.com/SizingLab/sizing_course/main/laboratories/Lab-watt_project/assets/papers/Sizing_of_a_hybrid_locomotive_based_on_accumulators_and_ultracapacitors.pdf)]"
   ]
  },
  {
   "cell_type": "code",
   "execution_count": null,
   "metadata": {},
   "outputs": [],
   "source": []
  }
 ],
 "metadata": {
  "kernelspec": {
   "display_name": "Python 3 (ipykernel)",
   "language": "python",
   "name": "python3"
  },
  "language_info": {
   "codemirror_mode": {
    "name": "ipython",
    "version": 3
   },
   "file_extension": ".py",
   "mimetype": "text/x-python",
   "name": "python",
   "nbconvert_exporter": "python",
   "pygments_lexer": "ipython3",
   "version": "3.12.7"
  }
 },
 "nbformat": 4,
 "nbformat_minor": 4
}
