{
 "cells": [
  {
   "cell_type": "markdown",
   "metadata": {
    "user_expressions": []
   },
   "source": [
    "<img src=\"../../images/logo.png\" style=\"float:right; max-width: 120px; display: inline\" alt=\"SizingLab\" />"
   ]
  },
  {
   "cell_type": "markdown",
   "metadata": {
    "user_expressions": []
   },
   "source": [
    "\n",
    "\n",
    "# Simulation models with Python (student version)\n",
    "\n",
    "*Written by Marc Budinger (INSA Toulouse) and Scott Delbecq (ISAE-SUPAERO), Toulouse, France*"
   ]
  },
  {
   "cell_type": "markdown",
   "metadata": {
    "slideshow": {
     "slide_type": "subslide"
    },
    "tags": [],
    "user_expressions": []
   },
   "source": [
    "### Thermal model of an electric motor\n",
    "\n",
    "The thermal model of a motor, **Figure n° 1**, distinguish temperature between\n",
    "winding and yoke with a 2 bodies model. One can distinguish:\n",
    "\n",
    "-   heat capacity of the winding: *Cth1*\n",
    "\n",
    "-   heat capacity of the yoke: *Cth2*\n",
    "\n",
    "-   the thermal resistance between the winding and the yoke (corresponding to\n",
    "    the electrical insulator): *Rth1*\n",
    "\n",
    "-   the thermal resistance between the yoke and the ambient air: *Rth2*\n",
    "\n",
    "**Figure n° 1 –** *2 bodies thermal model of the motor*\n",
    "\n",
    "![ThermalModel](./assets/images/thermalmodel.png)\n"
   ]
  },
  {
   "cell_type": "markdown",
   "metadata": {
    "user_expressions": []
   },
   "source": [
    "### Modelica or state space model\n",
    "\n",
    "A Modelica model such as **Figure 2** could be simulated in Dymola or OpenModelica.\n",
    "**Figure n° 2** – *Modelica model*\n",
    "![Modelica Model](./assets/images/modelicathermalmodel.png)\n",
    "\n",
    "To simulate it in Python it is possible to use Functional Mock-up Units ([FMU](https://github.com/modelon-community/PyFMI)) which can be exported by system simulation softwares. \n",
    "\n",
    "Here, we propose to use a simple state-space approach using the [scipy](https://scipy.org) package.\n",
    "\n",
    "\n",
    "Recall: the transfert function of the problem can be expressed as  \n",
    "\n",
    "$Z_{th}=\\frac{\\theta(p)}{P(p)}=R_{th,eq}\\frac{1+T_0p}{1+(T_1+T_2)p+T_1T_2p}$  \n",
    "with:  \n",
    "- $R_{th,eq}=R_1+R_2$\n",
    "- $T_0=\\frac{R_1R_2}{R_1+R_2}C_2$\n",
    "- $T_1+T_2=(R_1+R_2)C_1 + R_2C_2$\n",
    "- $T_1T_2=R_1C_1R_2C_2$\n",
    "\n"
   ]
  },
  {
   "cell_type": "code",
   "execution_count": null,
   "metadata": {},
   "outputs": [],
   "source": [
    "from scipy.signal import step\n",
    "import numpy as np\n",
    "import matplotlib.pyplot as plt\n",
    "import pandas as pd\n",
    "\n",
    "\n",
    "def motor_temperature(P, R1, C1, R2, C2, time=np.linspace(0, 200, 100)):\n",
    "    Rtheq = R1 + R2\n",
    "    T0 = R1 * R2 / (R1 + R2) * C2\n",
    "    T1pT2 = (R1 + R2) * C1 + R2 * C2\n",
    "    T1T2 = R1 * C1 * R2 * C2\n",
    "    t, y = step(system=([Rtheq * T0, Rtheq], [T1T2, T1pT2, 1]), T=time)\n",
    "    theta_winding = y * P\n",
    "    d = {\"t\": t, \"theta_winding\": theta_winding}\n",
    "    df = pd.DataFrame(data=d)\n",
    "    return df"
   ]
  },
  {
   "cell_type": "code",
   "execution_count": null,
   "metadata": {},
   "outputs": [],
   "source": [
    "# Parameters\n",
    "# Losses [W]\n",
    "P = 100.0\n",
    "# R1 [K/W]\n",
    "R1 = 0.3\n",
    "# C1 [J/K]\n",
    "C1 = 150.0\n",
    "# R2 [K/W]\n",
    "R2 = 0.3\n",
    "# C2 [J/K]\n",
    "C2 = 150.0\n",
    "# Simulation time [s]\n",
    "t_final = 150.0\n",
    "\n",
    "time = np.linspace(0, t_final, 100)\n",
    "\n",
    "df = motor_temperature(P, R1, C1, R2, C2, time=time)"
   ]
  },
  {
   "cell_type": "markdown",
   "metadata": {
    "user_expressions": []
   },
   "source": [
    "We can now access to the simulation results and plot them:"
   ]
  },
  {
   "cell_type": "code",
   "execution_count": null,
   "metadata": {},
   "outputs": [],
   "source": [
    "df"
   ]
  },
  {
   "cell_type": "code",
   "execution_count": null,
   "metadata": {},
   "outputs": [],
   "source": [
    "plt.plot(df[\"t\"], df[\"theta_winding\"])\n",
    "plt.xlabel(\"Time [s]\")\n",
    "plt.ylabel(\"Temperature [°C]\")\n",
    "plt.grid()"
   ]
  },
  {
   "cell_type": "markdown",
   "metadata": {
    "user_expressions": []
   },
   "source": [
    "We can access the motor final temperature:"
   ]
  },
  {
   "cell_type": "code",
   "execution_count": null,
   "metadata": {},
   "outputs": [],
   "source": [
    "print(\"Final temperature = %.2f °C\" % df[\"theta_winding\"].iloc[-1])"
   ]
  },
  {
   "cell_type": "markdown",
   "metadata": {
    "user_expressions": []
   },
   "source": [
    "We can use interpolation to estimate intermediate temperatures:"
   ]
  },
  {
   "cell_type": "code",
   "execution_count": null,
   "metadata": {},
   "outputs": [],
   "source": [
    "from scipy import interpolate\n",
    "\n",
    "theta_mot_f = interpolate.interp1d(df[\"t\"], df[\"theta_winding\"])\n",
    "\n",
    "t = 100.0\n",
    "theta_mot = theta_mot_f(t)\n",
    "\n",
    "print(\"The temperature at t = %.2f s is %.2f °C\" % (t, theta_mot))"
   ]
  },
  {
   "cell_type": "markdown",
   "metadata": {
    "user_expressions": []
   },
   "source": [
    "## Exercise\n",
    "Simulate the winding temperature for 500 s and 200 W losses:"
   ]
  },
  {
   "cell_type": "code",
   "execution_count": null,
   "metadata": {},
   "outputs": [],
   "source": [
    "time = \n",
    "P =\n",
    "df ="
   ]
  },
  {
   "cell_type": "code",
   "execution_count": null,
   "metadata": {},
   "outputs": [],
   "source": [
    "plt.plot(df[\"t\"], df[\"theta_winding\"])\n",
    "plt.xlabel(\"Time [s]\")\n",
    "plt.ylabel(\"Temperature [°C]\")\n",
    "plt.grid()\n",
    "plt.legend([\"theta_winding\", \"theta_core\"], loc=\"upper left\")"
   ]
  },
  {
   "cell_type": "code",
   "execution_count": null,
   "metadata": {},
   "outputs": [],
   "source": []
  }
 ],
 "metadata": {
  "kernelspec": {
   "display_name": "Python 3 (ipykernel)",
   "language": "python",
   "name": "python3"
  },
  "language_info": {
   "codemirror_mode": {
    "name": "ipython",
    "version": 3
   },
   "file_extension": ".py",
   "mimetype": "text/x-python",
   "name": "python",
   "nbconvert_exporter": "python",
   "pygments_lexer": "ipython3",
   "version": "3.8.13"
  }
 },
 "nbformat": 4,
 "nbformat_minor": 4
}
