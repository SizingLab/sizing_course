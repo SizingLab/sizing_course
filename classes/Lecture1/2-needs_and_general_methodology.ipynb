{
 "cells": [
  {
   "cell_type": "markdown",
   "metadata": {
    "slideshow": {
     "slide_type": "slide"
    }
   },
   "source": [
    "# Needs and general methodology"
   ]
  },
  {
   "cell_type": "markdown",
   "metadata": {
    "pycharm": {
     "name": "#%% md\n"
    },
    "slideshow": {
     "slide_type": "slide"
    }
   },
   "source": [
    "## Objectives"
   ]
  },
  {
   "cell_type": "markdown",
   "metadata": {
    "slideshow": {
     "slide_type": "fragment"
    }
   },
   "source": [
    "\n",
    "![drawing75](../../images/objectives.png)"
   ]
  },
  {
   "cell_type": "markdown",
   "metadata": {},
   "source": [
    ":::{dropdown} Description\n",
    ":open:  \n",
    "The objective of this course is to give you models and methods in order to create a sizing process of a mechatronic system. This design stage comes after the specification and architecture research and is upstream of the detailed design of each component. The objective is to chose the optimal components. Once chosen, the components can either be manufactured by ourself or bought from a supplier.  \n",
    ":::"
   ]
  },
  {
   "cell_type": "markdown",
   "metadata": {
    "pycharm": {
     "name": "#%% md\n"
    },
    "slideshow": {
     "slide_type": "slide"
    }
   },
   "source": [
    "## Modelling needs for sizing"
   ]
  },
  {
   "cell_type": "markdown",
   "metadata": {
    "slideshow": {
     "slide_type": "fragment"
    }
   },
   "source": [
    "![drawing75](../../images/needs.png)"
   ]
  },
  {
   "cell_type": "markdown",
   "metadata": {},
   "source": [
    ":::{dropdown} Description\n",
    ":open:   \n",
    "In order to size a system from a system integrator point of view, different types of models can bu used:  \n",
    "- **Simulation models** that  will help us compute the different sizing parameters which are necessary to chose the right components.  \n",
    "- **Estimation models** that will help us obtain the main characteristics of the components using a restrained set of key parameters.  \n",
    "- **Evaluation models** which will ensure that the components will respect the lifetime required in the specifications.   \n",
    ":::"
   ]
  },
  {
   "cell_type": "markdown",
   "metadata": {
    "pycharm": {
     "name": "#%% md\n"
    },
    "slideshow": {
     "slide_type": "slide"
    }
   },
   "source": [
    "## Modelling process"
   ]
  },
  {
   "cell_type": "markdown",
   "metadata": {
    "slideshow": {
     "slide_type": "fragment"
    }
   },
   "source": [
    "![drawing75](../../images/modelling_process.png)"
   ]
  },
  {
   "cell_type": "markdown",
   "metadata": {},
   "source": [
    ":::{dropdown} Description\n",
    ":open:   \n",
    "This diagram shows the information flow between these different models. We will take interest in each of them succesively:  \n",
    "- establishment of **sizing scenarios** and mission profiles  \n",
    "- choices and implementation of the adapted simulation models  \n",
    "- estimation models using **scaling laws**  \n",
    "- evaluation models for the computation of life time and operational limits   \n",
    "- mathematical tools which help finding  an estimation model (regressions) or the simplified expression of simulation models (metamodels)  \n",
    "- establishment of **sizing processes and optimization**  \n",
    "\n",
    ":::"
   ]
  }
 ],
 "metadata": {
  "celltoolbar": "Slideshow",
  "jupytext": {
   "formats": "ipynb"
  },
  "kernelspec": {
   "display_name": "Python 3 (ipykernel)",
   "language": "python",
   "name": "python3"
  },
  "language_info": {
   "codemirror_mode": {
    "name": "ipython",
    "version": 3
   },
   "file_extension": ".py",
   "mimetype": "text/x-python",
   "name": "python",
   "nbconvert_exporter": "python",
   "pygments_lexer": "ipython3",
   "version": "3.9.13"
  }
 },
 "nbformat": 4,
 "nbformat_minor": 4
}
