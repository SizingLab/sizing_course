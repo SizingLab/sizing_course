{
 "cells": [
  {
   "cell_type": "markdown",
   "metadata": {
    "slideshow": {
     "slide_type": "slide"
    }
   },
   "source": [
    "# Objectives and ressources"
   ]
  },
  {
   "cell_type": "markdown",
   "metadata": {
    "pycharm": {
     "name": "#%% md\n"
    },
    "slideshow": {
     "slide_type": "skip"
    }
   },
   "source": [
    "For those interested, video of this course are available online:\n",
    "<div class=\"container youtube\">\n",
    "<iframe class=\"responsive-iframe\" src=\"https://www.youtube.com/embed/h6V0P5p2Hlk\" frameborder=\"0\" allow=\"accelerometer; autoplay=\"0\"; encrypted-media; gyroscope; picture-in-picture\" allowfullscreen></iframe>\n",
    "</div>"
   ]
  },
  {
   "cell_type": "markdown",
   "metadata": {
    "slideshow": {
     "slide_type": "slide"
    }
   },
   "source": [
    "## Mechatronics: multi-domain systems"
   ]
  },
  {
   "cell_type": "markdown",
   "metadata": {
    "slideshow": {
     "slide_type": "fragment"
    }
   },
   "source": [
    "![drawing50](../../images/mechatronics.png)"
   ]
  },
  {
   "cell_type": "markdown",
   "metadata": {},
   "source": [
    ":::{dropdown} Description\n",
    ":open:\n",
    "Mechatronic systems are multi-domain because they integrate mechanical, electrical, computer science, and control engineering principles:\n",
    "\n",
    "1. **Mechanical Domain:**\n",
    "   - Involves the physical components like structure, materials, and mechanisms.\n",
    "   - Example: In a robotic arm, joints, links, and the end-effector are part of the mechanical domain.\n",
    "\n",
    "2. **Electrical Domain:**\n",
    "   - Includes electrical components such as sensors, actuators, and power supplies.\n",
    "   - Example: Sensors detect the position of the robotic arm, and electric motors act as actuators driving the joints.\n",
    "\n",
    "3. **Computer Science/Information Technology Domain:**\n",
    "   - Relies on computer systems for control and decision-making.\n",
    "   - Example: A computer processes sensor data, executes control algorithms, and makes decisions for the robotic arm.\n",
    "\n",
    "4. **Control Engineering Domain:**\n",
    "   - Concerned with designing algorithms and systems to control the mechatronic system.\n",
    "   - Example: Control engineering principles are applied to ensure the robotic arm moves accurately and responds to changes.\n",
    "\n",
    "The integration of these domains allows mechatronic systems to achieve versatility and capability through the synergy of mechanical, electrical, computer science, and control engineering principles.\n",
    "\n",
    ":::"
   ]
  },
  {
   "cell_type": "markdown",
   "metadata": {
    "slideshow": {
     "slide_type": "slide"
    }
   },
   "source": [
    "## Mechatronics: multi-level systems"
   ]
  },
  {
   "cell_type": "markdown",
   "metadata": {
    "slideshow": {
     "slide_type": "fragment"
    }
   },
   "source": [
    "![drawing50](../../images/multilevel.png)"
   ]
  },
  {
   "cell_type": "markdown",
   "metadata": {
    "slideshow": {
     "slide_type": "slide"
    }
   },
   "source": [
    "## Mechatronics: multi-physics and multi-scale"
   ]
  },
  {
   "cell_type": "markdown",
   "metadata": {
    "slideshow": {
     "slide_type": "fragment"
    }
   },
   "source": [
    "![drawing50](../../images/multiphysics_multiscale.png)"
   ]
  },
  {
   "cell_type": "markdown",
   "metadata": {
    "slideshow": {
     "slide_type": "slide"
    }
   },
   "source": [
    "## Mechatronics: multi-engineering"
   ]
  },
  {
   "cell_type": "markdown",
   "metadata": {
    "slideshow": {
     "slide_type": "fragment"
    }
   },
   "source": [
    "![drawing50](../../images/multiengineering.png)"
   ]
  },
  {
   "cell_type": "markdown",
   "metadata": {
    "slideshow": {
     "slide_type": "slide"
    }
   },
   "source": [
    "## Mechatronics: actuation system example"
   ]
  },
  {
   "cell_type": "markdown",
   "metadata": {
    "slideshow": {
     "slide_type": "fragment"
    }
   },
   "source": [
    "![drawing50](../../images/actuation_system.png)"
   ]
  },
  {
   "cell_type": "markdown",
   "metadata": {
    "slideshow": {
     "slide_type": "slide"
    }
   },
   "source": [
    "## Designer challenges"
   ]
  },
  {
   "cell_type": "markdown",
   "metadata": {
    "slideshow": {
     "slide_type": "fragment"
    }
   },
   "source": [
    "![drawing75](../../images/design_challenges.png)"
   ]
  },
  {
   "cell_type": "markdown",
   "metadata": {
    "slideshow": {
     "slide_type": "slide"
    }
   },
   "source": [
    "## V-cycle Design"
   ]
  },
  {
   "cell_type": "markdown",
   "metadata": {
    "slideshow": {
     "slide_type": "fragment"
    }
   },
   "source": [
    "![drawing75](../../images/v_cycle.png)"
   ]
  }
 ],
 "metadata": {
  "celltoolbar": "Slideshow",
  "jupytext": {
   "formats": "ipynb"
  },
  "kernelspec": {
   "display_name": "Python 3 (ipykernel)",
   "language": "python",
   "name": "python3"
  },
  "language_info": {
   "codemirror_mode": {
    "name": "ipython",
    "version": 3
   },
   "file_extension": ".py",
   "mimetype": "text/x-python",
   "name": "python",
   "nbconvert_exporter": "python",
   "pygments_lexer": "ipython3",
   "version": "3.9.18"
  },
  "rise": {
   "autolaunch": true,
   "overlay": "<div class='myheader'><h2>Sizing and optimization of mechatronic systems</h2></div><div class='myfooter'><h2>24/10/2022</h2></div><div class='logo'><img src='../../images/logo.png' width=200px height= auto></div>"
  }
 },
 "nbformat": 4,
 "nbformat_minor": 4
}
