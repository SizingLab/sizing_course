{
 "cells": [
  {
   "cell_type": "markdown",
   "metadata": {
    "slideshow": {
     "slide_type": "slide"
    }
   },
   "source": [
    "# Scenarios and Design Drivers"
   ]
  },
  {
   "cell_type": "markdown",
   "metadata": {
    "pycharm": {
     "name": "#%% md\n"
    },
    "slideshow": {
     "slide_type": "slide"
    }
   },
   "source": [
    "## Sizing and optimization process"
   ]
  },
  {
   "cell_type": "markdown",
   "metadata": {
    "slideshow": {
     "slide_type": "fragment"
    }
   },
   "source": [
    "![drawing75](../../images/design_drivers_process.png)"
   ]
  },
  {
   "cell_type": "markdown",
   "metadata": {},
   "source": [
    ":::{dropdown} Description\n",
    ":open:  \n",
    "After analysing the architecture of the system to be sized, the next step is to establish the working scenarios which risk to degrade the different components.These scenarios could be expressed as a set of operational points (for example Torque, Speed) or mission profiles (variable function of the time).\n",
    ":::"
   ]
  },
  {
   "cell_type": "markdown",
   "metadata": {
    "pycharm": {
     "name": "#%% md\n"
    },
    "slideshow": {
     "slide_type": "slide"
    }
   },
   "source": [
    "## Sizing scenarios and design drivers concept"
   ]
  },
  {
   "cell_type": "markdown",
   "metadata": {
    "slideshow": {
     "slide_type": "fragment"
    }
   },
   "source": [
    "![drawing75](../../images/sizing_scenarios_design_drivers.png)"
   ]
  },
  {
   "cell_type": "markdown",
   "metadata": {},
   "source": [
    ":::{dropdown} Description\n",
    ":open:  \n",
    "After analysing the architecture of the system to be sized, the next step is to establish the working scenarios which risk to degrade the different components.These scenarios could be expressed as a set of operational points (for example Torque, Speed) or mission profiles (variable function of the time).\n",
    ":::"
   ]
  },
  {
   "cell_type": "markdown",
   "metadata": {
    "pycharm": {
     "name": "#%% md\n"
    },
    "slideshow": {
     "slide_type": "slide"
    }
   },
   "source": [
    "## Case study: Aircraft spoiler\n",
    "\n",
    "To illustrate the notion of sizing criteria and sizing scenarios, we will use a flight control actuator, more precisely for spoiler surface, as an example."
   ]
  },
  {
   "cell_type": "markdown",
   "metadata": {
    "slideshow": {
     "slide_type": "fragment"
    }
   },
   "source": [
    "#### Functions\n",
    "- Move : Positions 0, 20, 50° (Hinge torque: 1000-2500 N.m)\n",
    "- No damage (structure and actuator) if spoiler blocking or on gust action"
   ]
  },
  {
   "cell_type": "markdown",
   "metadata": {
    "slideshow": {
     "slide_type": "-"
    }
   },
   "source": [
    "![drawing75](../../images/aircraft_spoiler.png)"
   ]
  },
  {
   "attachments": {},
   "cell_type": "markdown",
   "metadata": {},
   "source": [
    ":::{dropdown} Description\n",
    ":open:  \n",
    "The spoiler reduces the lift of the aircraft in order to start an approach towards the airport or to increase the action of the breaks on the wheels for landing.\n",
    "On the considered aircraft, the actuator will have to position himself on 3 different angle while working againts aerodynamic forces. These forces can be either positive (when surface fully deployed) or negative (when surface fully retracted).\n",
    "No damage must appear on the structure or actuator if jamming happens or when gust action occurs.\n",
    ":::"
   ]
  },
  {
   "cell_type": "markdown",
   "metadata": {
    "pycharm": {
     "name": "#%% md\n"
    },
    "slideshow": {
     "slide_type": "slide"
    }
   },
   "source": [
    "## Architecture and components"
   ]
  },
  {
   "cell_type": "markdown",
   "metadata": {
    "slideshow": {
     "slide_type": "-"
    }
   },
   "source": [
    "![drawing50](../../images/ema_moog.png)"
   ]
  },
  {
   "attachments": {},
   "cell_type": "markdown",
   "metadata": {},
   "source": [
    ":::{dropdown} Description\n",
    ":open:  \n",
    "Here is the architecture of the study case. It is based on an example of EMA (ElectroMechanical Actuator) for the Boeing 787’s spoiler designed and manufactured by MOOG.  \n",
    "It is composed of: mechanical components for effort transmision (Rod end, Rod, Housing), for power transmision ( ball screw, bearing, gear) and electro-mechanichal components such as a brushless motor.\n",
    ":::"
   ]
  },
  {
   "cell_type": "markdown",
   "metadata": {
    "slideshow": {
     "slide_type": "fragment"
    }
   },
   "source": [
    "## Design drivers\n",
    "\n",
    "Components of the actuator have to satisfy:\n",
    "1. **Transient power demand - Performance** &rarr; Prevents rapid damages (e.g. permanent deformation, rupture)\n",
    "2. **Continuous power demand - Endurance** &rarr; Addresses gradual degradation (e.g., fatigue) and ensures reliable operation during service lifetime"
   ]
  },
  {
   "cell_type": "markdown",
   "metadata": {
    "slideshow": {
     "slide_type": "fragment"
    }
   },
   "source": [
    "Components of the actuator have **imperfections**:\n",
    "1. Increase stresses on themselves (e.g , inertia) or on other components (e.g, efficiency)\n",
    "2. Can create new critical cases (e.g, inertia and jamming) &rarr; Induced new design drivers"
   ]
  },
  {
   "cell_type": "markdown",
   "metadata": {
    "slideshow": {
     "slide_type": "fragment"
    }
   },
   "source": [
    "---\n",
    "**Sizing scenarios or sizing mission profiles should be determined in order to be representative of all these design drivers**  \n",
    "\n",
    "---"
   ]
  },
  {
   "attachments": {},
   "cell_type": "markdown",
   "metadata": {
    "pycharm": {
     "name": "#%% md\n"
    },
    "slideshow": {
     "slide_type": "slide"
    }
   },
   "source": [
    "### Design drivers of mechanical components\n",
    "\n",
    "Mechanical components can deteriorate:\n",
    "- In a fast way, under the effects of a too important transient effort which can create localized stresses leading to a permanent deformation ou in the worst case a rupture.\n",
    "- In a gradual way, alternated efforts can reduce the component’s lifetime by creating microcracks which increase with the number of requests.\n"
   ]
  },
  {
   "cell_type": "markdown",
   "metadata": {
    "slideshow": {
     "slide_type": "fragment"
    }
   },
   "source": [
    "![drawing75](../../images/dd_mechanical-1.png)"
   ]
  },
  {
   "cell_type": "markdown",
   "metadata": {},
   "source": [
    ":::{dropdown} Description\n",
    ":open:  \n",
    "**For our example:** we must be sure that all the components can take the maximal effort and determine the situation which generates this maximal effort. Fatigue is often computed for rolling elements using mission profiles that represent repetitive requests.\n",
    ":::"
   ]
  },
  {
   "cell_type": "markdown",
   "metadata": {},
   "source": [
    "An other source of mechanical degradation comes from the vibratory environment or shocks during operating time.\n"
   ]
  },
  {
   "cell_type": "markdown",
   "metadata": {
    "slideshow": {
     "slide_type": "fragment"
    }
   },
   "source": [
    "![drawing75](../../images/dd_mechanical-2.png)"
   ]
  },
  {
   "cell_type": "markdown",
   "metadata": {},
   "source": [
    ":::{dropdown} Description :open:  \n",
    "**For the linear actuator:** we need to be sure that the housing or the screw will not be subject to stress due to resonance mode on typical plane frequencies, between 5 Hz and 2 kHz.\n",
    "If possible, all resonance modes on this frequency range should be avoid or specific design must be undertaken.\n",
    ":::"
   ]
  },
  {
   "cell_type": "markdown",
   "metadata": {
    "pycharm": {
     "name": "#%% md\n"
    },
    "slideshow": {
     "slide_type": "slide"
    }
   },
   "source": [
    "### Induced design drivers of mechanical components: losses & friction"
   ]
  },
  {
   "cell_type": "markdown",
   "metadata": {
    "slideshow": {
     "slide_type": "fragment"
    }
   },
   "source": [
    "During sizing it is important to take into account the main parasitic aspect of components in terms of power transmission. For mechanical components efficiency and friction are important.\n",
    "1. First level of modeling : constant efficiency (direct and inverse) with speed and torque\n",
    "2. Second level : friction increases at low speed\n",
    "![drawing50](../../images/losses_frictions.png)"
   ]
  },
  {
   "cell_type": "markdown",
   "metadata": {
    "slideshow": {
     "slide_type": "fragment"
    }
   },
   "source": [
    "![drawing50](../../images/frictions_ema.png)"
   ]
  },
  {
   "attachments": {},
   "cell_type": "markdown",
   "metadata": {},
   "source": [
    ":::{dropdown} Description :open: \n",
    "The mechanical power transmission components (worm gears, ball/screw systems, ...) have imperfections such as friction which reduce efficency. These frictions increase the torque the motor has to transmit and therefore have an impact on component choice. Power quadrants and speed have an important effect on friction or efficiency computation.  \n",
    "**In our example:** we could model our ball/screw system with a constant efficiency. except when the speed is zero, in which case we’ll increase the friction. It is interesting to underline that the friction due to mechanical stops inside the ball/screw system depend on the effort given by the jack.\n",
    ":::"
   ]
  },
  {
   "attachments": {},
   "cell_type": "markdown",
   "metadata": {
    "pycharm": {
     "name": "#%% md\n"
    },
    "slideshow": {
     "slide_type": "slide"
    }
   },
   "source": [
    "### Design drivers of electrical components\n",
    "\n",
    "For electrical components, the current and thermal effects can induce:\n",
    "- magnetic fields which can demagnetize the magnets.. With new magnets the odds are lower.\n",
    "- Induce an excessive magnetic field which can create a saturation at teeth level where stands the winding."
   ]
  },
  {
   "cell_type": "markdown",
   "metadata": {
    "slideshow": {
     "slide_type": "fragment"
    }
   },
   "source": [
    "![drawing75](../../images/dd_electrical-1.png)"
   ]
  },
  {
   "cell_type": "markdown",
   "metadata": {
    "slideshow": {
     "slide_type": "fragment"
    }
   },
   "source": [
    "---\n",
    "**For the EMA study case:**\n",
    "- Brushless motor: max torque due to saturation (teeth)\n",
    "\n",
    "---"
   ]
  },
  {
   "cell_type": "markdown",
   "metadata": {},
   "source": [
    ":::{dropdown} Description :open:\n",
    "In our example, we will consider that the maximum transient torque of the machines will be limited by the sheet‘s magnetic saturation.\n",
    ":::"
   ]
  },
  {
   "attachments": {},
   "cell_type": "markdown",
   "metadata": {
    "pycharm": {
     "name": "#%% md\n"
    },
    "slideshow": {
     "slide_type": "slide"
    }
   },
   "source": [
    "The electrical current generates copper losses which heat the motor. Excessive temperature can demagnetize the magnets. The higher is the temperature, the shorter is the lifetime of the copper wires’ insulation.The link between lifetime and temperature is given on the following graph and depends on the insulation type.\n"
   ]
  },
  {
   "cell_type": "markdown",
   "metadata": {
    "slideshow": {
     "slide_type": "fragment"
    }
   },
   "source": [
    "![drawing75](../../images/dd_electrical-2.png)"
   ]
  },
  {
   "cell_type": "markdown",
   "metadata": {
    "slideshow": {
     "slide_type": "fragment"
    }
   },
   "source": [
    "---\n",
    "**For the EMA study case:**\n",
    "- Brushless motor: continuous torque and max temperature due to thermal aspect (need of a thermal model)\n",
    "\n",
    "---"
   ]
  },
  {
   "cell_type": "markdown",
   "metadata": {},
   "source": [
    ":::{dropdown} Description :open:\n",
    "In our study, we will consider that the mean torque will be limited by the winding temperature. A thermal model can be useful in order to be sure of a proper working.\n",
    ":::"
   ]
  },
  {
   "cell_type": "markdown",
   "metadata": {
    "pycharm": {
     "name": "#%% md\n"
    },
    "slideshow": {
     "slide_type": "slide"
    }
   },
   "source": [
    "### Induced design drivers of the electrical components"
   ]
  },
  {
   "attachments": {},
   "cell_type": "markdown",
   "metadata": {
    "slideshow": {
     "slide_type": "fragment"
    }
   },
   "source": [
    "Electrical motors have imperfections such as the kinetic energy stored in the **rotor inertia** which: \n",
    "- Increases electromagnetic torque : critical issue for high dynamic application (e.g., TVC )\n",
    "- High stress when jamming or stop : reflected mass can be very high\n",
    "\n",
    "Thr **copper and iron losses** have:\n",
    "- Effect on sizing of power electronics\n",
    "- Effect on housing design for frameless motor"
   ]
  },
  {
   "cell_type": "markdown",
   "metadata": {
    "slideshow": {
     "slide_type": "fragment"
    }
   },
   "source": [
    "---\n",
    "**For the EMA study case:**\n",
    "- Brushless motor: rotor inertia\n",
    "- Brushless motor: losses\n",
    "---"
   ]
  },
  {
   "attachments": {},
   "cell_type": "markdown",
   "metadata": {
    "pycharm": {
     "name": "#%% md\n"
    },
    "slideshow": {
     "slide_type": "slide"
    }
   },
   "source": [
    "## Sizing scenarios and mission profiles\n",
    "\n",
    "Sizing scenarios make the link between the application and the design criteria of the system components.\n"
   ]
  },
  {
   "cell_type": "markdown",
   "metadata": {
    "slideshow": {
     "slide_type": "fragment"
    }
   },
   "source": [
    "![drawing75](../../images/mission_profile.png)"
   ]
  },
  {
   "cell_type": "markdown",
   "metadata": {},
   "source": [
    ":::{dropdown} Description :open:\n",
    "Example of sizing scenarios for our study case are:\n",
    "- Under mechanical aspects: a displacement profile which describes expansion/retraction movements and the associated torque. This profile give an estimation of the maximum efforts on the entire power chain. Repeated over 12 000 flights give a specification of lifetimes.\n",
    "- Under thermal aspect: a critical case can be represented with an important deflection, that means a high torque which generate important losses in the motor, with an important holding time and high external temperature (low altitude in a warm country).\n",
    "- Vibratory aspects can be considered by using vibratory test standards for a given amplitude and frequency.\n",
    "- The harmful aspect of inertia is took into account in a critical case such as the jamming of the spoiler at full deflection speed (implying maximum stored kinetic energy).\n",
    "- The effort limitation function is represented by a sudden gust scenario.\n",
    ":::"
   ]
  },
  {
   "attachments": {},
   "cell_type": "markdown",
   "metadata": {
    "pycharm": {
     "name": "#%% md\n"
    },
    "slideshow": {
     "slide_type": "slide"
    }
   },
   "source": [
    "## Verification matrix\n",
    "\n",
    "To be sure that all design criterias are covered, a verification matrix can be used with:\n",
    "- On one side: the global functions of the system, the design criteria of the components  \n",
    "- On the other: the different design scenarios  \n",
    "\n",
    "Each line must be linked to at least one scenario.\n"
   ]
  },
  {
   "cell_type": "markdown",
   "metadata": {
    "slideshow": {
     "slide_type": "fragment"
    }
   },
   "source": [
    "![drawing75](../../images/verification_matrix.png)"
   ]
  },
  {
   "cell_type": "markdown",
   "metadata": {
    "pycharm": {
     "name": "#%% md\n"
    },
    "slideshow": {
     "slide_type": "slide"
    }
   },
   "source": [
    "> **Other example of representation:** the Thrust Vector Lab gives an other way of representation. "
   ]
  },
  {
   "cell_type": "markdown",
   "metadata": {
    "slideshow": {
     "slide_type": "fragment"
    }
   },
   "source": [
    "![drawing75](../../images/dd_representation_example.png)"
   ]
  }
 ],
 "metadata": {
  "celltoolbar": "Slideshow",
  "jupytext": {
   "formats": "ipynb"
  },
  "kernelspec": {
   "display_name": "Python 3 (ipykernel)",
   "language": "python",
   "name": "python3"
  },
  "language_info": {
   "codemirror_mode": {
    "name": "ipython",
    "version": 3
   },
   "file_extension": ".py",
   "mimetype": "text/x-python",
   "name": "python",
   "nbconvert_exporter": "python",
   "pygments_lexer": "ipython3",
   "version": "3.9.13"
  },
  "rise": {
   "autolaunch": true,
   "overlay": "<div class='myheader'><h2>Sizing and optimization of mechatronic systems</h2></div><div class='myfooter'><h2>24/10/2022</h2></div><div class='logo'><img src='../../images/logo.png' width=200px height= auto></div>"
  }
 },
 "nbformat": 4,
 "nbformat_minor": 4
}
