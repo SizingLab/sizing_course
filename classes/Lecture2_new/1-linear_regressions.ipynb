{
 "cells": [
  {
   "cell_type": "markdown",
   "metadata": {
    "editable": true,
    "slideshow": {
     "slide_type": "slide"
    },
    "tags": []
   },
   "source": [
    "# Linear regressions"
   ]
  },
  {
   "cell_type": "markdown",
   "metadata": {
    "editable": true,
    "pycharm": {
     "name": "#%% md\n"
    },
    "slideshow": {
     "slide_type": ""
    },
    "tags": []
   },
   "source": [
    "During preliminary design and, above all, when optimising solutions, it is useful to have simple equations for calculating the main characteristics of the component. We will now look at how to transform data, coming from catalogs, into algebraic equations using regression.\n",
    " \n",
    "![Simulation Models](./assets/images/RegressionNeeds.png)\n",
    "\n",
    "For interested readers, more information can be found in the following document (Chapter 4 – Metamodels for model-based-design of mechatronic systems):  \n",
    "> Budinger, M. (2014). Preliminary design and sizing of actuation systems (HDR dissertation, UPS Toulouse). [Link](https://hal.science/tel-01112448v1/document)"
   ]
  },
  {
   "cell_type": "markdown",
   "metadata": {
    "editable": true,
    "jupyterlab-deck": {
     "layer": null
    },
    "slideshow": {
     "slide_type": "slide"
    },
    "tags": []
   },
   "source": [
    "### Statistical data analysis: main steps \n",
    "\n",
    "The main steps to follow in order to obtain an estimation model using data are:  \n",
    "1. **Obtaining data**: components’ data can be provided by catalogues or design models on which we will have simulated a set of well chosen design parameters (using design of experiments for instance).  \n",
    "2. **Choosing parameters** representating primary characteristics: the objective here is to reduce the number of inputs for the model. In order to do that, we can detect and choose the most important parameters using a correlation analysis. A dimensional analysis  can also help to reduce the number of coefficients to be considered.  \n",
    "3. **Choosing the mathematical model type**: this means to choose the mathematical form of the equation on which the regression will be applied (polynoms, linear sum of functions, power products,…).  \n",
    "4. **Apply the regression**: the objective is to minimize the disparity between data and the mathematical equation of the model.  \n"
   ]
  },
  {
   "cell_type": "markdown",
   "metadata": {
    "editable": true,
    "slideshow": {
     "slide_type": "slide"
    },
    "tags": []
   },
   "source": [
    "### Gearbox Data\n",
    "\n",
    "Examples of this notebook will be given using gear reducers data coming from manufacturers.\n",
    "\n",
    "![Simulation Models](./assets/images/GearBoxData.png)\n",
    "\n",
    "These data are stored in excel files, which can be read here using the `pandas` package in `dataframe` format.  The database contains a wide range of information: mass, torsional stiffness, efficiency, dimensions, etc.\n"
   ]
  },
  {
   "cell_type": "code",
   "execution_count": 1,
   "metadata": {
    "editable": true,
    "slideshow": {
     "slide_type": "fragment"
    },
    "tags": []
   },
   "outputs": [
    {
     "data": {
      "text/html": [
       "<div>\n",
       "<style scoped>\n",
       "    .dataframe tbody tr th:only-of-type {\n",
       "        vertical-align: middle;\n",
       "    }\n",
       "\n",
       "    .dataframe tbody tr th {\n",
       "        vertical-align: top;\n",
       "    }\n",
       "\n",
       "    .dataframe thead th {\n",
       "        text-align: right;\n",
       "    }\n",
       "</style>\n",
       "<table border=\"1\" class=\"dataframe\">\n",
       "  <thead>\n",
       "    <tr style=\"text-align: right;\">\n",
       "      <th></th>\n",
       "      <th>Constructor</th>\n",
       "      <th>size</th>\n",
       "      <th>number stage</th>\n",
       "      <th>ratio</th>\n",
       "      <th>torque output</th>\n",
       "      <th>rate input</th>\n",
       "      <th>efficiency</th>\n",
       "      <th>torsional stiffness</th>\n",
       "      <th>backlash</th>\n",
       "      <th>inertia input</th>\n",
       "      <th>mass</th>\n",
       "      <th>Power</th>\n",
       "      <th>Diameter</th>\n",
       "      <th>Length</th>\n",
       "    </tr>\n",
       "  </thead>\n",
       "  <tbody>\n",
       "    <tr>\n",
       "      <th>0</th>\n",
       "      <td>(-)</td>\n",
       "      <td>(-)</td>\n",
       "      <td>(-)</td>\n",
       "      <td>(-)</td>\n",
       "      <td>(Nm)</td>\n",
       "      <td>(tr/min)</td>\n",
       "      <td>(%)</td>\n",
       "      <td>(Nm/arcmin)</td>\n",
       "      <td>(arcmin)</td>\n",
       "      <td>(kg cm2)</td>\n",
       "      <td>(kg)</td>\n",
       "      <td>(W)</td>\n",
       "      <td>(mm)</td>\n",
       "      <td>(mm)</td>\n",
       "    </tr>\n",
       "    <tr>\n",
       "      <th>1</th>\n",
       "      <td>Constructor</td>\n",
       "      <td>size</td>\n",
       "      <td>Ns</td>\n",
       "      <td>N</td>\n",
       "      <td>Tout</td>\n",
       "      <td>Win</td>\n",
       "      <td>Eta</td>\n",
       "      <td>K</td>\n",
       "      <td>Dteta</td>\n",
       "      <td>J</td>\n",
       "      <td>M</td>\n",
       "      <td>P</td>\n",
       "      <td>D</td>\n",
       "      <td>L</td>\n",
       "    </tr>\n",
       "  </tbody>\n",
       "</table>\n",
       "</div>"
      ],
      "text/plain": [
       "   Constructor  size number stage ratio torque output rate input efficiency  \\\n",
       "0          (-)   (-)          (-)   (-)          (Nm)   (tr/min)        (%)   \n",
       "1  Constructor  size           Ns     N          Tout        Win        Eta   \n",
       "\n",
       "  torsional stiffness  backlash inertia input  mass Power Diameter Length  \n",
       "0         (Nm/arcmin)  (arcmin)      (kg cm2)  (kg)   (W)     (mm)   (mm)  \n",
       "1                   K     Dteta             J     M     P        D      L  "
      ]
     },
     "execution_count": 1,
     "metadata": {},
     "output_type": "execute_result"
    }
   ],
   "source": [
    "import pandas as pd\n",
    "\n",
    "# Read the meaning of the different parameters\n",
    "df_head = pd.read_excel(\"GearBoxHead.xlsx\")\n",
    "df_head"
   ]
  },
  {
   "cell_type": "code",
   "execution_count": 2,
   "metadata": {
    "editable": true,
    "slideshow": {
     "slide_type": ""
    },
    "tags": []
   },
   "outputs": [
    {
     "data": {
      "text/html": [
       "<div>\n",
       "<style scoped>\n",
       "    .dataframe tbody tr th:only-of-type {\n",
       "        vertical-align: middle;\n",
       "    }\n",
       "\n",
       "    .dataframe tbody tr th {\n",
       "        vertical-align: top;\n",
       "    }\n",
       "\n",
       "    .dataframe thead th {\n",
       "        text-align: right;\n",
       "    }\n",
       "</style>\n",
       "<table border=\"1\" class=\"dataframe\">\n",
       "  <thead>\n",
       "    <tr style=\"text-align: right;\">\n",
       "      <th></th>\n",
       "      <th>Constructor</th>\n",
       "      <th>size</th>\n",
       "      <th>Ns</th>\n",
       "      <th>N</th>\n",
       "      <th>Tout</th>\n",
       "      <th>Win</th>\n",
       "      <th>Eta</th>\n",
       "      <th>K</th>\n",
       "      <th>Dteta</th>\n",
       "      <th>J</th>\n",
       "      <th>M</th>\n",
       "      <th>P</th>\n",
       "      <th>D</th>\n",
       "      <th>L</th>\n",
       "    </tr>\n",
       "  </thead>\n",
       "  <tbody>\n",
       "    <tr>\n",
       "      <th>0</th>\n",
       "      <td>NEUGART</td>\n",
       "      <td>PLS 70 HP-4</td>\n",
       "      <td>1</td>\n",
       "      <td>4</td>\n",
       "      <td>110.0</td>\n",
       "      <td>1700</td>\n",
       "      <td>98</td>\n",
       "      <td>7.0</td>\n",
       "      <td>3.0</td>\n",
       "      <td>0.42</td>\n",
       "      <td>2.6</td>\n",
       "      <td>4895.648552</td>\n",
       "      <td>75</td>\n",
       "      <td>122.0</td>\n",
       "    </tr>\n",
       "    <tr>\n",
       "      <th>1</th>\n",
       "      <td>NEUGART</td>\n",
       "      <td>PLS 70 HP-5</td>\n",
       "      <td>1</td>\n",
       "      <td>5</td>\n",
       "      <td>110.0</td>\n",
       "      <td>2000</td>\n",
       "      <td>98</td>\n",
       "      <td>7.0</td>\n",
       "      <td>3.0</td>\n",
       "      <td>0.37</td>\n",
       "      <td>2.6</td>\n",
       "      <td>4607.669225</td>\n",
       "      <td>75</td>\n",
       "      <td>122.0</td>\n",
       "    </tr>\n",
       "    <tr>\n",
       "      <th>2</th>\n",
       "      <td>NEUGART</td>\n",
       "      <td>PLS 90 HP-4</td>\n",
       "      <td>1</td>\n",
       "      <td>4</td>\n",
       "      <td>220.0</td>\n",
       "      <td>1350</td>\n",
       "      <td>98</td>\n",
       "      <td>10.0</td>\n",
       "      <td>3.0</td>\n",
       "      <td>1.05</td>\n",
       "      <td>4.0</td>\n",
       "      <td>7775.441818</td>\n",
       "      <td>100</td>\n",
       "      <td>138.5</td>\n",
       "    </tr>\n",
       "    <tr>\n",
       "      <th>3</th>\n",
       "      <td>NEUGART</td>\n",
       "      <td>PLS 90 HP-5</td>\n",
       "      <td>1</td>\n",
       "      <td>5</td>\n",
       "      <td>220.0</td>\n",
       "      <td>1600</td>\n",
       "      <td>98</td>\n",
       "      <td>10.0</td>\n",
       "      <td>3.0</td>\n",
       "      <td>0.85</td>\n",
       "      <td>4.0</td>\n",
       "      <td>7372.270760</td>\n",
       "      <td>100</td>\n",
       "      <td>138.5</td>\n",
       "    </tr>\n",
       "    <tr>\n",
       "      <th>4</th>\n",
       "      <td>NEUGART</td>\n",
       "      <td>PLS 115 HP-4</td>\n",
       "      <td>1</td>\n",
       "      <td>4</td>\n",
       "      <td>520.0</td>\n",
       "      <td>800</td>\n",
       "      <td>98</td>\n",
       "      <td>22.0</td>\n",
       "      <td>3.0</td>\n",
       "      <td>2.30</td>\n",
       "      <td>7.5</td>\n",
       "      <td>10890.854532</td>\n",
       "      <td>130</td>\n",
       "      <td>189.0</td>\n",
       "    </tr>\n",
       "  </tbody>\n",
       "</table>\n",
       "</div>"
      ],
      "text/plain": [
       "  Constructor          size  Ns  N   Tout   Win  Eta     K  Dteta     J    M  \\\n",
       "0     NEUGART   PLS 70 HP-4   1  4  110.0  1700   98   7.0    3.0  0.42  2.6   \n",
       "1     NEUGART   PLS 70 HP-5   1  5  110.0  2000   98   7.0    3.0  0.37  2.6   \n",
       "2     NEUGART   PLS 90 HP-4   1  4  220.0  1350   98  10.0    3.0  1.05  4.0   \n",
       "3     NEUGART   PLS 90 HP-5   1  5  220.0  1600   98  10.0    3.0  0.85  4.0   \n",
       "4     NEUGART  PLS 115 HP-4   1  4  520.0   800   98  22.0    3.0  2.30  7.5   \n",
       "\n",
       "              P    D      L  \n",
       "0   4895.648552   75  122.0  \n",
       "1   4607.669225   75  122.0  \n",
       "2   7775.441818  100  138.5  \n",
       "3   7372.270760  100  138.5  \n",
       "4  10890.854532  130  189.0  "
      ]
     },
     "execution_count": 2,
     "metadata": {},
     "output_type": "execute_result"
    }
   ],
   "source": [
    "# Read the data\n",
    "df = pd.read_excel(\"GearBoxData.xlsx\")\n",
    "\n",
    "# Print the 5 first lines of the database\n",
    "df.head()\n"
   ]
  },
  {
   "cell_type": "markdown",
   "metadata": {
    "editable": true,
    "slideshow": {
     "slide_type": "slide"
    },
    "tags": []
   },
   "source": [
    "### Choosing parameters\n",
    "\n",
    "We will assume that we want to construct a gearbox mass estimation model. We therefore first need to determine which parameters are most important in estimating this. Using the catalogue data, we can apply a correlation analysis and display it in the form of a table showing the correlation between each parameter. This table is symmetrical."
   ]
  },
  {
   "cell_type": "markdown",
   "metadata": {
    "editable": true,
    "slideshow": {
     "slide_type": "notes"
    },
    "tags": []
   },
   "source": [
    "> **Statistics Basic:**\n",
    "Classical statistic tools can be used to characterize a data serie and the links that exist between two data series:  \n",
    "-The **mean** of each data series.  \n",
    "$\\bar{x}=\\frac{1}{n}\\sum_{i=1}^{n} x_i$  \n",
    "-The **standard deviation** which gives the dispersion of a series of values, around their mean value.  \n",
    "$\\sigma=\\sqrt{\\frac{1}{n-1}\\sum_{i=1}^{n} (x_i-\\bar{x})^2}$  \n",
    "-The **covariance** which is a number that gives the possibility to evaluate the variation way of two variables and , that way, define if these variables are independant or not. That way, if 2 quantities vary the same way, or in opposite ways, the covariance value will be higher.  \n",
    "$cov(x,y)=\\frac{1}{n-1}\\sum_{i=1}^{n} (x_i-\\bar{x})(y_i-\\bar{y})$    \n",
    "-The **correlation**, also related to the link between two variables. It’s actually the Covariance, normalized on a scale from -1 to 1.   \n",
    "$cor(x,y)=\\frac{1}{n-1}\\frac{\\sum_{i=1}^{n} (x_i-\\bar{x})(y_i-\\bar{y})}{s_xs_y}$    \n"
   ]
  },
  {
   "cell_type": "markdown",
   "metadata": {
    "editable": true,
    "slideshow": {
     "slide_type": "slide"
    },
    "tags": []
   },
   "source": [
    "Dataframes can be used to calculate the correlation matrix directly and simply. \n"
   ]
  },
  {
   "cell_type": "code",
   "execution_count": 3,
   "metadata": {
    "editable": true,
    "slideshow": {
     "slide_type": ""
    },
    "tags": []
   },
   "outputs": [
    {
     "name": "stderr",
     "output_type": "stream",
     "text": [
      "/var/folders/bj/j3yrbbzj53l6grkn2dx1yyjjf64gv1/T/ipykernel_10862/1134722465.py:1: FutureWarning: The default value of numeric_only in DataFrame.corr is deprecated. In a future version, it will default to False. Select only valid columns or specify the value of numeric_only to silence this warning.\n",
      "  df.corr()\n"
     ]
    },
    {
     "data": {
      "text/html": [
       "<div>\n",
       "<style scoped>\n",
       "    .dataframe tbody tr th:only-of-type {\n",
       "        vertical-align: middle;\n",
       "    }\n",
       "\n",
       "    .dataframe tbody tr th {\n",
       "        vertical-align: top;\n",
       "    }\n",
       "\n",
       "    .dataframe thead th {\n",
       "        text-align: right;\n",
       "    }\n",
       "</style>\n",
       "<table border=\"1\" class=\"dataframe\">\n",
       "  <thead>\n",
       "    <tr style=\"text-align: right;\">\n",
       "      <th></th>\n",
       "      <th>Ns</th>\n",
       "      <th>N</th>\n",
       "      <th>Tout</th>\n",
       "      <th>Win</th>\n",
       "      <th>Eta</th>\n",
       "      <th>K</th>\n",
       "      <th>Dteta</th>\n",
       "      <th>J</th>\n",
       "      <th>M</th>\n",
       "      <th>P</th>\n",
       "      <th>D</th>\n",
       "      <th>L</th>\n",
       "    </tr>\n",
       "  </thead>\n",
       "  <tbody>\n",
       "    <tr>\n",
       "      <th>Ns</th>\n",
       "      <td>1.000000</td>\n",
       "      <td>0.354501</td>\n",
       "      <td>-0.204966</td>\n",
       "      <td>0.530513</td>\n",
       "      <td>-0.734179</td>\n",
       "      <td>-0.236948</td>\n",
       "      <td>0.680305</td>\n",
       "      <td>-0.238785</td>\n",
       "      <td>-0.103814</td>\n",
       "      <td>-0.203182</td>\n",
       "      <td>-0.263935</td>\n",
       "      <td>0.293952</td>\n",
       "    </tr>\n",
       "    <tr>\n",
       "      <th>N</th>\n",
       "      <td>0.354501</td>\n",
       "      <td>1.000000</td>\n",
       "      <td>0.063755</td>\n",
       "      <td>0.040779</td>\n",
       "      <td>-0.608730</td>\n",
       "      <td>0.079991</td>\n",
       "      <td>0.182424</td>\n",
       "      <td>0.057529</td>\n",
       "      <td>-0.000207</td>\n",
       "      <td>-0.244010</td>\n",
       "      <td>0.043081</td>\n",
       "      <td>-0.098758</td>\n",
       "    </tr>\n",
       "    <tr>\n",
       "      <th>Tout</th>\n",
       "      <td>-0.204966</td>\n",
       "      <td>0.063755</td>\n",
       "      <td>1.000000</td>\n",
       "      <td>-0.436716</td>\n",
       "      <td>0.088456</td>\n",
       "      <td>0.916671</td>\n",
       "      <td>-0.320480</td>\n",
       "      <td>0.885686</td>\n",
       "      <td>0.800741</td>\n",
       "      <td>0.290815</td>\n",
       "      <td>0.798191</td>\n",
       "      <td>0.350260</td>\n",
       "    </tr>\n",
       "    <tr>\n",
       "      <th>Win</th>\n",
       "      <td>0.530513</td>\n",
       "      <td>0.040779</td>\n",
       "      <td>-0.436716</td>\n",
       "      <td>1.000000</td>\n",
       "      <td>-0.272927</td>\n",
       "      <td>-0.437381</td>\n",
       "      <td>0.639898</td>\n",
       "      <td>-0.301804</td>\n",
       "      <td>-0.442977</td>\n",
       "      <td>-0.127484</td>\n",
       "      <td>-0.652336</td>\n",
       "      <td>-0.139995</td>\n",
       "    </tr>\n",
       "    <tr>\n",
       "      <th>Eta</th>\n",
       "      <td>-0.734179</td>\n",
       "      <td>-0.608730</td>\n",
       "      <td>0.088456</td>\n",
       "      <td>-0.272927</td>\n",
       "      <td>1.000000</td>\n",
       "      <td>0.063514</td>\n",
       "      <td>-0.505211</td>\n",
       "      <td>0.082149</td>\n",
       "      <td>0.073080</td>\n",
       "      <td>0.357831</td>\n",
       "      <td>0.156639</td>\n",
       "      <td>0.000155</td>\n",
       "    </tr>\n",
       "    <tr>\n",
       "      <th>K</th>\n",
       "      <td>-0.236948</td>\n",
       "      <td>0.079991</td>\n",
       "      <td>0.916671</td>\n",
       "      <td>-0.437381</td>\n",
       "      <td>0.063514</td>\n",
       "      <td>1.000000</td>\n",
       "      <td>-0.332987</td>\n",
       "      <td>0.775942</td>\n",
       "      <td>0.853291</td>\n",
       "      <td>0.219011</td>\n",
       "      <td>0.820234</td>\n",
       "      <td>0.280267</td>\n",
       "    </tr>\n",
       "    <tr>\n",
       "      <th>Dteta</th>\n",
       "      <td>0.680305</td>\n",
       "      <td>0.182424</td>\n",
       "      <td>-0.320480</td>\n",
       "      <td>0.639898</td>\n",
       "      <td>-0.505211</td>\n",
       "      <td>-0.332987</td>\n",
       "      <td>1.000000</td>\n",
       "      <td>-0.256920</td>\n",
       "      <td>-0.288968</td>\n",
       "      <td>-0.167897</td>\n",
       "      <td>-0.465782</td>\n",
       "      <td>-0.023637</td>\n",
       "    </tr>\n",
       "    <tr>\n",
       "      <th>J</th>\n",
       "      <td>-0.238785</td>\n",
       "      <td>0.057529</td>\n",
       "      <td>0.885686</td>\n",
       "      <td>-0.301804</td>\n",
       "      <td>0.082149</td>\n",
       "      <td>0.775942</td>\n",
       "      <td>-0.256920</td>\n",
       "      <td>1.000000</td>\n",
       "      <td>0.587566</td>\n",
       "      <td>0.347930</td>\n",
       "      <td>0.640275</td>\n",
       "      <td>0.176444</td>\n",
       "    </tr>\n",
       "    <tr>\n",
       "      <th>M</th>\n",
       "      <td>-0.103814</td>\n",
       "      <td>-0.000207</td>\n",
       "      <td>0.800741</td>\n",
       "      <td>-0.442977</td>\n",
       "      <td>0.073080</td>\n",
       "      <td>0.853291</td>\n",
       "      <td>-0.288968</td>\n",
       "      <td>0.587566</td>\n",
       "      <td>1.000000</td>\n",
       "      <td>0.295261</td>\n",
       "      <td>0.791580</td>\n",
       "      <td>0.592270</td>\n",
       "    </tr>\n",
       "    <tr>\n",
       "      <th>P</th>\n",
       "      <td>-0.203182</td>\n",
       "      <td>-0.244010</td>\n",
       "      <td>0.290815</td>\n",
       "      <td>-0.127484</td>\n",
       "      <td>0.357831</td>\n",
       "      <td>0.219011</td>\n",
       "      <td>-0.167897</td>\n",
       "      <td>0.347930</td>\n",
       "      <td>0.295261</td>\n",
       "      <td>1.000000</td>\n",
       "      <td>0.245700</td>\n",
       "      <td>0.355627</td>\n",
       "    </tr>\n",
       "    <tr>\n",
       "      <th>D</th>\n",
       "      <td>-0.263935</td>\n",
       "      <td>0.043081</td>\n",
       "      <td>0.798191</td>\n",
       "      <td>-0.652336</td>\n",
       "      <td>0.156639</td>\n",
       "      <td>0.820234</td>\n",
       "      <td>-0.465782</td>\n",
       "      <td>0.640275</td>\n",
       "      <td>0.791580</td>\n",
       "      <td>0.245700</td>\n",
       "      <td>1.000000</td>\n",
       "      <td>0.428592</td>\n",
       "    </tr>\n",
       "    <tr>\n",
       "      <th>L</th>\n",
       "      <td>0.293952</td>\n",
       "      <td>-0.098758</td>\n",
       "      <td>0.350260</td>\n",
       "      <td>-0.139995</td>\n",
       "      <td>0.000155</td>\n",
       "      <td>0.280267</td>\n",
       "      <td>-0.023637</td>\n",
       "      <td>0.176444</td>\n",
       "      <td>0.592270</td>\n",
       "      <td>0.355627</td>\n",
       "      <td>0.428592</td>\n",
       "      <td>1.000000</td>\n",
       "    </tr>\n",
       "  </tbody>\n",
       "</table>\n",
       "</div>"
      ],
      "text/plain": [
       "             Ns         N      Tout       Win       Eta         K     Dteta  \\\n",
       "Ns     1.000000  0.354501 -0.204966  0.530513 -0.734179 -0.236948  0.680305   \n",
       "N      0.354501  1.000000  0.063755  0.040779 -0.608730  0.079991  0.182424   \n",
       "Tout  -0.204966  0.063755  1.000000 -0.436716  0.088456  0.916671 -0.320480   \n",
       "Win    0.530513  0.040779 -0.436716  1.000000 -0.272927 -0.437381  0.639898   \n",
       "Eta   -0.734179 -0.608730  0.088456 -0.272927  1.000000  0.063514 -0.505211   \n",
       "K     -0.236948  0.079991  0.916671 -0.437381  0.063514  1.000000 -0.332987   \n",
       "Dteta  0.680305  0.182424 -0.320480  0.639898 -0.505211 -0.332987  1.000000   \n",
       "J     -0.238785  0.057529  0.885686 -0.301804  0.082149  0.775942 -0.256920   \n",
       "M     -0.103814 -0.000207  0.800741 -0.442977  0.073080  0.853291 -0.288968   \n",
       "P     -0.203182 -0.244010  0.290815 -0.127484  0.357831  0.219011 -0.167897   \n",
       "D     -0.263935  0.043081  0.798191 -0.652336  0.156639  0.820234 -0.465782   \n",
       "L      0.293952 -0.098758  0.350260 -0.139995  0.000155  0.280267 -0.023637   \n",
       "\n",
       "              J         M         P         D         L  \n",
       "Ns    -0.238785 -0.103814 -0.203182 -0.263935  0.293952  \n",
       "N      0.057529 -0.000207 -0.244010  0.043081 -0.098758  \n",
       "Tout   0.885686  0.800741  0.290815  0.798191  0.350260  \n",
       "Win   -0.301804 -0.442977 -0.127484 -0.652336 -0.139995  \n",
       "Eta    0.082149  0.073080  0.357831  0.156639  0.000155  \n",
       "K      0.775942  0.853291  0.219011  0.820234  0.280267  \n",
       "Dteta -0.256920 -0.288968 -0.167897 -0.465782 -0.023637  \n",
       "J      1.000000  0.587566  0.347930  0.640275  0.176444  \n",
       "M      0.587566  1.000000  0.295261  0.791580  0.592270  \n",
       "P      0.347930  0.295261  1.000000  0.245700  0.355627  \n",
       "D      0.640275  0.791580  0.245700  1.000000  0.428592  \n",
       "L      0.176444  0.592270  0.355627  0.428592  1.000000  "
      ]
     },
     "execution_count": 3,
     "metadata": {},
     "output_type": "execute_result"
    }
   ],
   "source": [
    "df.corr()"
   ]
  },
  {
   "cell_type": "markdown",
   "metadata": {
    "editable": true,
    "slideshow": {
     "slide_type": "slide"
    },
    "tags": []
   },
   "source": [
    "This matrix can then be [graphically formatted](https://medium.com/@szabo.bibor/how-to-create-a-seaborn-correlation-heatmap-in-python-834c0686b88e) for easier analysis. "
   ]
  },
  {
   "cell_type": "code",
   "execution_count": 4,
   "metadata": {
    "editable": true,
    "slideshow": {
     "slide_type": ""
    },
    "tags": []
   },
   "outputs": [
    {
     "data": {
      "image/png": "[encoded data removed]",
      "text/plain": [
       "<Figure size 1600x600 with 2 Axes>"
      ]
     },
     "metadata": {},
     "output_type": "display_data"
    }
   ],
   "source": [
    "import seaborn as sns\n",
    "import matplotlib.pyplot as plt\n",
    "import numpy as np\n",
    "\n",
    "plt.figure(figsize=(16, 6)) \n",
    "\n",
    "# define the mask to set the values in the upper triangle to Truemask \n",
    "mask = np.triu(np.ones_like(df.corr(numeric_only=True), dtype=bool)) # one_like = 1 matrix with df.corr size + triu = Upper triangle of an array.\n",
    "\n",
    "heatmap = sns.heatmap(df.corr(numeric_only=True), mask=mask, vmin=-1, vmax=1, annot=True, cmap='BrBG')\n",
    "heatmap.set_title('Triangle Correlation Heatmap', fontdict={'fontsize':18}, pad=16);"
   ]
  },
  {
   "cell_type": "markdown",
   "metadata": {
    "editable": true,
    "slideshow": {
     "slide_type": "fragment"
    },
    "tags": []
   },
   "source": [
    "We can see that :\n",
    "- the reduction ratio and the number of stages have little influence on the mass\n",
    "- the most important and primary parameter is the output torque."
   ]
  },
  {
   "cell_type": "markdown",
   "metadata": {
    "editable": true,
    "slideshow": {
     "slide_type": "notes"
    },
    "tags": []
   },
   "source": [
    "**Note:** the [correlation matrix](https://www.ablebits.com/office-addins-blog/correlation-excel-coefficient-matrix-graph/) can also be produced in Excel using the [analysis toolpack](https://support.microsoft.com/fr-fr/office/charger-l-analysis-toolpak-dans-excel-6a63e598-cd6d-42e3-9317-6b40ba1a66b4)."
   ]
  },
  {
   "cell_type": "markdown",
   "metadata": {
    "editable": true,
    "slideshow": {
     "slide_type": "slide"
    },
    "tags": []
   },
   "source": [
    "### Linear regression \n",
    "Parametric regressions are based on models requiring the estimation of a finite number of parameters $\\theta$ that express the effects of basis functions on the response surface. With polynomial interpolation or regression, the basis functions are ${1, x, x^2, …, x^p}$. The idea is to obtain a surface that is differentiable and continuous. For a polynomial development of order 2 (p = 2), the expression is:\n",
    "\n",
    "$y=f(\\underline{x}, \\underline{\\theta})=\\theta_0 + \\sum_{i=1}^{k} \\theta_0 x_i + \\sum_{i=1, j=1}^{k} \\theta_{ij} x_i x_j $  \n",
    "\n",
    "with $\\underline{x}=\\begin{pmatrix}\n",
    "           x_{1} \\\n",
    "           x_{2} \\\n",
    "           \\vdots \\\n",
    "           x_{k}\n",
    "         \\end{pmatrix}$"
   ]
  },
  {
   "cell_type": "markdown",
   "metadata": {
    "editable": true,
    "slideshow": {
     "slide_type": ""
    },
    "tags": []
   },
   "source": [
    "which, for the $n$ experiments, can be written with a matrix representation:\n",
    "$\\underline{Y}=\\underline{X}.\\underline{\\theta}+\\underline{\\varepsilon}$ \n",
    "\n",
    "with $\\underline{Y}=\\begin{pmatrix}\n",
    "           y^{(1)} \\\n",
    "           \\vdots \\\n",
    "           y^{(n)}\n",
    "         \\end{pmatrix}$ ,\n",
    "         $\\underline{X}=\\begin{pmatrix}\n",
    "           1, x_{1}^{(1)}, ..., x_{k_x}^{2(1)}   \\\n",
    "           \\vdots \\\n",
    "           1, x_{1}^{(n)}, ..., x_{k_x}^{2(n)}   \n",
    "         \\end{pmatrix}$,\n",
    "         $\\underline{\\theta}=\\begin{pmatrix}\n",
    "           \\theta_0 \\\n",
    "           \\vdots \\\n",
    "           \\theta_{k_{\\theta}}\n",
    "         \\end{pmatrix}$,\n",
    "         $\\underline{\\varepsilon}=\\begin{pmatrix}\n",
    "           \\varepsilon^{(1)} \\\n",
    "           \\vdots \\\n",
    "           \\varepsilon^{(n)}\n",
    "         \\end{pmatrix}$\n",
    "\n",
    "where :\n",
    "- $k_x$ is the number of design parameters;\n",
    "- $n$ is the number of experiments of the DoE;\n",
    "- $p$ is the order of the polynomial function;\n",
    "- $k_\\theta$ is the size of vector θ.\n",
    "\n",
    "If $n=k_\\theta$, the matrix $X$ is square and the interpolation is possible. In the most common case, where $k_\\theta$ is lower than $n$, interpolation is impossible. The objective of regression is to find an approximation showing an error of zero mean and a minimum standard deviation. The errors are expressed by:  \n",
    "$\\underline{\\varepsilon}=\\underline{Y}-\\underline{X}.\\underline{\\theta}$   \n",
    "\n",
    "The standard deviation is a function of the sum of the quadratic error $\\underline{\\varepsilon}^t\\underline{\\varepsilon}$ and is minimum for:  \n",
    "\n",
    " $\\underline{\\theta}=(\\underline{X}^t\\underline{X})^{-1} \\underline{X}^t\\underline{Y}$  \n",
    "\n",
    "\n"
   ]
  },
  {
   "cell_type": "markdown",
   "metadata": {
    "editable": true,
    "slideshow": {
     "slide_type": "slide"
    },
    "tags": []
   },
   "source": [
    "### Mass and inertia regression \n",
    "\n",
    "The aim is to perform regression on part of the data: the [Sumitomo cyclo-reducers](https://us.sumitomodrive.com/sites/default/files/2023-07/precision-gearbox-catalog-07-2021.pdf). First, only the Sumitomo are selected:"
   ]
  },
  {
   "cell_type": "code",
   "execution_count": 5,
   "metadata": {
    "editable": true,
    "scrolled": true,
    "slideshow": {
     "slide_type": ""
    },
    "tags": []
   },
   "outputs": [
    {
     "data": {
      "text/html": [
       "<div>\n",
       "<style scoped>\n",
       "    .dataframe tbody tr th:only-of-type {\n",
       "        vertical-align: middle;\n",
       "    }\n",
       "\n",
       "    .dataframe tbody tr th {\n",
       "        vertical-align: top;\n",
       "    }\n",
       "\n",
       "    .dataframe thead th {\n",
       "        text-align: right;\n",
       "    }\n",
       "</style>\n",
       "<table border=\"1\" class=\"dataframe\">\n",
       "  <thead>\n",
       "    <tr style=\"text-align: right;\">\n",
       "      <th></th>\n",
       "      <th>Constructor</th>\n",
       "      <th>size</th>\n",
       "      <th>Ns</th>\n",
       "      <th>N</th>\n",
       "      <th>Tout</th>\n",
       "      <th>Win</th>\n",
       "      <th>Eta</th>\n",
       "      <th>K</th>\n",
       "      <th>Dteta</th>\n",
       "      <th>J</th>\n",
       "      <th>M</th>\n",
       "      <th>P</th>\n",
       "      <th>D</th>\n",
       "      <th>L</th>\n",
       "    </tr>\n",
       "  </thead>\n",
       "  <tbody>\n",
       "    <tr>\n",
       "      <th>613</th>\n",
       "      <td>SUMITOMO</td>\n",
       "      <td>106</td>\n",
       "      <td>1</td>\n",
       "      <td>11</td>\n",
       "      <td>25.0</td>\n",
       "      <td>500</td>\n",
       "      <td>95</td>\n",
       "      <td>1.5</td>\n",
       "      <td>3.0</td>\n",
       "      <td>0.15</td>\n",
       "      <td>1.2</td>\n",
       "      <td>118.999722</td>\n",
       "      <td>85</td>\n",
       "      <td>130.0</td>\n",
       "    </tr>\n",
       "    <tr>\n",
       "      <th>614</th>\n",
       "      <td>SUMITOMO</td>\n",
       "      <td>106</td>\n",
       "      <td>1</td>\n",
       "      <td>17</td>\n",
       "      <td>25.0</td>\n",
       "      <td>500</td>\n",
       "      <td>95</td>\n",
       "      <td>1.6</td>\n",
       "      <td>3.0</td>\n",
       "      <td>0.14</td>\n",
       "      <td>1.2</td>\n",
       "      <td>76.999820</td>\n",
       "      <td>85</td>\n",
       "      <td>130.0</td>\n",
       "    </tr>\n",
       "    <tr>\n",
       "      <th>615</th>\n",
       "      <td>SUMITOMO</td>\n",
       "      <td>106</td>\n",
       "      <td>1</td>\n",
       "      <td>29</td>\n",
       "      <td>25.0</td>\n",
       "      <td>500</td>\n",
       "      <td>95</td>\n",
       "      <td>2.6</td>\n",
       "      <td>3.0</td>\n",
       "      <td>0.14</td>\n",
       "      <td>1.2</td>\n",
       "      <td>45.137825</td>\n",
       "      <td>85</td>\n",
       "      <td>130.0</td>\n",
       "    </tr>\n",
       "    <tr>\n",
       "      <th>616</th>\n",
       "      <td>SUMITOMO</td>\n",
       "      <td>106</td>\n",
       "      <td>1</td>\n",
       "      <td>43</td>\n",
       "      <td>25.0</td>\n",
       "      <td>500</td>\n",
       "      <td>95</td>\n",
       "      <td>2.8</td>\n",
       "      <td>3.0</td>\n",
       "      <td>0.14</td>\n",
       "      <td>1.2</td>\n",
       "      <td>30.441789</td>\n",
       "      <td>85</td>\n",
       "      <td>130.0</td>\n",
       "    </tr>\n",
       "    <tr>\n",
       "      <th>617</th>\n",
       "      <td>SUMITOMO</td>\n",
       "      <td>108</td>\n",
       "      <td>1</td>\n",
       "      <td>11</td>\n",
       "      <td>75.0</td>\n",
       "      <td>500</td>\n",
       "      <td>95</td>\n",
       "      <td>5.0</td>\n",
       "      <td>3.0</td>\n",
       "      <td>1.30</td>\n",
       "      <td>4.3</td>\n",
       "      <td>356.999165</td>\n",
       "      <td>118</td>\n",
       "      <td>180.0</td>\n",
       "    </tr>\n",
       "  </tbody>\n",
       "</table>\n",
       "</div>"
      ],
      "text/plain": [
       "    Constructor size  Ns   N  Tout  Win  Eta    K  Dteta     J    M  \\\n",
       "613    SUMITOMO  106   1  11  25.0  500   95  1.5    3.0  0.15  1.2   \n",
       "614    SUMITOMO  106   1  17  25.0  500   95  1.6    3.0  0.14  1.2   \n",
       "615    SUMITOMO  106   1  29  25.0  500   95  2.6    3.0  0.14  1.2   \n",
       "616    SUMITOMO  106   1  43  25.0  500   95  2.8    3.0  0.14  1.2   \n",
       "617    SUMITOMO  108   1  11  75.0  500   95  5.0    3.0  1.30  4.3   \n",
       "\n",
       "              P    D      L  \n",
       "613  118.999722   85  130.0  \n",
       "614   76.999820   85  130.0  \n",
       "615   45.137825   85  130.0  \n",
       "616   30.441789   85  130.0  \n",
       "617  356.999165  118  180.0  "
      ]
     },
     "execution_count": 5,
     "metadata": {},
     "output_type": "execute_result"
    }
   ],
   "source": [
    "# Data Filtering\n",
    "# Keeping only SUMITOMO type\n",
    "df_S = df[df[\"Constructor\"] == \"SUMITOMO\"]\n",
    "df_S.head()"
   ]
  },
  {
   "cell_type": "markdown",
   "metadata": {
    "editable": true,
    "slideshow": {
     "slide_type": "fragment"
    },
    "tags": []
   },
   "source": [
    "The data shows a dispersion due to several types of reducers. They differ in the type of output shaft. We will now only included the lightest ones here, i.e. the FC range."
   ]
  },
  {
   "cell_type": "code",
   "execution_count": 6,
   "metadata": {
    "editable": true,
    "slideshow": {
     "slide_type": ""
    },
    "tags": []
   },
   "outputs": [
    {
     "data": {
      "image/png": "[encoded data removed]",
      "text/plain": [
       "<Figure size 640x480 with 1 Axes>"
      ]
     },
     "metadata": {},
     "output_type": "display_data"
    }
   ],
   "source": [
    "# Plot the data\n",
    "plt.plot(df_S[\"Tout\"], df_S[\"M\"], \"bo\")\n",
    "plt.xlabel(\"Low speed torque (N.m)\")\n",
    "plt.ylabel(\"Mass (kg)\")\n",
    "plt.grid()\n",
    "plt.show()"
   ]
  },
  {
   "cell_type": "code",
   "execution_count": 7,
   "metadata": {
    "editable": true,
    "slideshow": {
     "slide_type": "slide"
    },
    "tags": []
   },
   "outputs": [
    {
     "data": {
      "text/html": [
       "<div>\n",
       "<style scoped>\n",
       "    .dataframe tbody tr th:only-of-type {\n",
       "        vertical-align: middle;\n",
       "    }\n",
       "\n",
       "    .dataframe tbody tr th {\n",
       "        vertical-align: top;\n",
       "    }\n",
       "\n",
       "    .dataframe thead th {\n",
       "        text-align: right;\n",
       "    }\n",
       "</style>\n",
       "<table border=\"1\" class=\"dataframe\">\n",
       "  <thead>\n",
       "    <tr style=\"text-align: right;\">\n",
       "      <th></th>\n",
       "      <th>Constructor</th>\n",
       "      <th>size</th>\n",
       "      <th>Ns</th>\n",
       "      <th>N</th>\n",
       "      <th>Tout</th>\n",
       "      <th>Win</th>\n",
       "      <th>Eta</th>\n",
       "      <th>K</th>\n",
       "      <th>Dteta</th>\n",
       "      <th>J</th>\n",
       "      <th>M</th>\n",
       "      <th>P</th>\n",
       "      <th>D</th>\n",
       "      <th>L</th>\n",
       "    </tr>\n",
       "  </thead>\n",
       "  <tbody>\n",
       "    <tr>\n",
       "      <th>634</th>\n",
       "      <td>SUMITOMO</td>\n",
       "      <td>FC-A15(G)</td>\n",
       "      <td>1</td>\n",
       "      <td>59</td>\n",
       "      <td>149.0</td>\n",
       "      <td>1500</td>\n",
       "      <td>95</td>\n",
       "      <td>20.0</td>\n",
       "      <td>2.0</td>\n",
       "      <td>0.313</td>\n",
       "      <td>2.7</td>\n",
       "      <td>396.692632</td>\n",
       "      <td>120</td>\n",
       "      <td>60.0</td>\n",
       "    </tr>\n",
       "    <tr>\n",
       "      <th>635</th>\n",
       "      <td>SUMITOMO</td>\n",
       "      <td>FC-A15(G)</td>\n",
       "      <td>1</td>\n",
       "      <td>89</td>\n",
       "      <td>149.0</td>\n",
       "      <td>1500</td>\n",
       "      <td>95</td>\n",
       "      <td>20.0</td>\n",
       "      <td>2.0</td>\n",
       "      <td>0.310</td>\n",
       "      <td>2.7</td>\n",
       "      <td>262.976014</td>\n",
       "      <td>120</td>\n",
       "      <td>60.0</td>\n",
       "    </tr>\n",
       "    <tr>\n",
       "      <th>636</th>\n",
       "      <td>SUMITOMO</td>\n",
       "      <td>FC-A25(G)</td>\n",
       "      <td>1</td>\n",
       "      <td>29</td>\n",
       "      <td>349.0</td>\n",
       "      <td>1500</td>\n",
       "      <td>95</td>\n",
       "      <td>53.0</td>\n",
       "      <td>2.0</td>\n",
       "      <td>1.380</td>\n",
       "      <td>5.2</td>\n",
       "      <td>1890.372131</td>\n",
       "      <td>150</td>\n",
       "      <td>75.0</td>\n",
       "    </tr>\n",
       "    <tr>\n",
       "      <th>637</th>\n",
       "      <td>SUMITOMO</td>\n",
       "      <td>FC-A25(G)</td>\n",
       "      <td>1</td>\n",
       "      <td>59</td>\n",
       "      <td>349.0</td>\n",
       "      <td>1500</td>\n",
       "      <td>95</td>\n",
       "      <td>70.0</td>\n",
       "      <td>2.0</td>\n",
       "      <td>1.340</td>\n",
       "      <td>5.2</td>\n",
       "      <td>929.165963</td>\n",
       "      <td>150</td>\n",
       "      <td>75.0</td>\n",
       "    </tr>\n",
       "    <tr>\n",
       "      <th>638</th>\n",
       "      <td>SUMITOMO</td>\n",
       "      <td>FC-A25(G)</td>\n",
       "      <td>1</td>\n",
       "      <td>89</td>\n",
       "      <td>349.0</td>\n",
       "      <td>1500</td>\n",
       "      <td>95</td>\n",
       "      <td>70.0</td>\n",
       "      <td>2.0</td>\n",
       "      <td>1.330</td>\n",
       "      <td>5.2</td>\n",
       "      <td>615.963953</td>\n",
       "      <td>150</td>\n",
       "      <td>75.0</td>\n",
       "    </tr>\n",
       "  </tbody>\n",
       "</table>\n",
       "</div>"
      ],
      "text/plain": [
       "    Constructor       size  Ns   N   Tout   Win  Eta     K  Dteta      J    M  \\\n",
       "634    SUMITOMO  FC-A15(G)   1  59  149.0  1500   95  20.0    2.0  0.313  2.7   \n",
       "635    SUMITOMO  FC-A15(G)   1  89  149.0  1500   95  20.0    2.0  0.310  2.7   \n",
       "636    SUMITOMO  FC-A25(G)   1  29  349.0  1500   95  53.0    2.0  1.380  5.2   \n",
       "637    SUMITOMO  FC-A25(G)   1  59  349.0  1500   95  70.0    2.0  1.340  5.2   \n",
       "638    SUMITOMO  FC-A25(G)   1  89  349.0  1500   95  70.0    2.0  1.330  5.2   \n",
       "\n",
       "               P    D     L  \n",
       "634   396.692632  120  60.0  \n",
       "635   262.976014  120  60.0  \n",
       "636  1890.372131  150  75.0  \n",
       "637   929.165963  150  75.0  \n",
       "638   615.963953  150  75.0  "
      ]
     },
     "execution_count": 7,
     "metadata": {},
     "output_type": "execute_result"
    }
   ],
   "source": [
    "# Data Filtering\n",
    "# Keeping only FC range type\n",
    "df_S = df_S[df_S[\"size\"].astype(str).str[0:2] == \"FC\"]\n",
    "df_S.head()"
   ]
  },
  {
   "cell_type": "code",
   "execution_count": 8,
   "metadata": {
    "editable": true,
    "slideshow": {
     "slide_type": ""
    },
    "tags": []
   },
   "outputs": [
    {
     "data": {
      "image/png": "[encoded data removed]",
      "text/plain": [
       "<Figure size 640x480 with 1 Axes>"
      ]
     },
     "metadata": {},
     "output_type": "display_data"
    }
   ],
   "source": [
    "# Plot the data\n",
    "plt.plot(df_S[\"Tout\"], df_S[\"M\"], \"bo\")\n",
    "plt.xlabel(\"Low speed torque (N.m)\")\n",
    "plt.ylabel(\"Mass (kg)\")\n",
    "plt.grid()\n",
    "plt.show()"
   ]
  },
  {
   "cell_type": "markdown",
   "metadata": {
    "editable": true,
    "slideshow": {
     "slide_type": "slide"
    },
    "tags": []
   },
   "source": [
    "[Scikit-learn](https://scikit-learn.org)  is a free machine learning package and can be used for linear regression.  It features also various classification, regression and clustering algorithms including support-vector machines, random forests, gradient boosting, k-means, ... Below an example of use of this package for [linear regression](https://scikit-learn.org/stable/auto_examples/linear_model/plot_ols.html) of the gear reducers data."
   ]
  },
  {
   "cell_type": "code",
   "execution_count": 15,
   "metadata": {
    "editable": true,
    "slideshow": {
     "slide_type": "fragment"
    },
    "tags": []
   },
   "outputs": [
    {
     "name": "stderr",
     "output_type": "stream",
     "text": [
      "/var/folders/bj/j3yrbbzj53l6grkn2dx1yyjjf64gv1/T/ipykernel_10862/3185552036.py:30: DeprecationWarning: Conversion of an array with ndim > 0 to a scalar is deprecated, and will error in future. Ensure you extract a single element from your array before performing this operation. (Deprecated NumPy 1.25.)\n",
      "  intercept = float(reg_M.intercept_)\n"
     ]
    },
    {
     "data": {
      "image/png": "[encoded data removed]",
      "text/plain": [
       "<Figure size 640x480 with 1 Axes>"
      ]
     },
     "metadata": {},
     "output_type": "display_data"
    },
    {
     "name": "stdout",
     "output_type": "stream",
     "text": [
      "Mass estimation model : M = 1.60 + 0.01 * Tout with R2=0.999\n"
     ]
    }
   ],
   "source": [
    "# Import packages\n",
    "from sklearn import linear_model\n",
    "from sklearn.preprocessing import PolynomialFeatures\n",
    "from sklearn.metrics import r2_score\n",
    "import matplotlib.pyplot as plt\n",
    "\n",
    "# Data\n",
    "x = df_S[\"Tout\"].values # Torque input\n",
    "y = df_S[\"M\"].values # Mass output\n",
    "\n",
    "# Matrix X and Y\n",
    "n=1 # order of polynomial regression\n",
    "\n",
    "poly = PolynomialFeatures(degree=n, include_bias=False) # 1 vector is nt necessary with sklearn\n",
    "X =poly.fit_transform(x.reshape(-1, 1)) #  reshape(-1,1) transforms our numpy array x from a 1D array to a 2D array\n",
    "\n",
    "Y = y.reshape(-1, 1) \n",
    "      \n",
    "# Create a new object for the linear regression\n",
    "reg_M = linear_model.LinearRegression()\n",
    "\n",
    "reg_M.fit(X, Y)\n",
    "\n",
    "# Y vector prediction\n",
    "M_est = reg_M.predict(X)\n",
    "\n",
    "# M regression Parameters\n",
    "# ----\n",
    "coef = reg_M.coef_\n",
    "intercept = float(reg_M.intercept_)\n",
    "r2 = r2_score(Y, M_est)\n",
    "\n",
    "\n",
    "# Plot the data\n",
    "plt.plot(x, Y, \"o\", label=\"Reference data\")\n",
    "plt.plot(x, M_est, \"-g\", label=\"Data prediction\")\n",
    "plt.xlabel(\"Torque (N.m)\")\n",
    "plt.ylabel(\"Mass (kg)\")\n",
    "plt.title(\"Comparison of reference data and regression\")\n",
    "plt.legend()\n",
    "plt.grid()\n",
    "plt.show()\n",
    "\n",
    "print(f\"Mass estimation model : M = {intercept:.2f} + {coef[0,0]:.2f} * Tout with R2={r2:.3f}\")"
   ]
  },
  {
   "cell_type": "markdown",
   "metadata": {
    "editable": true,
    "slideshow": {
     "slide_type": "notes"
    },
    "tags": []
   },
   "source": [
    "**Note:** the [linear regression](https://www.ablebits.com/office-addins-blog/linear-regression-analysis-excel/) can also be produced in Excel using the [analysis toolpack](https://support.microsoft.com/fr-fr/office/charger-l-analysis-toolpak-dans-excel-6a63e598-cd6d-42e3-9317-6b40ba1a66b4) or with trendline option on excel graphs."
   ]
  },
  {
   "cell_type": "markdown",
   "metadata": {
    "editable": true,
    "slideshow": {
     "slide_type": "slide"
    },
    "tags": []
   },
   "source": [
    "> **Homework**: Adapt previous code to set up an inertia estimation model. Two types of models can be used and compared: an order 2 polynom and a power law. \n",
    "\n",
    "**Note:** A product of power laws, can be linearized by a logarithmic transformation.  \n",
    "$y=a_0 \\prod_i x_i^{a_i} \\longrightarrow log(y)=log(a_0) + \\sum_i a_i log(x_i) $ \n",
    "\n"
   ]
  },
  {
   "cell_type": "code",
   "execution_count": null,
   "metadata": {},
   "outputs": [],
   "source": []
  }
 ],
 "metadata": {
  "celltoolbar": "Slideshow",
  "jupytext": {
   "formats": "ipynb"
  },
  "kernelspec": {
   "display_name": "Python 3 (ipykernel)",
   "language": "python",
   "name": "python3"
  },
  "language_info": {
   "codemirror_mode": {
    "name": "ipython",
    "version": 3
   },
   "file_extension": ".py",
   "mimetype": "text/x-python",
   "name": "python",
   "nbconvert_exporter": "python",
   "pygments_lexer": "ipython3",
   "version": "3.10.16"
  }
 },
 "nbformat": 4,
 "nbformat_minor": 4
}
