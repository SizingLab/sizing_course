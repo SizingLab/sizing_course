{
 "cells": [
  {
   "cell_type": "markdown",
   "metadata": {
    "slideshow": {
     "slide_type": "slide"
    },
    "tags": []
   },
   "source": [
    "# Scaling laws"
   ]
  },
  {
   "cell_type": "markdown",
   "metadata": {
    "pycharm": {
     "name": "#%% md\n"
    },
    "slideshow": {
     "slide_type": "fragment"
    },
    "tags": []
   },
   "source": [
    "For a preliminary design, obtaining component’s characteristics can be nessary for simulation or the comparison of different possible solutions. \n",
    "This informations can be obtained:\n",
    "- In catalogues if the component can be chosen from an industrial range and if the catalogues gives the desire characteristic.  \n",
    "- By computing them using complex design models.  \n",
    "- By asking experts or subcontractors. The answer can take a while to be found.  \n",
    "- By using light models which extrapolate a component’s charateristics from a known referenced component.  \n",
    "\n",
    "This last solution is the one we will develop using scaling laws. \n",
    "\n",
    "For interested readers, more information can be found in the following document (Chapter 1 – Estimation models with scaling laws):  \n",
    "> Budinger, M. (2014). Preliminary design and sizing of actuation systems (HDR dissertation, UPS Toulouse). [Link](https://hal.science/tel-01112448v1/document)"
   ]
  },
  {
   "cell_type": "markdown",
   "metadata": {
    "slideshow": {
     "slide_type": "slide"
    },
    "tags": []
   },
   "source": [
    "### Design model vs estimation model of mechatronic components\n",
    "\n",
    "The system-level design steps require models directly linking primary characteristics, which define the component functionally, to secondary characteristics, which can be seen as the features of imperfections. \n",
    "\n",
    "![Estimation model need](./assets/images/EstimationNeed.png)\n",
    "\n"
   ]
  },
  {
   "cell_type": "markdown",
   "metadata": {
    "slideshow": {
     "slide_type": "slide"
    },
    "tags": []
   },
   "source": [
    ":::{dropdown} Description \n",
    ":open: \n",
    "Generally, at component level, the models (Figure 1b) link the physical dimensions and characteristics of materials used to the primary and secondary characteristics. Design at component level is an inverse problem that requires the primary characteristics as inputs. This inversion may be done through design codes from design mechanical standards, by algebraic solvers or by optimization algorithms. However at system level, the approach requires very significant expertise and time for each component. \n",
    "\n",
    "**Scaling laws** reduce the complexity of the inverse problem by using two modelling hypothesis on the input parameters:\n",
    "- Every materials’ properties are supposed to be identical to the ones of the reference component.\n",
    "- Some geometrical dimensions vary in an homothetic way and can be expressed as scaling laws equal to the variation of one dimension (here l*).\n",
    "Because the number of input parameters has been reduced, it is easier to give the relations that link the useful parameters for our design phase to a small number of key parameters called definition parameters.  \n",
    "\n",
    "The main advantages of scaling laws for model based design are:\n",
    "- Limited number of design parameters. \n",
    "- Homogeneous, i.e. same level of details & based on the same modeling approach.\n",
    "- Reflect the state of the art of technology. \n",
    "\n",
    ":::\n",
    "\n"
   ]
  },
  {
   "cell_type": "markdown",
   "metadata": {
    "slideshow": {
     "slide_type": "slide"
    },
    "tags": []
   },
   "source": [
    "### Geometric similarity\n",
    "\n",
    "The concept of geometric similarity is really important for scaling laws. We are going to use the cylinder volume to illustrate it.  \n",
    "\n",
    "![Scaling cylinder](./assets/images/ScalingCylinder.png)\n",
    "\n"
   ]
  },
  {
   "cell_type": "markdown",
   "metadata": {
    "slideshow": {
     "slide_type": "fragment"
    },
    "tags": []
   },
   "source": [
    ":::{dropdown} Description \n",
    ":open: \n",
    "Scaling law can be written with the [Jufer notation](#References) of scaling ratios:  \n",
    "$x^*=\\frac{x}{x_{ref}}$  \n",
    "with $x$ any characteristic of the desired component and $x_{ref}$ the corresponding characteristic of a reference component. \n",
    "\n",
    "Geometric similarity means that all the object’s geometric dimensions change with a same factor.\n",
    "Therefore $r^*=l^*$ and the volume is proportional to the length variation to the power 3:  \n",
    "$V^*=r^{*2}l^*=l^{*3}$  \n",
    ":::\n"
   ]
  },
  {
   "cell_type": "markdown",
   "metadata": {
    "slideshow": {
     "slide_type": "slide"
    },
    "tags": []
   },
   "source": [
    "```{exercise}\n",
    ":label: MassIneritaScalingCylinder\n",
    "\n",
    "Give scaling laws of mass and rotational inertia of this cyclinder. \n",
    "```"
   ]
  },
  {
   "cell_type": "markdown",
   "metadata": {
    "slideshow": {
     "slide_type": "fragment"
    },
    "tags": []
   },
   "source": [
    "```{solution} MassIneritaScalingCylinder\n",
    ":label: SolutionMassIneritaScalingCylinder\n",
    ":class: dropdown\n",
    "\n",
    "The same way of volume the mass is proportional to length to the power 3 and inertia to length to the power 5:\n",
    "\n",
    "$M=\\int \\rho dv \\rightarrow M^*=l^{*3}$ \n",
    "\n",
    "$J=\\int \\rho r^2 dv \\rightarrow J^*=l^{*5}  $\n",
    "```"
   ]
  },
  {
   "cell_type": "markdown",
   "metadata": {
    "slideshow": {
     "slide_type": "slide"
    },
    "tags": []
   },
   "source": [
    "### A first example of scaling laws\n",
    "\n",
    "In this example, we want to evaluate the winding resistance of a bigger motor than the reference motor : the size variation is $L^*$, the resistance variation is $R^*$.\n",
    "\n",
    "![Scaling motor](./assets/images/ScalingMotor.png)\n"
   ]
  },
  {
   "cell_type": "markdown",
   "metadata": {
    "slideshow": {
     "slide_type": ""
    },
    "tags": []
   },
   "source": [
    ":::{dropdown} Description \n",
    ":open: \n",
    "The winding resistance is $R=\\frac{\\rho.L_{wire}}{S}$  with $L_{wire}$ the length of wire, $S$ the section of wire.  \n",
    "This wire is wound in slots whose dimensions are proportional to the dimensions of the motor, assuming complete geometric similarity. The wire diameter and length will also depend on the number of turns N made. We therefore end up with:\n",
    "\n",
    " $R=\\frac{\\rho.NL_{turn}}{S_{slot}/N} \\Longrightarrow  R^*=\\frac{N^{*2}}{L^*} $  \n",
    "\n",
    "\n",
    ":::"
   ]
  },
  {
   "cell_type": "markdown",
   "metadata": {
    "slideshow": {
     "slide_type": "slide"
    },
    "tags": []
   },
   "source": [
    "### Different ways of obtaining scaling laws\n",
    "\n",
    "There are two main ways to obtain scaling laws. We will demonstrate how to do it, by calculating the thermal constant of an electrical motor. It is assumed here that the motor temperature rise is uniform and is mainly due to convection between the stator and the air.\n",
    "\n",
    "#### Direct approach\n",
    "\n",
    "The first approach is the direct one, using known equations. The thermal time constant $\\tau_{th}$ is function of  the thermal resistance times and  the thermal capacity:  \n",
    "$\\tau_{th}=R_{th}C_{th}$  \n",
    "where:\n",
    "- The thermal resistance is inversely proportionnal to the surface of heat exchanges: $R_{th}^*=\\frac{1}{S^*}=L^{*-2}$  \n",
    "- The thermal capacity is proportional to the mass of the system : $C_{th}^*=L^{*3}$  \n",
    "\n",
    "By multiplying these results together, we can determine that the thermal constant is proportional to the length to the power 1: \n",
    "$\\tau_{th}^*=R_{th}^*C_{th}^*=L^{*-2}L^{*3}=L^{*1}$  \n"
   ]
  },
  {
   "cell_type": "markdown",
   "metadata": {
    "slideshow": {
     "slide_type": "slide"
    },
    "tags": []
   },
   "source": [
    "#### Buckingham  theorem \n",
    "In the second approach, we will use the Buckingham theorem to find the same result. The time constant of the system is linked to the dimensions and to the physical characteristics of the component.  \n",
    "\n",
    "```{admonition} Buckingham theroem\n",
    "\n",
    "The [Buckhigham theorem](https://en.wikipedia.org/wiki/Buckingham_%CF%80_theorem) states that if there is a physically meaningful equation involving a certain number n of physical variables, then the original equation can be rewritten in terms of a set of p=n−k dimensionless parameters π1, π2, ..., πp constructed from the original variables, where k is the number of physical dimensions involved.\n",
    "\n",
    "The dimensions of the multiple involved parameters (geometrical dimensions, physical properties, ...) can be express and analyse in the following table.  \n",
    "\n",
    "```"
   ]
  },
  {
   "cell_type": "markdown",
   "metadata": {
    "slideshow": {
     "slide_type": "slide"
    },
    "tags": []
   },
   "source": [
    "The dimensional analysis that can lead to a scaling law can be broken down into several stages:\n",
    "\n",
    "**Step 1:** List all the variables that are involved in the problem.  \n",
    "\n",
    "$\\tau_{th}=f(d,L,h,\\rho,c_p)$\n"
   ]
  },
  {
   "cell_type": "markdown",
   "metadata": {
    "slideshow": {
     "slide_type": "fragment"
    },
    "tags": []
   },
   "source": [
    "**Step 2:** Express each of the variables in terms of basic dimensions.  \n",
    "\n",
    "|Parameter|M|L|T| θ |  \n",
    "|---|---|---|---|---|  \n",
    "|Thermal time constant $\\tau_{th}$ | 0 | 0 | 1 | 0 |  \n",
    "|Diameter $d$ | 0 | 1 | 0 | 0 | \n",
    "|Length $L$ | 0 | 1 | 0 | 0 |\n",
    "|Newton coefficient $h$ | 1 | 0 | -3 | -1 |\n",
    "|Density $\\rho$ | 1 | -3 | 0 | 0 |\n",
    "|Specific heat capacity $c_p$ | 0 | 2 | -2 | -1 |\n",
    "\n",
    "*Note: The numbers in the table above correspond to the powers of the dimensions\n",
    "$[x]=M^a L^b T^c θ^d $*"
   ]
  },
  {
   "cell_type": "markdown",
   "metadata": {
    "slideshow": {
     "slide_type": "fragment"
    },
    "tags": []
   },
   "source": [
    "**Step 3:** Determine the required number of pi terms.\n",
    "\n",
    "*The problem involves $6$ of physical variables and $4$ physical dimensions : the original equation can be rewritten in terms of a set of $p = 6 − 4 = 2$ dimensionless parameters $π_0$ and $π_1$.*"
   ]
  },
  {
   "cell_type": "markdown",
   "metadata": {
    "slideshow": {
     "slide_type": "fragment"
    },
    "tags": []
   },
   "source": [
    "**Step 4:** Select a number of repeating variables, where the number required is equal to the number of reference dimensions. All of the required reference dimensions must be included within the\n",
    "group of repeating variables, and each repeating variable must be dimensionally independent of the others.\n",
    "\n",
    "*The dependent variable (as $\\tau_{th}$) is not included in the repeating variables. We select here \n",
    "$L,h,\\rho,c_p$.*\n",
    "\n",
    "\n"
   ]
  },
  {
   "cell_type": "markdown",
   "metadata": {
    "slideshow": {
     "slide_type": "slide"
    },
    "tags": []
   },
   "source": [
    "**Step 5:** Combine dependant variables with repeating variable in sequence, to find the π dimensionless numbers. Check dimensions with the table.\n",
    "\n",
    "|Parameter|M|L|T| θ |  \n",
    "|---|---|---|---|---|  \n",
    "|Thermal time constant $\\tau_{th}$ | 0 | 0 | 1 | 0 |  \n",
    "|Diameter $d$ | 0 | 1 | 0 | 0 | \n",
    "|Length $L$ | 0 | 1 | 0 | 0 |\n",
    "|Newton coefficient $h$ | 1 | 0 | -3 | -1 |\n",
    "|Density $\\rho$ | 1 | -3 | 0 | 0 |\n",
    "|Specific heat capacity $c_p$ | 0 | 2 | -2 | -1 |\n",
    "|$\\pi_0 = \\frac{\\tau_{th}h}{\\rho c_p L}$ | 0 | 0 | 0 | 0 |\n",
    "|$\\pi_1 = \\frac{d}{L}$ | 0 | 0 | 0 | 0 |\n"
   ]
  },
  {
   "cell_type": "markdown",
   "metadata": {
    "slideshow": {
     "slide_type": "fragment"
    },
    "tags": []
   },
   "source": [
    "**Step 6:** Express the final form as a relationship among the $\\pi$ terms.\n",
    "\n",
    "$\\pi_0 = \\frac{\\tau_{th}h}{\\rho c_p L} = f(\\pi_1 = \\frac{d}{L})$\n"
   ]
  },
  {
   "cell_type": "markdown",
   "metadata": {
    "slideshow": {
     "slide_type": "fragment"
    },
    "tags": []
   },
   "source": [
    "**Step 7:** State ratio of geometric dimension as constant in cause of geometrical similarity and extract scaling laws. \n",
    "\n",
    "$\\frac{\\tau_{th}h}{\\rho c_p L} = C^{st}  \\longrightarrow  \\tau_{th}^*=L^* $  "
   ]
  },
  {
   "cell_type": "markdown",
   "metadata": {
    "slideshow": {
     "slide_type": "skip"
    },
    "tags": []
   },
   "source": [
    "### Scaling law adaptation\n",
    "\n",
    "When a scaling change occurs, some non geometric quantities can evolve and could lead to malfunctions at component level.\n",
    "For example:\n",
    "- for an electric motor, the torque that can be generated must not lead to excessive winding temperature. The entire motor range is therefore designed for the same maximum temperature, which can be noted:\n",
    "$\\theta_{max}^*=1$\n",
    "\n",
    "- for a gearbox, the torque handled must not induce excessive stress in the mechanical structure. The entire gearbox range is therefore designed for the same maximum stress, which can be noted as follows:\n",
    "$\\tau_{max}^*=1$\n",
    "\n",
    "\n",
    "The torque the electrical motor \n",
    "Which are the quantities that limit the transmittable torque. \n",
    "and the gear reducer:\n",
    "In a general way, we must determine the sizing constraints that means parameters that limit the studied device’s performances or leading to its destruction. \n",
    "\n",
    "\n",
    "\n"
   ]
  },
  {
   "cell_type": "markdown",
   "metadata": {
    "slideshow": {
     "slide_type": "slide"
    },
    "tags": []
   },
   "source": [
    "### Scaling with constant stress\n",
    "\n",
    "The next two exercises will attempt to determine scaling laws with constant maximum stress: one for a biological problem, the second for a range of cyclodrive gearboxes.\n"
   ]
  },
  {
   "cell_type": "markdown",
   "metadata": {
    "slideshow": {
     "slide_type": ""
    },
    "tags": []
   },
   "source": [
    "```{exercise}\n",
    ":label: BoneExercice\n",
    "\n",
    "Predict the diameter of the leg of an elephant from a mouse. This exercice assumes that the mechanical strength that characterize the bones does not depend on the animal.\n",
    "```"
   ]
  },
  {
   "cell_type": "markdown",
   "metadata": {
    "slideshow": {
     "slide_type": "fragment"
    },
    "tags": []
   },
   "source": [
    "```{solution} BoneExercice\n",
    ":label: BoneSolution\n",
    ":class: dropdown\n",
    "\n",
    "$\\sigma_{max}^*=1=F^* S^*$  \n",
    "with :\n",
    "- $\\sigma_{max}$ the max stress in the bone \n",
    "- $F$ the applied force, i.e. the weight of the animal\n",
    "- $S$ the section of the bone, function of the diameter $d$ of the leg\n",
    "\n",
    "$\\sigma_{max}^*=1=M^* d^{*^2}$  and thus  $d^*=M^{*^{1/2}}$    \n",
    "\n",
    "![Bone](./assets/images/ScalingBone.png)\n",
    "```"
   ]
  },
  {
   "cell_type": "markdown",
   "metadata": {
    "slideshow": {
     "slide_type": "slide"
    },
    "tags": []
   },
   "source": [
    "```{exercise}\n",
    ":label: CycloExercice\n",
    "\n",
    "**Question 1:** Demonstrate the relation between torque and dimensions for a reducer.\n",
    "\n",
    "**Question 2 :** Can we increase the diameter of a rotating device without changing its rotating speed ? Express the relation linking the rotation speed, volumic mass, diameter and a max stress. Demonstrate the relation between max speed and dimensions.\n",
    "```"
   ]
  },
  {
   "cell_type": "markdown",
   "metadata": {
    "slideshow": {
     "slide_type": "fragment"
    },
    "tags": []
   },
   "source": [
    "```{solution} CycloExercice\n",
    ":label: CycloSolution\n",
    ":class: dropdown\n",
    "\n",
    "![Bone](./assets/images/CycloSolution.png)\n",
    "\n",
    "```"
   ]
  },
  {
   "attachments": {},
   "cell_type": "markdown",
   "metadata": {
    "slideshow": {
     "slide_type": "slide"
    },
    "tags": []
   },
   "source": [
    "### Scaling with constant temperature\n",
    "\n",
    "The next exercises will attempt to determine the scaling laws for brushless motors. We will assume that in a magnetic circuit comprising permanent magnets, such as those found in brushless motors, the magnetic field $B$ can be assumed to be constant in the case of geometric similarity : $B^*=1$  \n",
    "\n"
   ]
  },
  {
   "cell_type": "markdown",
   "metadata": {
    "slideshow": {
     "slide_type": ""
    },
    "tags": []
   },
   "source": [
    "```{exercise}\n",
    ":label: TorqueCurrentDensity\n",
    "\n",
    "In a brushless motor, give the scaling law that relates the torque T* to the current density J* (ratio of current to conductor area) and the dimensions L*. Assume that all the dimensions of the motor change in the same way (assumption of geometric similarity). \n",
    "```"
   ]
  },
  {
   "cell_type": "markdown",
   "metadata": {
    "slideshow": {
     "slide_type": "fragment"
    },
    "tags": []
   },
   "source": [
    "```{solution} TorqueCurrentDensity\n",
    ":label: MotorTorqueSolution\n",
    ":class: dropdown\n",
    "\n",
    "The torque of a permanent magnet motor comes from the Laplace force. Its scaling law evolution can be obtained by dimensional analysis or by direct manipulation of equations. \n",
    "\n",
    "**Dimensional analysis:** the torque T can be linked to dimensions and current density through $f(T,⏟L,J,B_r)=0$ which, according to the Buckingham theorem, leads to $f'(T/(JB_r L^4))=0$.\n",
    "\n",
    "**Direct manipulation of scaling laws:** Torque $T^*=F^* L^*$ trough Laplace force $F^*= I^* L^* B^*$, current density  $I^* = J^* L^{*2}$, induction $B^*=1$\n",
    "\n",
    "thus:  $T^*= J^* L^*4$\n",
    "\n",
    "with: $J$ the current density, $L$ the length of the motor proportional to other geometrical dimensions, $B_r$ the remanent induction of the permanent magnet, and T the electromagnetic torque. \n",
    "```"
   ]
  },
  {
   "cell_type": "markdown",
   "metadata": {
    "slideshow": {
     "slide_type": ""
    },
    "tags": []
   },
   "source": [
    "```{exercise}\n",
    ":label: ConvectionCurrentDensity\n",
    "\n",
    "If convection is the main heat transfer problem in brushless motors, relate the winding temperature $\\theta^*$ to the current density $J^*$ and the dimensions $L^*$. Assume that the convection parameter h (Newton's coefficient) is constant for all motor dimensions. \n",
    "```"
   ]
  },
  {
   "cell_type": "markdown",
   "metadata": {
    "slideshow": {
     "slide_type": "fragment"
    },
    "tags": []
   },
   "source": [
    "```{solution} ConvectionCurrentDensity\n",
    ":label: CurrentDensitySolution\n",
    ":class: dropdown\n",
    "\n",
    "**Dimensional analysis:** the current density $J$ can be linked to the dimensions through $f(J,L,\\rho,θ,h)=0$ which, according to the Buckingham theorem, leads to $f'((ρJ^2 L )/hθ)=0$\n",
    "\n",
    "**Direct manipulation of scaling laws:** Copper losses $P^*=R^* I^{*2}$, electrical resistance $R^*= \\rho^* L^* / S^*$, current density  $I^* = J^* L^{*2}$, convective heat flow $P^* = h^* S^* \\theta$.\n",
    "\n",
    "thus:  $J^{*2} L^* = \\theta^*$\n",
    "\n",
    "with: $J$ the current density, $L$ the length of the motor proportional to other geometrical dimensions, $\\rho$ the resistivity of the copper, $\\theta$ the maximal temperature rise for the winding insulation, $h$ the convection coefficient.\n",
    "```"
   ]
  },
  {
   "cell_type": "markdown",
   "metadata": {},
   "source": [
    "```{exercise}\n",
    ":label: BrushlessMotorScalingLaws\n",
    "\n",
    "Express how the mass and inertia of a brushed motor change as a function of its rated torque. You will assume that the maximum temperature rise $\\theta$ must be constant across a range of products, i.e. $\\theta^*=1$.\n",
    "```"
   ]
  },
  {
   "cell_type": "markdown",
   "metadata": {
    "slideshow": {
     "slide_type": "fragment"
    },
    "tags": []
   },
   "source": [
    "```{solution} BrushlessMotorScalingLaws\n",
    ":label: MotorTorqueSolution\n",
    ":class: dropdown\n",
    "\n",
    "Combining these two aspects (Laplace Force, Convective heat transfer) provides an estimate of torque depending on motor size: \n",
    "- Current density evolution: \n",
    "$J^*=L^{*-0,5}$\n",
    "\n",
    "- Torque evolution:\n",
    "$T^*= J^* L^{*4} = L^{*3.5}$\n",
    "\n",
    "- Dimensions:\n",
    "$L^*= T^{*1/ 3.5}$\n",
    "\n",
    "- Mass:\n",
    "$M^*= L^{*3} = T^{*3/ 3.5}$\n",
    "\n",
    "- Inertia:\n",
    "$M^*= L^{*5} = T^{*5/ 3.5}$\n",
    "\n",
    "The following figure compare these relationships to data from industrial catalogues, and show that scaling laws can provide good fits for the quantities of interest of such components.\n",
    "\n",
    "![Motor](./assets/images/ScalingLogMotor.PNG)\n",
    "```"
   ]
  },
  {
   "cell_type": "markdown",
   "metadata": {
    "slideshow": {
     "slide_type": "skip"
    },
    "tags": []
   },
   "source": [
    "### References \n",
    "Jufer, M. (1995). Electromécanique (Vol. 9). PPUR presses polytechniques.\n"
   ]
  }
 ],
 "metadata": {
  "celltoolbar": "Slideshow",
  "jupytext": {
   "formats": "ipynb"
  },
  "kernelspec": {
   "display_name": "Python 3 (ipykernel)",
   "language": "python",
   "name": "python3"
  },
  "language_info": {
   "codemirror_mode": {
    "name": "ipython",
    "version": 3
   },
   "file_extension": ".py",
   "mimetype": "text/x-python",
   "name": "python",
   "nbconvert_exporter": "python",
   "pygments_lexer": "ipython3",
   "version": "3.9.13"
  }
 },
 "nbformat": 4,
 "nbformat_minor": 4
}
