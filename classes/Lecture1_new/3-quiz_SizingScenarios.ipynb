{
 "cells": [
  {
   "cell_type": "markdown",
   "metadata": {
    "slideshow": {
     "slide_type": "slide"
    },
    "tags": []
   },
   "source": [
    "# Quiz - Sizing scenarios"
   ]
  },
  {
   "cell_type": "markdown",
   "metadata": {
    "pycharm": {
     "name": "#%% md\n"
    },
    "slideshow": {
     "slide_type": "-"
    }
   },
   "source": [
    "Test yourself with this quiz."
   ]
  },
  {
   "cell_type": "code",
   "execution_count": 1,
   "metadata": {
    "tags": [
     "remove-input"
    ]
   },
   "outputs": [],
   "source": [
    "from jupyterquiz import display_quiz"
   ]
  },
  {
   "cell_type": "markdown",
   "metadata": {
    "user_expressions": []
   },
   "source": [
    "After analysing the architecture of the system to be sized, the next step is to establish the working scenarios which risk to degrade the different components.These scenarios could be expressed as a set of operational points (for example Torque, Speed) or mission profiles (variable function of the time)."
   ]
  },
  {
   "cell_type": "markdown",
   "metadata": {},
   "source": [
    "## Case study: Aircraft spoiler\n",
    "\n",
    "To illustrate the notion of sizing criteria and sizing scenarios, we will use a flight control actuator, more precisely for spoiler surface, as an example.\n",
    "\n",
    "#### Functions\n",
    "- Move : Positions 0, 20, 50° (Hinge torque: 1000-2500 N.m)\n",
    "- No damage (structure and actuator) if spoiler blocking or on gust action\n",
    "\n",
    "![drawing75](../../images/aircraft_spoiler.png)\n",
    "\n",
    ":::{dropdown} Description\n",
    ":open:  \n",
    "The spoiler reduces the lift of the aircraft in order to start an approach towards the airport or to increase the action of the breaks on the wheels for landing.\n",
    "On the considered aircraft, the actuator will have to position himself on 3 different angle while working againts aerodynamic forces. These forces can be either positive (when surface fully deployed) or negative (when surface fully retracted).\n",
    "No damage must appear on the structure or actuator if jamming happens or when gust action occurs.\n",
    ":::\n",
    "\n",
    "#### Components\n",
    "\n",
    "The EMA (ElectroMechanical Actuator) is composed of: \n",
    "- mechanical components for effort transmision: rod end, rod, housing\n",
    "- mechanical components for power transmision: ball screw, bearing, gear\n",
    "- electro-mechanical components such as a brushless motor.\n"
   ]
  },
  {
   "cell_type": "markdown",
   "metadata": {},
   "source": [
    "## Questions"
   ]
  },
  {
   "cell_type": "code",
   "execution_count": 1,
   "metadata": {
    "tags": [
     "remove-input"
    ]
   },
   "outputs": [
    {
     "ename": "NameError",
     "evalue": "name 'display_quiz' is not defined",
     "output_type": "error",
     "traceback": [
      "\u001b[1;31m---------------------------------------------------------------------------\u001b[0m",
      "\u001b[1;31mNameError\u001b[0m                                 Traceback (most recent call last)",
      "\u001b[1;32m~\\AppData\\Local\\Temp\\ipykernel_248\\1687558340.py\u001b[0m in \u001b[0;36m<module>\u001b[1;34m\u001b[0m\n\u001b[1;32m----> 1\u001b[1;33m \u001b[0mdisplay_quiz\u001b[0m\u001b[1;33m(\u001b[0m\u001b[1;34m\"./assets/quiz/quiz_ballscrew.json\"\u001b[0m\u001b[1;33m)\u001b[0m\u001b[1;33m\u001b[0m\u001b[1;33m\u001b[0m\u001b[0m\n\u001b[0m",
      "\u001b[1;31mNameError\u001b[0m: name 'display_quiz' is not defined"
     ]
    }
   ],
   "source": [
    "display_quiz(\"./assets/quiz/quiz_SizingScenarios.json\")"
   ]
  }
 ],
 "metadata": {
  "celltoolbar": "Slideshow",
  "jupytext": {
   "formats": "ipynb"
  },
  "kernelspec": {
   "display_name": "Python 3 (ipykernel)",
   "language": "python",
   "name": "python3"
  },
  "language_info": {
   "codemirror_mode": {
    "name": "ipython",
    "version": 3
   },
   "file_extension": ".py",
   "mimetype": "text/x-python",
   "name": "python",
   "nbconvert_exporter": "python",
   "pygments_lexer": "ipython3",
   "version": "3.9.13"
  }
 },
 "nbformat": 4,
 "nbformat_minor": 4
}
