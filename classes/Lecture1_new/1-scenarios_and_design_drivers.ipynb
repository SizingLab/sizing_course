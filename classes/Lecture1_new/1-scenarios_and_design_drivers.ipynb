{
 "cells": [
  {
   "cell_type": "markdown",
   "metadata": {
    "slideshow": {
     "slide_type": "slide"
    }
   },
   "source": [
    "# Scenarios and Design Drivers\n",
    "\n",
    "\n",
    "## Introduction\n",
    "\n",
    "After analysing the architecture of the system to be sized, the next step is to establish the **sizing scenarios* which :\n",
    "\n",
    "- represent realistic system operations: the concept of operations or a functional analysis can help you with this \n",
    "- risk to degrade the different components: the rest of this section will list the main design drivers for mechatronic components.\n",
    "\n",
    "The sizing scenarios must therefore respond to a **dual point of view: system/functional and component/technological**. Ultimately, these scenarios could be expressed in the form of a set of operational points (e.g. Torque, Speed) or mission profiles (variable function of time).\n",
    "\n",
    "![drawing75](../../images/sizing_scenarios_design_drivers.png)\n",
    "\n",
    "In order to establish the main design or selection criteria for a **component**, it may be relevant to answer the following questions: \n",
    "- **What are the operational limits or degradations that can occur rapidly (e.g. transiently over an operating cycle) ?**\n",
    "> This question focuses on **transient power requirements and performance** &rarr; Prevents rapid damage (e.g. permanent deformation, rupture)\n",
    "- **What losses in performance or gradual degradation can be expected during long-term continuous operation or after numerous operating cycles ?**\n",
    "> This question focuses on **continuous power demand and endurance** &rarr; Addresses gradual degradation (e.g., fatigue) and ensures reliable operation during service lifetime\n",
    "- **What imperfections can be expected in the component, e.g. in terms of stored energy (inertia, stiffness) or in terms of losses (efficiency) ?**\n",
    "> This question focuses on compenent **imperfections** that \n",
    ">    - increase stresses on themselves (e.g , inertia) or on other components (e.g, efficiency)\n",
    ">    - can create new critical cases (e.g, inertia and jamming) &rarr; Induced new design drivers\n"
   ]
  },
  {
   "cell_type": "markdown",
   "metadata": {
    "pycharm": {
     "name": "#%% md\n"
    },
    "slideshow": {
     "slide_type": "slide"
    }
   },
   "source": [
    "## Design drivers of main mechatronic technologies\n",
    "\n",
    "\n",
    "### Architecture exemples\n",
    "\n",
    "The fowolling Figure represents an EMA (ElectroMechanical Actuator) for the Boeing 787’s spoiler designed and manufactured by MOOG. It is composed of: \n",
    "- mechanical components for effort transmision: rod end, rod, housing\n",
    "- mechanical components for power transmision: ball screw, bearing, gear\n",
    "- electro-mechanical components such as a brushless motor\n",
    "\n",
    "![drawing50](../../images/ema_moog.png)\n",
    "\n",
    "The following diagram shows the anatomy of a multi-rotor UAV. It also includes components from mechanical (propellers, arms, landing gear), electrical (brushless motor, ESC) and electronic (inertial sensors, camera) technologies.\n",
    "\n",
    "We will now give a quick overview of the main design constraints for these families of components. \n",
    "\n",
    "![drawing51](../../images/anatomy-of-a-drone.png)\n",
    "\n"
   ]
  },
  {
   "cell_type": "markdown",
   "metadata": {},
   "source": [
    "### Mechanical components\n",
    "\n",
    "##### Maximum stress and fatigue\n",
    "Mechanical materials display linear elastic behavior (A), defined by a linear stress-strain relationship. Beyond this linear region, for ductile materials, such as steel, deformations are plastic. For many applications, plastic deformation is unacceptable, and is used as the design limitation.\n",
    "\n",
    "![drawing51](../../images/Stress.png)\n",
    "\n",
    "Formation of microcracks resulting from repeated mechanical stress. The cracks propagate along lines of weakness, which act as stress contractors. Fatigue is often computed for rolling elements using mission profiles that represent repetitive requests.\n",
    "\n",
    "##### Vibration and shock\n",
    "Vibration and shocks can cause : fracture due to fatigue or mechanical overstress, wear, lossening of fasteners (e.g. screw, bolts), leaks in hydraulic or pneumatic systems due to wear or lossening of seals or connectors., accoustic noise (10-10 000 Hz).\n",
    "\n",
    "![drawing51](../../images/vibration.png)\n",
    "\n",
    "##### Mechanical losses & Friction\n",
    "\n",
    "During sizing it is important to take into account the main parasitic aspect of components in terms of power transmission. For mechanical components efficiency and friction are important:\n",
    "- First level of modeling : constant efficiency (direct and inverse) with speed and torque.\n",
    "- Second level : friction increases at low speed. \n",
    "\n",
    "![drawing51](../../images/efficiency.png)\n"
   ]
  },
  {
   "cell_type": "markdown",
   "metadata": {},
   "source": [
    "### Electrical components\n",
    "\n",
    "##### Saturation and demagnetization\n",
    "\n",
    "The magnetic fields in components such as motors, transformers and inductors are limited by the saturation limits of the magnetic materials used. Above certain currents, this saturation limits the performance that can be achieved. It is therefore advisable to operate these components below this **saturation current**.\n",
    "\n",
    "Too high current can also **demagnetise** the materials used to make the permanent magnets. \n",
    "\n",
    "![drawing51](../../images/CurrentStress.png)\n",
    "\n",
    "##### Thermal failures\n",
    "\n",
    "Electrical energy generates heat (copper and iron losses) and increases the temperature, particularly in the winding. Several phenomena are therefore to be feared:\n",
    "- **Drift in the values of component parameters such as resistance**: increase with temperature and risk of **thermal runaway** depending on the drive mode.\n",
    "- **Loss of magnetism**: The **Curie temperature (Tc)**, or Curie point, is the temperature at which a ferromagnetic or ferrimagnetic material becomes paramagnetic when heated; the effect is reversible. A magnet loses its remanent induction if it is heated above the Curie temperature. \n",
    "- **Premature ageing**: Wire coils (e.g. inductors, solenoids, transformers, motors) can lose their insulation over time if operating temperatures are too high. \n",
    "\n",
    "![drawing51](../../images/ThermalStress.png)\n",
    "\n",
    "##### Brushless motor example\n",
    "\n",
    "The brushless electric motor provides a good illustration of these different concepts in its operating modes:\n",
    "\n",
    "*Transient operation* \n",
    "- Limitation of the instantaneous torque to avoid a current that saturates the laminations. \n",
    "- maximum instantaneous speed\n",
    "\n",
    "*Continuous operation*\n",
    "- Average Joule losses and therefore a limited average torque to avoid excessive heating of the windings and reduced life.\n",
    "- for certain motors with a large number of poles, a reduced average speed to avoid excessive iron losses.\n",
    "\n",
    "![drawing51](../../images/MotorOperArea.png)\n",
    "\n",
    "In addition to these operational limitations, there are other imperfections such as:\n",
    "- Rotor inertia which increases electromagnetic torque for high dynamic application (e.g., TVC) or increases mechanical stress when jamming or urgency stop.\n",
    "- Losses, which already affect the performance of the motor itself, but also place additional issues on the components upstream of the power chain (e.g. inverter, battery) or on the cooling devices (e.g. housing for frameless motor).\n",
    "\n"
   ]
  }
 ],
 "metadata": {
  "celltoolbar": "Slideshow",
  "jupytext": {
   "formats": "ipynb"
  },
  "kernelspec": {
   "display_name": "Python 3 (ipykernel)",
   "language": "python",
   "name": "python3"
  },
  "language_info": {
   "codemirror_mode": {
    "name": "ipython",
    "version": 3
   },
   "file_extension": ".py",
   "mimetype": "text/x-python",
   "name": "python",
   "nbconvert_exporter": "python",
   "pygments_lexer": "ipython3",
   "version": "3.9.13"
  }
 },
 "nbformat": 4,
 "nbformat_minor": 4
}
