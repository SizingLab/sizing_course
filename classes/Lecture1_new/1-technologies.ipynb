{
 "cells": [
  {
   "cell_type": "markdown",
   "metadata": {
    "editable": true,
    "slideshow": {
     "slide_type": "slide"
    },
    "tags": []
   },
   "source": [
    "# Components and Technologies for Mechatronic System"
   ]
  },
  {
   "cell_type": "markdown",
   "metadata": {
    "editable": true,
    "slideshow": {
     "slide_type": "fragment"
    },
    "tags": []
   },
   "source": [
    "To ensure the functions a mechatronic system has to provide, a physical architecture has to be chosen. Possibilities for the physical architecture are often numerous since many combination of components manage to meet the seeken functions. In addition, different technological options for a component are possible that provide the same function but often not the same performance. The purpose of this section is to provide a list of typical components and technologies used in mechatronic systems. These can be classified by domain."
   ]
  },
  {
   "cell_type": "markdown",
   "metadata": {
    "editable": true,
    "slideshow": {
     "slide_type": "slide"
    },
    "tags": []
   },
   "source": [
    "## Mechanical components"
   ]
  },
  {
   "cell_type": "markdown",
   "metadata": {
    "editable": true,
    "slideshow": {
     "slide_type": "slide"
    },
    "tags": []
   },
   "source": [
    "### Gear reducers\n",
    "\n",
    "```{figure} ./assets/images/spur_gear.gif\n",
    "---\n",
    "alt: Gear reducer animation.\n",
    "name: fig-gear_reducer\n",
    "width: 30%\n",
    "---\n",
    "Example of spur gear (Source: Wikimedia commons).\n",
    "```\n",
    "\n",
    "\n",
    "\n",
    "**Functions**\n",
    "\n",
    "- Adapt the torque and/or speed of a rotating system to match application requirements\n",
    "\n",
    "**Technologies**\n",
    "\n",
    "- Epicyclic (Planetary) Gear: Compact, efficient, and capable of high reduction ratios\n",
    "\n",
    "- Spur Gear: Simple construction, commonly used for adapting torque and speed reduction\n",
    "\n",
    "**Technological constraints**\n",
    "\n",
    "- Mechanical wear out: Gear systems are prone to wear under load, leading to limitations on maximum torque\n",
    "- Backlash: Unavoidable in mechanical systems; this leads to hysteresis, affecting position accuracy\n",
    "- Max ratio: Typically around 7:1 for spur gears; higher ratios require multiple stages"
   ]
  },
  {
   "cell_type": "markdown",
   "metadata": {
    "editable": true,
    "jp-MarkdownHeadingCollapsed": true,
    "slideshow": {
     "slide_type": "slide"
    },
    "tags": []
   },
   "source": [
    "### Nut - Screw\n",
    "\n",
    "```{figure} ./assets/images/roller_screw.gif\n",
    "---\n",
    "alt: Roller screw animation.\n",
    "name: fig-roller_screw\n",
    "width: 30%\n",
    "---\n",
    "```\n",
    "\n",
    "Example of roller screw (Source: Wikimedia commons).\n",
    "\n",
    "**Functions**\n",
    "\n",
    "- Convert rotational motion into precise linear movement, commonly used in positioning applications\n",
    "\n",
    "**Technologies**\n",
    "\n",
    "- Ball Screws: Utilize ball bearings between the screw and nut to reduce friction, leading to high efficiency and precision\n",
    "\n",
    "- Roller Screws: Use rollers instead of balls, providing higher load capacities and longer lifespan compared to ball screws\n",
    "\n",
    "**Technological constraints**\n",
    "\n",
    "- Backlash: Ball and roller screws can have slight backlash, affecting positioning accuracy; preloaded designs are used to minimize this\n",
    "\n",
    "- Efficiency: Ball screws are highly efficient but require periodic lubrication\n",
    "\n",
    "- Load capacity: Roller screws can handle higher loads than ball screws but are more complex and costly"
   ]
  },
  {
   "cell_type": "markdown",
   "metadata": {
    "editable": true,
    "jp-MarkdownHeadingCollapsed": true,
    "slideshow": {
     "slide_type": "slide"
    },
    "tags": []
   },
   "source": [
    "### Flywheel\n",
    "\n",
    "```{figure} ./assets/images/flywheel.jpeg\n",
    "---\n",
    "alt: Flywheel.\n",
    "name: fig-flywheel\n",
    "width: 30%\n",
    "---\n",
    "Flywheel of KERS (Source: Race car engineering).\n",
    "```\n",
    "\n",
    "**Functions**\n",
    "\n",
    "- Store kinetic energy and provide short-term power stabilization to the system\n",
    "\n",
    "**Technologies**\n",
    "\n",
    "- Mechanical Flywheels: Use a rotating mass to store energy, often for backup power or smoothing energy flow\n",
    "\n",
    "**Technological constraints**\n",
    "\n",
    "- Friction losses: Mechanical systems lose energy due to friction, requiring advanced materials or vacuum environments\n",
    "\n",
    "- Speed limitations: Must be carefully balanced to avoid mechanical failure at high speeds\n"
   ]
  },
  {
   "cell_type": "markdown",
   "metadata": {
    "editable": true,
    "jp-MarkdownHeadingCollapsed": true,
    "slideshow": {
     "slide_type": "slide"
    },
    "tags": []
   },
   "source": [
    "### Gas turbine\n",
    "```{figure} ./assets/images/apu.jpeg\n",
    "---\n",
    "alt: Auxiliary power unit.\n",
    "name: fig-apu\n",
    "width: 30%\n",
    "---\n",
    "Auxiliary power unit (APU) (Source: Wikimedia commons).\n",
    "```\n",
    "\n",
    "**Functions**\n",
    "\n",
    "- Generate mechanical power through the combustion of fuel\n",
    "\n",
    "**Technologies**\n",
    "\n",
    "- Axial Flow Gas Turbines: high efficiency and ability to handle large airflows\n",
    "\n",
    "- Radial Flow Gas Turbines: Compact and lower flow rates\n",
    "\n",
    "**Technological constraints**\n",
    "\n",
    "- High operating temperatures: Requires advanced materials and cooling techniques to withstand extreme heat\n",
    "\n",
    "- Efficiency losses: Sensitive to variations in pressure and temperature, impacting overall efficiency\n"
   ]
  },
  {
   "cell_type": "markdown",
   "metadata": {
    "editable": true,
    "jp-MarkdownHeadingCollapsed": true,
    "slideshow": {
     "slide_type": "slide"
    },
    "tags": []
   },
   "source": [
    "### Internal Combustion Engine\n",
    "\n",
    "```{figure} ./assets/images/ice_pistons.jpeg\n",
    "---\n",
    "alt: ICE pistons.\n",
    "name: fig-gear_reducer\n",
    "width: 30%\n",
    "---\n",
    "Internal Combustion Engine (ICE) pistons (Source: Wikimedia commons).\n",
    "```\n",
    "\n",
    "**Functions**\n",
    "\n",
    "- Generate mechanical power through the combustion of fuel\n",
    " \n",
    "**Technologies**\n",
    "\n",
    "- Spark Ignition Engines: Use a spark plug to ignite the air-fuel mixture, commonly used in gasoline engines\n",
    "\n",
    "- Compression Ignition Engines: Rely on high compression to ignite fuel, commonly used in diesel engines\n",
    "\n",
    "**Technological constraints**\n",
    "\n",
    "- Efficiency limitations: Limited by thermodynamic cycle efficiency, with typical losses as heat\n"
   ]
  },
  {
   "cell_type": "markdown",
   "metadata": {
    "editable": true,
    "slideshow": {
     "slide_type": "slide"
    },
    "tags": []
   },
   "source": [
    "## Electrical components"
   ]
  },
  {
   "cell_type": "markdown",
   "metadata": {
    "editable": true,
    "slideshow": {
     "slide_type": "slide"
    },
    "tags": []
   },
   "source": [
    "### Motors\n",
    "\n",
    "```{figure} ./assets/images/electric_motor.jpeg\n",
    "---\n",
    "alt: Electric motor.\n",
    "name: fig-electric_motor\n",
    "width: 30%\n",
    "---\n",
    "Example of permanent magnet motor (Source: Wikimedia commons).\n",
    "```\n",
    "\n",
    "\n",
    "\n",
    "**Functions**\n",
    "\n",
    "- Convert electrical energy into mechanical energy to drive system components\n",
    "\n",
    "**Technologies**\n",
    "\n",
    "- Synchronous Motor (Wound Rotor): Used for precise speed control in industrial applications\n",
    "\n",
    "- Induction Motor (Squirrel Cage): Robust and widely used for general-purpose drives\n",
    "\n",
    "- Stepper Motors: Precise incremental movement, well-suited for positioning tasks\n",
    "\n",
    "- DC Motors (brushed): Simple control, often used in mobile and compact mechatronic systems\n",
    "  \n",
    "- Brushless DC Motor (Permanent Magnet): Higher efficiency, lower maintenance compared to brushed motors\n",
    "  \n",
    "**Technological constraints**\n",
    "\n",
    "- Load capacity: Defined by material limits and the bearing design\n",
    "\n",
    "- Friction: Directly impacts system efficiency, leading to energy losses\n",
    "\n",
    "- Maintenance: Requires lubrication or advanced materials to mitigate wear\n",
    "\n"
   ]
  },
  {
   "attachments": {},
   "cell_type": "markdown",
   "metadata": {
    "editable": true,
    "slideshow": {
     "slide_type": "slide"
    },
    "tags": []
   },
   "source": [
    "### Generators\n",
    "\n",
    "\n",
    "```{figure} ./assets/images/generator_safran.png\n",
    "---\n",
    "alt: Electric generator.\n",
    "name: fig-electric_generator\n",
    "width: 30%\n",
    "---\n",
    "Example of electric generator (Source: Safran).\n",
    "```\n",
    "\n",
    "\n",
    "**Functions**\n",
    "\n",
    "- Convert mechanical energy into electrical energy for power generation\n",
    "\n",
    "**Technologies**\n",
    "\n",
    "- Synchronous Generators: wounded rotor, often coupled to turbines\n",
    "\n",
    "- Induction Generators: simple construction and robust operation\n",
    "\n",
    "- Permanent Magnet Generators: Suitable for small-scale power generation applications\n",
    "\n",
    "  \n",
    "**Technological constraints**\n",
    "\n",
    "- Voltage regulation: Requires control systems to maintain stable output voltage under varying load conditions\n",
    "\n",
    "- Mechanical speed: Output frequency depends on rotor speed\n",
    "\n"
   ]
  },
  {
   "cell_type": "markdown",
   "metadata": {
    "editable": true,
    "slideshow": {
     "slide_type": "slide"
    },
    "tags": []
   },
   "source": [
    "### DC/DC Converters\n",
    "\n",
    "\n",
    "```{figure} ./assets/images/buck_converter.jpeg\n",
    "---\n",
    "alt: Buck converter.\n",
    "name: fig-buck_converter\n",
    "width: 30%\n",
    "---\n",
    "Example of buck converter (Source: Wikimedia commons).\n",
    "```\n",
    "\n",
    "\n",
    "**Functions**\n",
    "\n",
    "- Convert one level of DC voltage to another, providing regulated power to different subsystems\n",
    "\n",
    "**Technologies**\n",
    "\n",
    "- Buck Converters: Step down voltage efficiently\n",
    "\n",
    "- Boost Converters: Step up voltage for applications needing higher power levels\n",
    "  \n",
    "**Technological constraints**\n",
    "\n",
    "- Efficiency: Dependent on load conditions and converter design\n",
    "\n",
    "- Heat losses: Requires heat dissipation for high-power applications\n",
    "\n"
   ]
  },
  {
   "cell_type": "markdown",
   "metadata": {
    "editable": true,
    "jp-MarkdownHeadingCollapsed": true,
    "slideshow": {
     "slide_type": "slide"
    },
    "tags": []
   },
   "source": [
    "### DC/AC Converters\n",
    "\n",
    "\n",
    "```{figure} ./assets/images/inverter.gif\n",
    "---\n",
    "alt: 3-level inverter.\n",
    "name: fig-inverter\n",
    "width: 30%\n",
    "---\n",
    "Example of 3-level inverter (Source: Wikimedia commons).\n",
    "```\n",
    "\n",
    "\n",
    "**Functions**\n",
    "\n",
    "- Convert one level of DC voltage to another, providing regulated power to different subsystems\n",
    "\n",
    "**Technologies**\n",
    "\n",
    "- Choppers: Used to regulate DC voltage levels by rapidly switching elements to control power flow\n",
    "\n",
    "- Inverters: Commonly used in renewable energy systems and motor drives to generate AC from DC\n",
    "  \n",
    "**Technological constraints**\n",
    "\n",
    "- Harmonic distortion: Needs filtering to minimize harmonics in output waveforms\n",
    "\n",
    "- Control complexity: Requires to produce stable and pure AC output\n",
    "\n"
   ]
  },
  {
   "cell_type": "markdown",
   "metadata": {
    "editable": true,
    "jp-MarkdownHeadingCollapsed": true,
    "slideshow": {
     "slide_type": "slide"
    },
    "tags": []
   },
   "source": [
    "### Rectifier\n",
    "\n",
    "```{figure} ./assets/images/rectifier.gif\n",
    "---\n",
    "alt: Rectifier.\n",
    "name: fig-rectifier\n",
    "width: 30%\n",
    "---\n",
    "Example of rectifier (diode bridge) (Source: Wikimedia commons).\n",
    "```\n",
    "\n",
    "\n",
    "**Functions**\n",
    "\n",
    "- Convert AC power to DC power for use in electronic circuits and devices\n",
    "\n",
    "**Technologies**\n",
    "\n",
    "- Diode Rectifiers: Use diodes to convert alternating current to direct current\n",
    "\n",
    "- Controlled Rectifiers: Utilize thyristors or other controlled elements for variable output\n",
    "  \n",
    "**Technological constraints**\n",
    "\n",
    "- Ripple: DC output contains ripples, which may require additional filtering\n",
    "\n",
    "- Heat losses: High current rectification can generate significant heat, requiring effective cooling solutions\n"
   ]
  },
  {
   "cell_type": "markdown",
   "metadata": {
    "editable": true,
    "jp-MarkdownHeadingCollapsed": true,
    "slideshow": {
     "slide_type": "slide"
    },
    "tags": []
   },
   "source": [
    "### Battery\n",
    "\n",
    "\n",
    "```{figure} ./assets/images/battery.jpeg\n",
    "---\n",
    "alt: Battery.\n",
    "name: fig-battery\n",
    "width: 30%\n",
    "---\n",
    "Battery pack of the Nissan Leaf (Source: Wikimedia commons).\n",
    "```\n",
    "\n",
    "\n",
    "**Functions**\n",
    "\n",
    "- Store electrical energy and supply power to the system when needed\n",
    "\n",
    "**Technologies**\n",
    "\n",
    "- Lithium-Ion: High energy density, commonly used in portable devices and electric powertrains\n",
    "\n",
    "- Lead-Acid: Low cost, used in backup power and automotive applications\n",
    "\n",
    "- Nickel-Metal Hydride (NiMH): Moderate energy density, often used in hybrid powertrains\n",
    "\n",
    "- Solid-State Batteries: Emerging technology offering higher energy density and improved safety compared to conventional batteries\n",
    "\n",
    "- Flow Batteries: Use liquid electrolytes stored in tanks, suitable for large-scale energy storage applications\n",
    "  \n",
    "**Technological constraints**\n",
    "\n",
    "- Charge/discharge cycles: Limited lifespan due to finite number of cycles\n",
    "\n",
    "- Energy density: Defines the amount of energy that can be stored relative to battery size\n",
    "\n"
   ]
  },
  {
   "cell_type": "markdown",
   "metadata": {
    "editable": true,
    "slideshow": {
     "slide_type": "slide"
    },
    "tags": []
   },
   "source": [
    "### Supercapacitors\n",
    "\n",
    "\n",
    "```{figure} ./assets/images/supercapacitor_maxwell.jpg\n",
    "---\n",
    "alt: Supercapacitor.\n",
    "name: fig-supercapacitor\n",
    "width: 30%\n",
    "---\n",
    "Example of 16V supercapacitor (Source: Maxwell).\n",
    "```\n",
    "\n",
    "\n",
    "**Functions**\n",
    "\n",
    "- Store and deliver electrical energy quickly, useful for high power applications with rapid charge/discharge cycles\n",
    "\n",
    "**Technologies**\n",
    "\n",
    "- Electrochemical Double-Layer Capacitors (EDLC): Store energy in the electric field at the interface between electrode and electrolyte\n",
    "\n",
    "- Pseudocapacitors: Utilize fast redox reactions to enhance energy density compared to traditional capacitors\n",
    "  \n",
    "**Technological constraints**\n",
    "\n",
    "- Energy density: Lower energy density compared to batteries, limiting long-term energy storage\n",
    "\n",
    "- Voltage limitations: Operate at relatively low voltages, often requiring series configurations\n",
    "\n"
   ]
  },
  {
   "cell_type": "markdown",
   "metadata": {
    "editable": true,
    "slideshow": {
     "slide_type": "slide"
    },
    "tags": []
   },
   "source": [
    "### Fuel cell\n",
    "\n",
    "\n",
    "```{figure} ./assets/images/fuel_cell_hyundai.jpeg\n",
    "---\n",
    "alt: Fuel cell.\n",
    "name: fig-fuel_cell\n",
    "width: 30%\n",
    "---\n",
    "Example of Hyundai hydrogen car fuel cell system (Source: Wikimedia commons).\n",
    "```\n",
    "\n",
    "**Functions**\n",
    "\n",
    "- Generate electrical energy through chemical reactions, typically using hydrogen\n",
    "\n",
    "**Technologies**\n",
    "\n",
    "- Proton Exchange Membrane (PEM): Suitable for embedded applications\n",
    "\n",
    "- Solid Oxide Fuel Cell (SOFC): Operate at high temperatures\n",
    "  \n",
    "**Technological constraints**\n",
    "\n",
    "- Operating conditions: Sensitive to temperature and pressure for optimal performance\n",
    "\n",
    "- Start-up time: Some fuel cell types, like SOFC, require long start-up times due to high operating temperatures\n",
    "\n",
    "- Durability: Electrochemical degradation over time can affect performance, requiring periodic maintenance or replacement\n",
    "\n"
   ]
  },
  {
   "cell_type": "code",
   "execution_count": null,
   "metadata": {},
   "outputs": [],
   "source": []
  }
 ],
 "metadata": {
  "celltoolbar": "Slideshow",
  "jupytext": {
   "formats": "ipynb"
  },
  "kernelspec": {
   "display_name": "Python 3 (ipykernel)",
   "language": "python",
   "name": "python3"
  },
  "language_info": {
   "codemirror_mode": {
    "name": "ipython",
    "version": 3
   },
   "file_extension": ".py",
   "mimetype": "text/x-python",
   "name": "python",
   "nbconvert_exporter": "python",
   "pygments_lexer": "ipython3",
   "version": "3.9.18"
  }
 },
 "nbformat": 4,
 "nbformat_minor": 4
}
