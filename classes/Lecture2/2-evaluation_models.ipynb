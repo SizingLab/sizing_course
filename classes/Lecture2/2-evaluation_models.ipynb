{
 "cells": [
  {
   "cell_type": "markdown",
   "metadata": {
    "slideshow": {
     "slide_type": "slide"
    }
   },
   "source": [
    "# Evaluation models\n",
    "\n",
    "The objective evaluation models is to check the ability of a component to operate in its safe operating area for the required lifetime and reliability. After reviewing the state of the art of the main design drivers that limit the performance and endurance of mechatronic components, this lecture describes the possible models and ways of implementing them in system simulation environments by focusing on lifetime evaluation.  \n",
    "\n",
    "![Simulation Models](./assets/images/EvaluationModelPosition.png)\n",
    "\n",
    "For interested readers, more information can be found in the following document (Chapter 3 - Evaluation models and sizing for lifetime and reliability):  \n",
    "> Budinger, M. (2014). Preliminary design and sizing of actuation systems (HDR dissertation, UPS Toulouse). [Link](https://hal.science/tel-01112448v1/document)"
   ]
  },
  {
   "cell_type": "markdown",
   "metadata": {
    "pycharm": {
     "name": "#%% md\n"
    },
    "slideshow": {
     "slide_type": "-"
    }
   },
   "source": [
    "### Rapid damages & Gradual degradation\n",
    "\n",
    "Evaluations models must ensure us that the components selected can satisfy :  \n",
    "**1. Transient power demand - Performance**  \n",
    " Maximum acceptable transient torque  \n",
    " Maximum acceptable transient speed  \n",
    "*Prevents rapid damages (e.g., permanent deformation, rupture)*  \n",
    "\n",
    "**2. Continuous power demand - Endurance**  \n",
    " Nominal operation point (nominal torque and speed) and reliability  \n",
    "*Addresses gradual degradation (e.g., fatigue) and ensures reliable operation during service lifetime*\n",
    "\n",
    "![Example of scenarios](./assets/images/RadidGradualDegradation.png)\n",
    "\n"
   ]
  },
  {
   "cell_type": "markdown",
   "metadata": {},
   "source": [
    ":::{dropdown} Description \n",
    ":open: \n",
    "The evaluation models determine whether each component will remain within its performance limits and can be expected to have the required lifetime and reliability. The 2 aspects to check are:\n",
    "- **Transient power demands** to ensure system performance: the models have to analyze the maximum stress (such as torque or speed) to avoid rapid deterioration. Component degradation can be avoided if the use is kept inside a Safe Operating Area (SOA). This point can be checked by the simulation models and operating domains deduced from the estimation models.    \n",
    "- **Continuous power demands** to ensure the endurance of the system: the models have to calculate quantities equivalent to the nominal point of operation and reliability rate in order to avoid critical degradation over time (e.g. fatigue). This point will be treated in greater detail in this chapter.  \n",
    "\n",
    "Operational limits in transient domain can be represented by a **power plan**, like the effort/speed one. The effort-speed characteristics (or effort-position) allow to represent in a graphic way the principal mechanic attributes of an actuator : effort, speed, and, as of product of those, power. \n",
    ":::"
   ]
  },
  {
   "cell_type": "markdown",
   "metadata": {},
   "source": [
    "### Force speed diagrams & component selection\n",
    "\n",
    "The force-speed plane in mechanics, voltage-current in electricity, pressure-flow in hydraulics, can be used as an abbreviated representation of a component's operational limits.\n",
    "\n",
    "![Example of scenarios](./assets/images/ForceSpeedDiagram.png)\n",
    "\n"
   ]
  },
  {
   "cell_type": "markdown",
   "metadata": {},
   "source": [
    ":::{dropdown} Description \n",
    ":open: \n",
    "Those graphs show the operational limits in an effort speed plan for several components :\n",
    "1. A mechanic reducer (gears)\n",
    "2. A combustion motor\n",
    "3. An hydraulic\tjack, piloted by a servovalve\n",
    "4. An electric motor, with permanent magnets and a speed variator    \n",
    "\n",
    "We can also use this graphic representation to characterize mechanical loads to move (with the receiver convention)\n",
    "1. For constant torque : lifting devices, conveyors, high speed vehicles  \n",
    "2. Torques function of speed (square) : fans, pumps,  propellers  \n",
    "3. Constant speed : synchronous alternators  \n",
    "4. Constant powers : winding devices, lathe machines  \n",
    "5. Any mission profile which varies with time.  \n",
    "\n",
    "The principle of performance checking to avoid rapid degradation is quite trivial: for a given parameter to be checked, the current value is simply compared with the maximum allowed value. \n",
    ":::"
   ]
  },
  {
   "cell_type": "markdown",
   "metadata": {},
   "source": [
    "### Gradual degradation & Lifetime\n",
    "\n",
    "For each typical component of mechatronic systems, we list the causes of rapid and gradual degradation. The plan followed depends mainly on the gradual degradation mechanisms. For these **degradation phenomena**, only the simplest laws usable at preliminary design level will be given. This section does not describe the detailed design of each component exhaustively but focuses on the selection of a component.  \n",
    "The **lifetime** is the acceptable period of use in service of a product. Acceptable refers to the product reliability (= 90%, generally). Lifetime is a stochastic variable depending on service conditions (stress, environment, etc.)."
   ]
  },
  {
   "cell_type": "markdown",
   "metadata": {},
   "source": [
    "### Mechanical power transmission components\n",
    "\n",
    "Typical components in mechanical power transmission can be divided into 3 categories according to the type of gradual degradation: \n",
    "- Rolling mechanisms: bearings, roller/ball-screw and linear ball bearings\n",
    "- Sliding mechanisms: rod-end, bushing and electromagnetic clutch/brake\n",
    "- Gears mechanisms: gears, reducers and worm-gear.   \n",
    "\n",
    "For the last category, the failure mechanism can be complex and involve a mix of various fatigue phenomena. Nevertheless, when normal conditions of functioning (lubrication, sealing, etc.) are assumed, the first fatigue phenomena must be rolling fatigue of bearings, as gears are often designed to have much higher tooth flexural or Hertz stress fatigue limits. The **rolling fatigue** can be displayed in a log-log diagram.\n",
    "\n",
    "![LogLogBearing](./assets/images/RollingFatigue.png)"
   ]
  },
  {
   "cell_type": "markdown",
   "metadata": {},
   "source": [
    ":::{dropdown} Description \n",
    ":open: \n",
    "Under varying stress or repeated deformations, micro-cracks are created in the material of a component, reducing the resistance of this component to stress and plastic deformation. This is referred to fatigue. For a mechanical component subject to fatigue this lifetime formula can normally be applied.  \n",
    "$N_{10}.σ^\\alpha=Q$  \n",
    "The concept is based on the **Palmgren Miner law**. Here $N_{10}$ refers to the standard number of load cycles for bearings (normally 1 million cycles) that can be guaranteed for a standard reliability of 90%, $\\alpha$ is the applied stress and $Q$ the resulting sum of cumulated damage. For the same component and the same reliability, the amount of cumulative damage must remain constant and identical whatever the ($N_{10}$,$σ$) pair leading to degradation of the component. For rolling components, the power coefficient $\\alpha$ is a value greater than 1 and indicates that a larger load causes more damage than a load of lower value. For ball bearings, this coefficient is equal to 3. The cycle number $N_{10}$ has no power coefficient which indicates that **the amount of damage is linear and cumulative**.\n",
    ":::"
   ]
  },
  {
   "cell_type": "markdown",
   "metadata": {},
   "source": [
    "For gearboxes or components incorporating bearings, and assuming that damage accumulates linearly, in proportion to the number of revolutions, an equivalent torque for a complex profile mission can be calculated : the **root-mean-cube  torque**.  \n",
    "\n",
    "![LogLogBearing](./assets/images/TRMC.png)"
   ]
  },
  {
   "cell_type": "markdown",
   "metadata": {},
   "source": [
    "### Electrical motors and electrical components\n",
    "\n",
    "This category consists mainly of components where temperature effects and thermal degradation are the major phenomena leading to failure: electrical motors, cables and wires, capacitors and resistors. Temperature effects and thermal degradation are the major causes of failure of many electrical components. \n",
    "\n",
    "![Motor SOA](./assets/images/MotorSOA.png)"
   ]
  },
  {
   "cell_type": "markdown",
   "metadata": {},
   "source": [
    ":::{dropdown} Description \n",
    ":open: \n",
    "Motors are composed of mechanical parts (bearings, housing and heat-sink which can be directly machined in the housing) except when they are sold in frameless form. Therefore they inherit all the rapid degradation drivers of the mechanical parts and especially the speed limit. Another speed limit will result from centrifugal forces applied to rotor coils or permanent magnets.\n",
    "The other main operational limits are due to:  \n",
    "- **Current:** current and thus torque are limited either by saturation or by magnet demagnetization. \n",
    "- **Temperature:** when considering steady-state thermal exchange, the copper losses (which depend onf torque and current) and iron losses (which depend on speed) must not exceed the nominal/rated torque or current defined for a given thermal environment. \n",
    "- **Voltage:** power electronics limitations can impact motor performance by introducing power limitation or additional speed limitations linked to the voltage limitation.  \n",
    "\n",
    "In the above Figure the effects of the mechanical, electrical and thermal operational limits for cylindrical brushless motors and annular brushless motors can be seen. The figure also shows that continuous operation limits are much lower than absolute transient operational boundaries.\n",
    ":::"
   ]
  },
  {
   "cell_type": "markdown",
   "metadata": {},
   "source": [
    "The continuous torque of a motor is limited by the losses in the body and the winding temperature. This average temperature depends on the average losses, as a function of the RMS current, which in turn depends on the RMS torque. In conclusion, it is important to ensure that the effective torque, or **root-mean-square torque** (RMS torque), is below the motor's continuous limit.\n",
    "\n",
    "![Motor SOA](./assets/images/TRMS.png)"
   ]
  },
  {
   "cell_type": "code",
   "execution_count": null,
   "metadata": {},
   "outputs": [],
   "source": []
  }
 ],
 "metadata": {
  "celltoolbar": "Slideshow",
  "jupytext": {
   "formats": "ipynb"
  },
  "kernelspec": {
   "display_name": "Python 3 (ipykernel)",
   "language": "python",
   "name": "python3"
  },
  "language_info": {
   "codemirror_mode": {
    "name": "ipython",
    "version": 3
   },
   "file_extension": ".py",
   "mimetype": "text/x-python",
   "name": "python",
   "nbconvert_exporter": "python",
   "pygments_lexer": "ipython3",
   "version": "3.9.13"
  },
  "rise": {
   "autolaunch": true,
   "overlay": "<div class='myheader'><h2>Sizing and optimization of mechatronic systems</h2></div><div class='myfooter'><h2>24/10/2022</h2></div><div class='logo'><img src='../../images/logo.png' width=200px height= auto></div>"
  }
 },
 "nbformat": 4,
 "nbformat_minor": 4
}
