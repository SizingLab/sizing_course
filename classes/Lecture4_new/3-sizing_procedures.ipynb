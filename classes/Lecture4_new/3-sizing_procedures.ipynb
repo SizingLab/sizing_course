{
 "cells": [
  {
   "cell_type": "markdown",
   "metadata": {
    "editable": true,
    "slideshow": {
     "slide_type": "slide"
    },
    "tags": []
   },
   "source": [
    "# Development of a sizing procedure using design graphs"
   ]
  },
  {
   "cell_type": "markdown",
   "metadata": {
    "editable": true,
    "pycharm": {
     "name": "#%% md\n"
    },
    "slideshow": {
     "slide_type": "fragment"
    },
    "tags": []
   },
   "source": [
    "*Written by Marc Budinger (INSA Toulouse), Toulouse, France*\n",
    "\n",
    "The ordering of the calculation steps of a whole, highly constrained sizing procedure is not always an easy task. We propose here graphical representations that can be applied to highlight the different problems the designer has to face (singularity, calculation loop) and may help him solve these problems by proposing alternatives.\n",
    "\n",
    "The following steps are suggested:\n",
    "1. Problem definition : gather all the equations/inequalities describing the problem\n",
    "2. Orientate the problem\t\n",
    "3. Break problem calculation loops\n",
    "\n",
    "For interested readers, more information can be found in the following document (Chapter 5 – Design graphs for sizing procedures and optimization problems definition):  \n",
    "> Budinger, M. (2014). Preliminary design and sizing of actuation systems (HDR dissertation, UPS Toulouse). [Link](https://hal.science/tel-01112448v1/document)"
   ]
  },
  {
   "cell_type": "markdown",
   "metadata": {
    "editable": true,
    "slideshow": {
     "slide_type": "slide"
    },
    "tags": []
   },
   "source": [
    "### Knowledge layers\n",
    "\n",
    "The knowledge required to design a mechatronic system is divided into two layers:  \n",
    "- A system layer, which represents all the interactions between the components. It is used to evaluate the overall performance of our system. It uses 0D-1D models in algorithmic or simulation environments.\n",
    "\n",
    "- A component layer, which represents the knowledge relating to a particular component. The calculation resources associated with this layer use finite elements or specific design tools. Information at this level may also be available in datasheets.\n",
    "\n",
    "![Knowledge layers](./assets/images/KnowledgeLevel.png)\n"
   ]
  },
  {
   "cell_type": "markdown",
   "metadata": {
    "editable": true,
    "slideshow": {
     "slide_type": "subslide"
    },
    "tags": []
   },
   "source": [
    "```{dropdown} Description\n",
    ":open:\n",
    "We advise you to start the implementation of a sizing procedure in an incremental way by using simple algebraic models.  \n",
    "\n",
    "We can therefore generally have a set of algebraic equations that must be ordered to obtain a dimensioning code.  \n",
    "\n",
    "It will then be possible to replace certain parts with more advanced models to increase the level of fidelity. \n",
    "```"
   ]
  },
  {
   "cell_type": "markdown",
   "metadata": {
    "editable": true,
    "slideshow": {
     "slide_type": "slide"
    },
    "tags": []
   },
   "source": [
    "### Problem definition\n",
    "\n",
    "For design problems characterized by a reduced set of equations, a skilled designer will be able to order design constraints of his area of knowledge quickly and intuitively. It is, however, also possible to represent and order these equations graphically. This graphical representation, called \"Design Graph\" here, can be used with advantage as a teaching tool or as an analysis tool for an engineer in the case of new design scenarios or new technology.\n",
    "\n",
    "![Design graph](./assets/images/DesignGraph.png)"
   ]
  },
  {
   "cell_type": "markdown",
   "metadata": {
    "editable": true,
    "slideshow": {
     "slide_type": "subslide"
    },
    "tags": []
   },
   "source": [
    "```{dropdown} Description\n",
    ":open:\n",
    "The problem definition is realized with a bipartite graph for each design layer (mechatronic system layer and components layer) as represented in Figure above:  \n",
    "- the parameters are set at mechatronic system layer level from requirements specifications (performance, constraints) and at component layer level by listing the components of the architecture and their main characteristics.  \n",
    "- equations are then introduced to link the different parameters: at mechatronic system layer level with equations representing design scenarios, at component layer level with estimation models.  \n",
    " \n",
    "At this point the relationships between the parameters and equations are represented as non-oriented edges. It is not necessary to express the equations in detail.\n",
    "```"
   ]
  },
  {
   "cell_type": "markdown",
   "metadata": {
    "editable": true,
    "slideshow": {
     "slide_type": "slide"
    },
    "tags": []
   },
   "source": [
    "### Equations Ordering\n",
    "\n",
    "The orientation of the equations is the next step. The parameters set by the specifications are selected as inputs for the sizing procedure. Some parameters in the specification may take the form of outputs if the wording of the requirement defines them as an objective to be minimized or maximized or as a maximum or minimum limit constraint to be respected. \n",
    "\n",
    "![Design graph](./assets/images/DesignGraphToOrientate.png)\n"
   ]
  },
  {
   "cell_type": "markdown",
   "metadata": {
    "editable": true,
    "slideshow": {
     "slide_type": "subslide"
    },
    "tags": []
   },
   "source": [
    "```{dropdown} Description\n",
    ":open:\n",
    "Figure above summarizes the graphical notation that can be taken to represent these parameters in a form approaching an influence diagram in order to prepare the implementation of the optimization problem.  \n",
    "```"
   ]
  },
  {
   "cell_type": "markdown",
   "metadata": {
    "editable": true,
    "slideshow": {
     "slide_type": "slide"
    },
    "tags": []
   },
   "source": [
    "#### Underconstrained problems\n",
    "\n",
    "As an equation can generate only one output, the edges have to be oriented  to have only one output per calculation node.   \n",
    "\n",
    "![Design graph](./assets/images/OneOutput.png)\n",
    "\n",
    "If a given equation remains undetermined for several parameters, some design assumptions have to be made by stating some parameters as known. These new design parameters can be included in the optimization problem and their optimal value can be determined via the optimization algorithm. \n",
    "\n",
    "![Design graph](./assets/images/UnderConstrained.png)"
   ]
  },
  {
   "cell_type": "markdown",
   "metadata": {
    "editable": true,
    "slideshow": {
     "slide_type": "subslide"
    },
    "tags": []
   },
   "source": [
    "```{dropdown} Description\n",
    ":open:\n",
    "A preferred choice for these new design parameters would be parameters participating in a large number of equations (such as reduction ratio) and values defined within a known range (min, max). These assumptions balance the number of equations available and the number of parameters to be determined by the calculation procedure. \n",
    "```"
   ]
  },
  {
   "cell_type": "markdown",
   "metadata": {
    "editable": true,
    "slideshow": {
     "slide_type": ""
    },
    "tags": []
   },
   "source": [
    "```{admonition} Example: Under-constrained singularity, the hydraulic jack  \n",
    "The aim is to implement the selection procedure for a hydraulic servo-actuator (jack and servovalve) to ensure a nominal effort $F_0$ and a nominal speed $V_0$ for a useful stroke $dx$. The anchorage structure has a stiffness $K$ and does not tolerate efforts higher than $F_{max}$. The maximum flow rate $Q_{max}$ required by the actuator should be minimized to reduce the mass of the hydraulic supply system.\n",
    "\n",
    "| Hydraulic jack equations | Design variables |\n",
    "| -- | -- |\n",
    "|Eq1:Fmax≥S.Pnet\t|Fmax: stall load|\n",
    "| |S: piston section |\n",
    "| | Pnet: network pressure |\n",
    "| Eq2: C=dx+K.F0\t| C: total stroke |\n",
    "| | dx: desired stroke |\n",
    "| | K: structure stiffness |\n",
    "| | F0: maximal load |\n",
    "| Eq3: F0=S.P0 |\tP0: maximal pressure |\n",
    "| Eq4: V0=Q0/S |\tV0: maximal speed |\n",
    "| |Q0: maximal flow |\n",
    "| Eq5: Q_0=Q_nom √((Pnet-P_0)/(dP_nom ))  |\tQnom: nominal valve flow |\n",
    "| | dPnom: nominal valve pressure drop |\n",
    "| Eq6: Q_max=Q_nom √(P_net/(dP_nom )) | \tQmax: no load flow |\n",
    "\n",
    "![Design graph](./assets/images/ServoHydro.png)\n",
    "\n",
    "The design graph highlight the sub-constraints: calculation nodes 3 and 5 need 2 parameters to be assumed known to allow the sequencing of computations. As dPnom may be given by valve technology, it may be taken as input and P0 is easy to limit to a range equal to [0, Pnet], so it will be taken as a second input (variable).\n",
    "\n",
    "![Design graph](./assets/images/UnderConstraintServo.png)\n",
    "\n",
    "```"
   ]
  },
  {
   "cell_type": "markdown",
   "metadata": {
    "editable": true,
    "slideshow": {
     "slide_type": "slide"
    },
    "tags": []
   },
   "source": [
    "#### Overconstrained problems\n",
    "\n",
    "If several equations of design scenarios have the same output, the problem may be over-constrained. Two solutions can be applied: adding a safety factor and managing one of the equations as a constraint in the optimization problem, or giving the assignment to the most restrictive equation when direct comparison is possible. \n",
    "\n",
    "![Design graph](./assets/images/OverConstrained.png)"
   ]
  },
  {
   "cell_type": "markdown",
   "metadata": {
    "editable": true,
    "slideshow": {
     "slide_type": "subslide"
    },
    "tags": []
   },
   "source": [
    "```{admonition} Example: Over-constrained singularity, the roller-screw\n",
    "\n",
    "Here we consider an over-constrained problem that is quite simple but which presents the way to solve this kind of singularity. The objective is to select a roller screw subject to two constraints: a static load and a dynamic load. Let us consider the equations from some scaling laws :\n",
    "\n",
    "| Roller-screw equations (initial set) | Design variables |\n",
    "| -- | -- |\n",
    "|Eq1: F0≥Fmax |\tF0: roller-screw static load |\n",
    "| |Fmax: maximum applied load |\n",
    "|Eq2: Fd≥Frmc |\tFd: roller-screw dynamic load |\n",
    "| |Frmc: rolling fatigue applied load |\n",
    "|Eq3: Fd=Fdref(F0/F0ref)^0.9 |\tFdref: roller-screw dynamic load (reference component) |\n",
    "| |F0ref: roller-screw static load (reference component) |\n",
    "| Eq4: Ln=Lnref(F0/F0ref)^0.5 |\tLn: roller-screw nut length |\n",
    "| |Lnref: roller-screw nut length (reference component) |\n",
    "| Eq5: Ls=C+Ln+Lb  |\tLs: screw length |\n",
    "| |C: actuator stroke |\n",
    "| |Lb: thrust bearing width |\n",
    "| Eq6: ms=msref(F0/F0ref) |\tms: screw linear mass |\n",
    "| |msref: screw linear mass (reference component) |\n",
    "|Eq7: Ms=msLs |\tMs: screw total mass |\n",
    "\n",
    "![Design graph](./assets/images/OverConstrainedScrew.png)\n",
    "\n",
    "The design graph clearly points out that one of the last 3 equations must be removed to obtain a non-singular problem. To do this, one of the inequalities must me moved to constraints (Fd>=Frmc for example). Yet, without modifying the other equation (considered as: F0=Fmax), if fatigue is the sizing criterion, the constraint will never be met. That is why a degree of freedom ‘kc’ must be introduced to the equation: kc* F0=Fmax, with kc a variable input within the range [1;Inf] here. \n",
    "\n",
    "```"
   ]
  },
  {
   "cell_type": "markdown",
   "metadata": {
    "editable": true,
    "slideshow": {
     "slide_type": "slide"
    },
    "tags": []
   },
   "source": [
    "### Treatment of algebraic loops\n",
    "\n",
    "The treatment of possible algebraic loops is the last step. We typically find an algebraic loop when the selection of a component involves the use of characteristics of this same component. This case is represented graphically by a loop involving a design scenario equation and an estimation model equation as shown. \n",
    "\n",
    "![Design graph](./assets/images/AlgebraicLoop.png)\n"
   ]
  },
  {
   "cell_type": "markdown",
   "metadata": {
    "editable": true,
    "slideshow": {
     "slide_type": "subslide"
    },
    "tags": []
   },
   "source": [
    "```{dropdown} Description\n",
    ":open:\n",
    "Adding a new design parameter, such as an oversizing coefficient, and a constraint to be checked by the optimization algorithm makes the sizing procedure explicit. At the end of this graphical treatment, the final sequence of equations can be represented as a triangular N² diagram or a dependency matrix in order to check that the sequence of equations is explicit. \n",
    "```"
   ]
  }
 ],
 "metadata": {
  "celltoolbar": "Slideshow",
  "jupytext": {
   "formats": "ipynb"
  },
  "kernelspec": {
   "display_name": "Python 3 (ipykernel)",
   "language": "python",
   "name": "python3"
  },
  "language_info": {
   "codemirror_mode": {
    "name": "ipython",
    "version": 3
   },
   "file_extension": ".py",
   "mimetype": "text/x-python",
   "name": "python",
   "nbconvert_exporter": "python",
   "pygments_lexer": "ipython3",
   "version": "3.9.18"
  }
 },
 "nbformat": 4,
 "nbformat_minor": 4
}
