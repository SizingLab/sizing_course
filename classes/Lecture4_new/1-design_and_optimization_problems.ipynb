{
 "cells": [
  {
   "cell_type": "markdown",
   "metadata": {
    "editable": true,
    "slideshow": {
     "slide_type": "slide"
    },
    "tags": []
   },
   "source": [
    "# Representation of a Design Problem and Fundamentals of Optimal Design"
   ]
  },
  {
   "cell_type": "markdown",
   "metadata": {
    "editable": true,
    "pycharm": {
     "name": "#%% md\n"
    },
    "slideshow": {
     "slide_type": "fragment"
    },
    "tags": []
   },
   "source": [
    "*Written by Marc Budinger (INSA Toulouse), Toulouse, France*\n",
    "\n",
    "So far, we have worked on:\n",
    "- Building scenarios and mission profiles to capture main design constraints.\n",
    "- Developing simulation, evaluation, and estimation models to calculate usage technological constraints and component characteristics.\n",
    "\n",
    "In the next steps, we must choose the appropriate components by optimizing our solutions (in terms of mass or dimensions) while respecting various constraints (speed, temperature, etc.).\n",
    "\n",
    "```{figure} ./assets/images/SizingProcedureOptimization.png\n",
    "---\n",
    "alt: Sizing Procedure and Optimization\n",
    "name: SizingProcedureOptimization\n",
    "---\n",
    "Sizing Procedure and Optimization\n",
    "```\n",
    "\n",
    "For readers interested in more background, especially on design graphs and optimization problem definitions, refer to Chapter 5 – Design graphs for sizing procedures and optimization problems definition:\n",
    "> Budinger, M. (2014). Preliminary design and sizing of actuation systems (HDR dissertation, UPS Toulouse). [Link](https://hal.science/tel-01112448v1/document)\n"
   ]
  },
  {
   "cell_type": "markdown",
   "metadata": {
    "editable": true,
    "slideshow": {
     "slide_type": "slide"
    },
    "tags": []
   },
   "source": [
    "### Preliminary Design: An Inverse Problem\n",
    "\n",
    "Preliminary design is an inverse problem because we select system components based on desired performance. The models usually tell us how components’ characteristics affect overall performance.\n",
    "\n",
    "```{figure} ./assets/images/InversePb.png\n",
    "---\n",
    "alt: Sizing Procedure and Optimization\n",
    "name: InversePb\n",
    "---\n",
    "Sizing Procedure and Optimization\n",
    "```\n"
   ]
  },
  {
   "cell_type": "markdown",
   "metadata": {
    "editable": true,
    "slideshow": {
     "slide_type": "subslide"
    },
    "tags": []
   },
   "source": [
    "### Solving an inverse problem\n",
    "\n",
    "There are essentially two ways to handle an inverse problem:\n",
    "- Strategic selection and sizing procedures, which use a sequence of calculations and verifications. Iterations are achieved by the designer ({numref}`HarmonicDriveSelection`).\n",
    "- Numerical optimization, which determines the design variable values to reduce the difference between achieved performance and required performance which are implemented in a form of an objective and constraints. Iterations are achieved by the optimizer ({numref}`numerical_optimization_process`).\n",
    "\n",
    "```{figure} ./assets/images/HarmonicDriveSelection.png\n",
    "---\n",
    "alt: Sizing Procedure and Optimization\n",
    "width: 50%\n",
    "name: HarmonicDriveSelection\n",
    "---\n",
    "Sizing Procedure of an Harmonic Drive\n",
    "```\n",
    "\n",
    "```{figure} ./assets/images/numerical_optimization_process.png\n",
    "---\n",
    "alt: Numerical Optimization Process\n",
    "width: 50%\n",
    "name: numerical_optimization_process\n",
    "---\n",
    "Numerical optimization process\n",
    "```\n",
    "\n",
    "By combining these approaches, we can have a comprehensive and automated design optimization process."
   ]
  },
  {
   "cell_type": "markdown",
   "metadata": {
    "editable": true,
    "slideshow": {
     "slide_type": "slide"
    },
    "tags": []
   },
   "source": [
    "### Sizing Procedure Representations\n",
    "\n",
    "These graphical methods (causal diagrams, N² diagrams, or more general graph representations) help identify couplings, potential algebraic loops, and overall process flow.\n"
   ]
  },
  {
   "cell_type": "markdown",
   "metadata": {
    "editable": true,
    "slideshow": {
     "slide_type": "subslide"
    },
    "tags": []
   },
   "source": [
    "#### Causal Diagram\n",
    "\n",
    "The causal diagram is a graphical tool representing the causal relationships between variables. It is, in fact, an oriented graph representing a calculation scheme. Figures below give examples of causal diagrams used in the Salome platform for the Pre- and Post-Processing of numerical simulations or for a space envelope estimation.\n",
    "\n",
    "```{figure} ./assets/images/CausalDiagrams.png\n",
    "---\n",
    "alt: Causal Diagrams\n",
    "name: CausalDiagrams\n",
    "---\n",
    "Causal Diagrams\n",
    "```\n"
   ]
  },
  {
   "cell_type": "markdown",
   "metadata": {
    "editable": true,
    "slideshow": {
     "slide_type": "subslide"
    },
    "tags": []
   },
   "source": [
    "With causal diagrams, ensuring no circular references is key. If loops exist, methods include:\n",
    "- Avoid loops in the first place.\n",
    "- Solve coupled equations analytically.\n",
    "- Use a numerical solver internally or within an optimization routine.\n",
    "\n",
    "For the latter, two implementations are possible. In the first, the numerical solver used is internal to the calculation procedure and its computer support. This sizing procedure is difficult to export to other optimization or calculation tools, however.\n",
    "For the second implementation, the code generated, which corresponds to the sizing procedure, postpones the task of numerical solver to the optimization algorithm. It is then necessary to add design parameters and additional constraints in the optimization problem to manage these algebraic loops. This is the preferred solution in this course."
   ]
  },
  {
   "cell_type": "markdown",
   "metadata": {
    "editable": true,
    "slideshow": {
     "slide_type": "slide"
    },
    "tags": []
   },
   "source": [
    "#### N² Diagram\n",
    "\n",
    "This diagram arranges inputs and outputs with blocks on a diagonal. It spotlights couplings and loops between components.\n",
    "\n",
    "```{figure} ./assets/images/N2diagram.png\n",
    "---\n",
    "alt: N2 Diagram\n",
    "name: N2diagram\n",
    "---\n",
    "N2 Diagram\n",
    "```\n"
   ]
  },
  {
   "cell_type": "markdown",
   "metadata": {
    "editable": true,
    "slideshow": {
     "slide_type": "subslide"
    },
    "tags": []
   },
   "source": [
    "The N2D formalisms were introduced in the 1970s by the system engineer Robert J. Lano. N is the number of entities considered. The inputs of the blocks are represented by vertical arrows while the outputs must be horizontal arrows. This display provides a quick visual summary of the organization of the system studied. In particular, the couplings and algebraic loops between blocks are easily identifiable, for example when a block \"2\" provides an input to block \"3\" and block \"3\" provides an input to block \"2\"."
   ]
  },
  {
   "cell_type": "markdown",
   "metadata": {
    "editable": true,
    "slideshow": {
     "slide_type": "slide"
    },
    "tags": []
   },
   "source": [
    "#### Graphs\n",
    "\n",
    "A sizing procedure can be viewed as a constraint network. Graph theory techniques are used to match equations and parameters.\n",
    "\n",
    "```{figure} ./assets/images/GraphExample.PNG\n",
    "---\n",
    "alt: Graph Example\n",
    "name: GraphExample\n",
    "---\n",
    "Graph Example\n",
    "```\n"
   ]
  },
  {
   "cell_type": "markdown",
   "metadata": {
    "editable": true,
    "slideshow": {
     "slide_type": "subslide"
    },
    "tags": []
   },
   "source": [
    "```{dropdown} Description\n",
    ":open:\n",
    "Graphics above represent how equations match parameters. Let us take the equation (declarative equation, not imperative assignment) of Figure a, to show these representations:\n",
    "a. in which case equations (square node) and non-determined parameters (circular node) are represented in a non-oriented graph.\n",
    "b. matching is generally represented in what is called a bi-partite graph: with all the equation nodes on one side and on all the non-determined parameter nodes on the other side. A matching parameter/equation is then represented by a double-column.\n",
    "c. once equations are oriented (one parameter is matched to the equation, i.e., is calculated by the equation), a simplified graph can be drawn with no more equation nodes.\n",
    "```"
   ]
  },
  {
   "cell_type": "markdown",
   "metadata": {
    "editable": true,
    "slideshow": {
     "slide_type": "slide"
    },
    "tags": []
   },
   "source": [
    "### Sizing as an Optimization Problem\n",
    "\n",
    "Define an objective function, equality and inequality constraints, and design variables. Choose algorithms that efficiently explore the design domain.\n",
    "\n",
    "#### Optimization Problem Formulation\n",
    "\n",
    "An optimization problem can be formulated mathematically as follows:\n",
    "\n",
    "- Minimize an objective function: $f(x)$\n",
    "- Subject to equality and inequality constraints: $h(x) = 0$ and $g(x) > 0$\n",
    "- By action on the variable vector $x$ in the range $x_{low}<x<x_{up}$\n",
    "\n",
    "where:\n",
    "- the goal is the objective function $f$;\n",
    "- design alternatives are expressed by a set of values assigned to the design variables $x$ within a design domain;\n",
    "- constraints ($h$ & $g$) limit the number of alternatives to those satisfying physical principles and design specifications, that is to say feasible design.\n",
    "\n",
    "The functions ($f, g, h$) can be explicit or implicit, algebraic or performed by subroutines that solve systems of differential equations iteratively."
   ]
  },
  {
   "cell_type": "markdown",
   "metadata": {
    "editable": true,
    "slideshow": {
     "slide_type": "skip"
    },
    "tags": []
   },
   "source": [
    "```{exercise}\n",
    ":label: SizingProblem\n",
    "\n",
    "Propose an optimization formulation of a UAV design problem.\n",
    "```"
   ]
  },
  {
   "cell_type": "markdown",
   "metadata": {
    "editable": true,
    "slideshow": {
     "slide_type": "skip"
    },
    "tags": []
   },
   "source": [
    "```{solution} SizingProblem\n",
    ":label: SizingProblemSolution\n",
    ":class: dropdown\n",
    "\n",
    "**Objective**:\n",
    "$\\text{Minimize the mass of the entire drone}$\n",
    "**Design variables**:\n",
    "$x=[\\text{propeller diameter, propeller pitch, motor torque, battery capacity}]$\n",
    "**Constraints**:\n",
    "- *equality*:\n",
    "$\\text{hovering range - 15 min} = 0$\n",
    "- *inequalities*:\n",
    "    $\\text{take-off thrust - k.weight}  > 0$\n",
    "    $\\text{battery voltage - motor voltage} > 0$\n",
    "```"
   ]
  },
  {
   "cell_type": "markdown",
   "metadata": {
    "editable": true,
    "slideshow": {
     "slide_type": "slide"
    },
    "tags": []
   },
   "source": [
    "#### Global and Local Optimum\n",
    "\n",
    "Gradient-based methods can converge quickly but may find local optima. Stochastic or population-based methods help find global solutions but can be slower.\n",
    "\n",
    "```{figure} ./assets/images/GlobalLocal.png\n",
    "---\n",
    "alt: Global and Local Optimum\n",
    "name: GlobalLocal\n",
    "---\n",
    "Global and Local Optimum\n",
    "```\n"
   ]
  },
  {
   "cell_type": "markdown",
   "metadata": {
    "editable": true,
    "slideshow": {
     "slide_type": "subslide"
    },
    "tags": []
   },
   "source": [
    "```{admonition} Some Examples of Optimization Algorithms in Python\n",
    "The Scipy package includes several [optimization algorithms](https://docs.scipy.org/doc/scipy/reference/optimize.html). In this course, we will use in particular:\n",
    "- **A gradient type algorithm**: Sequential linear-quadratic programming ([SLQP](https://docs.scipy.org/doc/scipy/reference/generated/scipy.optimize.fmin_slsqp.html)) where [two subproblems](https://en.wikipedia.org/wiki/Sequential_quadratic_programming) are solved at each step: a linear program (LP) used to determine an active set of constraints, followed by an equality-constrained quadratic program (EQP) used to compute the total step.\n",
    "- **A gradient-free algorithm**: [Differential Evolution](https://docs.scipy.org/doc/scipy-0.17.0/reference/generated/scipy.optimize.differential_evolution.html) algorithm is stochastic in nature (does not use gradient methods) to find the minimum, and can search large areas of candidate space, but often requires larger numbers of function evaluations than conventional gradient-based techniques. Differential evolution algorithms don't manage directly constraints functions. A penalty method replaces the previous objective function.\n",
    "```"
   ]
  },
  {
   "cell_type": "markdown",
   "metadata": {
    "editable": true,
    "slideshow": {
     "slide_type": "subslide"
    },
    "tags": []
   },
   "source": [
    "```{admonition} Some Examples of Optimization Algorithms in Excel\n",
    "Excel includes also several [optimization algorithms](https://onlinelibrary.wiley.com/doi/pdf/10.1002/9780470387207.app1) useful for sizing:\n",
    "- **A gradient type algorithm**: the GRG Nonlinear algorithm can stop at a local minimum. However, a multistart can easily be implemented to make the solution less sensitive to the starting point.\n",
    "- **A gradient-free algorithm**: the Evolutionary method uses the genetic algorithm approach to find optimal or near-optimal solutions.\n",
    "\n",
    "The Solver Add-in is a Microsoft Office Excel add-in program and needs to be [activated](https://support.microsoft.com/en-us/office/load-the-solver-add-in-in-excel-612926fc-d53b-46b4-872c-e24772f078ca).\n",
    "```"
   ]
  },
  {
   "cell_type": "markdown",
   "metadata": {
    "editable": true,
    "slideshow": {
     "slide_type": "slide"
    },
    "tags": []
   },
   "source": [
    "#### Interior and Boundary Optima\n",
    "\n",
    "Different types of optimum can appear:\n",
    "- An optimum is interior if all the constraints are inactive.\n",
    "- An optimum that is not interior is a limit optimum.\n",
    "\n",
    "```{figure} ./assets/images/InteriorBoundary.png\n",
    "---\n",
    "alt: Interior and Boundary Optima\n",
    "name: InteriorBoundary\n",
    "---\n",
    "Interior and Boundary Optima\n",
    "```\n",
    "\n",
    "It is very often the second type of solution that is achieved in an engineering problem. It is therefore important to:\n",
    "- Analyze whether this constraint is still active. It is then possible to transform the inequality constraint into an equality and include it in the body of the design code.\n",
    "- Observe the technological limit expressed by this constraint and assess whether other design choices would make it possible to improve the performance of the system.\n"
   ]
  },
  {
   "cell_type": "markdown",
   "metadata": {
    "editable": true,
    "slideshow": {
     "slide_type": "slide"
    },
    "tags": []
   },
   "source": [
    "```{admonition} Monotonicity Analysis\n",
    "Monotonicity analysis was suggested by [Papalambros and Wilde](#References) as a pre-optimization technique to determine if an optimization problem is well-bounded prior to resorting to a numerical optimization task. The technique is based on the following two rules:\n",
    "**Rule 1**: If the objective function is monotonic with respect to a variable, then there exists at least one active constraint which bounds the variable in the direction opposite to the objective. A constraint is active if it acts at its lower or upper bound.\n",
    "**Rule 2**: If a variable is not contained in the objective function then it must be either bounded from both above and below by active constraints or not actively bounded at all (that is, any constraint monotonic with respect to that variable must be inactive or irrelevant).\n",
    "```"
   ]
  },
  {
   "cell_type": "markdown",
   "metadata": {
    "editable": true,
    "slideshow": {
     "slide_type": "slide"
    },
    "tags": []
   },
   "source": [
    "```{admonition} Tips and Tricks\n",
    "Here are a few tips for minimizing calculation times during optimization:\n",
    "\n",
    "**On the optimization variables**\n",
    "- Minimize their number\n",
    "- Make sure there are enough of them to meet the various constraints\n",
    "- Choose variables that can be easily bounded and whose bounds do not depend on a particular case study\n",
    "\n",
    "**On the optimization objective**\n",
    "- If necessary for certain algorithms, normalize it around a value close to 1\n",
    "\n",
    "**On the constraints**\n",
    "- Minimize the number of constraints, especially equality constraints which can be difficult to respect with certain algorithms (gradient-free)\n",
    "- If possible, transform an equality constraint into an inequality constraint (by monotonicity analysis) or include it in the dimensioning code by analytical manipulation\n",
    "- If possible, include inequalities that are still active in the dimensioning code\n",
    "- If necessary for certain algorithms, normalize the various constraints\n",
    "```\n"
   ]
  },
  {
   "cell_type": "markdown",
   "metadata": {
    "editable": true,
    "slideshow": {
     "slide_type": "slide"
    },
    "tags": []
   },
   "source": [
    "#### References\n",
    "\n",
    "> Papalambros, P. Y., & Wilde, D. J. (2000). Principles of optimal design: modeling and computation. Cambridge University Press."
   ]
  }
 ],
 "metadata": {
  "celltoolbar": "Slideshow",
  "jupytext": {
   "formats": "ipynb"
  },
  "kernelspec": {
   "display_name": "Python 3 (ipykernel)",
   "language": "python",
   "name": "python3"
  },
  "language_info": {
   "codemirror_mode": {
    "name": "ipython",
    "version": 3
   },
   "file_extension": ".py",
   "mimetype": "text/x-python",
   "name": "python",
   "nbconvert_exporter": "python",
   "pygments_lexer": "ipython3",
   "version": "3.9.18"
  }
 },
 "nbformat": 4,
 "nbformat_minor": 4
}
