{
 "cells": [
  {
   "cell_type": "markdown",
   "metadata": {
    "slideshow": {
     "slide_type": "slide"
    }
   },
   "source": [
    "# MDAO (Multidisciplinary Design Analysis and Optimization)"
   ]
  },
  {
   "cell_type": "markdown",
   "metadata": {
    "pycharm": {
     "name": "#%% md\n"
    },
    "slideshow": {
     "slide_type": "-"
    }
   },
   "source": [
    "```{warning}\n",
    "This course is under construction...\n",
    "```"
   ]
  },
  {
   "cell_type": "markdown",
   "metadata": {
    "slideshow": {
     "slide_type": "slide"
    },
    "tags": [],
    "user_expressions": []
   },
   "source": [
    "# What is MDAO?"
   ]
  },
  {
   "cell_type": "markdown",
   "metadata": {
    "user_expressions": []
   },
   "source": [
    "MDAO stands for Multidisciplinary Design Analysis and Optimization. It is a scientific domain developed to adress the design optimization of multidisciplinary engineering systems that:"
   ]
  },
  {
   "cell_type": "markdown",
   "metadata": {
    "slideshow": {
     "slide_type": "fragment"
    },
    "tags": [],
    "user_expressions": []
   },
   "source": [
    "- involve several disciplines/components"
   ]
  },
  {
   "cell_type": "markdown",
   "metadata": {
    "slideshow": {
     "slide_type": "fragment"
    },
    "tags": [],
    "user_expressions": []
   },
   "source": [
    "- involve the presence of multidisciplinary couplings (algebraic loops)"
   ]
  },
  {
   "cell_type": "markdown",
   "metadata": {
    "slideshow": {
     "slide_type": "fragment"
    },
    "tags": [],
    "user_expressions": []
   },
   "source": [
    "- involve a large number of design variables and constraints (10 to 100 000)"
   ]
  },
  {
   "cell_type": "markdown",
   "metadata": {
    "slideshow": {
     "slide_type": "fragment"
    },
    "tags": [],
    "user_expressions": []
   },
   "source": [
    "Therefore, it is particularly interesting for the sizing and optimization of mechatronic systems."
   ]
  },
  {
   "cell_type": "markdown",
   "metadata": {
    "slideshow": {
     "slide_type": "fragment"
    },
    "tags": [],
    "user_expressions": []
   },
   "source": [
    "**_NOTE:_**  MDA vs MDAO: Performing an MDA means to perform a system analysis that solves the multidisciplinary couplings without varying the design variables."
   ]
  },
  {
   "cell_type": "markdown",
   "metadata": {
    "slideshow": {
     "slide_type": "slide"
    },
    "tags": [],
    "user_expressions": []
   },
   "source": [
    "## MDAO of engineering systems: # of disciplines vs fidelity of models"
   ]
  },
  {
   "cell_type": "markdown",
   "metadata": {
    "user_expressions": []
   },
   "source": [
    "![drawing50](./assets/images/fidelity_vs_nb_disciplines.png)"
   ]
  },
  {
   "cell_type": "markdown",
   "metadata": {
    "slideshow": {
     "slide_type": "slide"
    },
    "tags": [],
    "user_expressions": []
   },
   "source": [
    "## MDAO of engineering systems: multidisciplinary couplings"
   ]
  },
  {
   "cell_type": "markdown",
   "metadata": {
    "user_expressions": []
   },
   "source": [
    "The design of engineering systems can imply the presence and solving of multidiscipliary couplings. A bad ordering of disciplines or computation steps can lead to the creation or addition or creation of couplings:"
   ]
  },
  {
   "cell_type": "markdown",
   "metadata": {
    "user_expressions": []
   },
   "source": [
    "![drawing50](./assets/images/mdao_ordering.png)"
   ]
  },
  {
   "cell_type": "markdown",
   "metadata": {
    "slideshow": {
     "slide_type": "slide"
    },
    "tags": [],
    "user_expressions": []
   },
   "source": [
    "## MDAO frameworks"
   ]
  },
  {
   "cell_type": "markdown",
   "metadata": {
    "user_expressions": []
   },
   "source": [
    "All commercial modelling and optimization software (Matlab, Wolfram Mathematica...) can be used to implement MDAO techniques. However, recently Python scientific framework have been developed in order to provide a **framework** to implement such problem more easily and solve them more efficiently:"
   ]
  },
  {
   "cell_type": "markdown",
   "metadata": {
    "user_expressions": []
   },
   "source": [
    "- OpenMDAO (NASA)\n",
    "\n",
    "![drawing50](./assets/images/openmdao_main_logo.png)\n",
    "\n",
    "\n",
    "- GEMSEO (IRT Saint Exupery)\n",
    "\n",
    "![drawing50](./assets/images/gemseo_logo.png)"
   ]
  },
  {
   "cell_type": "markdown",
   "metadata": {
    "slideshow": {
     "slide_type": "slide"
    },
    "tags": [],
    "user_expressions": []
   },
   "source": [
    "## Gradient-based MDAO: derivate computation techniques"
   ]
  },
  {
   "cell_type": "markdown",
   "metadata": {
    "user_expressions": []
   },
   "source": [
    "![drawing50](./assets/images/coupled_direct_adjoint.png)"
   ]
  },
  {
   "cell_type": "markdown",
   "metadata": {
    "slideshow": {
     "slide_type": "subslide"
    },
    "user_expressions": []
   },
   "source": [
    "There are different possibilities to compute gradients (derivatives) using typical MDAO frameworks:"
   ]
  },
  {
   "cell_type": "markdown",
   "metadata": {
    "slideshow": {
     "slide_type": "fragment"
    },
    "tags": [],
    "user_expressions": []
   },
   "source": [
    "- **full analytic derivative** method uses the analytic derivatives of the model analysis functions (obtained by hand) and the analytic derivatives of the total model"
   ]
  },
  {
   "cell_type": "markdown",
   "metadata": {
    "slideshow": {
     "slide_type": "fragment"
    },
    "tags": [],
    "user_expressions": []
   },
   "source": [
    "- **semi-analytic derivative** method is similar to the full analytic except that the model analysis functions derivatives are computed numerically (e.g. Finite Difference (FD))"
   ]
  },
  {
   "cell_type": "markdown",
   "metadata": {
    "slideshow": {
     "slide_type": "fragment"
    },
    "tags": [],
    "user_expressions": []
   },
   "source": [
    "- **monolithic derivative** method estimates directly the total system derivatives numerically (e.g. FD) and does not require any knowledge of analysis function derivatives"
   ]
  },
  {
   "cell_type": "markdown",
   "metadata": {
    "slideshow": {
     "slide_type": "slide"
    },
    "tags": [],
    "user_expressions": []
   },
   "source": [
    "## MDAO formulations"
   ]
  },
  {
   "cell_type": "markdown",
   "metadata": {
    "user_expressions": []
   },
   "source": [
    "For solving an MDAO problem multiple formulations (or architectures) can be implemented. In 2012, *Martins and Lambe* proposed a survey of these formulations."
   ]
  },
  {
   "cell_type": "markdown",
   "metadata": {
    "user_expressions": []
   },
   "source": [
    "![drawing50](./assets/images/mdo_architectures.png)"
   ]
  },
  {
   "cell_type": "markdown",
   "metadata": {
    "slideshow": {
     "slide_type": "slide"
    },
    "tags": [],
    "user_expressions": []
   },
   "source": [
    "## MDAO formulations: distributed vs monolithic (1/2)"
   ]
  },
  {
   "cell_type": "markdown",
   "metadata": {
    "user_expressions": []
   },
   "source": [
    "Distributed formulations use more than one optimizer:"
   ]
  },
  {
   "cell_type": "markdown",
   "metadata": {
    "user_expressions": []
   },
   "source": [
    "![drawing40left](./assets/images/mdao_co.png)"
   ]
  },
  {
   "cell_type": "markdown",
   "metadata": {
    "user_expressions": []
   },
   "source": [
    "Monolithic formulations use only one optimizer:"
   ]
  },
  {
   "cell_type": "markdown",
   "metadata": {
    "slideshow": {
     "slide_type": "subslide"
    }
   },
   "source": [
    "![drawing40right](./assets/images/mdao_mdf.png)"
   ]
  },
  {
   "cell_type": "markdown",
   "metadata": {
    "slideshow": {
     "slide_type": "slide"
    },
    "tags": [],
    "user_expressions": []
   },
   "source": [
    "## MDAO formulations: distributed vs monolithic (2/2)"
   ]
  },
  {
   "cell_type": "markdown",
   "metadata": {
    "user_expressions": []
   },
   "source": [
    "The Sellar problem is a simple and well known test case for MDO formulations:\n",
    "\\begin{equation}\n",
    "    \\begin{aligned}\n",
    "    & \\text{minimize}\n",
    "    & & x_{1}^{2} + z_{2} + y_{1} + e^{-y_{2}} \\\\\n",
    "    & \\text{with respect to}\n",
    "    & & z_{1}, z_{2}, x_{1}\\\\\n",
    "    & \\text{subject to}\n",
    "    & & \\frac{y_{1}}{3.16} - 1 \\geq 0\n",
    "    & & 1 - \\frac{y_{2}}{24} \\geq 0\n",
    "    & & -10 \\geq z_{1} \\leq 10\n",
    "    & & 0 \\geq z_{2} \\leq 10\n",
    "    & & 0 \\geq x_{1} \\leq 10\n",
    "    \\end{aligned}\n",
    "\\end{equation}\n",
    "\n",
    "Where $y_{1} = z_{1}^2 + x_{1} + z_{2} - 0.2 y_{2}$ and $y_{2}=\\sqrt{y_{1}} +\n",
    "z_{1} + z_{2}$.\n",
    "\n",
    "The number of function evaluation is a key metric to assess the computational cost as it enables to avoid considering the performance of the computer used."
   ]
  },
  {
   "cell_type": "markdown",
   "metadata": {
    "user_expressions": []
   },
   "source": [
    "| # Function evaluations      | Discipline 1 | Discipline 2     |\n",
    "| :---        |    :----:   |          ---: |\n",
    "| IDF      | 60       | 50   |\n",
    "| MDF      | 222       | 216   |\n",
    "| CO      | 5647       | 8252   |\n",
    "| BLISS      | 3344       | 3130   |\n",
    "| BLISS-2000      | 818       | 108   |"
   ]
  },
  {
   "cell_type": "markdown",
   "metadata": {
    "user_expressions": []
   },
   "source": [
    "In the context of sizing we are particularly interested in computation time as we are in a decision making process. Hence, we generally use monolithic formulations."
   ]
  },
  {
   "cell_type": "markdown",
   "metadata": {
    "slideshow": {
     "slide_type": "slide"
    },
    "tags": [],
    "user_expressions": []
   },
   "source": [
    "## Monolithic formulations: High dynamic EMA case study"
   ]
  },
  {
   "cell_type": "markdown",
   "metadata": {
    "user_expressions": []
   },
   "source": [
    "![drawing50](./assets/images/coupled_system.png)"
   ]
  },
  {
   "cell_type": "markdown",
   "metadata": {
    "slideshow": {
     "slide_type": "subslide"
    },
    "user_expressions": []
   },
   "source": [
    "\\begin{equation}\n",
    "T_{em} = J_{mot} \\cdot A_{max}\\frac{N_{red}}{p} + F_{ema} \\frac{p}{N_{red}}\n",
    "\\label{eq_1}\n",
    "\\end{equation}\n",
    "\n",
    "\\begin{equation}\n",
    "J_{mot} = J_{mot_{ref}} \\cdot \\left(\\frac{T_{em}}{T_{em_{ref}}}\\right)^{\\frac{5}{3.5}}\n",
    "\\label{eq_2}\n",
    "\\end{equation}\n",
    "\n",
    "\\begin{equation}\n",
    "\\Omega_{mot} = \\Omega_{mot_{ref}} \\cdot  \\left(\\frac{T_{em}}{T_{em_{ref}}}\\right)^{-\\frac{1}{3.5}}\n",
    "\\label{eq_3}\n",
    "\\end{equation}\n",
    "\n",
    "\\begin{equation}\n",
    "\\Omega_{mot} \\geq V_{max}\\cdot \\frac{N_{red}}{p}\n",
    "\\label{eq_4}\n",
    "\\end{equation}\n",
    "\n",
    "\\begin{equation}\n",
    "M_{mot} = M_{mot_{ref}} \\cdot \\left(\\frac{T_{em}}{T_{em_{ref}}}\\right)^{\\frac{3}{3.5}}\n",
    "\\label{eq_5}\n",
    "\\end{equation}"
   ]
  },
  {
   "cell_type": "markdown",
   "metadata": {
    "user_expressions": []
   },
   "source": [
    "\\begin{equation}\n",
    "    \\begin{aligned}\n",
    "    & \\text{minimize}\n",
    "    & & M_{mot} \\\\\n",
    "    & \\text{with respect to}\n",
    "    & &  N_{red}\\\\\n",
    "    & \\text{subject to}\n",
    "    & & V_{max} \\cdot \\frac{N_{red}}{p} - \\Omega_{mot} \\leq 0\n",
    "    \\end{aligned}\n",
    "\\end{equation}"
   ]
  },
  {
   "cell_type": "markdown",
   "metadata": {
    "slideshow": {
     "slide_type": "slide"
    },
    "tags": [],
    "user_expressions": []
   },
   "source": [
    "## Monolithic formulations: MultiDisciplinary Feasible (MDF)"
   ]
  },
  {
   "cell_type": "markdown",
   "metadata": {
    "user_expressions": []
   },
   "source": [
    "![drawing50](./assets/images/mdf.png)"
   ]
  },
  {
   "cell_type": "markdown",
   "metadata": {
    "user_expressions": []
   },
   "source": [
    "\\begin{equation}\n",
    "    \\begin{aligned}\n",
    "    & \\text{minimize}\n",
    "    & & M_{mot} \\\\\n",
    "    & \\text{with respect to}\n",
    "    & &  N_{red}\\\\\n",
    "    & \\text{subject to}\n",
    "    & & V_{max} \\cdot \\frac{N_{red}}{p} - \\Omega_{mot} \\leq 0\n",
    "    \\end{aligned}\n",
    "\\end{equation}"
   ]
  },
  {
   "cell_type": "markdown",
   "metadata": {
    "slideshow": {
     "slide_type": "slide"
    },
    "tags": [],
    "user_expressions": []
   },
   "source": [
    "## Monolithic formulations: Individual Discipline Feasible (IDF)"
   ]
  },
  {
   "cell_type": "markdown",
   "metadata": {
    "user_expressions": []
   },
   "source": [
    "![drawing50](./assets/images/idf.png)"
   ]
  },
  {
   "cell_type": "markdown",
   "metadata": {
    "slideshow": {
     "slide_type": "slide"
    },
    "tags": [],
    "user_expressions": []
   },
   "source": [
    "## Monolithic formulations: Hybrid"
   ]
  },
  {
   "cell_type": "markdown",
   "metadata": {
    "user_expressions": []
   },
   "source": [
    "![drawing50](./assets/images/hybrid.png)"
   ]
  },
  {
   "cell_type": "markdown",
   "metadata": {
    "slideshow": {
     "slide_type": "slide"
    },
    "tags": [],
    "user_expressions": []
   },
   "source": [
    "## Monolithic formulations: Normalized Variable Hybrid (NVH)"
   ]
  },
  {
   "cell_type": "markdown",
   "metadata": {
    "user_expressions": []
   },
   "source": [
    "![drawing50](./assets/images/nvh.png)"
   ]
  },
  {
   "cell_type": "markdown",
   "metadata": {
    "user_expressions": []
   },
   "source": [
    "\\begin{equation}\n",
    "    \\begin{aligned}\n",
    "    & \\text{min.}\n",
    "    & & M_{mot} \\\\\n",
    "    & \\text{w.r.t}\n",
    "    & &  N_{red}, k_{os}\\\\\n",
    "    & \\text{s.t.}\n",
    "    & & V_{max} \\cdot \\frac{N_{red}}{p} - \\Omega_{mot} \\leq 0 \\\\\n",
    "    & & & J_{mot} \\cdot A_{max}\\frac{N_{red}}{p} + F_{ema} \\frac{p}{N_{red}} - T_{em} \\leq 0\n",
    "    \\end{aligned}\n",
    "\\end{equation}"
   ]
  },
  {
   "cell_type": "markdown",
   "metadata": {
    "slideshow": {
     "slide_type": "slide"
    },
    "tags": [],
    "user_expressions": []
   },
   "source": [
    "## Monolithic formulations: Performance comparison"
   ]
  },
  {
   "cell_type": "markdown",
   "metadata": {
    "user_expressions": []
   },
   "source": [
    "![drawing50](./assets/images/formulations_comparison.png)"
   ]
  },
  {
   "cell_type": "markdown",
   "metadata": {},
   "source": [
    "The NVH formulation is an intrusive formulation as it requires to redefine the optimization problem and models. However, it provides significant reduction of computational cost."
   ]
  }
 ],
 "metadata": {
  "celltoolbar": "Slideshow",
  "jupytext": {
   "formats": "ipynb"
  },
  "kernelspec": {
   "display_name": "Python 3 (ipykernel)",
   "language": "python",
   "name": "python3"
  },
  "language_info": {
   "codemirror_mode": {
    "name": "ipython",
    "version": 3
   },
   "file_extension": ".py",
   "mimetype": "text/x-python",
   "name": "python",
   "nbconvert_exporter": "python",
   "pygments_lexer": "ipython3",
   "version": "3.8.13"
  }
 },
 "nbformat": 4,
 "nbformat_minor": 4
}
